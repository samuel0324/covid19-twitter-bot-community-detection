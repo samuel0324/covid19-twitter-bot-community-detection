{
  "nbformat": 4,
  "nbformat_minor": 0,
  "metadata": {
    "colab": {
      "name": "covid19_tweets_eda_colab_part2.ipynb",
      "provenance": [],
      "collapsed_sections": [
        "FNNIS-Vpcsx1",
        "NY1TCzS9i-DZ"
      ],
      "machine_shape": "hm"
    },
    "kernelspec": {
      "name": "python3",
      "display_name": "Python 3"
    },
    "language_info": {
      "name": "python"
    }
  },
  "cells": [
    {
      "cell_type": "markdown",
      "metadata": {
        "id": "odKJ4iKJNciE"
      },
      "source": [
        "# COVID-19 Tweets from April 2020\n",
        "# Data Cleaning and EDA Part 2\n",
        "## Samuel Park\n",
        "## 2021-10-31\n",
        "\n",
        "*Set runtime mode to \"High-RAM\""
      ]
    },
    {
      "cell_type": "code",
      "metadata": {
        "id": "NHUF9nZ4H6JX"
      },
      "source": [
        "import pandas as pd\n",
        "import numpy as np\n",
        "import matplotlib.pyplot as plt\n",
        "import plotly.express as px\n",
        "import plotly.graph_objects as go\n",
        "import seaborn as sns"
      ],
      "execution_count": 1,
      "outputs": []
    },
    {
      "cell_type": "code",
      "metadata": {
        "colab": {
          "base_uri": "https://localhost:8080/"
        },
        "id": "Y013kytJH9U0",
        "outputId": "eaec86fe-d251-4df1-8525-6a390bafbef5"
      },
      "source": [
        "# mount google drive to access files\n",
        "from google.colab import drive\n",
        "drive.mount('/content/drive')"
      ],
      "execution_count": 2,
      "outputs": [
        {
          "output_type": "stream",
          "name": "stdout",
          "text": [
            "Mounted at /content/drive\n"
          ]
        }
      ]
    },
    {
      "cell_type": "code",
      "metadata": {
        "colab": {
          "base_uri": "https://localhost:8080/"
        },
        "id": "KF1v1oDAIBE6",
        "outputId": "ba4bf29a-9523-4585-ea98-1e9d0d9d2cb5"
      },
      "source": [
        "tweets = pd.read_csv('/content/drive/MyDrive/BrainStation/Capstone/covid19_tweets_backup/data_backup/tweets_en_colab.csv', lineterminator='\\n', index_col=0, header=0)"
      ],
      "execution_count": 3,
      "outputs": [
        {
          "output_type": "stream",
          "name": "stderr",
          "text": [
            "/usr/local/lib/python3.7/dist-packages/numpy/lib/arraysetops.py:580: FutureWarning:\n",
            "\n",
            "elementwise comparison failed; returning scalar instead, but in the future will perform elementwise comparison\n",
            "\n"
          ]
        }
      ]
    },
    {
      "cell_type": "code",
      "metadata": {
        "colab": {
          "base_uri": "https://localhost:8080/",
          "height": 415
        },
        "id": "517iCjAZLHMi",
        "outputId": "e3179bbb-acb1-4d30-b7eb-b0c6a2beef16"
      },
      "source": [
        "tweets.head()"
      ],
      "execution_count": 4,
      "outputs": [
        {
          "output_type": "execute_result",
          "data": {
            "text/html": [
              "<div>\n",
              "<style scoped>\n",
              "    .dataframe tbody tr th:only-of-type {\n",
              "        vertical-align: middle;\n",
              "    }\n",
              "\n",
              "    .dataframe tbody tr th {\n",
              "        vertical-align: top;\n",
              "    }\n",
              "\n",
              "    .dataframe thead th {\n",
              "        text-align: right;\n",
              "    }\n",
              "</style>\n",
              "<table border=\"1\" class=\"dataframe\">\n",
              "  <thead>\n",
              "    <tr style=\"text-align: right;\">\n",
              "      <th></th>\n",
              "      <th>status_id</th>\n",
              "      <th>user_id</th>\n",
              "      <th>created_at</th>\n",
              "      <th>screen_name</th>\n",
              "      <th>text</th>\n",
              "      <th>source</th>\n",
              "      <th>reply_to_status_id</th>\n",
              "      <th>reply_to_user_id</th>\n",
              "      <th>reply_to_screen_name</th>\n",
              "      <th>is_quote</th>\n",
              "      <th>is_retweet</th>\n",
              "      <th>favourites_count</th>\n",
              "      <th>retweet_count</th>\n",
              "      <th>country_code</th>\n",
              "      <th>place_full_name</th>\n",
              "      <th>place_type</th>\n",
              "      <th>followers_count</th>\n",
              "      <th>friends_count</th>\n",
              "      <th>account_lang</th>\n",
              "      <th>account_created_at</th>\n",
              "      <th>verified</th>\n",
              "      <th>lang</th>\n",
              "    </tr>\n",
              "  </thead>\n",
              "  <tbody>\n",
              "    <tr>\n",
              "      <th>2</th>\n",
              "      <td>1244051645975191557</td>\n",
              "      <td>80943559</td>\n",
              "      <td>2020-03-29T00:00:00Z</td>\n",
              "      <td>rlieving</td>\n",
              "      <td>“People are just storing up. They are staying ...</td>\n",
              "      <td>TweetDeck</td>\n",
              "      <td>NaN</td>\n",
              "      <td>NaN</td>\n",
              "      <td>NaN</td>\n",
              "      <td>False</td>\n",
              "      <td>False</td>\n",
              "      <td>604</td>\n",
              "      <td>0</td>\n",
              "      <td>NaN</td>\n",
              "      <td>NaN</td>\n",
              "      <td>NaN</td>\n",
              "      <td>136</td>\n",
              "      <td>457</td>\n",
              "      <td>NaN</td>\n",
              "      <td>2009-10-08T21:06:08Z</td>\n",
              "      <td>False</td>\n",
              "      <td>en</td>\n",
              "    </tr>\n",
              "    <tr>\n",
              "      <th>6</th>\n",
              "      <td>1244051646935633921</td>\n",
              "      <td>27922157</td>\n",
              "      <td>2020-03-29T00:00:00Z</td>\n",
              "      <td>AmerMedicalAssn</td>\n",
              "      <td>.@PatriceHarrisMD spoke with @YahooFinance abo...</td>\n",
              "      <td>Sprinklr</td>\n",
              "      <td>NaN</td>\n",
              "      <td>NaN</td>\n",
              "      <td>NaN</td>\n",
              "      <td>False</td>\n",
              "      <td>False</td>\n",
              "      <td>2894</td>\n",
              "      <td>3</td>\n",
              "      <td>NaN</td>\n",
              "      <td>NaN</td>\n",
              "      <td>NaN</td>\n",
              "      <td>714952</td>\n",
              "      <td>6877</td>\n",
              "      <td>NaN</td>\n",
              "      <td>2009-03-31T17:50:31Z</td>\n",
              "      <td>True</td>\n",
              "      <td>en</td>\n",
              "    </tr>\n",
              "    <tr>\n",
              "      <th>7</th>\n",
              "      <td>1244051645971025920</td>\n",
              "      <td>1115874631</td>\n",
              "      <td>2020-03-29T00:00:00Z</td>\n",
              "      <td>CGTNOfficial</td>\n",
              "      <td>First medical team aiding #Wuhan in fight agai...</td>\n",
              "      <td>Twitter Media Studio</td>\n",
              "      <td>NaN</td>\n",
              "      <td>NaN</td>\n",
              "      <td>NaN</td>\n",
              "      <td>False</td>\n",
              "      <td>False</td>\n",
              "      <td>65</td>\n",
              "      <td>18</td>\n",
              "      <td>NaN</td>\n",
              "      <td>NaN</td>\n",
              "      <td>NaN</td>\n",
              "      <td>14040072</td>\n",
              "      <td>55</td>\n",
              "      <td>NaN</td>\n",
              "      <td>2013-01-24T03:18:59Z</td>\n",
              "      <td>True</td>\n",
              "      <td>en</td>\n",
              "    </tr>\n",
              "    <tr>\n",
              "      <th>9</th>\n",
              "      <td>1244051647149543426</td>\n",
              "      <td>108845320</td>\n",
              "      <td>2020-03-29T00:00:00Z</td>\n",
              "      <td>OnTopMag</td>\n",
              "      <td>.@KathyGriffin: @realDonaldTrump Is 'Lying' Ab...</td>\n",
              "      <td>Twitter for Advertisers</td>\n",
              "      <td>NaN</td>\n",
              "      <td>NaN</td>\n",
              "      <td>NaN</td>\n",
              "      <td>False</td>\n",
              "      <td>False</td>\n",
              "      <td>2658</td>\n",
              "      <td>1</td>\n",
              "      <td>NaN</td>\n",
              "      <td>NaN</td>\n",
              "      <td>NaN</td>\n",
              "      <td>5042</td>\n",
              "      <td>5389</td>\n",
              "      <td>NaN</td>\n",
              "      <td>2010-01-27T05:23:15Z</td>\n",
              "      <td>False</td>\n",
              "      <td>en</td>\n",
              "    </tr>\n",
              "    <tr>\n",
              "      <th>14</th>\n",
              "      <td>1244051645102579712</td>\n",
              "      <td>17673635</td>\n",
              "      <td>2020-03-29T00:00:00Z</td>\n",
              "      <td>livemint</td>\n",
              "      <td>#CoronaUpdate | Johns Hopkins University has s...</td>\n",
              "      <td>TweetDeck</td>\n",
              "      <td>NaN</td>\n",
              "      <td>NaN</td>\n",
              "      <td>NaN</td>\n",
              "      <td>False</td>\n",
              "      <td>False</td>\n",
              "      <td>474</td>\n",
              "      <td>2</td>\n",
              "      <td>NaN</td>\n",
              "      <td>NaN</td>\n",
              "      <td>NaN</td>\n",
              "      <td>1862858</td>\n",
              "      <td>127</td>\n",
              "      <td>NaN</td>\n",
              "      <td>2008-11-27T09:07:38Z</td>\n",
              "      <td>True</td>\n",
              "      <td>en</td>\n",
              "    </tr>\n",
              "  </tbody>\n",
              "</table>\n",
              "</div>"
            ],
            "text/plain": [
              "              status_id     user_id  ... verified lang\n",
              "2   1244051645975191557    80943559  ...    False   en\n",
              "6   1244051646935633921    27922157  ...     True   en\n",
              "7   1244051645971025920  1115874631  ...     True   en\n",
              "9   1244051647149543426   108845320  ...    False   en\n",
              "14  1244051645102579712    17673635  ...     True   en\n",
              "\n",
              "[5 rows x 22 columns]"
            ]
          },
          "metadata": {},
          "execution_count": 4
        }
      ]
    },
    {
      "cell_type": "code",
      "metadata": {
        "colab": {
          "base_uri": "https://localhost:8080/",
          "height": 415
        },
        "id": "6QfJg1-1LJTS",
        "outputId": "b7ea7eff-46f1-4043-fc33-d195a5c3b743"
      },
      "source": [
        "# reset the indices\n",
        "tweets.reset_index(drop=True, inplace=True)\n",
        "tweets.head()"
      ],
      "execution_count": 5,
      "outputs": [
        {
          "output_type": "execute_result",
          "data": {
            "text/html": [
              "<div>\n",
              "<style scoped>\n",
              "    .dataframe tbody tr th:only-of-type {\n",
              "        vertical-align: middle;\n",
              "    }\n",
              "\n",
              "    .dataframe tbody tr th {\n",
              "        vertical-align: top;\n",
              "    }\n",
              "\n",
              "    .dataframe thead th {\n",
              "        text-align: right;\n",
              "    }\n",
              "</style>\n",
              "<table border=\"1\" class=\"dataframe\">\n",
              "  <thead>\n",
              "    <tr style=\"text-align: right;\">\n",
              "      <th></th>\n",
              "      <th>status_id</th>\n",
              "      <th>user_id</th>\n",
              "      <th>created_at</th>\n",
              "      <th>screen_name</th>\n",
              "      <th>text</th>\n",
              "      <th>source</th>\n",
              "      <th>reply_to_status_id</th>\n",
              "      <th>reply_to_user_id</th>\n",
              "      <th>reply_to_screen_name</th>\n",
              "      <th>is_quote</th>\n",
              "      <th>is_retweet</th>\n",
              "      <th>favourites_count</th>\n",
              "      <th>retweet_count</th>\n",
              "      <th>country_code</th>\n",
              "      <th>place_full_name</th>\n",
              "      <th>place_type</th>\n",
              "      <th>followers_count</th>\n",
              "      <th>friends_count</th>\n",
              "      <th>account_lang</th>\n",
              "      <th>account_created_at</th>\n",
              "      <th>verified</th>\n",
              "      <th>lang</th>\n",
              "    </tr>\n",
              "  </thead>\n",
              "  <tbody>\n",
              "    <tr>\n",
              "      <th>0</th>\n",
              "      <td>1244051645975191557</td>\n",
              "      <td>80943559</td>\n",
              "      <td>2020-03-29T00:00:00Z</td>\n",
              "      <td>rlieving</td>\n",
              "      <td>“People are just storing up. They are staying ...</td>\n",
              "      <td>TweetDeck</td>\n",
              "      <td>NaN</td>\n",
              "      <td>NaN</td>\n",
              "      <td>NaN</td>\n",
              "      <td>False</td>\n",
              "      <td>False</td>\n",
              "      <td>604</td>\n",
              "      <td>0</td>\n",
              "      <td>NaN</td>\n",
              "      <td>NaN</td>\n",
              "      <td>NaN</td>\n",
              "      <td>136</td>\n",
              "      <td>457</td>\n",
              "      <td>NaN</td>\n",
              "      <td>2009-10-08T21:06:08Z</td>\n",
              "      <td>False</td>\n",
              "      <td>en</td>\n",
              "    </tr>\n",
              "    <tr>\n",
              "      <th>1</th>\n",
              "      <td>1244051646935633921</td>\n",
              "      <td>27922157</td>\n",
              "      <td>2020-03-29T00:00:00Z</td>\n",
              "      <td>AmerMedicalAssn</td>\n",
              "      <td>.@PatriceHarrisMD spoke with @YahooFinance abo...</td>\n",
              "      <td>Sprinklr</td>\n",
              "      <td>NaN</td>\n",
              "      <td>NaN</td>\n",
              "      <td>NaN</td>\n",
              "      <td>False</td>\n",
              "      <td>False</td>\n",
              "      <td>2894</td>\n",
              "      <td>3</td>\n",
              "      <td>NaN</td>\n",
              "      <td>NaN</td>\n",
              "      <td>NaN</td>\n",
              "      <td>714952</td>\n",
              "      <td>6877</td>\n",
              "      <td>NaN</td>\n",
              "      <td>2009-03-31T17:50:31Z</td>\n",
              "      <td>True</td>\n",
              "      <td>en</td>\n",
              "    </tr>\n",
              "    <tr>\n",
              "      <th>2</th>\n",
              "      <td>1244051645971025920</td>\n",
              "      <td>1115874631</td>\n",
              "      <td>2020-03-29T00:00:00Z</td>\n",
              "      <td>CGTNOfficial</td>\n",
              "      <td>First medical team aiding #Wuhan in fight agai...</td>\n",
              "      <td>Twitter Media Studio</td>\n",
              "      <td>NaN</td>\n",
              "      <td>NaN</td>\n",
              "      <td>NaN</td>\n",
              "      <td>False</td>\n",
              "      <td>False</td>\n",
              "      <td>65</td>\n",
              "      <td>18</td>\n",
              "      <td>NaN</td>\n",
              "      <td>NaN</td>\n",
              "      <td>NaN</td>\n",
              "      <td>14040072</td>\n",
              "      <td>55</td>\n",
              "      <td>NaN</td>\n",
              "      <td>2013-01-24T03:18:59Z</td>\n",
              "      <td>True</td>\n",
              "      <td>en</td>\n",
              "    </tr>\n",
              "    <tr>\n",
              "      <th>3</th>\n",
              "      <td>1244051647149543426</td>\n",
              "      <td>108845320</td>\n",
              "      <td>2020-03-29T00:00:00Z</td>\n",
              "      <td>OnTopMag</td>\n",
              "      <td>.@KathyGriffin: @realDonaldTrump Is 'Lying' Ab...</td>\n",
              "      <td>Twitter for Advertisers</td>\n",
              "      <td>NaN</td>\n",
              "      <td>NaN</td>\n",
              "      <td>NaN</td>\n",
              "      <td>False</td>\n",
              "      <td>False</td>\n",
              "      <td>2658</td>\n",
              "      <td>1</td>\n",
              "      <td>NaN</td>\n",
              "      <td>NaN</td>\n",
              "      <td>NaN</td>\n",
              "      <td>5042</td>\n",
              "      <td>5389</td>\n",
              "      <td>NaN</td>\n",
              "      <td>2010-01-27T05:23:15Z</td>\n",
              "      <td>False</td>\n",
              "      <td>en</td>\n",
              "    </tr>\n",
              "    <tr>\n",
              "      <th>4</th>\n",
              "      <td>1244051645102579712</td>\n",
              "      <td>17673635</td>\n",
              "      <td>2020-03-29T00:00:00Z</td>\n",
              "      <td>livemint</td>\n",
              "      <td>#CoronaUpdate | Johns Hopkins University has s...</td>\n",
              "      <td>TweetDeck</td>\n",
              "      <td>NaN</td>\n",
              "      <td>NaN</td>\n",
              "      <td>NaN</td>\n",
              "      <td>False</td>\n",
              "      <td>False</td>\n",
              "      <td>474</td>\n",
              "      <td>2</td>\n",
              "      <td>NaN</td>\n",
              "      <td>NaN</td>\n",
              "      <td>NaN</td>\n",
              "      <td>1862858</td>\n",
              "      <td>127</td>\n",
              "      <td>NaN</td>\n",
              "      <td>2008-11-27T09:07:38Z</td>\n",
              "      <td>True</td>\n",
              "      <td>en</td>\n",
              "    </tr>\n",
              "  </tbody>\n",
              "</table>\n",
              "</div>"
            ],
            "text/plain": [
              "             status_id     user_id  ... verified lang\n",
              "0  1244051645975191557    80943559  ...    False   en\n",
              "1  1244051646935633921    27922157  ...     True   en\n",
              "2  1244051645971025920  1115874631  ...     True   en\n",
              "3  1244051647149543426   108845320  ...    False   en\n",
              "4  1244051645102579712    17673635  ...     True   en\n",
              "\n",
              "[5 rows x 22 columns]"
            ]
          },
          "metadata": {},
          "execution_count": 5
        }
      ]
    },
    {
      "cell_type": "code",
      "metadata": {
        "colab": {
          "base_uri": "https://localhost:8080/"
        },
        "id": "KNlY_2PBIUS1",
        "outputId": "c7c52cd2-4c68-482b-d976-c0a5a82cfae1"
      },
      "source": [
        "tweets.shape"
      ],
      "execution_count": 6,
      "outputs": [
        {
          "output_type": "execute_result",
          "data": {
            "text/plain": [
              "(8133785, 22)"
            ]
          },
          "metadata": {},
          "execution_count": 6
        }
      ]
    },
    {
      "cell_type": "markdown",
      "metadata": {
        "id": "P8jCcpRpKYes"
      },
      "source": [
        "There are ~8.1 million rows and 22 columns in this English-tweet-only dataset."
      ]
    },
    {
      "cell_type": "code",
      "metadata": {
        "colab": {
          "base_uri": "https://localhost:8080/"
        },
        "id": "AxI67J8HIpq_",
        "outputId": "45d4f2a2-3af0-4799-c74d-4080b4ce5746"
      },
      "source": [
        "tweets.info()"
      ],
      "execution_count": 7,
      "outputs": [
        {
          "output_type": "stream",
          "name": "stdout",
          "text": [
            "<class 'pandas.core.frame.DataFrame'>\n",
            "RangeIndex: 8133785 entries, 0 to 8133784\n",
            "Data columns (total 22 columns):\n",
            " #   Column                Dtype  \n",
            "---  ------                -----  \n",
            " 0   status_id             int64  \n",
            " 1   user_id               int64  \n",
            " 2   created_at            object \n",
            " 3   screen_name           object \n",
            " 4   text                  object \n",
            " 5   source                object \n",
            " 6   reply_to_status_id    float64\n",
            " 7   reply_to_user_id      float64\n",
            " 8   reply_to_screen_name  object \n",
            " 9   is_quote              bool   \n",
            " 10  is_retweet            bool   \n",
            " 11  favourites_count      int64  \n",
            " 12  retweet_count         int64  \n",
            " 13  country_code          object \n",
            " 14  place_full_name       object \n",
            " 15  place_type            object \n",
            " 16  followers_count       int64  \n",
            " 17  friends_count         int64  \n",
            " 18  account_lang          float64\n",
            " 19  account_created_at    object \n",
            " 20  verified              bool   \n",
            " 21  lang                  object \n",
            "dtypes: bool(3), float64(3), int64(6), object(10)\n",
            "memory usage: 1.2+ GB\n"
          ]
        }
      ]
    },
    {
      "cell_type": "markdown",
      "metadata": {
        "id": "pk1e4-CkhGWI"
      },
      "source": [
        "`created_at` column should be in datetime format. `status_id`, `user_id`, `reply_to_status_id` and `reply_to_user_id` should be in `str` format because these are unique values for each tweet and user. `account_lang` should most likely be in `object` format because it's a string that denotes the language code. `account_created_at` should be in datetime format. "
      ]
    },
    {
      "cell_type": "markdown",
      "metadata": {
        "id": "_C0rUXo_i9rs"
      },
      "source": [
        "### Change `created_at` and `account_created_at` to `datetime64` "
      ]
    },
    {
      "cell_type": "code",
      "metadata": {
        "colab": {
          "base_uri": "https://localhost:8080/",
          "height": 284
        },
        "id": "poX9TBfhjECb",
        "outputId": "90178e59-ee44-4c56-e091-6bd942f85a89"
      },
      "source": [
        "# source: https://datatofish.com/replace-character-pandas-dataframe/\n",
        "tweets['created_at'] = tweets['created_at'].str.replace('T', ' ')\n",
        "tweets['created_at'] = tweets['created_at'].str.replace('Z', '')\n",
        "\n",
        "# check if the T's and Z's have been removed/replaced\n",
        "tweets.head(3)"
      ],
      "execution_count": 8,
      "outputs": [
        {
          "output_type": "execute_result",
          "data": {
            "text/html": [
              "<div>\n",
              "<style scoped>\n",
              "    .dataframe tbody tr th:only-of-type {\n",
              "        vertical-align: middle;\n",
              "    }\n",
              "\n",
              "    .dataframe tbody tr th {\n",
              "        vertical-align: top;\n",
              "    }\n",
              "\n",
              "    .dataframe thead th {\n",
              "        text-align: right;\n",
              "    }\n",
              "</style>\n",
              "<table border=\"1\" class=\"dataframe\">\n",
              "  <thead>\n",
              "    <tr style=\"text-align: right;\">\n",
              "      <th></th>\n",
              "      <th>status_id</th>\n",
              "      <th>user_id</th>\n",
              "      <th>created_at</th>\n",
              "      <th>screen_name</th>\n",
              "      <th>text</th>\n",
              "      <th>source</th>\n",
              "      <th>reply_to_status_id</th>\n",
              "      <th>reply_to_user_id</th>\n",
              "      <th>reply_to_screen_name</th>\n",
              "      <th>is_quote</th>\n",
              "      <th>is_retweet</th>\n",
              "      <th>favourites_count</th>\n",
              "      <th>retweet_count</th>\n",
              "      <th>country_code</th>\n",
              "      <th>place_full_name</th>\n",
              "      <th>place_type</th>\n",
              "      <th>followers_count</th>\n",
              "      <th>friends_count</th>\n",
              "      <th>account_lang</th>\n",
              "      <th>account_created_at</th>\n",
              "      <th>verified</th>\n",
              "      <th>lang</th>\n",
              "    </tr>\n",
              "  </thead>\n",
              "  <tbody>\n",
              "    <tr>\n",
              "      <th>0</th>\n",
              "      <td>1244051645975191557</td>\n",
              "      <td>80943559</td>\n",
              "      <td>2020-03-29 00:00:00</td>\n",
              "      <td>rlieving</td>\n",
              "      <td>“People are just storing up. They are staying ...</td>\n",
              "      <td>TweetDeck</td>\n",
              "      <td>NaN</td>\n",
              "      <td>NaN</td>\n",
              "      <td>NaN</td>\n",
              "      <td>False</td>\n",
              "      <td>False</td>\n",
              "      <td>604</td>\n",
              "      <td>0</td>\n",
              "      <td>NaN</td>\n",
              "      <td>NaN</td>\n",
              "      <td>NaN</td>\n",
              "      <td>136</td>\n",
              "      <td>457</td>\n",
              "      <td>NaN</td>\n",
              "      <td>2009-10-08T21:06:08Z</td>\n",
              "      <td>False</td>\n",
              "      <td>en</td>\n",
              "    </tr>\n",
              "    <tr>\n",
              "      <th>1</th>\n",
              "      <td>1244051646935633921</td>\n",
              "      <td>27922157</td>\n",
              "      <td>2020-03-29 00:00:00</td>\n",
              "      <td>AmerMedicalAssn</td>\n",
              "      <td>.@PatriceHarrisMD spoke with @YahooFinance abo...</td>\n",
              "      <td>Sprinklr</td>\n",
              "      <td>NaN</td>\n",
              "      <td>NaN</td>\n",
              "      <td>NaN</td>\n",
              "      <td>False</td>\n",
              "      <td>False</td>\n",
              "      <td>2894</td>\n",
              "      <td>3</td>\n",
              "      <td>NaN</td>\n",
              "      <td>NaN</td>\n",
              "      <td>NaN</td>\n",
              "      <td>714952</td>\n",
              "      <td>6877</td>\n",
              "      <td>NaN</td>\n",
              "      <td>2009-03-31T17:50:31Z</td>\n",
              "      <td>True</td>\n",
              "      <td>en</td>\n",
              "    </tr>\n",
              "    <tr>\n",
              "      <th>2</th>\n",
              "      <td>1244051645971025920</td>\n",
              "      <td>1115874631</td>\n",
              "      <td>2020-03-29 00:00:00</td>\n",
              "      <td>CGTNOfficial</td>\n",
              "      <td>First medical team aiding #Wuhan in fight agai...</td>\n",
              "      <td>Twitter Media Studio</td>\n",
              "      <td>NaN</td>\n",
              "      <td>NaN</td>\n",
              "      <td>NaN</td>\n",
              "      <td>False</td>\n",
              "      <td>False</td>\n",
              "      <td>65</td>\n",
              "      <td>18</td>\n",
              "      <td>NaN</td>\n",
              "      <td>NaN</td>\n",
              "      <td>NaN</td>\n",
              "      <td>14040072</td>\n",
              "      <td>55</td>\n",
              "      <td>NaN</td>\n",
              "      <td>2013-01-24T03:18:59Z</td>\n",
              "      <td>True</td>\n",
              "      <td>en</td>\n",
              "    </tr>\n",
              "  </tbody>\n",
              "</table>\n",
              "</div>"
            ],
            "text/plain": [
              "             status_id     user_id  ... verified lang\n",
              "0  1244051645975191557    80943559  ...    False   en\n",
              "1  1244051646935633921    27922157  ...     True   en\n",
              "2  1244051645971025920  1115874631  ...     True   en\n",
              "\n",
              "[3 rows x 22 columns]"
            ]
          },
          "metadata": {},
          "execution_count": 8
        }
      ]
    },
    {
      "cell_type": "code",
      "metadata": {
        "id": "-AH-lwt3uCLO"
      },
      "source": [
        "# convert the dtype of cleaned 'created_at' to datetime64\n",
        "tweets['created_at'] = pd.to_datetime(tweets['created_at'], format='%Y-%m-%d %H:%M:%S')"
      ],
      "execution_count": 9,
      "outputs": []
    },
    {
      "cell_type": "code",
      "metadata": {
        "colab": {
          "base_uri": "https://localhost:8080/",
          "height": 836
        },
        "id": "AVNSlKUwuSMC",
        "outputId": "2d611194-4a0b-43e0-e897-7b6efbc53c6c"
      },
      "source": [
        "# check\n",
        "display(tweets.info())\n",
        "tweets.tail(3)"
      ],
      "execution_count": 10,
      "outputs": [
        {
          "output_type": "stream",
          "name": "stdout",
          "text": [
            "<class 'pandas.core.frame.DataFrame'>\n",
            "RangeIndex: 8133785 entries, 0 to 8133784\n",
            "Data columns (total 22 columns):\n",
            " #   Column                Dtype         \n",
            "---  ------                -----         \n",
            " 0   status_id             int64         \n",
            " 1   user_id               int64         \n",
            " 2   created_at            datetime64[ns]\n",
            " 3   screen_name           object        \n",
            " 4   text                  object        \n",
            " 5   source                object        \n",
            " 6   reply_to_status_id    float64       \n",
            " 7   reply_to_user_id      float64       \n",
            " 8   reply_to_screen_name  object        \n",
            " 9   is_quote              bool          \n",
            " 10  is_retweet            bool          \n",
            " 11  favourites_count      int64         \n",
            " 12  retweet_count         int64         \n",
            " 13  country_code          object        \n",
            " 14  place_full_name       object        \n",
            " 15  place_type            object        \n",
            " 16  followers_count       int64         \n",
            " 17  friends_count         int64         \n",
            " 18  account_lang          float64       \n",
            " 19  account_created_at    object        \n",
            " 20  verified              bool          \n",
            " 21  lang                  object        \n",
            "dtypes: bool(3), datetime64[ns](1), float64(3), int64(6), object(9)\n",
            "memory usage: 1.2+ GB\n"
          ]
        },
        {
          "output_type": "display_data",
          "data": {
            "text/plain": [
              "None"
            ]
          },
          "metadata": {}
        },
        {
          "output_type": "execute_result",
          "data": {
            "text/html": [
              "<div>\n",
              "<style scoped>\n",
              "    .dataframe tbody tr th:only-of-type {\n",
              "        vertical-align: middle;\n",
              "    }\n",
              "\n",
              "    .dataframe tbody tr th {\n",
              "        vertical-align: top;\n",
              "    }\n",
              "\n",
              "    .dataframe thead th {\n",
              "        text-align: right;\n",
              "    }\n",
              "</style>\n",
              "<table border=\"1\" class=\"dataframe\">\n",
              "  <thead>\n",
              "    <tr style=\"text-align: right;\">\n",
              "      <th></th>\n",
              "      <th>status_id</th>\n",
              "      <th>user_id</th>\n",
              "      <th>created_at</th>\n",
              "      <th>screen_name</th>\n",
              "      <th>text</th>\n",
              "      <th>source</th>\n",
              "      <th>reply_to_status_id</th>\n",
              "      <th>reply_to_user_id</th>\n",
              "      <th>reply_to_screen_name</th>\n",
              "      <th>is_quote</th>\n",
              "      <th>is_retweet</th>\n",
              "      <th>favourites_count</th>\n",
              "      <th>retweet_count</th>\n",
              "      <th>country_code</th>\n",
              "      <th>place_full_name</th>\n",
              "      <th>place_type</th>\n",
              "      <th>followers_count</th>\n",
              "      <th>friends_count</th>\n",
              "      <th>account_lang</th>\n",
              "      <th>account_created_at</th>\n",
              "      <th>verified</th>\n",
              "      <th>lang</th>\n",
              "    </tr>\n",
              "  </thead>\n",
              "  <tbody>\n",
              "    <tr>\n",
              "      <th>8133782</th>\n",
              "      <td>1256010442696245253</td>\n",
              "      <td>18198832</td>\n",
              "      <td>2020-04-30 23:59:59</td>\n",
              "      <td>TheScientistLLC</td>\n",
              "      <td>While the lockdown for #COVID19 continues on, ...</td>\n",
              "      <td>HubSpot</td>\n",
              "      <td>NaN</td>\n",
              "      <td>NaN</td>\n",
              "      <td>NaN</td>\n",
              "      <td>False</td>\n",
              "      <td>False</td>\n",
              "      <td>978</td>\n",
              "      <td>1</td>\n",
              "      <td>NaN</td>\n",
              "      <td>NaN</td>\n",
              "      <td>NaN</td>\n",
              "      <td>66844</td>\n",
              "      <td>383</td>\n",
              "      <td>NaN</td>\n",
              "      <td>2008-12-17T20:32:46Z</td>\n",
              "      <td>True</td>\n",
              "      <td>en</td>\n",
              "    </tr>\n",
              "    <tr>\n",
              "      <th>8133783</th>\n",
              "      <td>1256010440154513408</td>\n",
              "      <td>937899468585828352</td>\n",
              "      <td>2020-04-30 23:59:59</td>\n",
              "      <td>portarican_RT</td>\n",
              "      <td>Best answer. #COVID19 #WeMournThemAll https://...</td>\n",
              "      <td>Twitter Web App</td>\n",
              "      <td>NaN</td>\n",
              "      <td>NaN</td>\n",
              "      <td>NaN</td>\n",
              "      <td>True</td>\n",
              "      <td>False</td>\n",
              "      <td>44903</td>\n",
              "      <td>0</td>\n",
              "      <td>NaN</td>\n",
              "      <td>NaN</td>\n",
              "      <td>NaN</td>\n",
              "      <td>5503</td>\n",
              "      <td>5909</td>\n",
              "      <td>NaN</td>\n",
              "      <td>2017-12-05T04:20:33Z</td>\n",
              "      <td>False</td>\n",
              "      <td>en</td>\n",
              "    </tr>\n",
              "    <tr>\n",
              "      <th>8133784</th>\n",
              "      <td>1256010440007716867</td>\n",
              "      <td>1043656483</td>\n",
              "      <td>2020-04-30 23:59:59</td>\n",
              "      <td>Drz123Z</td>\n",
              "      <td>@WFXTMalini @CMichaelGibson @boston25 I had th...</td>\n",
              "      <td>Twitter for iPhone</td>\n",
              "      <td>1.255987e+18</td>\n",
              "      <td>62144220.0</td>\n",
              "      <td>WFXTMalini</td>\n",
              "      <td>False</td>\n",
              "      <td>False</td>\n",
              "      <td>5906</td>\n",
              "      <td>0</td>\n",
              "      <td>US</td>\n",
              "      <td>Weymouth, MA</td>\n",
              "      <td>city</td>\n",
              "      <td>85</td>\n",
              "      <td>127</td>\n",
              "      <td>NaN</td>\n",
              "      <td>2012-12-29T02:35:23Z</td>\n",
              "      <td>False</td>\n",
              "      <td>en</td>\n",
              "    </tr>\n",
              "  </tbody>\n",
              "</table>\n",
              "</div>"
            ],
            "text/plain": [
              "                   status_id             user_id  ... verified lang\n",
              "8133782  1256010442696245253            18198832  ...     True   en\n",
              "8133783  1256010440154513408  937899468585828352  ...    False   en\n",
              "8133784  1256010440007716867          1043656483  ...    False   en\n",
              "\n",
              "[3 rows x 22 columns]"
            ]
          },
          "metadata": {},
          "execution_count": 10
        }
      ]
    },
    {
      "cell_type": "markdown",
      "metadata": {
        "id": "TR_epEUVubw7"
      },
      "source": [
        "It has been converted to `datetime64` type. But, it's not showing the hours, minutes, and seconds for some reason. Let's check if they are really omitted."
      ]
    },
    {
      "cell_type": "code",
      "metadata": {
        "colab": {
          "base_uri": "https://localhost:8080/"
        },
        "id": "PHpY8UbquaxQ",
        "outputId": "9b6fb836-25b5-4e6e-9871-691467a52c92"
      },
      "source": [
        "# inspect the column\n",
        "tweets.loc[:, 'created_at']"
      ],
      "execution_count": 11,
      "outputs": [
        {
          "output_type": "execute_result",
          "data": {
            "text/plain": [
              "0         2020-03-29 00:00:00\n",
              "1         2020-03-29 00:00:00\n",
              "2         2020-03-29 00:00:00\n",
              "3         2020-03-29 00:00:00\n",
              "4         2020-03-29 00:00:00\n",
              "                  ...        \n",
              "8133780   2020-04-30 23:59:58\n",
              "8133781   2020-04-30 23:59:59\n",
              "8133782   2020-04-30 23:59:59\n",
              "8133783   2020-04-30 23:59:59\n",
              "8133784   2020-04-30 23:59:59\n",
              "Name: created_at, Length: 8133785, dtype: datetime64[ns]"
            ]
          },
          "metadata": {},
          "execution_count": 11
        }
      ]
    },
    {
      "cell_type": "markdown",
      "metadata": {
        "id": "uoPr4Eg9uuNJ"
      },
      "source": [
        "Actually, it just was not showing up in the expanded dataframe. The information is still there."
      ]
    },
    {
      "cell_type": "markdown",
      "metadata": {
        "id": "yAn5-tgEu7IL"
      },
      "source": [
        "Let's do the same to `account_created_at` column."
      ]
    },
    {
      "cell_type": "code",
      "metadata": {
        "colab": {
          "base_uri": "https://localhost:8080/"
        },
        "id": "rJBoDIfEvB2f",
        "outputId": "691c2774-f765-4add-d1b7-09c3c80e5920"
      },
      "source": [
        "# replace T's with a space\n",
        "tweets['account_created_at'] = tweets['account_created_at'].str.replace('T', ' ')\n",
        "# replace Z's with whitespace\n",
        "tweets['account_created_at'] = tweets['account_created_at'].str.replace('Z', '')\n",
        "\n",
        "# check if the T's and Z's have been removed/replaced\n",
        "tweets['account_created_at'].head()"
      ],
      "execution_count": 12,
      "outputs": [
        {
          "output_type": "execute_result",
          "data": {
            "text/plain": [
              "0    2009-10-08 21:06:08\n",
              "1    2009-03-31 17:50:31\n",
              "2    2013-01-24 03:18:59\n",
              "3    2010-01-27 05:23:15\n",
              "4    2008-11-27 09:07:38\n",
              "Name: account_created_at, dtype: object"
            ]
          },
          "metadata": {},
          "execution_count": 12
        }
      ]
    },
    {
      "cell_type": "code",
      "metadata": {
        "colab": {
          "base_uri": "https://localhost:8080/"
        },
        "id": "5bASRaATw73b",
        "outputId": "9bffa544-eedb-44c7-becd-88105471e70b"
      },
      "source": [
        "# convert the dtype to datetime64\n",
        "tweets['account_created_at'] = pd.to_datetime(tweets['account_created_at'], format='%Y-%m-%d %H:%M:%S')\n",
        "tweets['account_created_at']"
      ],
      "execution_count": 13,
      "outputs": [
        {
          "output_type": "execute_result",
          "data": {
            "text/plain": [
              "0         2009-10-08 21:06:08\n",
              "1         2009-03-31 17:50:31\n",
              "2         2013-01-24 03:18:59\n",
              "3         2010-01-27 05:23:15\n",
              "4         2008-11-27 09:07:38\n",
              "                  ...        \n",
              "8133780   2007-06-27 20:09:29\n",
              "8133781   2017-09-25 14:16:41\n",
              "8133782   2008-12-17 20:32:46\n",
              "8133783   2017-12-05 04:20:33\n",
              "8133784   2012-12-29 02:35:23\n",
              "Name: account_created_at, Length: 8133785, dtype: datetime64[ns]"
            ]
          },
          "metadata": {},
          "execution_count": 13
        }
      ]
    },
    {
      "cell_type": "code",
      "metadata": {
        "colab": {
          "base_uri": "https://localhost:8080/"
        },
        "id": "2a7fEybxMlTK",
        "outputId": "6d5c43a7-4eb0-4866-cd18-58d8c285d2d4"
      },
      "source": [
        "# check dtypes again\n",
        "tweets.info()"
      ],
      "execution_count": 14,
      "outputs": [
        {
          "output_type": "stream",
          "name": "stdout",
          "text": [
            "<class 'pandas.core.frame.DataFrame'>\n",
            "RangeIndex: 8133785 entries, 0 to 8133784\n",
            "Data columns (total 22 columns):\n",
            " #   Column                Dtype         \n",
            "---  ------                -----         \n",
            " 0   status_id             int64         \n",
            " 1   user_id               int64         \n",
            " 2   created_at            datetime64[ns]\n",
            " 3   screen_name           object        \n",
            " 4   text                  object        \n",
            " 5   source                object        \n",
            " 6   reply_to_status_id    float64       \n",
            " 7   reply_to_user_id      float64       \n",
            " 8   reply_to_screen_name  object        \n",
            " 9   is_quote              bool          \n",
            " 10  is_retweet            bool          \n",
            " 11  favourites_count      int64         \n",
            " 12  retweet_count         int64         \n",
            " 13  country_code          object        \n",
            " 14  place_full_name       object        \n",
            " 15  place_type            object        \n",
            " 16  followers_count       int64         \n",
            " 17  friends_count         int64         \n",
            " 18  account_lang          float64       \n",
            " 19  account_created_at    datetime64[ns]\n",
            " 20  verified              bool          \n",
            " 21  lang                  object        \n",
            "dtypes: bool(3), datetime64[ns](2), float64(3), int64(6), object(8)\n",
            "memory usage: 1.2+ GB\n"
          ]
        }
      ]
    },
    {
      "cell_type": "markdown",
      "metadata": {
        "id": "fn5ZBmADxh5G"
      },
      "source": [
        "`created_at` and `account_created_at` have been successfully converted to `datetime64` format."
      ]
    },
    {
      "cell_type": "markdown",
      "metadata": {
        "id": "3C_xVoB0yJ0N"
      },
      "source": [
        "### Visualize Tweet Counts by Date"
      ]
    },
    {
      "cell_type": "code",
      "metadata": {
        "colab": {
          "base_uri": "https://localhost:8080/",
          "height": 245
        },
        "id": "rBNbkM4YySKa",
        "outputId": "dfb92c3a-8ff4-448c-fb5c-5beb2c7c0a4a"
      },
      "source": [
        "# get tweet count for each date in the dataset\n",
        "tweet_count_by_date = tweets['created_at'].dt.date.value_counts()\n",
        "# sort the dates\n",
        "tweet_count_by_date.sort_index()\n",
        "\n",
        "# plot the distribution\n",
        "plt.figure(figsize=(15,5))\n",
        "plt.bar(tweet_count_by_date.index, tweet_count_by_date)\n",
        "plt.xlim(right=max(tweet_count_by_date.index))\n",
        "plt.title('COVID-19 Related Tweet Count between 2020-03-29 and 2020-04-30')\n",
        "plt.xlabel('Date')\n",
        "plt.ylabel('Count')\n",
        "plt.show()\n"
      ],
      "execution_count": 15,
      "outputs": [
        {
          "output_type": "display_data",
          "data": {
            "image/png": "[encoded data removed]",
            "text/plain": [
              "<Figure size 1080x360 with 1 Axes>"
            ]
          },
          "metadata": {
            "needs_background": "light"
          }
        }
      ]
    },
    {
      "cell_type": "markdown",
      "metadata": {
        "id": "6__d7Ch20uzy"
      },
      "source": [
        "A gradual decline in number of tweets over the timespan is noticeable. The peak was on Wednesday, March 31st, 2020. The lowest count was recorded on Tuesday, April 13th."
      ]
    },
    {
      "cell_type": "markdown",
      "metadata": {
        "id": "LKkPZycWyBfu"
      },
      "source": [
        "### Change `status_id`, `user_id`, `reply_to_status_id`, and `reply_to_user_id` to `str`"
      ]
    },
    {
      "cell_type": "markdown",
      "metadata": {
        "id": "FnTXL0GG10zd"
      },
      "source": [
        "Now, let's convert `status_id`, `user_id`, `reply_to_status_id` and `reply_to_user_id` into `str` type.\n",
        "\n",
        "But first, we have to convert `reply_to_status_id` and `reply_to_user_id` into `int` before we convert them into `str`.  That is because if we converted them into `str` directly, the scientific notation (x.xxe+18) would be preserved. We do not want that."
      ]
    },
    {
      "cell_type": "code",
      "metadata": {
        "colab": {
          "base_uri": "https://localhost:8080/",
          "height": 951
        },
        "id": "OLxyQ9-X19uV",
        "outputId": "9d07034d-3a2f-453a-e678-25f73cc8037c"
      },
      "source": [
        "tweets = tweets.astype({'reply_to_status_id': 'Int64', 'reply_to_user_id': 'Int64'}) # capital I for Int64 is for pandas, diff from numpy\n",
        "display(tweets.tail(5))\n",
        "tweets.info()"
      ],
      "execution_count": 16,
      "outputs": [
        {
          "output_type": "display_data",
          "data": {
            "text/html": [
              "<div>\n",
              "<style scoped>\n",
              "    .dataframe tbody tr th:only-of-type {\n",
              "        vertical-align: middle;\n",
              "    }\n",
              "\n",
              "    .dataframe tbody tr th {\n",
              "        vertical-align: top;\n",
              "    }\n",
              "\n",
              "    .dataframe thead th {\n",
              "        text-align: right;\n",
              "    }\n",
              "</style>\n",
              "<table border=\"1\" class=\"dataframe\">\n",
              "  <thead>\n",
              "    <tr style=\"text-align: right;\">\n",
              "      <th></th>\n",
              "      <th>status_id</th>\n",
              "      <th>user_id</th>\n",
              "      <th>created_at</th>\n",
              "      <th>screen_name</th>\n",
              "      <th>text</th>\n",
              "      <th>source</th>\n",
              "      <th>reply_to_status_id</th>\n",
              "      <th>reply_to_user_id</th>\n",
              "      <th>reply_to_screen_name</th>\n",
              "      <th>is_quote</th>\n",
              "      <th>is_retweet</th>\n",
              "      <th>favourites_count</th>\n",
              "      <th>retweet_count</th>\n",
              "      <th>country_code</th>\n",
              "      <th>place_full_name</th>\n",
              "      <th>place_type</th>\n",
              "      <th>followers_count</th>\n",
              "      <th>friends_count</th>\n",
              "      <th>account_lang</th>\n",
              "      <th>account_created_at</th>\n",
              "      <th>verified</th>\n",
              "      <th>lang</th>\n",
              "    </tr>\n",
              "  </thead>\n",
              "  <tbody>\n",
              "    <tr>\n",
              "      <th>8133780</th>\n",
              "      <td>1256010435641462784</td>\n",
              "      <td>7117302</td>\n",
              "      <td>2020-04-30 23:59:58</td>\n",
              "      <td>ozsultan</td>\n",
              "      <td>Dear @NYCMayor,\\n\\nThe city has Millions to sp...</td>\n",
              "      <td>Twitter for iPhone</td>\n",
              "      <td>&lt;NA&gt;</td>\n",
              "      <td>&lt;NA&gt;</td>\n",
              "      <td>NaN</td>\n",
              "      <td>False</td>\n",
              "      <td>False</td>\n",
              "      <td>18897</td>\n",
              "      <td>0</td>\n",
              "      <td>NaN</td>\n",
              "      <td>NaN</td>\n",
              "      <td>NaN</td>\n",
              "      <td>8723</td>\n",
              "      <td>7747</td>\n",
              "      <td>NaN</td>\n",
              "      <td>2007-06-27 20:09:29</td>\n",
              "      <td>False</td>\n",
              "      <td>en</td>\n",
              "    </tr>\n",
              "    <tr>\n",
              "      <th>8133781</th>\n",
              "      <td>1256010442876608512</td>\n",
              "      <td>912319950559354880</td>\n",
              "      <td>2020-04-30 23:59:59</td>\n",
              "      <td>DriveLockGlobal</td>\n",
              "      <td>In the middle of the #COVID19 sales surge in M...</td>\n",
              "      <td>HubSpot</td>\n",
              "      <td>&lt;NA&gt;</td>\n",
              "      <td>&lt;NA&gt;</td>\n",
              "      <td>NaN</td>\n",
              "      <td>False</td>\n",
              "      <td>False</td>\n",
              "      <td>84</td>\n",
              "      <td>0</td>\n",
              "      <td>NaN</td>\n",
              "      <td>NaN</td>\n",
              "      <td>NaN</td>\n",
              "      <td>365</td>\n",
              "      <td>1333</td>\n",
              "      <td>NaN</td>\n",
              "      <td>2017-09-25 14:16:41</td>\n",
              "      <td>False</td>\n",
              "      <td>en</td>\n",
              "    </tr>\n",
              "    <tr>\n",
              "      <th>8133782</th>\n",
              "      <td>1256010442696245253</td>\n",
              "      <td>18198832</td>\n",
              "      <td>2020-04-30 23:59:59</td>\n",
              "      <td>TheScientistLLC</td>\n",
              "      <td>While the lockdown for #COVID19 continues on, ...</td>\n",
              "      <td>HubSpot</td>\n",
              "      <td>&lt;NA&gt;</td>\n",
              "      <td>&lt;NA&gt;</td>\n",
              "      <td>NaN</td>\n",
              "      <td>False</td>\n",
              "      <td>False</td>\n",
              "      <td>978</td>\n",
              "      <td>1</td>\n",
              "      <td>NaN</td>\n",
              "      <td>NaN</td>\n",
              "      <td>NaN</td>\n",
              "      <td>66844</td>\n",
              "      <td>383</td>\n",
              "      <td>NaN</td>\n",
              "      <td>2008-12-17 20:32:46</td>\n",
              "      <td>True</td>\n",
              "      <td>en</td>\n",
              "    </tr>\n",
              "    <tr>\n",
              "      <th>8133783</th>\n",
              "      <td>1256010440154513408</td>\n",
              "      <td>937899468585828352</td>\n",
              "      <td>2020-04-30 23:59:59</td>\n",
              "      <td>portarican_RT</td>\n",
              "      <td>Best answer. #COVID19 #WeMournThemAll https://...</td>\n",
              "      <td>Twitter Web App</td>\n",
              "      <td>&lt;NA&gt;</td>\n",
              "      <td>&lt;NA&gt;</td>\n",
              "      <td>NaN</td>\n",
              "      <td>True</td>\n",
              "      <td>False</td>\n",
              "      <td>44903</td>\n",
              "      <td>0</td>\n",
              "      <td>NaN</td>\n",
              "      <td>NaN</td>\n",
              "      <td>NaN</td>\n",
              "      <td>5503</td>\n",
              "      <td>5909</td>\n",
              "      <td>NaN</td>\n",
              "      <td>2017-12-05 04:20:33</td>\n",
              "      <td>False</td>\n",
              "      <td>en</td>\n",
              "    </tr>\n",
              "    <tr>\n",
              "      <th>8133784</th>\n",
              "      <td>1256010440007716867</td>\n",
              "      <td>1043656483</td>\n",
              "      <td>2020-04-30 23:59:59</td>\n",
              "      <td>Drz123Z</td>\n",
              "      <td>@WFXTMalini @CMichaelGibson @boston25 I had th...</td>\n",
              "      <td>Twitter for iPhone</td>\n",
              "      <td>1255986583649554432</td>\n",
              "      <td>62144220</td>\n",
              "      <td>WFXTMalini</td>\n",
              "      <td>False</td>\n",
              "      <td>False</td>\n",
              "      <td>5906</td>\n",
              "      <td>0</td>\n",
              "      <td>US</td>\n",
              "      <td>Weymouth, MA</td>\n",
              "      <td>city</td>\n",
              "      <td>85</td>\n",
              "      <td>127</td>\n",
              "      <td>NaN</td>\n",
              "      <td>2012-12-29 02:35:23</td>\n",
              "      <td>False</td>\n",
              "      <td>en</td>\n",
              "    </tr>\n",
              "  </tbody>\n",
              "</table>\n",
              "</div>"
            ],
            "text/plain": [
              "                   status_id             user_id  ... verified lang\n",
              "8133780  1256010435641462784             7117302  ...    False   en\n",
              "8133781  1256010442876608512  912319950559354880  ...    False   en\n",
              "8133782  1256010442696245253            18198832  ...     True   en\n",
              "8133783  1256010440154513408  937899468585828352  ...    False   en\n",
              "8133784  1256010440007716867          1043656483  ...    False   en\n",
              "\n",
              "[5 rows x 22 columns]"
            ]
          },
          "metadata": {}
        },
        {
          "output_type": "stream",
          "name": "stdout",
          "text": [
            "<class 'pandas.core.frame.DataFrame'>\n",
            "RangeIndex: 8133785 entries, 0 to 8133784\n",
            "Data columns (total 22 columns):\n",
            " #   Column                Dtype         \n",
            "---  ------                -----         \n",
            " 0   status_id             int64         \n",
            " 1   user_id               int64         \n",
            " 2   created_at            datetime64[ns]\n",
            " 3   screen_name           object        \n",
            " 4   text                  object        \n",
            " 5   source                object        \n",
            " 6   reply_to_status_id    Int64         \n",
            " 7   reply_to_user_id      Int64         \n",
            " 8   reply_to_screen_name  object        \n",
            " 9   is_quote              bool          \n",
            " 10  is_retweet            bool          \n",
            " 11  favourites_count      int64         \n",
            " 12  retweet_count         int64         \n",
            " 13  country_code          object        \n",
            " 14  place_full_name       object        \n",
            " 15  place_type            object        \n",
            " 16  followers_count       int64         \n",
            " 17  friends_count         int64         \n",
            " 18  account_lang          float64       \n",
            " 19  account_created_at    datetime64[ns]\n",
            " 20  verified              bool          \n",
            " 21  lang                  object        \n",
            "dtypes: Int64(2), bool(3), datetime64[ns](2), float64(1), int64(6), object(8)\n",
            "memory usage: 1.2+ GB\n"
          ]
        }
      ]
    },
    {
      "cell_type": "markdown",
      "metadata": {
        "id": "8AUw9fYmYiq5"
      },
      "source": [
        "Now we can convert them into `str`."
      ]
    },
    {
      "cell_type": "code",
      "metadata": {
        "colab": {
          "base_uri": "https://localhost:8080/",
          "height": 975
        },
        "id": "RuHjOjKyYZwX",
        "outputId": "477d47b4-db85-4079-aef4-180999205d2b"
      },
      "source": [
        "tweets = tweets.astype({'status_id': str, 'user_id': str, 'reply_to_status_id': str, 'reply_to_user_id': str})\n",
        "display(tweets.sample(8))\n",
        "tweets.info()"
      ],
      "execution_count": 17,
      "outputs": [
        {
          "output_type": "display_data",
          "data": {
            "text/html": [
              "<div>\n",
              "<style scoped>\n",
              "    .dataframe tbody tr th:only-of-type {\n",
              "        vertical-align: middle;\n",
              "    }\n",
              "\n",
              "    .dataframe tbody tr th {\n",
              "        vertical-align: top;\n",
              "    }\n",
              "\n",
              "    .dataframe thead th {\n",
              "        text-align: right;\n",
              "    }\n",
              "</style>\n",
              "<table border=\"1\" class=\"dataframe\">\n",
              "  <thead>\n",
              "    <tr style=\"text-align: right;\">\n",
              "      <th></th>\n",
              "      <th>status_id</th>\n",
              "      <th>user_id</th>\n",
              "      <th>created_at</th>\n",
              "      <th>screen_name</th>\n",
              "      <th>text</th>\n",
              "      <th>source</th>\n",
              "      <th>reply_to_status_id</th>\n",
              "      <th>reply_to_user_id</th>\n",
              "      <th>reply_to_screen_name</th>\n",
              "      <th>is_quote</th>\n",
              "      <th>is_retweet</th>\n",
              "      <th>favourites_count</th>\n",
              "      <th>retweet_count</th>\n",
              "      <th>country_code</th>\n",
              "      <th>place_full_name</th>\n",
              "      <th>place_type</th>\n",
              "      <th>followers_count</th>\n",
              "      <th>friends_count</th>\n",
              "      <th>account_lang</th>\n",
              "      <th>account_created_at</th>\n",
              "      <th>verified</th>\n",
              "      <th>lang</th>\n",
              "    </tr>\n",
              "  </thead>\n",
              "  <tbody>\n",
              "    <tr>\n",
              "      <th>2993369</th>\n",
              "      <td>1247583470525788169</td>\n",
              "      <td>2851097662</td>\n",
              "      <td>2020-04-07 17:54:13</td>\n",
              "      <td>KingKrankor</td>\n",
              "      <td>@tedlieu \"Best practices for preventing #coron...</td>\n",
              "      <td>Twitter Web Client</td>\n",
              "      <td>1235618158976749568</td>\n",
              "      <td>21059255</td>\n",
              "      <td>tedlieu</td>\n",
              "      <td>False</td>\n",
              "      <td>False</td>\n",
              "      <td>59800</td>\n",
              "      <td>0</td>\n",
              "      <td>NaN</td>\n",
              "      <td>NaN</td>\n",
              "      <td>NaN</td>\n",
              "      <td>2318</td>\n",
              "      <td>1457</td>\n",
              "      <td>NaN</td>\n",
              "      <td>2014-10-30 08:50:02</td>\n",
              "      <td>False</td>\n",
              "      <td>en</td>\n",
              "    </tr>\n",
              "    <tr>\n",
              "      <th>3483495</th>\n",
              "      <td>1248233560357482497</td>\n",
              "      <td>36327407</td>\n",
              "      <td>2020-04-09 12:57:26</td>\n",
              "      <td>htTweets</td>\n",
              "      <td>#CoronavirusOutbreak | At Delhi’s Covid-19 rev...</td>\n",
              "      <td>TweetDeck</td>\n",
              "      <td>&lt;NA&gt;</td>\n",
              "      <td>&lt;NA&gt;</td>\n",
              "      <td>NaN</td>\n",
              "      <td>False</td>\n",
              "      <td>False</td>\n",
              "      <td>2976</td>\n",
              "      <td>1</td>\n",
              "      <td>NaN</td>\n",
              "      <td>NaN</td>\n",
              "      <td>NaN</td>\n",
              "      <td>7297859</td>\n",
              "      <td>128</td>\n",
              "      <td>NaN</td>\n",
              "      <td>2009-04-29 10:11:34</td>\n",
              "      <td>True</td>\n",
              "      <td>en</td>\n",
              "    </tr>\n",
              "    <tr>\n",
              "      <th>422003</th>\n",
              "      <td>1244558513067544576</td>\n",
              "      <td>396927426</td>\n",
              "      <td>2020-03-30 09:34:06</td>\n",
              "      <td>rynbrtz</td>\n",
              "      <td>Showing my support for our Doctors, Nurses, He...</td>\n",
              "      <td>Twitter for iPhone</td>\n",
              "      <td>&lt;NA&gt;</td>\n",
              "      <td>&lt;NA&gt;</td>\n",
              "      <td>NaN</td>\n",
              "      <td>False</td>\n",
              "      <td>False</td>\n",
              "      <td>2190</td>\n",
              "      <td>1</td>\n",
              "      <td>NaN</td>\n",
              "      <td>NaN</td>\n",
              "      <td>NaN</td>\n",
              "      <td>79</td>\n",
              "      <td>93</td>\n",
              "      <td>NaN</td>\n",
              "      <td>2011-10-24 00:05:53</td>\n",
              "      <td>False</td>\n",
              "      <td>en</td>\n",
              "    </tr>\n",
              "    <tr>\n",
              "      <th>2199399</th>\n",
              "      <td>1246530671188643840</td>\n",
              "      <td>289442042</td>\n",
              "      <td>2020-04-04 20:10:46</td>\n",
              "      <td>Groceryhound</td>\n",
              "      <td>UPDATE #corinavirusUSA\\n#Louisiana health offi...</td>\n",
              "      <td>Twitter for Android</td>\n",
              "      <td>&lt;NA&gt;</td>\n",
              "      <td>&lt;NA&gt;</td>\n",
              "      <td>NaN</td>\n",
              "      <td>False</td>\n",
              "      <td>False</td>\n",
              "      <td>271</td>\n",
              "      <td>0</td>\n",
              "      <td>NaN</td>\n",
              "      <td>NaN</td>\n",
              "      <td>NaN</td>\n",
              "      <td>272</td>\n",
              "      <td>768</td>\n",
              "      <td>NaN</td>\n",
              "      <td>2011-04-28 17:13:24</td>\n",
              "      <td>False</td>\n",
              "      <td>en</td>\n",
              "    </tr>\n",
              "    <tr>\n",
              "      <th>3828287</th>\n",
              "      <td>1248688828144967685</td>\n",
              "      <td>15927903</td>\n",
              "      <td>2020-04-10 19:06:30</td>\n",
              "      <td>LocalBizNetwork</td>\n",
              "      <td>Now is the time to start working on improving ...</td>\n",
              "      <td>Twitter for iPhone</td>\n",
              "      <td>&lt;NA&gt;</td>\n",
              "      <td>&lt;NA&gt;</td>\n",
              "      <td>NaN</td>\n",
              "      <td>False</td>\n",
              "      <td>False</td>\n",
              "      <td>20318</td>\n",
              "      <td>0</td>\n",
              "      <td>US</td>\n",
              "      <td>San Jose, CA</td>\n",
              "      <td>city</td>\n",
              "      <td>830</td>\n",
              "      <td>1104</td>\n",
              "      <td>NaN</td>\n",
              "      <td>2008-08-21 04:46:46</td>\n",
              "      <td>False</td>\n",
              "      <td>en</td>\n",
              "    </tr>\n",
              "    <tr>\n",
              "      <th>1811670</th>\n",
              "      <td>1246085277346598912</td>\n",
              "      <td>745531507</td>\n",
              "      <td>2020-04-03 14:40:55</td>\n",
              "      <td>surbiton2012</td>\n",
              "      <td>@JitenVarsani Can’t really blame them for havi...</td>\n",
              "      <td>Twitter for iPhone</td>\n",
              "      <td>1246084719881736192</td>\n",
              "      <td>506508253</td>\n",
              "      <td>JitenVarsani</td>\n",
              "      <td>False</td>\n",
              "      <td>False</td>\n",
              "      <td>36716</td>\n",
              "      <td>0</td>\n",
              "      <td>NaN</td>\n",
              "      <td>NaN</td>\n",
              "      <td>NaN</td>\n",
              "      <td>1880</td>\n",
              "      <td>478</td>\n",
              "      <td>NaN</td>\n",
              "      <td>2012-08-08 16:41:59</td>\n",
              "      <td>False</td>\n",
              "      <td>en</td>\n",
              "    </tr>\n",
              "    <tr>\n",
              "      <th>338668</th>\n",
              "      <td>1244442899900702722</td>\n",
              "      <td>11170072</td>\n",
              "      <td>2020-03-30 01:54:42</td>\n",
              "      <td>CurseYouKhan</td>\n",
              "      <td>If you pray please say one for John Prine who ...</td>\n",
              "      <td>Twitter for Android</td>\n",
              "      <td>&lt;NA&gt;</td>\n",
              "      <td>&lt;NA&gt;</td>\n",
              "      <td>NaN</td>\n",
              "      <td>False</td>\n",
              "      <td>False</td>\n",
              "      <td>98281</td>\n",
              "      <td>3</td>\n",
              "      <td>NaN</td>\n",
              "      <td>NaN</td>\n",
              "      <td>NaN</td>\n",
              "      <td>3087</td>\n",
              "      <td>4454</td>\n",
              "      <td>NaN</td>\n",
              "      <td>2007-12-14 17:15:09</td>\n",
              "      <td>False</td>\n",
              "      <td>en</td>\n",
              "    </tr>\n",
              "    <tr>\n",
              "      <th>1302861</th>\n",
              "      <td>1245453036354494464</td>\n",
              "      <td>623456775</td>\n",
              "      <td>2020-04-01 20:48:37</td>\n",
              "      <td>HKookie</td>\n",
              "      <td>#COP26 postponed due to #COVID19 #ClimateCrisi...</td>\n",
              "      <td>Twitter Web App</td>\n",
              "      <td>&lt;NA&gt;</td>\n",
              "      <td>&lt;NA&gt;</td>\n",
              "      <td>NaN</td>\n",
              "      <td>True</td>\n",
              "      <td>False</td>\n",
              "      <td>2884</td>\n",
              "      <td>0</td>\n",
              "      <td>NaN</td>\n",
              "      <td>NaN</td>\n",
              "      <td>NaN</td>\n",
              "      <td>311</td>\n",
              "      <td>465</td>\n",
              "      <td>NaN</td>\n",
              "      <td>2012-07-01 03:39:22</td>\n",
              "      <td>False</td>\n",
              "      <td>en</td>\n",
              "    </tr>\n",
              "  </tbody>\n",
              "</table>\n",
              "</div>"
            ],
            "text/plain": [
              "                   status_id     user_id  ... verified lang\n",
              "2993369  1247583470525788169  2851097662  ...    False   en\n",
              "3483495  1248233560357482497    36327407  ...     True   en\n",
              "422003   1244558513067544576   396927426  ...    False   en\n",
              "2199399  1246530671188643840   289442042  ...    False   en\n",
              "3828287  1248688828144967685    15927903  ...    False   en\n",
              "1811670  1246085277346598912   745531507  ...    False   en\n",
              "338668   1244442899900702722    11170072  ...    False   en\n",
              "1302861  1245453036354494464   623456775  ...    False   en\n",
              "\n",
              "[8 rows x 22 columns]"
            ]
          },
          "metadata": {}
        },
        {
          "output_type": "stream",
          "name": "stdout",
          "text": [
            "<class 'pandas.core.frame.DataFrame'>\n",
            "RangeIndex: 8133785 entries, 0 to 8133784\n",
            "Data columns (total 22 columns):\n",
            " #   Column                Dtype         \n",
            "---  ------                -----         \n",
            " 0   status_id             object        \n",
            " 1   user_id               object        \n",
            " 2   created_at            datetime64[ns]\n",
            " 3   screen_name           object        \n",
            " 4   text                  object        \n",
            " 5   source                object        \n",
            " 6   reply_to_status_id    object        \n",
            " 7   reply_to_user_id      object        \n",
            " 8   reply_to_screen_name  object        \n",
            " 9   is_quote              bool          \n",
            " 10  is_retweet            bool          \n",
            " 11  favourites_count      int64         \n",
            " 12  retweet_count         int64         \n",
            " 13  country_code          object        \n",
            " 14  place_full_name       object        \n",
            " 15  place_type            object        \n",
            " 16  followers_count       int64         \n",
            " 17  friends_count         int64         \n",
            " 18  account_lang          float64       \n",
            " 19  account_created_at    datetime64[ns]\n",
            " 20  verified              bool          \n",
            " 21  lang                  object        \n",
            "dtypes: bool(3), datetime64[ns](2), float64(1), int64(4), object(12)\n",
            "memory usage: 1.2+ GB\n"
          ]
        }
      ]
    },
    {
      "cell_type": "markdown",
      "metadata": {
        "id": "Qu3I7pN67-KJ"
      },
      "source": [
        "The columns have been successfully converted to `str` (`object`) type."
      ]
    },
    {
      "cell_type": "code",
      "metadata": {
        "colab": {
          "base_uri": "https://localhost:8080/",
          "height": 319
        },
        "id": "sS5PPfdnOmig",
        "outputId": "f3a2c519-34d3-4441-d978-12ba0d32f56f"
      },
      "source": [
        "tweets.describe()"
      ],
      "execution_count": 18,
      "outputs": [
        {
          "output_type": "execute_result",
          "data": {
            "text/html": [
              "<div>\n",
              "<style scoped>\n",
              "    .dataframe tbody tr th:only-of-type {\n",
              "        vertical-align: middle;\n",
              "    }\n",
              "\n",
              "    .dataframe tbody tr th {\n",
              "        vertical-align: top;\n",
              "    }\n",
              "\n",
              "    .dataframe thead th {\n",
              "        text-align: right;\n",
              "    }\n",
              "</style>\n",
              "<table border=\"1\" class=\"dataframe\">\n",
              "  <thead>\n",
              "    <tr style=\"text-align: right;\">\n",
              "      <th></th>\n",
              "      <th>favourites_count</th>\n",
              "      <th>retweet_count</th>\n",
              "      <th>followers_count</th>\n",
              "      <th>friends_count</th>\n",
              "      <th>account_lang</th>\n",
              "    </tr>\n",
              "  </thead>\n",
              "  <tbody>\n",
              "    <tr>\n",
              "      <th>count</th>\n",
              "      <td>8.133785e+06</td>\n",
              "      <td>8.133785e+06</td>\n",
              "      <td>8.133785e+06</td>\n",
              "      <td>8.133785e+06</td>\n",
              "      <td>0.0</td>\n",
              "    </tr>\n",
              "    <tr>\n",
              "      <th>mean</th>\n",
              "      <td>1.295829e+04</td>\n",
              "      <td>3.366772e+00</td>\n",
              "      <td>6.422916e+04</td>\n",
              "      <td>2.328876e+03</td>\n",
              "      <td>NaN</td>\n",
              "    </tr>\n",
              "    <tr>\n",
              "      <th>std</th>\n",
              "      <td>3.914638e+04</td>\n",
              "      <td>7.012990e+01</td>\n",
              "      <td>6.230040e+05</td>\n",
              "      <td>1.231277e+04</td>\n",
              "      <td>NaN</td>\n",
              "    </tr>\n",
              "    <tr>\n",
              "      <th>min</th>\n",
              "      <td>0.000000e+00</td>\n",
              "      <td>0.000000e+00</td>\n",
              "      <td>0.000000e+00</td>\n",
              "      <td>0.000000e+00</td>\n",
              "      <td>NaN</td>\n",
              "    </tr>\n",
              "    <tr>\n",
              "      <th>25%</th>\n",
              "      <td>2.640000e+02</td>\n",
              "      <td>0.000000e+00</td>\n",
              "      <td>1.520000e+02</td>\n",
              "      <td>1.700000e+02</td>\n",
              "      <td>NaN</td>\n",
              "    </tr>\n",
              "    <tr>\n",
              "      <th>50%</th>\n",
              "      <td>1.843000e+03</td>\n",
              "      <td>0.000000e+00</td>\n",
              "      <td>8.460000e+02</td>\n",
              "      <td>5.750000e+02</td>\n",
              "      <td>NaN</td>\n",
              "    </tr>\n",
              "    <tr>\n",
              "      <th>75%</th>\n",
              "      <td>8.874000e+03</td>\n",
              "      <td>1.000000e+00</td>\n",
              "      <td>4.226000e+03</td>\n",
              "      <td>1.704000e+03</td>\n",
              "      <td>NaN</td>\n",
              "    </tr>\n",
              "    <tr>\n",
              "      <th>max</th>\n",
              "      <td>1.995152e+06</td>\n",
              "      <td>3.440700e+04</td>\n",
              "      <td>8.374142e+07</td>\n",
              "      <td>1.599416e+06</td>\n",
              "      <td>NaN</td>\n",
              "    </tr>\n",
              "  </tbody>\n",
              "</table>\n",
              "</div>"
            ],
            "text/plain": [
              "       favourites_count  retweet_count  ...  friends_count  account_lang\n",
              "count      8.133785e+06   8.133785e+06  ...   8.133785e+06           0.0\n",
              "mean       1.295829e+04   3.366772e+00  ...   2.328876e+03           NaN\n",
              "std        3.914638e+04   7.012990e+01  ...   1.231277e+04           NaN\n",
              "min        0.000000e+00   0.000000e+00  ...   0.000000e+00           NaN\n",
              "25%        2.640000e+02   0.000000e+00  ...   1.700000e+02           NaN\n",
              "50%        1.843000e+03   0.000000e+00  ...   5.750000e+02           NaN\n",
              "75%        8.874000e+03   1.000000e+00  ...   1.704000e+03           NaN\n",
              "max        1.995152e+06   3.440700e+04  ...   1.599416e+06           NaN\n",
              "\n",
              "[8 rows x 5 columns]"
            ]
          },
          "metadata": {},
          "execution_count": 18
        }
      ]
    },
    {
      "cell_type": "markdown",
      "metadata": {
        "id": "0bTfsbRUxf8L"
      },
      "source": [
        "Are there any duplicate columns or columns that are entirely missing?\n",
        "\n",
        "Let's first check if there are columns that contain redundant information."
      ]
    },
    {
      "cell_type": "code",
      "metadata": {
        "colab": {
          "base_uri": "https://localhost:8080/",
          "height": 218
        },
        "id": "e56yo-GYxSTu",
        "outputId": "b3b4732b-6d3d-4efd-b5d0-19fac3fd025c"
      },
      "source": [
        "tweets.head(2)"
      ],
      "execution_count": 19,
      "outputs": [
        {
          "output_type": "execute_result",
          "data": {
            "text/html": [
              "<div>\n",
              "<style scoped>\n",
              "    .dataframe tbody tr th:only-of-type {\n",
              "        vertical-align: middle;\n",
              "    }\n",
              "\n",
              "    .dataframe tbody tr th {\n",
              "        vertical-align: top;\n",
              "    }\n",
              "\n",
              "    .dataframe thead th {\n",
              "        text-align: right;\n",
              "    }\n",
              "</style>\n",
              "<table border=\"1\" class=\"dataframe\">\n",
              "  <thead>\n",
              "    <tr style=\"text-align: right;\">\n",
              "      <th></th>\n",
              "      <th>status_id</th>\n",
              "      <th>user_id</th>\n",
              "      <th>created_at</th>\n",
              "      <th>screen_name</th>\n",
              "      <th>text</th>\n",
              "      <th>source</th>\n",
              "      <th>reply_to_status_id</th>\n",
              "      <th>reply_to_user_id</th>\n",
              "      <th>reply_to_screen_name</th>\n",
              "      <th>is_quote</th>\n",
              "      <th>is_retweet</th>\n",
              "      <th>favourites_count</th>\n",
              "      <th>retweet_count</th>\n",
              "      <th>country_code</th>\n",
              "      <th>place_full_name</th>\n",
              "      <th>place_type</th>\n",
              "      <th>followers_count</th>\n",
              "      <th>friends_count</th>\n",
              "      <th>account_lang</th>\n",
              "      <th>account_created_at</th>\n",
              "      <th>verified</th>\n",
              "      <th>lang</th>\n",
              "    </tr>\n",
              "  </thead>\n",
              "  <tbody>\n",
              "    <tr>\n",
              "      <th>0</th>\n",
              "      <td>1244051645975191557</td>\n",
              "      <td>80943559</td>\n",
              "      <td>2020-03-29</td>\n",
              "      <td>rlieving</td>\n",
              "      <td>“People are just storing up. They are staying ...</td>\n",
              "      <td>TweetDeck</td>\n",
              "      <td>&lt;NA&gt;</td>\n",
              "      <td>&lt;NA&gt;</td>\n",
              "      <td>NaN</td>\n",
              "      <td>False</td>\n",
              "      <td>False</td>\n",
              "      <td>604</td>\n",
              "      <td>0</td>\n",
              "      <td>NaN</td>\n",
              "      <td>NaN</td>\n",
              "      <td>NaN</td>\n",
              "      <td>136</td>\n",
              "      <td>457</td>\n",
              "      <td>NaN</td>\n",
              "      <td>2009-10-08 21:06:08</td>\n",
              "      <td>False</td>\n",
              "      <td>en</td>\n",
              "    </tr>\n",
              "    <tr>\n",
              "      <th>1</th>\n",
              "      <td>1244051646935633921</td>\n",
              "      <td>27922157</td>\n",
              "      <td>2020-03-29</td>\n",
              "      <td>AmerMedicalAssn</td>\n",
              "      <td>.@PatriceHarrisMD spoke with @YahooFinance abo...</td>\n",
              "      <td>Sprinklr</td>\n",
              "      <td>&lt;NA&gt;</td>\n",
              "      <td>&lt;NA&gt;</td>\n",
              "      <td>NaN</td>\n",
              "      <td>False</td>\n",
              "      <td>False</td>\n",
              "      <td>2894</td>\n",
              "      <td>3</td>\n",
              "      <td>NaN</td>\n",
              "      <td>NaN</td>\n",
              "      <td>NaN</td>\n",
              "      <td>714952</td>\n",
              "      <td>6877</td>\n",
              "      <td>NaN</td>\n",
              "      <td>2009-03-31 17:50:31</td>\n",
              "      <td>True</td>\n",
              "      <td>en</td>\n",
              "    </tr>\n",
              "  </tbody>\n",
              "</table>\n",
              "</div>"
            ],
            "text/plain": [
              "             status_id   user_id created_at  ...  account_created_at verified lang\n",
              "0  1244051645975191557  80943559 2020-03-29  ... 2009-10-08 21:06:08    False   en\n",
              "1  1244051646935633921  27922157 2020-03-29  ... 2009-03-31 17:50:31     True   en\n",
              "\n",
              "[2 rows x 22 columns]"
            ]
          },
          "metadata": {},
          "execution_count": 19
        }
      ]
    },
    {
      "cell_type": "markdown",
      "metadata": {
        "id": "TIKfEGjwKXML"
      },
      "source": [
        "### Drop `reply_to_screen_name` "
      ]
    },
    {
      "cell_type": "markdown",
      "metadata": {
        "id": "XJEf4-WBP7FE"
      },
      "source": [
        "`reply_to_screen_name` is redundant becaues its information is also present in `reply_to_use_id`. The latter is more unique and informative than the screen names that users can arbitrarily set. Therefore, `reply_to_screen_name` will be dropped."
      ]
    },
    {
      "cell_type": "code",
      "metadata": {
        "id": "Yp2Z9gzGQNy1"
      },
      "source": [
        "tweets.drop('reply_to_screen_name', axis=1, inplace=True)"
      ],
      "execution_count": 20,
      "outputs": []
    },
    {
      "cell_type": "code",
      "metadata": {
        "colab": {
          "base_uri": "https://localhost:8080/",
          "height": 222
        },
        "id": "XlaIiIBkQY3M",
        "outputId": "fc58967d-1ddb-4683-be2c-4d50a8f8b34d"
      },
      "source": [
        "# check if 'reply_to_screen_name' has been dropped\n",
        "tweets.head(1)"
      ],
      "execution_count": 21,
      "outputs": [
        {
          "output_type": "execute_result",
          "data": {
            "text/html": [
              "<div>\n",
              "<style scoped>\n",
              "    .dataframe tbody tr th:only-of-type {\n",
              "        vertical-align: middle;\n",
              "    }\n",
              "\n",
              "    .dataframe tbody tr th {\n",
              "        vertical-align: top;\n",
              "    }\n",
              "\n",
              "    .dataframe thead th {\n",
              "        text-align: right;\n",
              "    }\n",
              "</style>\n",
              "<table border=\"1\" class=\"dataframe\">\n",
              "  <thead>\n",
              "    <tr style=\"text-align: right;\">\n",
              "      <th></th>\n",
              "      <th>status_id</th>\n",
              "      <th>user_id</th>\n",
              "      <th>created_at</th>\n",
              "      <th>screen_name</th>\n",
              "      <th>text</th>\n",
              "      <th>source</th>\n",
              "      <th>reply_to_status_id</th>\n",
              "      <th>reply_to_user_id</th>\n",
              "      <th>is_quote</th>\n",
              "      <th>is_retweet</th>\n",
              "      <th>favourites_count</th>\n",
              "      <th>retweet_count</th>\n",
              "      <th>country_code</th>\n",
              "      <th>place_full_name</th>\n",
              "      <th>place_type</th>\n",
              "      <th>followers_count</th>\n",
              "      <th>friends_count</th>\n",
              "      <th>account_lang</th>\n",
              "      <th>account_created_at</th>\n",
              "      <th>verified</th>\n",
              "      <th>lang</th>\n",
              "    </tr>\n",
              "  </thead>\n",
              "  <tbody>\n",
              "    <tr>\n",
              "      <th>0</th>\n",
              "      <td>1244051645975191557</td>\n",
              "      <td>80943559</td>\n",
              "      <td>2020-03-29</td>\n",
              "      <td>rlieving</td>\n",
              "      <td>“People are just storing up. They are staying ...</td>\n",
              "      <td>TweetDeck</td>\n",
              "      <td>&lt;NA&gt;</td>\n",
              "      <td>&lt;NA&gt;</td>\n",
              "      <td>False</td>\n",
              "      <td>False</td>\n",
              "      <td>604</td>\n",
              "      <td>0</td>\n",
              "      <td>NaN</td>\n",
              "      <td>NaN</td>\n",
              "      <td>NaN</td>\n",
              "      <td>136</td>\n",
              "      <td>457</td>\n",
              "      <td>NaN</td>\n",
              "      <td>2009-10-08 21:06:08</td>\n",
              "      <td>False</td>\n",
              "      <td>en</td>\n",
              "    </tr>\n",
              "  </tbody>\n",
              "</table>\n",
              "</div>"
            ],
            "text/plain": [
              "             status_id   user_id created_at  ...  account_created_at verified lang\n",
              "0  1244051645975191557  80943559 2020-03-29  ... 2009-10-08 21:06:08    False   en\n",
              "\n",
              "[1 rows x 21 columns]"
            ]
          },
          "metadata": {},
          "execution_count": 21
        }
      ]
    },
    {
      "cell_type": "markdown",
      "metadata": {
        "id": "bK7Uj2o6KhQv"
      },
      "source": [
        "## Check for Any Missing Values"
      ]
    },
    {
      "cell_type": "markdown",
      "metadata": {
        "id": "N7ow-dIW1MpG"
      },
      "source": [
        "Let's check if any of the columns are entirely consisted of missing values.\n",
        "\n"
      ]
    },
    {
      "cell_type": "code",
      "metadata": {
        "colab": {
          "base_uri": "https://localhost:8080/",
          "height": 777
        },
        "id": "StVEUuuNyBOk",
        "outputId": "54c7811e-cf2a-40c0-e950-19975f398e1e"
      },
      "source": [
        "# For each column, how many values are missing?\n",
        "display(tweets.isna().sum())\n",
        "# For each column, what percentage of values is missing?\n",
        "display(tweets.isna().mean()*100)"
      ],
      "execution_count": 22,
      "outputs": [
        {
          "output_type": "display_data",
          "data": {
            "text/plain": [
              "status_id                   0\n",
              "user_id                     0\n",
              "created_at                  0\n",
              "screen_name                 2\n",
              "text                        0\n",
              "source                     79\n",
              "reply_to_status_id          0\n",
              "reply_to_user_id            0\n",
              "is_quote                    0\n",
              "is_retweet                  0\n",
              "favourites_count            0\n",
              "retweet_count               0\n",
              "country_code          7754068\n",
              "place_full_name       7751976\n",
              "place_type            7751976\n",
              "followers_count             0\n",
              "friends_count               0\n",
              "account_lang          8133785\n",
              "account_created_at          0\n",
              "verified                    0\n",
              "lang                        0\n",
              "dtype: int64"
            ]
          },
          "metadata": {}
        },
        {
          "output_type": "display_data",
          "data": {
            "text/plain": [
              "status_id               0.000000\n",
              "user_id                 0.000000\n",
              "created_at              0.000000\n",
              "screen_name             0.000025\n",
              "text                    0.000000\n",
              "source                  0.000971\n",
              "reply_to_status_id      0.000000\n",
              "reply_to_user_id        0.000000\n",
              "is_quote                0.000000\n",
              "is_retweet              0.000000\n",
              "favourites_count        0.000000\n",
              "retweet_count           0.000000\n",
              "country_code           95.331608\n",
              "place_full_name        95.305888\n",
              "place_type             95.305888\n",
              "followers_count         0.000000\n",
              "friends_count           0.000000\n",
              "account_lang          100.000000\n",
              "account_created_at      0.000000\n",
              "verified                0.000000\n",
              "lang                    0.000000\n",
              "dtype: float64"
            ]
          },
          "metadata": {}
        }
      ]
    },
    {
      "cell_type": "markdown",
      "metadata": {
        "id": "YWmnTDHM1mbn"
      },
      "source": [
        "Two rows are missing `screen_name`. Let's take a look at them."
      ]
    },
    {
      "cell_type": "code",
      "metadata": {
        "colab": {
          "base_uri": "https://localhost:8080/",
          "height": 253
        },
        "id": "VpOJ15uI1rLX",
        "outputId": "b3c752ee-98e3-4a45-f917-4527159a793c"
      },
      "source": [
        "# pull the two rows that are missing screen_name\n",
        "tweets.loc[tweets['screen_name'].isna()]"
      ],
      "execution_count": 23,
      "outputs": [
        {
          "output_type": "execute_result",
          "data": {
            "text/html": [
              "<div>\n",
              "<style scoped>\n",
              "    .dataframe tbody tr th:only-of-type {\n",
              "        vertical-align: middle;\n",
              "    }\n",
              "\n",
              "    .dataframe tbody tr th {\n",
              "        vertical-align: top;\n",
              "    }\n",
              "\n",
              "    .dataframe thead th {\n",
              "        text-align: right;\n",
              "    }\n",
              "</style>\n",
              "<table border=\"1\" class=\"dataframe\">\n",
              "  <thead>\n",
              "    <tr style=\"text-align: right;\">\n",
              "      <th></th>\n",
              "      <th>status_id</th>\n",
              "      <th>user_id</th>\n",
              "      <th>created_at</th>\n",
              "      <th>screen_name</th>\n",
              "      <th>text</th>\n",
              "      <th>source</th>\n",
              "      <th>reply_to_status_id</th>\n",
              "      <th>reply_to_user_id</th>\n",
              "      <th>is_quote</th>\n",
              "      <th>is_retweet</th>\n",
              "      <th>favourites_count</th>\n",
              "      <th>retweet_count</th>\n",
              "      <th>country_code</th>\n",
              "      <th>place_full_name</th>\n",
              "      <th>place_type</th>\n",
              "      <th>followers_count</th>\n",
              "      <th>friends_count</th>\n",
              "      <th>account_lang</th>\n",
              "      <th>account_created_at</th>\n",
              "      <th>verified</th>\n",
              "      <th>lang</th>\n",
              "    </tr>\n",
              "  </thead>\n",
              "  <tbody>\n",
              "    <tr>\n",
              "      <th>2206515</th>\n",
              "      <td>1246540052727037959</td>\n",
              "      <td>14802766</td>\n",
              "      <td>2020-04-04 20:48:02</td>\n",
              "      <td>NaN</td>\n",
              "      <td>😡🗯️ @MarkGoulston recommends taking time with ...</td>\n",
              "      <td>Twitter for iPhone</td>\n",
              "      <td>&lt;NA&gt;</td>\n",
              "      <td>&lt;NA&gt;</td>\n",
              "      <td>False</td>\n",
              "      <td>False</td>\n",
              "      <td>4429</td>\n",
              "      <td>0</td>\n",
              "      <td>US</td>\n",
              "      <td>Castle Hills, TX</td>\n",
              "      <td>city</td>\n",
              "      <td>9148</td>\n",
              "      <td>5935</td>\n",
              "      <td>NaN</td>\n",
              "      <td>2008-05-16 19:09:49</td>\n",
              "      <td>True</td>\n",
              "      <td>en</td>\n",
              "    </tr>\n",
              "    <tr>\n",
              "      <th>3872470</th>\n",
              "      <td>1248759713849802753</td>\n",
              "      <td>14802766</td>\n",
              "      <td>2020-04-10 23:48:11</td>\n",
              "      <td>NaN</td>\n",
              "      <td>Webinars during #COVID19 be like... https://t....</td>\n",
              "      <td>Twitter for iPhone</td>\n",
              "      <td>&lt;NA&gt;</td>\n",
              "      <td>&lt;NA&gt;</td>\n",
              "      <td>False</td>\n",
              "      <td>False</td>\n",
              "      <td>4566</td>\n",
              "      <td>0</td>\n",
              "      <td>NaN</td>\n",
              "      <td>NaN</td>\n",
              "      <td>NaN</td>\n",
              "      <td>9144</td>\n",
              "      <td>5929</td>\n",
              "      <td>NaN</td>\n",
              "      <td>2008-05-16 19:09:49</td>\n",
              "      <td>True</td>\n",
              "      <td>en</td>\n",
              "    </tr>\n",
              "  </tbody>\n",
              "</table>\n",
              "</div>"
            ],
            "text/plain": [
              "                   status_id   user_id  ... verified lang\n",
              "2206515  1246540052727037959  14802766  ...     True   en\n",
              "3872470  1248759713849802753  14802766  ...     True   en\n",
              "\n",
              "[2 rows x 21 columns]"
            ]
          },
          "metadata": {},
          "execution_count": 23
        }
      ]
    },
    {
      "cell_type": "markdown",
      "metadata": {
        "id": "sqNk6bKYFy3v"
      },
      "source": [
        "The two rows are from one user whose `user_id` is 14802766. Let's see if we can find this user's `screen_name` in other rows."
      ]
    },
    {
      "cell_type": "code",
      "metadata": {
        "colab": {
          "base_uri": "https://localhost:8080/",
          "height": 253
        },
        "id": "HpvfZ0FZGDic",
        "outputId": "263a4a10-b875-41df-8600-7ba4700fd764"
      },
      "source": [
        "# Get all the rows where user_id == 14802766\n",
        "tweets.loc[tweets['user_id']=='14802766']"
      ],
      "execution_count": 24,
      "outputs": [
        {
          "output_type": "execute_result",
          "data": {
            "text/html": [
              "<div>\n",
              "<style scoped>\n",
              "    .dataframe tbody tr th:only-of-type {\n",
              "        vertical-align: middle;\n",
              "    }\n",
              "\n",
              "    .dataframe tbody tr th {\n",
              "        vertical-align: top;\n",
              "    }\n",
              "\n",
              "    .dataframe thead th {\n",
              "        text-align: right;\n",
              "    }\n",
              "</style>\n",
              "<table border=\"1\" class=\"dataframe\">\n",
              "  <thead>\n",
              "    <tr style=\"text-align: right;\">\n",
              "      <th></th>\n",
              "      <th>status_id</th>\n",
              "      <th>user_id</th>\n",
              "      <th>created_at</th>\n",
              "      <th>screen_name</th>\n",
              "      <th>text</th>\n",
              "      <th>source</th>\n",
              "      <th>reply_to_status_id</th>\n",
              "      <th>reply_to_user_id</th>\n",
              "      <th>is_quote</th>\n",
              "      <th>is_retweet</th>\n",
              "      <th>favourites_count</th>\n",
              "      <th>retweet_count</th>\n",
              "      <th>country_code</th>\n",
              "      <th>place_full_name</th>\n",
              "      <th>place_type</th>\n",
              "      <th>followers_count</th>\n",
              "      <th>friends_count</th>\n",
              "      <th>account_lang</th>\n",
              "      <th>account_created_at</th>\n",
              "      <th>verified</th>\n",
              "      <th>lang</th>\n",
              "    </tr>\n",
              "  </thead>\n",
              "  <tbody>\n",
              "    <tr>\n",
              "      <th>2206515</th>\n",
              "      <td>1246540052727037959</td>\n",
              "      <td>14802766</td>\n",
              "      <td>2020-04-04 20:48:02</td>\n",
              "      <td>NaN</td>\n",
              "      <td>😡🗯️ @MarkGoulston recommends taking time with ...</td>\n",
              "      <td>Twitter for iPhone</td>\n",
              "      <td>&lt;NA&gt;</td>\n",
              "      <td>&lt;NA&gt;</td>\n",
              "      <td>False</td>\n",
              "      <td>False</td>\n",
              "      <td>4429</td>\n",
              "      <td>0</td>\n",
              "      <td>US</td>\n",
              "      <td>Castle Hills, TX</td>\n",
              "      <td>city</td>\n",
              "      <td>9148</td>\n",
              "      <td>5935</td>\n",
              "      <td>NaN</td>\n",
              "      <td>2008-05-16 19:09:49</td>\n",
              "      <td>True</td>\n",
              "      <td>en</td>\n",
              "    </tr>\n",
              "    <tr>\n",
              "      <th>3872470</th>\n",
              "      <td>1248759713849802753</td>\n",
              "      <td>14802766</td>\n",
              "      <td>2020-04-10 23:48:11</td>\n",
              "      <td>NaN</td>\n",
              "      <td>Webinars during #COVID19 be like... https://t....</td>\n",
              "      <td>Twitter for iPhone</td>\n",
              "      <td>&lt;NA&gt;</td>\n",
              "      <td>&lt;NA&gt;</td>\n",
              "      <td>False</td>\n",
              "      <td>False</td>\n",
              "      <td>4566</td>\n",
              "      <td>0</td>\n",
              "      <td>NaN</td>\n",
              "      <td>NaN</td>\n",
              "      <td>NaN</td>\n",
              "      <td>9144</td>\n",
              "      <td>5929</td>\n",
              "      <td>NaN</td>\n",
              "      <td>2008-05-16 19:09:49</td>\n",
              "      <td>True</td>\n",
              "      <td>en</td>\n",
              "    </tr>\n",
              "  </tbody>\n",
              "</table>\n",
              "</div>"
            ],
            "text/plain": [
              "                   status_id   user_id  ... verified lang\n",
              "2206515  1246540052727037959  14802766  ...     True   en\n",
              "3872470  1248759713849802753  14802766  ...     True   en\n",
              "\n",
              "[2 rows x 21 columns]"
            ]
          },
          "metadata": {},
          "execution_count": 24
        }
      ]
    },
    {
      "cell_type": "markdown",
      "metadata": {
        "id": "vK4zPamcGN8z"
      },
      "source": [
        "Unfortunately, there are no other rows with that `user_id` from which we could pull the `screen_name`. We wil drop these two rows as they make up a very small portion of the dataset (0.000025%). "
      ]
    },
    {
      "cell_type": "code",
      "metadata": {
        "id": "R_kNZLx1Gf5d"
      },
      "source": [
        "# get the indices of the rows that are missing screen_name\n",
        "missing_screen_name_index = tweets.loc[tweets['screen_name'].isna()].index\n",
        "# drop those rows\n",
        "tweets.drop(missing_screen_name_index, axis=0, inplace=True)"
      ],
      "execution_count": 25,
      "outputs": []
    },
    {
      "cell_type": "code",
      "metadata": {
        "colab": {
          "base_uri": "https://localhost:8080/"
        },
        "id": "v0c1zGZgG7yK",
        "outputId": "d89b44b3-6b16-42fd-dab4-d2f604d9589c"
      },
      "source": [
        "# check\n",
        "print(tweets['screen_name'].isna().any())\n",
        "# check shape\n",
        "tweets.shape\n"
      ],
      "execution_count": 26,
      "outputs": [
        {
          "output_type": "stream",
          "name": "stdout",
          "text": [
            "False\n"
          ]
        },
        {
          "output_type": "execute_result",
          "data": {
            "text/plain": [
              "(8133783, 21)"
            ]
          },
          "metadata": {},
          "execution_count": 26
        }
      ]
    },
    {
      "cell_type": "markdown",
      "metadata": {
        "id": "g4_wn4UAHP-N"
      },
      "source": [
        "We see that the number of rows has decreased by 2 and that there are no missing values in `screen_name` column anymore."
      ]
    },
    {
      "cell_type": "markdown",
      "metadata": {
        "id": "Bz6hP2jsyg0r"
      },
      "source": [
        "`account_lang` is 100% consisted of NaNs. We can drop this column."
      ]
    },
    {
      "cell_type": "code",
      "metadata": {
        "id": "fq4lJNuLymZx"
      },
      "source": [
        "tweets.drop('account_lang', axis=1, inplace=True)"
      ],
      "execution_count": 27,
      "outputs": []
    },
    {
      "cell_type": "code",
      "metadata": {
        "id": "Iwt6JMioyvMr"
      },
      "source": [
        "# check if it has been dropped\n",
        "# tweets.head(3)"
      ],
      "execution_count": 28,
      "outputs": []
    },
    {
      "cell_type": "markdown",
      "metadata": {
        "id": "riyIShENy4Ei"
      },
      "source": [
        "`account_lang` has been dropped."
      ]
    },
    {
      "cell_type": "markdown",
      "metadata": {
        "id": "JE6wudWi9nc7"
      },
      "source": [
        "There are 83 rows that are missing `source` values (i.e., which platform they used to create the tweet - iPhone, desktop, etc.) They only consist 0.0006% of the dataset. We will drop those rows."
      ]
    },
    {
      "cell_type": "code",
      "metadata": {
        "id": "R49mlF7G9qSp"
      },
      "source": [
        "# pull the rows missing sources\n",
        "# display(tweets.loc[tweets['source'].isna()].head(3))\n",
        "\n",
        "# get the indices of those rows\n",
        "source_missing_index = tweets.loc[tweets['source'].isna()].index\n",
        "# source_missing_index"
      ],
      "execution_count": 29,
      "outputs": []
    },
    {
      "cell_type": "code",
      "metadata": {
        "id": "yZ13n6LYAw4v"
      },
      "source": [
        "tweets.drop(labels=source_missing_index, axis=0, inplace=True)"
      ],
      "execution_count": 30,
      "outputs": []
    },
    {
      "cell_type": "code",
      "metadata": {
        "colab": {
          "base_uri": "https://localhost:8080/"
        },
        "id": "S2cx7UUgOPJL",
        "outputId": "f0bdb508-7f5a-4a5e-985c-98b8d4b5f680"
      },
      "source": [
        "# check all missing rows in 'source' column have been dropped\n",
        "tweets['source'].isna().sum()"
      ],
      "execution_count": 31,
      "outputs": [
        {
          "output_type": "execute_result",
          "data": {
            "text/plain": [
              "0"
            ]
          },
          "metadata": {},
          "execution_count": 31
        }
      ]
    },
    {
      "cell_type": "markdown",
      "metadata": {
        "id": "VE7CK7dNOdxB"
      },
      "source": [
        "All 83 missing rows have been dropped."
      ]
    },
    {
      "cell_type": "markdown",
      "metadata": {
        "id": "k9SWuiNQYR0M"
      },
      "source": [
        "### Impute `country_code`, `place_type`, `place_full_name`"
      ]
    },
    {
      "cell_type": "markdown",
      "metadata": {
        "id": "-1m-mTsdYj1Q"
      },
      "source": [
        "`country_code`, `place_type`, `place_full_name` are all location-related columns. Their values are recorded as NaNs when the user did not use the geo-tagging feature at the time of creating their tweet. \n",
        "\n",
        "We will replace NaNs with \"NA\" with corresponding prefixes for each column (ex. \"country_code NA\", \"place_type NA\", \"place_full_name NA\")."
      ]
    },
    {
      "cell_type": "code",
      "metadata": {
        "colab": {
          "base_uri": "https://localhost:8080/",
          "height": 839
        },
        "id": "u66i6qz0Yi32",
        "outputId": "eaee94a0-8c32-4e0b-c5fc-6f4379746aec"
      },
      "source": [
        "missing_country_code_index = tweets.loc[tweets['country_code'].isna()].index\n",
        "tweets.loc[missing_country_code_index]"
      ],
      "execution_count": 32,
      "outputs": [
        {
          "output_type": "execute_result",
          "data": {
            "text/html": [
              "<div>\n",
              "<style scoped>\n",
              "    .dataframe tbody tr th:only-of-type {\n",
              "        vertical-align: middle;\n",
              "    }\n",
              "\n",
              "    .dataframe tbody tr th {\n",
              "        vertical-align: top;\n",
              "    }\n",
              "\n",
              "    .dataframe thead th {\n",
              "        text-align: right;\n",
              "    }\n",
              "</style>\n",
              "<table border=\"1\" class=\"dataframe\">\n",
              "  <thead>\n",
              "    <tr style=\"text-align: right;\">\n",
              "      <th></th>\n",
              "      <th>status_id</th>\n",
              "      <th>user_id</th>\n",
              "      <th>created_at</th>\n",
              "      <th>screen_name</th>\n",
              "      <th>text</th>\n",
              "      <th>source</th>\n",
              "      <th>reply_to_status_id</th>\n",
              "      <th>reply_to_user_id</th>\n",
              "      <th>is_quote</th>\n",
              "      <th>is_retweet</th>\n",
              "      <th>favourites_count</th>\n",
              "      <th>retweet_count</th>\n",
              "      <th>country_code</th>\n",
              "      <th>place_full_name</th>\n",
              "      <th>place_type</th>\n",
              "      <th>followers_count</th>\n",
              "      <th>friends_count</th>\n",
              "      <th>account_created_at</th>\n",
              "      <th>verified</th>\n",
              "      <th>lang</th>\n",
              "    </tr>\n",
              "  </thead>\n",
              "  <tbody>\n",
              "    <tr>\n",
              "      <th>0</th>\n",
              "      <td>1244051645975191557</td>\n",
              "      <td>80943559</td>\n",
              "      <td>2020-03-29 00:00:00</td>\n",
              "      <td>rlieving</td>\n",
              "      <td>“People are just storing up. They are staying ...</td>\n",
              "      <td>TweetDeck</td>\n",
              "      <td>&lt;NA&gt;</td>\n",
              "      <td>&lt;NA&gt;</td>\n",
              "      <td>False</td>\n",
              "      <td>False</td>\n",
              "      <td>604</td>\n",
              "      <td>0</td>\n",
              "      <td>NaN</td>\n",
              "      <td>NaN</td>\n",
              "      <td>NaN</td>\n",
              "      <td>136</td>\n",
              "      <td>457</td>\n",
              "      <td>2009-10-08 21:06:08</td>\n",
              "      <td>False</td>\n",
              "      <td>en</td>\n",
              "    </tr>\n",
              "    <tr>\n",
              "      <th>1</th>\n",
              "      <td>1244051646935633921</td>\n",
              "      <td>27922157</td>\n",
              "      <td>2020-03-29 00:00:00</td>\n",
              "      <td>AmerMedicalAssn</td>\n",
              "      <td>.@PatriceHarrisMD spoke with @YahooFinance abo...</td>\n",
              "      <td>Sprinklr</td>\n",
              "      <td>&lt;NA&gt;</td>\n",
              "      <td>&lt;NA&gt;</td>\n",
              "      <td>False</td>\n",
              "      <td>False</td>\n",
              "      <td>2894</td>\n",
              "      <td>3</td>\n",
              "      <td>NaN</td>\n",
              "      <td>NaN</td>\n",
              "      <td>NaN</td>\n",
              "      <td>714952</td>\n",
              "      <td>6877</td>\n",
              "      <td>2009-03-31 17:50:31</td>\n",
              "      <td>True</td>\n",
              "      <td>en</td>\n",
              "    </tr>\n",
              "    <tr>\n",
              "      <th>2</th>\n",
              "      <td>1244051645971025920</td>\n",
              "      <td>1115874631</td>\n",
              "      <td>2020-03-29 00:00:00</td>\n",
              "      <td>CGTNOfficial</td>\n",
              "      <td>First medical team aiding #Wuhan in fight agai...</td>\n",
              "      <td>Twitter Media Studio</td>\n",
              "      <td>&lt;NA&gt;</td>\n",
              "      <td>&lt;NA&gt;</td>\n",
              "      <td>False</td>\n",
              "      <td>False</td>\n",
              "      <td>65</td>\n",
              "      <td>18</td>\n",
              "      <td>NaN</td>\n",
              "      <td>NaN</td>\n",
              "      <td>NaN</td>\n",
              "      <td>14040072</td>\n",
              "      <td>55</td>\n",
              "      <td>2013-01-24 03:18:59</td>\n",
              "      <td>True</td>\n",
              "      <td>en</td>\n",
              "    </tr>\n",
              "    <tr>\n",
              "      <th>3</th>\n",
              "      <td>1244051647149543426</td>\n",
              "      <td>108845320</td>\n",
              "      <td>2020-03-29 00:00:00</td>\n",
              "      <td>OnTopMag</td>\n",
              "      <td>.@KathyGriffin: @realDonaldTrump Is 'Lying' Ab...</td>\n",
              "      <td>Twitter for Advertisers</td>\n",
              "      <td>&lt;NA&gt;</td>\n",
              "      <td>&lt;NA&gt;</td>\n",
              "      <td>False</td>\n",
              "      <td>False</td>\n",
              "      <td>2658</td>\n",
              "      <td>1</td>\n",
              "      <td>NaN</td>\n",
              "      <td>NaN</td>\n",
              "      <td>NaN</td>\n",
              "      <td>5042</td>\n",
              "      <td>5389</td>\n",
              "      <td>2010-01-27 05:23:15</td>\n",
              "      <td>False</td>\n",
              "      <td>en</td>\n",
              "    </tr>\n",
              "    <tr>\n",
              "      <th>4</th>\n",
              "      <td>1244051645102579712</td>\n",
              "      <td>17673635</td>\n",
              "      <td>2020-03-29 00:00:00</td>\n",
              "      <td>livemint</td>\n",
              "      <td>#CoronaUpdate | Johns Hopkins University has s...</td>\n",
              "      <td>TweetDeck</td>\n",
              "      <td>&lt;NA&gt;</td>\n",
              "      <td>&lt;NA&gt;</td>\n",
              "      <td>False</td>\n",
              "      <td>False</td>\n",
              "      <td>474</td>\n",
              "      <td>2</td>\n",
              "      <td>NaN</td>\n",
              "      <td>NaN</td>\n",
              "      <td>NaN</td>\n",
              "      <td>1862858</td>\n",
              "      <td>127</td>\n",
              "      <td>2008-11-27 09:07:38</td>\n",
              "      <td>True</td>\n",
              "      <td>en</td>\n",
              "    </tr>\n",
              "    <tr>\n",
              "      <th>...</th>\n",
              "      <td>...</td>\n",
              "      <td>...</td>\n",
              "      <td>...</td>\n",
              "      <td>...</td>\n",
              "      <td>...</td>\n",
              "      <td>...</td>\n",
              "      <td>...</td>\n",
              "      <td>...</td>\n",
              "      <td>...</td>\n",
              "      <td>...</td>\n",
              "      <td>...</td>\n",
              "      <td>...</td>\n",
              "      <td>...</td>\n",
              "      <td>...</td>\n",
              "      <td>...</td>\n",
              "      <td>...</td>\n",
              "      <td>...</td>\n",
              "      <td>...</td>\n",
              "      <td>...</td>\n",
              "      <td>...</td>\n",
              "    </tr>\n",
              "    <tr>\n",
              "      <th>8133779</th>\n",
              "      <td>1256010438980128771</td>\n",
              "      <td>37621128</td>\n",
              "      <td>2020-04-30 23:59:58</td>\n",
              "      <td>willhel</td>\n",
              "      <td>Why are you all so late to the @BorisJohnson i...</td>\n",
              "      <td>Twitter for Android</td>\n",
              "      <td>&lt;NA&gt;</td>\n",
              "      <td>&lt;NA&gt;</td>\n",
              "      <td>True</td>\n",
              "      <td>False</td>\n",
              "      <td>15532</td>\n",
              "      <td>0</td>\n",
              "      <td>NaN</td>\n",
              "      <td>NaN</td>\n",
              "      <td>NaN</td>\n",
              "      <td>3029</td>\n",
              "      <td>3327</td>\n",
              "      <td>2009-05-04 08:18:39</td>\n",
              "      <td>False</td>\n",
              "      <td>en</td>\n",
              "    </tr>\n",
              "    <tr>\n",
              "      <th>8133780</th>\n",
              "      <td>1256010435641462784</td>\n",
              "      <td>7117302</td>\n",
              "      <td>2020-04-30 23:59:58</td>\n",
              "      <td>ozsultan</td>\n",
              "      <td>Dear @NYCMayor,\\n\\nThe city has Millions to sp...</td>\n",
              "      <td>Twitter for iPhone</td>\n",
              "      <td>&lt;NA&gt;</td>\n",
              "      <td>&lt;NA&gt;</td>\n",
              "      <td>False</td>\n",
              "      <td>False</td>\n",
              "      <td>18897</td>\n",
              "      <td>0</td>\n",
              "      <td>NaN</td>\n",
              "      <td>NaN</td>\n",
              "      <td>NaN</td>\n",
              "      <td>8723</td>\n",
              "      <td>7747</td>\n",
              "      <td>2007-06-27 20:09:29</td>\n",
              "      <td>False</td>\n",
              "      <td>en</td>\n",
              "    </tr>\n",
              "    <tr>\n",
              "      <th>8133781</th>\n",
              "      <td>1256010442876608512</td>\n",
              "      <td>912319950559354880</td>\n",
              "      <td>2020-04-30 23:59:59</td>\n",
              "      <td>DriveLockGlobal</td>\n",
              "      <td>In the middle of the #COVID19 sales surge in M...</td>\n",
              "      <td>HubSpot</td>\n",
              "      <td>&lt;NA&gt;</td>\n",
              "      <td>&lt;NA&gt;</td>\n",
              "      <td>False</td>\n",
              "      <td>False</td>\n",
              "      <td>84</td>\n",
              "      <td>0</td>\n",
              "      <td>NaN</td>\n",
              "      <td>NaN</td>\n",
              "      <td>NaN</td>\n",
              "      <td>365</td>\n",
              "      <td>1333</td>\n",
              "      <td>2017-09-25 14:16:41</td>\n",
              "      <td>False</td>\n",
              "      <td>en</td>\n",
              "    </tr>\n",
              "    <tr>\n",
              "      <th>8133782</th>\n",
              "      <td>1256010442696245253</td>\n",
              "      <td>18198832</td>\n",
              "      <td>2020-04-30 23:59:59</td>\n",
              "      <td>TheScientistLLC</td>\n",
              "      <td>While the lockdown for #COVID19 continues on, ...</td>\n",
              "      <td>HubSpot</td>\n",
              "      <td>&lt;NA&gt;</td>\n",
              "      <td>&lt;NA&gt;</td>\n",
              "      <td>False</td>\n",
              "      <td>False</td>\n",
              "      <td>978</td>\n",
              "      <td>1</td>\n",
              "      <td>NaN</td>\n",
              "      <td>NaN</td>\n",
              "      <td>NaN</td>\n",
              "      <td>66844</td>\n",
              "      <td>383</td>\n",
              "      <td>2008-12-17 20:32:46</td>\n",
              "      <td>True</td>\n",
              "      <td>en</td>\n",
              "    </tr>\n",
              "    <tr>\n",
              "      <th>8133783</th>\n",
              "      <td>1256010440154513408</td>\n",
              "      <td>937899468585828352</td>\n",
              "      <td>2020-04-30 23:59:59</td>\n",
              "      <td>portarican_RT</td>\n",
              "      <td>Best answer. #COVID19 #WeMournThemAll https://...</td>\n",
              "      <td>Twitter Web App</td>\n",
              "      <td>&lt;NA&gt;</td>\n",
              "      <td>&lt;NA&gt;</td>\n",
              "      <td>True</td>\n",
              "      <td>False</td>\n",
              "      <td>44903</td>\n",
              "      <td>0</td>\n",
              "      <td>NaN</td>\n",
              "      <td>NaN</td>\n",
              "      <td>NaN</td>\n",
              "      <td>5503</td>\n",
              "      <td>5909</td>\n",
              "      <td>2017-12-05 04:20:33</td>\n",
              "      <td>False</td>\n",
              "      <td>en</td>\n",
              "    </tr>\n",
              "  </tbody>\n",
              "</table>\n",
              "<p>7753988 rows × 20 columns</p>\n",
              "</div>"
            ],
            "text/plain": [
              "                   status_id             user_id  ... verified lang\n",
              "0        1244051645975191557            80943559  ...    False   en\n",
              "1        1244051646935633921            27922157  ...     True   en\n",
              "2        1244051645971025920          1115874631  ...     True   en\n",
              "3        1244051647149543426           108845320  ...    False   en\n",
              "4        1244051645102579712            17673635  ...     True   en\n",
              "...                      ...                 ...  ...      ...  ...\n",
              "8133779  1256010438980128771            37621128  ...    False   en\n",
              "8133780  1256010435641462784             7117302  ...    False   en\n",
              "8133781  1256010442876608512  912319950559354880  ...    False   en\n",
              "8133782  1256010442696245253            18198832  ...     True   en\n",
              "8133783  1256010440154513408  937899468585828352  ...    False   en\n",
              "\n",
              "[7753988 rows x 20 columns]"
            ]
          },
          "metadata": {},
          "execution_count": 32
        }
      ]
    },
    {
      "cell_type": "code",
      "metadata": {
        "colab": {
          "base_uri": "https://localhost:8080/"
        },
        "id": "wIB28bOdlC8i",
        "outputId": "6151ae8a-4c79-4593-b246-79ab4021827e"
      },
      "source": [
        "# impute missing country_code values with 'country_code NA'\n",
        "tweets['country_code'] = tweets['country_code'].fillna('country_code NA')\n",
        "# check\n",
        "tweets['country_code']"
      ],
      "execution_count": 33,
      "outputs": [
        {
          "output_type": "execute_result",
          "data": {
            "text/plain": [
              "0          country_code NA\n",
              "1          country_code NA\n",
              "2          country_code NA\n",
              "3          country_code NA\n",
              "4          country_code NA\n",
              "                ...       \n",
              "8133780    country_code NA\n",
              "8133781    country_code NA\n",
              "8133782    country_code NA\n",
              "8133783    country_code NA\n",
              "8133784                 US\n",
              "Name: country_code, Length: 8133704, dtype: object"
            ]
          },
          "metadata": {},
          "execution_count": 33
        }
      ]
    },
    {
      "cell_type": "markdown",
      "metadata": {
        "id": "N6zhZgcKmxRc"
      },
      "source": [
        "The NaNs in `country_code` have been replaced with 'country_code NA'. Let's do the same for `place_type` and `place_full_name`."
      ]
    },
    {
      "cell_type": "code",
      "metadata": {
        "id": "zcef5JW0m5WH"
      },
      "source": [
        "# impute missing values in place_type and place_full_name columns\n",
        "tweets['place_type'] = tweets['place_type'].fillna('place_type NA')\n",
        "tweets['place_full_name'] = tweets['place_full_name'].fillna('place_full_name NA')"
      ],
      "execution_count": 34,
      "outputs": []
    },
    {
      "cell_type": "code",
      "metadata": {
        "colab": {
          "base_uri": "https://localhost:8080/",
          "height": 422
        },
        "id": "knRCHsjnnSbX",
        "outputId": "f548bce8-e2df-4e0f-b0c6-96b13a5b29d6"
      },
      "source": [
        "# check\n",
        "tweets[['place_type', 'place_full_name']]"
      ],
      "execution_count": 35,
      "outputs": [
        {
          "output_type": "execute_result",
          "data": {
            "text/html": [
              "<div>\n",
              "<style scoped>\n",
              "    .dataframe tbody tr th:only-of-type {\n",
              "        vertical-align: middle;\n",
              "    }\n",
              "\n",
              "    .dataframe tbody tr th {\n",
              "        vertical-align: top;\n",
              "    }\n",
              "\n",
              "    .dataframe thead th {\n",
              "        text-align: right;\n",
              "    }\n",
              "</style>\n",
              "<table border=\"1\" class=\"dataframe\">\n",
              "  <thead>\n",
              "    <tr style=\"text-align: right;\">\n",
              "      <th></th>\n",
              "      <th>place_type</th>\n",
              "      <th>place_full_name</th>\n",
              "    </tr>\n",
              "  </thead>\n",
              "  <tbody>\n",
              "    <tr>\n",
              "      <th>0</th>\n",
              "      <td>place_type NA</td>\n",
              "      <td>place_full_name NA</td>\n",
              "    </tr>\n",
              "    <tr>\n",
              "      <th>1</th>\n",
              "      <td>place_type NA</td>\n",
              "      <td>place_full_name NA</td>\n",
              "    </tr>\n",
              "    <tr>\n",
              "      <th>2</th>\n",
              "      <td>place_type NA</td>\n",
              "      <td>place_full_name NA</td>\n",
              "    </tr>\n",
              "    <tr>\n",
              "      <th>3</th>\n",
              "      <td>place_type NA</td>\n",
              "      <td>place_full_name NA</td>\n",
              "    </tr>\n",
              "    <tr>\n",
              "      <th>4</th>\n",
              "      <td>place_type NA</td>\n",
              "      <td>place_full_name NA</td>\n",
              "    </tr>\n",
              "    <tr>\n",
              "      <th>...</th>\n",
              "      <td>...</td>\n",
              "      <td>...</td>\n",
              "    </tr>\n",
              "    <tr>\n",
              "      <th>8133780</th>\n",
              "      <td>place_type NA</td>\n",
              "      <td>place_full_name NA</td>\n",
              "    </tr>\n",
              "    <tr>\n",
              "      <th>8133781</th>\n",
              "      <td>place_type NA</td>\n",
              "      <td>place_full_name NA</td>\n",
              "    </tr>\n",
              "    <tr>\n",
              "      <th>8133782</th>\n",
              "      <td>place_type NA</td>\n",
              "      <td>place_full_name NA</td>\n",
              "    </tr>\n",
              "    <tr>\n",
              "      <th>8133783</th>\n",
              "      <td>place_type NA</td>\n",
              "      <td>place_full_name NA</td>\n",
              "    </tr>\n",
              "    <tr>\n",
              "      <th>8133784</th>\n",
              "      <td>city</td>\n",
              "      <td>Weymouth, MA</td>\n",
              "    </tr>\n",
              "  </tbody>\n",
              "</table>\n",
              "<p>8133704 rows × 2 columns</p>\n",
              "</div>"
            ],
            "text/plain": [
              "            place_type     place_full_name\n",
              "0        place_type NA  place_full_name NA\n",
              "1        place_type NA  place_full_name NA\n",
              "2        place_type NA  place_full_name NA\n",
              "3        place_type NA  place_full_name NA\n",
              "4        place_type NA  place_full_name NA\n",
              "...                ...                 ...\n",
              "8133780  place_type NA  place_full_name NA\n",
              "8133781  place_type NA  place_full_name NA\n",
              "8133782  place_type NA  place_full_name NA\n",
              "8133783  place_type NA  place_full_name NA\n",
              "8133784           city        Weymouth, MA\n",
              "\n",
              "[8133704 rows x 2 columns]"
            ]
          },
          "metadata": {},
          "execution_count": 35
        }
      ]
    },
    {
      "cell_type": "markdown",
      "metadata": {
        "id": "ywQS-rWyne-z"
      },
      "source": [
        "### Visualize `place_type`, `place_full_name`, and `country_code`"
      ]
    },
    {
      "cell_type": "code",
      "metadata": {
        "colab": {
          "base_uri": "https://localhost:8080/",
          "height": 1000
        },
        "id": "i6dsE0rinj6M",
        "outputId": "35c2a985-9c72-438e-e015-bd8a41b80a60"
      },
      "source": [
        "unique_place_type_counts = tweets['place_type'].value_counts()\n",
        "# calculate the percentages tweet counts by place_type\n",
        "unique_place_type_pct = round(tweets['place_type'].value_counts()/tweets.shape[0]*100, 3)\n",
        "\n",
        "\n",
        "# Plot the raw counts\n",
        "fig = go.Figure(data=[go.Bar(\n",
        "                            x=unique_place_type_counts.index,\n",
        "                             y= unique_place_type_counts,\n",
        "                             text=unique_place_type_counts,\n",
        "                             textposition='auto'\n",
        ")])\n",
        "fig.update_layout(\n",
        "    title='Distribution of Place Types of COVID-19 Tweets made in April 2020',\n",
        "    xaxis_title='Place Type',\n",
        "    yaxis_title='Tweet Count (millions)',\n",
        "    width=800, height=600\n",
        ")\n",
        "fig.show()\n",
        "\n",
        "# Plot the percentages\n",
        "fig = go.Figure(data=[go.Bar(\n",
        "                            x=unique_place_type_pct.index,\n",
        "                             y= unique_place_type_pct,\n",
        "                             text=unique_place_type_pct,\n",
        "                             textposition='auto'\n",
        ")])\n",
        "fig.update_layout(\n",
        "    title='Proportions of Place Types of COVID-19 Tweets made in April 2020',\n",
        "    xaxis_title='Place Type',\n",
        "    yaxis_title='Tweet Percentage (%)',\n",
        "    width=800, height=600\n",
        ")\n",
        "fig.show()"
      ],
      "execution_count": 36,
      "outputs": [
        {
          "output_type": "display_data",
          "data": {
            "text/html": [
              "<html>\n",
              "<head><meta charset=\"utf-8\" /></head>\n",
              "<body>\n",
              "    <div>\n",
              "            <script src=\"https://cdnjs.cloudflare.com/ajax/libs/mathjax/2.7.5/MathJax.js?config=TeX-AMS-MML_SVG\"></script><script type=\"text/javascript\">if (window.MathJax) {MathJax.Hub.Config({SVG: {font: \"STIX-Web\"}});}</script>\n",
              "                <script type=\"text/javascript\">window.PlotlyConfig = {MathJaxConfig: 'local'};</script>\n",
              "        <script src=\"https://cdn.plot.ly/plotly-latest.min.js\"></script>    \n",
              "            <div id=\"2ecd085e-09df-4792-83e2-474d80f37778\" class=\"plotly-graph-div\" style=\"height:600px; width:800px;\"></div>\n",
              "            <script type=\"text/javascript\">\n",
              "                \n",
              "                    window.PLOTLYENV=window.PLOTLYENV || {};\n",
              "                    \n",
              "                if (document.getElementById(\"2ecd085e-09df-4792-83e2-474d80f37778\")) {\n",
              "                    Plotly.newPlot(\n",
              "                        '2ecd085e-09df-4792-83e2-474d80f37778',\n",
              "                        [{\"text\": [7751896.0, 305393.0, 47722.0, 14532.0, 12810.0, 1351.0], \"textposition\": \"auto\", \"type\": \"bar\", \"x\": [\"place_type NA\", \"city\", \"admin\", \"country\", \"poi\", \"neighborhood\"], \"y\": [7751896, 305393, 47722, 14532, 12810, 1351]}],\n",
              "                        {\"height\": 600, \"template\": {\"data\": {\"bar\": [{\"error_x\": {\"color\": \"#2a3f5f\"}, \"error_y\": {\"color\": \"#2a3f5f\"}, \"marker\": {\"line\": {\"color\": \"#E5ECF6\", \"width\": 0.5}}, \"type\": \"bar\"}], \"barpolar\": [{\"marker\": {\"line\": {\"color\": \"#E5ECF6\", \"width\": 0.5}}, \"type\": \"barpolar\"}], \"carpet\": [{\"aaxis\": {\"endlinecolor\": \"#2a3f5f\", \"gridcolor\": \"white\", \"linecolor\": \"white\", \"minorgridcolor\": \"white\", \"startlinecolor\": \"#2a3f5f\"}, \"baxis\": {\"endlinecolor\": \"#2a3f5f\", \"gridcolor\": \"white\", \"linecolor\": \"white\", \"minorgridcolor\": \"white\", \"startlinecolor\": \"#2a3f5f\"}, \"type\": \"carpet\"}], \"choropleth\": [{\"colorbar\": {\"outlinewidth\": 0, \"ticks\": \"\"}, \"type\": \"choropleth\"}], \"contour\": [{\"colorbar\": {\"outlinewidth\": 0, \"ticks\": \"\"}, \"colorscale\": [[0.0, \"#0d0887\"], [0.1111111111111111, \"#46039f\"], [0.2222222222222222, \"#7201a8\"], [0.3333333333333333, \"#9c179e\"], [0.4444444444444444, \"#bd3786\"], [0.5555555555555556, \"#d8576b\"], [0.6666666666666666, \"#ed7953\"], [0.7777777777777778, \"#fb9f3a\"], [0.8888888888888888, \"#fdca26\"], [1.0, \"#f0f921\"]], \"type\": \"contour\"}], \"contourcarpet\": [{\"colorbar\": {\"outlinewidth\": 0, \"ticks\": \"\"}, \"type\": \"contourcarpet\"}], \"heatmap\": [{\"colorbar\": {\"outlinewidth\": 0, \"ticks\": \"\"}, \"colorscale\": [[0.0, \"#0d0887\"], [0.1111111111111111, \"#46039f\"], [0.2222222222222222, \"#7201a8\"], [0.3333333333333333, \"#9c179e\"], [0.4444444444444444, \"#bd3786\"], [0.5555555555555556, \"#d8576b\"], [0.6666666666666666, \"#ed7953\"], [0.7777777777777778, \"#fb9f3a\"], [0.8888888888888888, \"#fdca26\"], [1.0, \"#f0f921\"]], \"type\": \"heatmap\"}], \"heatmapgl\": [{\"colorbar\": {\"outlinewidth\": 0, \"ticks\": \"\"}, \"colorscale\": [[0.0, \"#0d0887\"], [0.1111111111111111, \"#46039f\"], [0.2222222222222222, \"#7201a8\"], [0.3333333333333333, \"#9c179e\"], [0.4444444444444444, \"#bd3786\"], [0.5555555555555556, \"#d8576b\"], [0.6666666666666666, \"#ed7953\"], [0.7777777777777778, \"#fb9f3a\"], [0.8888888888888888, \"#fdca26\"], [1.0, \"#f0f921\"]], \"type\": \"heatmapgl\"}], \"histogram\": [{\"marker\": {\"colorbar\": {\"outlinewidth\": 0, \"ticks\": \"\"}}, \"type\": \"histogram\"}], \"histogram2d\": [{\"colorbar\": {\"outlinewidth\": 0, \"ticks\": \"\"}, \"colorscale\": [[0.0, \"#0d0887\"], [0.1111111111111111, \"#46039f\"], [0.2222222222222222, \"#7201a8\"], [0.3333333333333333, \"#9c179e\"], [0.4444444444444444, \"#bd3786\"], [0.5555555555555556, \"#d8576b\"], [0.6666666666666666, \"#ed7953\"], [0.7777777777777778, \"#fb9f3a\"], [0.8888888888888888, \"#fdca26\"], [1.0, \"#f0f921\"]], \"type\": \"histogram2d\"}], \"histogram2dcontour\": [{\"colorbar\": {\"outlinewidth\": 0, \"ticks\": \"\"}, \"colorscale\": [[0.0, \"#0d0887\"], [0.1111111111111111, \"#46039f\"], [0.2222222222222222, \"#7201a8\"], [0.3333333333333333, \"#9c179e\"], [0.4444444444444444, \"#bd3786\"], [0.5555555555555556, \"#d8576b\"], [0.6666666666666666, \"#ed7953\"], [0.7777777777777778, \"#fb9f3a\"], [0.8888888888888888, \"#fdca26\"], [1.0, \"#f0f921\"]], \"type\": \"histogram2dcontour\"}], \"mesh3d\": [{\"colorbar\": {\"outlinewidth\": 0, \"ticks\": \"\"}, \"type\": \"mesh3d\"}], \"parcoords\": [{\"line\": {\"colorbar\": {\"outlinewidth\": 0, \"ticks\": \"\"}}, \"type\": \"parcoords\"}], \"pie\": [{\"automargin\": true, \"type\": \"pie\"}], \"scatter\": [{\"marker\": {\"colorbar\": {\"outlinewidth\": 0, \"ticks\": \"\"}}, \"type\": \"scatter\"}], \"scatter3d\": [{\"line\": {\"colorbar\": {\"outlinewidth\": 0, \"ticks\": \"\"}}, \"marker\": {\"colorbar\": {\"outlinewidth\": 0, \"ticks\": \"\"}}, \"type\": \"scatter3d\"}], \"scattercarpet\": [{\"marker\": {\"colorbar\": {\"outlinewidth\": 0, \"ticks\": \"\"}}, \"type\": \"scattercarpet\"}], \"scattergeo\": [{\"marker\": {\"colorbar\": {\"outlinewidth\": 0, \"ticks\": \"\"}}, \"type\": \"scattergeo\"}], \"scattergl\": [{\"marker\": {\"colorbar\": {\"outlinewidth\": 0, \"ticks\": \"\"}}, \"type\": \"scattergl\"}], \"scattermapbox\": [{\"marker\": {\"colorbar\": {\"outlinewidth\": 0, \"ticks\": \"\"}}, \"type\": \"scattermapbox\"}], \"scatterpolar\": [{\"marker\": {\"colorbar\": {\"outlinewidth\": 0, \"ticks\": \"\"}}, \"type\": \"scatterpolar\"}], \"scatterpolargl\": [{\"marker\": {\"colorbar\": {\"outlinewidth\": 0, \"ticks\": \"\"}}, \"type\": \"scatterpolargl\"}], \"scatterternary\": [{\"marker\": {\"colorbar\": {\"outlinewidth\": 0, \"ticks\": \"\"}}, \"type\": \"scatterternary\"}], \"surface\": [{\"colorbar\": {\"outlinewidth\": 0, \"ticks\": \"\"}, \"colorscale\": [[0.0, \"#0d0887\"], [0.1111111111111111, \"#46039f\"], [0.2222222222222222, \"#7201a8\"], [0.3333333333333333, \"#9c179e\"], [0.4444444444444444, \"#bd3786\"], [0.5555555555555556, \"#d8576b\"], [0.6666666666666666, \"#ed7953\"], [0.7777777777777778, \"#fb9f3a\"], [0.8888888888888888, \"#fdca26\"], [1.0, \"#f0f921\"]], \"type\": \"surface\"}], \"table\": [{\"cells\": {\"fill\": {\"color\": \"#EBF0F8\"}, \"line\": {\"color\": \"white\"}}, \"header\": {\"fill\": {\"color\": \"#C8D4E3\"}, \"line\": {\"color\": \"white\"}}, \"type\": \"table\"}]}, \"layout\": {\"annotationdefaults\": {\"arrowcolor\": \"#2a3f5f\", \"arrowhead\": 0, \"arrowwidth\": 1}, \"coloraxis\": {\"colorbar\": {\"outlinewidth\": 0, \"ticks\": \"\"}}, \"colorscale\": {\"diverging\": [[0, \"#8e0152\"], [0.1, \"#c51b7d\"], [0.2, \"#de77ae\"], [0.3, \"#f1b6da\"], [0.4, \"#fde0ef\"], [0.5, \"#f7f7f7\"], [0.6, \"#e6f5d0\"], [0.7, \"#b8e186\"], [0.8, \"#7fbc41\"], [0.9, \"#4d9221\"], [1, \"#276419\"]], \"sequential\": [[0.0, \"#0d0887\"], [0.1111111111111111, \"#46039f\"], [0.2222222222222222, \"#7201a8\"], [0.3333333333333333, \"#9c179e\"], [0.4444444444444444, \"#bd3786\"], [0.5555555555555556, \"#d8576b\"], [0.6666666666666666, \"#ed7953\"], [0.7777777777777778, \"#fb9f3a\"], [0.8888888888888888, \"#fdca26\"], [1.0, \"#f0f921\"]], \"sequentialminus\": [[0.0, \"#0d0887\"], [0.1111111111111111, \"#46039f\"], [0.2222222222222222, \"#7201a8\"], [0.3333333333333333, \"#9c179e\"], [0.4444444444444444, \"#bd3786\"], [0.5555555555555556, \"#d8576b\"], [0.6666666666666666, \"#ed7953\"], [0.7777777777777778, \"#fb9f3a\"], [0.8888888888888888, \"#fdca26\"], [1.0, \"#f0f921\"]]}, \"colorway\": [\"#636efa\", \"#EF553B\", \"#00cc96\", \"#ab63fa\", \"#FFA15A\", \"#19d3f3\", \"#FF6692\", \"#B6E880\", \"#FF97FF\", \"#FECB52\"], \"font\": {\"color\": \"#2a3f5f\"}, \"geo\": {\"bgcolor\": \"white\", \"lakecolor\": \"white\", \"landcolor\": \"#E5ECF6\", \"showlakes\": true, \"showland\": true, \"subunitcolor\": \"white\"}, \"hoverlabel\": {\"align\": \"left\"}, \"hovermode\": \"closest\", \"mapbox\": {\"style\": \"light\"}, \"paper_bgcolor\": \"white\", \"plot_bgcolor\": \"#E5ECF6\", \"polar\": {\"angularaxis\": {\"gridcolor\": \"white\", \"linecolor\": \"white\", \"ticks\": \"\"}, \"bgcolor\": \"#E5ECF6\", \"radialaxis\": {\"gridcolor\": \"white\", \"linecolor\": \"white\", \"ticks\": \"\"}}, \"scene\": {\"xaxis\": {\"backgroundcolor\": \"#E5ECF6\", \"gridcolor\": \"white\", \"gridwidth\": 2, \"linecolor\": \"white\", \"showbackground\": true, \"ticks\": \"\", \"zerolinecolor\": \"white\"}, \"yaxis\": {\"backgroundcolor\": \"#E5ECF6\", \"gridcolor\": \"white\", \"gridwidth\": 2, \"linecolor\": \"white\", \"showbackground\": true, \"ticks\": \"\", \"zerolinecolor\": \"white\"}, \"zaxis\": {\"backgroundcolor\": \"#E5ECF6\", \"gridcolor\": \"white\", \"gridwidth\": 2, \"linecolor\": \"white\", \"showbackground\": true, \"ticks\": \"\", \"zerolinecolor\": \"white\"}}, \"shapedefaults\": {\"line\": {\"color\": \"#2a3f5f\"}}, \"ternary\": {\"aaxis\": {\"gridcolor\": \"white\", \"linecolor\": \"white\", \"ticks\": \"\"}, \"baxis\": {\"gridcolor\": \"white\", \"linecolor\": \"white\", \"ticks\": \"\"}, \"bgcolor\": \"#E5ECF6\", \"caxis\": {\"gridcolor\": \"white\", \"linecolor\": \"white\", \"ticks\": \"\"}}, \"title\": {\"x\": 0.05}, \"xaxis\": {\"automargin\": true, \"gridcolor\": \"white\", \"linecolor\": \"white\", \"ticks\": \"\", \"title\": {\"standoff\": 15}, \"zerolinecolor\": \"white\", \"zerolinewidth\": 2}, \"yaxis\": {\"automargin\": true, \"gridcolor\": \"white\", \"linecolor\": \"white\", \"ticks\": \"\", \"title\": {\"standoff\": 15}, \"zerolinecolor\": \"white\", \"zerolinewidth\": 2}}}, \"title\": {\"text\": \"Distribution of Place Types of COVID-19 Tweets made in April 2020\"}, \"width\": 800, \"xaxis\": {\"title\": {\"text\": \"Place Type\"}}, \"yaxis\": {\"title\": {\"text\": \"Tweet Count (millions)\"}}},\n",
              "                        {\"responsive\": true}\n",
              "                    ).then(function(){\n",
              "                            \n",
              "var gd = document.getElementById('2ecd085e-09df-4792-83e2-474d80f37778');\n",
              "var x = new MutationObserver(function (mutations, observer) {{\n",
              "        var display = window.getComputedStyle(gd).display;\n",
              "        if (!display || display === 'none') {{\n",
              "            console.log([gd, 'removed!']);\n",
              "            Plotly.purge(gd);\n",
              "            observer.disconnect();\n",
              "        }}\n",
              "}});\n",
              "\n",
              "// Listen for the removal of the full notebook cells\n",
              "var notebookContainer = gd.closest('#notebook-container');\n",
              "if (notebookContainer) {{\n",
              "    x.observe(notebookContainer, {childList: true});\n",
              "}}\n",
              "\n",
              "// Listen for the clearing of the current output cell\n",
              "var outputEl = gd.closest('.output');\n",
              "if (outputEl) {{\n",
              "    x.observe(outputEl, {childList: true});\n",
              "}}\n",
              "\n",
              "                        })\n",
              "                };\n",
              "                \n",
              "            </script>\n",
              "        </div>\n",
              "</body>\n",
              "</html>"
            ]
          },
          "metadata": {}
        },
        {
          "output_type": "display_data",
          "data": {
            "text/html": [
              "<html>\n",
              "<head><meta charset=\"utf-8\" /></head>\n",
              "<body>\n",
              "    <div>\n",
              "            <script src=\"https://cdnjs.cloudflare.com/ajax/libs/mathjax/2.7.5/MathJax.js?config=TeX-AMS-MML_SVG\"></script><script type=\"text/javascript\">if (window.MathJax) {MathJax.Hub.Config({SVG: {font: \"STIX-Web\"}});}</script>\n",
              "                <script type=\"text/javascript\">window.PlotlyConfig = {MathJaxConfig: 'local'};</script>\n",
              "        <script src=\"https://cdn.plot.ly/plotly-latest.min.js\"></script>    \n",
              "            <div id=\"8e7fc0e5-d443-4814-9562-00fd8ea29a96\" class=\"plotly-graph-div\" style=\"height:600px; width:800px;\"></div>\n",
              "            <script type=\"text/javascript\">\n",
              "                \n",
              "                    window.PLOTLYENV=window.PLOTLYENV || {};\n",
              "                    \n",
              "                if (document.getElementById(\"8e7fc0e5-d443-4814-9562-00fd8ea29a96\")) {\n",
              "                    Plotly.newPlot(\n",
              "                        '8e7fc0e5-d443-4814-9562-00fd8ea29a96',\n",
              "                        [{\"text\": [95.306, 3.755, 0.587, 0.179, 0.157, 0.017], \"textposition\": \"auto\", \"type\": \"bar\", \"x\": [\"place_type NA\", \"city\", \"admin\", \"country\", \"poi\", \"neighborhood\"], \"y\": [95.306, 3.755, 0.587, 0.179, 0.157, 0.017]}],\n",
              "                        {\"height\": 600, \"template\": {\"data\": {\"bar\": [{\"error_x\": {\"color\": \"#2a3f5f\"}, \"error_y\": {\"color\": \"#2a3f5f\"}, \"marker\": {\"line\": {\"color\": \"#E5ECF6\", \"width\": 0.5}}, \"type\": \"bar\"}], \"barpolar\": [{\"marker\": {\"line\": {\"color\": \"#E5ECF6\", \"width\": 0.5}}, \"type\": \"barpolar\"}], \"carpet\": [{\"aaxis\": {\"endlinecolor\": \"#2a3f5f\", \"gridcolor\": \"white\", \"linecolor\": \"white\", \"minorgridcolor\": \"white\", \"startlinecolor\": \"#2a3f5f\"}, \"baxis\": {\"endlinecolor\": \"#2a3f5f\", \"gridcolor\": \"white\", \"linecolor\": \"white\", \"minorgridcolor\": \"white\", \"startlinecolor\": \"#2a3f5f\"}, \"type\": \"carpet\"}], \"choropleth\": [{\"colorbar\": {\"outlinewidth\": 0, \"ticks\": \"\"}, \"type\": \"choropleth\"}], \"contour\": [{\"colorbar\": {\"outlinewidth\": 0, \"ticks\": \"\"}, \"colorscale\": [[0.0, \"#0d0887\"], [0.1111111111111111, \"#46039f\"], [0.2222222222222222, \"#7201a8\"], [0.3333333333333333, \"#9c179e\"], [0.4444444444444444, \"#bd3786\"], [0.5555555555555556, \"#d8576b\"], [0.6666666666666666, \"#ed7953\"], [0.7777777777777778, \"#fb9f3a\"], [0.8888888888888888, \"#fdca26\"], [1.0, \"#f0f921\"]], \"type\": \"contour\"}], \"contourcarpet\": [{\"colorbar\": {\"outlinewidth\": 0, \"ticks\": \"\"}, \"type\": \"contourcarpet\"}], \"heatmap\": [{\"colorbar\": {\"outlinewidth\": 0, \"ticks\": \"\"}, \"colorscale\": [[0.0, \"#0d0887\"], [0.1111111111111111, \"#46039f\"], [0.2222222222222222, \"#7201a8\"], [0.3333333333333333, \"#9c179e\"], [0.4444444444444444, \"#bd3786\"], [0.5555555555555556, \"#d8576b\"], [0.6666666666666666, \"#ed7953\"], [0.7777777777777778, \"#fb9f3a\"], [0.8888888888888888, \"#fdca26\"], [1.0, \"#f0f921\"]], \"type\": \"heatmap\"}], \"heatmapgl\": [{\"colorbar\": {\"outlinewidth\": 0, \"ticks\": \"\"}, \"colorscale\": [[0.0, \"#0d0887\"], [0.1111111111111111, \"#46039f\"], [0.2222222222222222, \"#7201a8\"], [0.3333333333333333, \"#9c179e\"], [0.4444444444444444, \"#bd3786\"], [0.5555555555555556, \"#d8576b\"], [0.6666666666666666, \"#ed7953\"], [0.7777777777777778, \"#fb9f3a\"], [0.8888888888888888, \"#fdca26\"], [1.0, \"#f0f921\"]], \"type\": \"heatmapgl\"}], \"histogram\": [{\"marker\": {\"colorbar\": {\"outlinewidth\": 0, \"ticks\": \"\"}}, \"type\": \"histogram\"}], \"histogram2d\": [{\"colorbar\": {\"outlinewidth\": 0, \"ticks\": \"\"}, \"colorscale\": [[0.0, \"#0d0887\"], [0.1111111111111111, \"#46039f\"], [0.2222222222222222, \"#7201a8\"], [0.3333333333333333, \"#9c179e\"], [0.4444444444444444, \"#bd3786\"], [0.5555555555555556, \"#d8576b\"], [0.6666666666666666, \"#ed7953\"], [0.7777777777777778, \"#fb9f3a\"], [0.8888888888888888, \"#fdca26\"], [1.0, \"#f0f921\"]], \"type\": \"histogram2d\"}], \"histogram2dcontour\": [{\"colorbar\": {\"outlinewidth\": 0, \"ticks\": \"\"}, \"colorscale\": [[0.0, \"#0d0887\"], [0.1111111111111111, \"#46039f\"], [0.2222222222222222, \"#7201a8\"], [0.3333333333333333, \"#9c179e\"], [0.4444444444444444, \"#bd3786\"], [0.5555555555555556, \"#d8576b\"], [0.6666666666666666, \"#ed7953\"], [0.7777777777777778, \"#fb9f3a\"], [0.8888888888888888, \"#fdca26\"], [1.0, \"#f0f921\"]], \"type\": \"histogram2dcontour\"}], \"mesh3d\": [{\"colorbar\": {\"outlinewidth\": 0, \"ticks\": \"\"}, \"type\": \"mesh3d\"}], \"parcoords\": [{\"line\": {\"colorbar\": {\"outlinewidth\": 0, \"ticks\": \"\"}}, \"type\": \"parcoords\"}], \"pie\": [{\"automargin\": true, \"type\": \"pie\"}], \"scatter\": [{\"marker\": {\"colorbar\": {\"outlinewidth\": 0, \"ticks\": \"\"}}, \"type\": \"scatter\"}], \"scatter3d\": [{\"line\": {\"colorbar\": {\"outlinewidth\": 0, \"ticks\": \"\"}}, \"marker\": {\"colorbar\": {\"outlinewidth\": 0, \"ticks\": \"\"}}, \"type\": \"scatter3d\"}], \"scattercarpet\": [{\"marker\": {\"colorbar\": {\"outlinewidth\": 0, \"ticks\": \"\"}}, \"type\": \"scattercarpet\"}], \"scattergeo\": [{\"marker\": {\"colorbar\": {\"outlinewidth\": 0, \"ticks\": \"\"}}, \"type\": \"scattergeo\"}], \"scattergl\": [{\"marker\": {\"colorbar\": {\"outlinewidth\": 0, \"ticks\": \"\"}}, \"type\": \"scattergl\"}], \"scattermapbox\": [{\"marker\": {\"colorbar\": {\"outlinewidth\": 0, \"ticks\": \"\"}}, \"type\": \"scattermapbox\"}], \"scatterpolar\": [{\"marker\": {\"colorbar\": {\"outlinewidth\": 0, \"ticks\": \"\"}}, \"type\": \"scatterpolar\"}], \"scatterpolargl\": [{\"marker\": {\"colorbar\": {\"outlinewidth\": 0, \"ticks\": \"\"}}, \"type\": \"scatterpolargl\"}], \"scatterternary\": [{\"marker\": {\"colorbar\": {\"outlinewidth\": 0, \"ticks\": \"\"}}, \"type\": \"scatterternary\"}], \"surface\": [{\"colorbar\": {\"outlinewidth\": 0, \"ticks\": \"\"}, \"colorscale\": [[0.0, \"#0d0887\"], [0.1111111111111111, \"#46039f\"], [0.2222222222222222, \"#7201a8\"], [0.3333333333333333, \"#9c179e\"], [0.4444444444444444, \"#bd3786\"], [0.5555555555555556, \"#d8576b\"], [0.6666666666666666, \"#ed7953\"], [0.7777777777777778, \"#fb9f3a\"], [0.8888888888888888, \"#fdca26\"], [1.0, \"#f0f921\"]], \"type\": \"surface\"}], \"table\": [{\"cells\": {\"fill\": {\"color\": \"#EBF0F8\"}, \"line\": {\"color\": \"white\"}}, \"header\": {\"fill\": {\"color\": \"#C8D4E3\"}, \"line\": {\"color\": \"white\"}}, \"type\": \"table\"}]}, \"layout\": {\"annotationdefaults\": {\"arrowcolor\": \"#2a3f5f\", \"arrowhead\": 0, \"arrowwidth\": 1}, \"coloraxis\": {\"colorbar\": {\"outlinewidth\": 0, \"ticks\": \"\"}}, \"colorscale\": {\"diverging\": [[0, \"#8e0152\"], [0.1, \"#c51b7d\"], [0.2, \"#de77ae\"], [0.3, \"#f1b6da\"], [0.4, \"#fde0ef\"], [0.5, \"#f7f7f7\"], [0.6, \"#e6f5d0\"], [0.7, \"#b8e186\"], [0.8, \"#7fbc41\"], [0.9, \"#4d9221\"], [1, \"#276419\"]], \"sequential\": [[0.0, \"#0d0887\"], [0.1111111111111111, \"#46039f\"], [0.2222222222222222, \"#7201a8\"], [0.3333333333333333, \"#9c179e\"], [0.4444444444444444, \"#bd3786\"], [0.5555555555555556, \"#d8576b\"], [0.6666666666666666, \"#ed7953\"], [0.7777777777777778, \"#fb9f3a\"], [0.8888888888888888, \"#fdca26\"], [1.0, \"#f0f921\"]], \"sequentialminus\": [[0.0, \"#0d0887\"], [0.1111111111111111, \"#46039f\"], [0.2222222222222222, \"#7201a8\"], [0.3333333333333333, \"#9c179e\"], [0.4444444444444444, \"#bd3786\"], [0.5555555555555556, \"#d8576b\"], [0.6666666666666666, \"#ed7953\"], [0.7777777777777778, \"#fb9f3a\"], [0.8888888888888888, \"#fdca26\"], [1.0, \"#f0f921\"]]}, \"colorway\": [\"#636efa\", \"#EF553B\", \"#00cc96\", \"#ab63fa\", \"#FFA15A\", \"#19d3f3\", \"#FF6692\", \"#B6E880\", \"#FF97FF\", \"#FECB52\"], \"font\": {\"color\": \"#2a3f5f\"}, \"geo\": {\"bgcolor\": \"white\", \"lakecolor\": \"white\", \"landcolor\": \"#E5ECF6\", \"showlakes\": true, \"showland\": true, \"subunitcolor\": \"white\"}, \"hoverlabel\": {\"align\": \"left\"}, \"hovermode\": \"closest\", \"mapbox\": {\"style\": \"light\"}, \"paper_bgcolor\": \"white\", \"plot_bgcolor\": \"#E5ECF6\", \"polar\": {\"angularaxis\": {\"gridcolor\": \"white\", \"linecolor\": \"white\", \"ticks\": \"\"}, \"bgcolor\": \"#E5ECF6\", \"radialaxis\": {\"gridcolor\": \"white\", \"linecolor\": \"white\", \"ticks\": \"\"}}, \"scene\": {\"xaxis\": {\"backgroundcolor\": \"#E5ECF6\", \"gridcolor\": \"white\", \"gridwidth\": 2, \"linecolor\": \"white\", \"showbackground\": true, \"ticks\": \"\", \"zerolinecolor\": \"white\"}, \"yaxis\": {\"backgroundcolor\": \"#E5ECF6\", \"gridcolor\": \"white\", \"gridwidth\": 2, \"linecolor\": \"white\", \"showbackground\": true, \"ticks\": \"\", \"zerolinecolor\": \"white\"}, \"zaxis\": {\"backgroundcolor\": \"#E5ECF6\", \"gridcolor\": \"white\", \"gridwidth\": 2, \"linecolor\": \"white\", \"showbackground\": true, \"ticks\": \"\", \"zerolinecolor\": \"white\"}}, \"shapedefaults\": {\"line\": {\"color\": \"#2a3f5f\"}}, \"ternary\": {\"aaxis\": {\"gridcolor\": \"white\", \"linecolor\": \"white\", \"ticks\": \"\"}, \"baxis\": {\"gridcolor\": \"white\", \"linecolor\": \"white\", \"ticks\": \"\"}, \"bgcolor\": \"#E5ECF6\", \"caxis\": {\"gridcolor\": \"white\", \"linecolor\": \"white\", \"ticks\": \"\"}}, \"title\": {\"x\": 0.05}, \"xaxis\": {\"automargin\": true, \"gridcolor\": \"white\", \"linecolor\": \"white\", \"ticks\": \"\", \"title\": {\"standoff\": 15}, \"zerolinecolor\": \"white\", \"zerolinewidth\": 2}, \"yaxis\": {\"automargin\": true, \"gridcolor\": \"white\", \"linecolor\": \"white\", \"ticks\": \"\", \"title\": {\"standoff\": 15}, \"zerolinecolor\": \"white\", \"zerolinewidth\": 2}}}, \"title\": {\"text\": \"Proportions of Place Types of COVID-19 Tweets made in April 2020\"}, \"width\": 800, \"xaxis\": {\"title\": {\"text\": \"Place Type\"}}, \"yaxis\": {\"title\": {\"text\": \"Tweet Percentage (%)\"}}},\n",
              "                        {\"responsive\": true}\n",
              "                    ).then(function(){\n",
              "                            \n",
              "var gd = document.getElementById('8e7fc0e5-d443-4814-9562-00fd8ea29a96');\n",
              "var x = new MutationObserver(function (mutations, observer) {{\n",
              "        var display = window.getComputedStyle(gd).display;\n",
              "        if (!display || display === 'none') {{\n",
              "            console.log([gd, 'removed!']);\n",
              "            Plotly.purge(gd);\n",
              "            observer.disconnect();\n",
              "        }}\n",
              "}});\n",
              "\n",
              "// Listen for the removal of the full notebook cells\n",
              "var notebookContainer = gd.closest('#notebook-container');\n",
              "if (notebookContainer) {{\n",
              "    x.observe(notebookContainer, {childList: true});\n",
              "}}\n",
              "\n",
              "// Listen for the clearing of the current output cell\n",
              "var outputEl = gd.closest('.output');\n",
              "if (outputEl) {{\n",
              "    x.observe(outputEl, {childList: true});\n",
              "}}\n",
              "\n",
              "                        })\n",
              "                };\n",
              "                \n",
              "            </script>\n",
              "        </div>\n",
              "</body>\n",
              "</html>"
            ]
          },
          "metadata": {}
        }
      ]
    },
    {
      "cell_type": "markdown",
      "metadata": {
        "id": "55xXMAwypI4q"
      },
      "source": [
        "Roughly 7.8 million tweets out of 8.1 million, or 95% of the data, were not geo-tagged (place_type NA, or not applicable). 3.8% of the tweets were geo-tagged in cities.\n",
        "\n",
        "Note that even though some tweets had geo-tags, those tags were set by users. Therefore, they do not necessarily mean the users were actually at those locations."
      ]
    },
    {
      "cell_type": "code",
      "metadata": {
        "colab": {
          "base_uri": "https://localhost:8080/"
        },
        "id": "OgJFDFpPntXv",
        "outputId": "cb148c1f-a792-4454-fb4c-6c1b39a220c8"
      },
      "source": [
        "tweets['place_full_name'].value_counts()"
      ],
      "execution_count": 37,
      "outputs": [
        {
          "output_type": "execute_result",
          "data": {
            "text/plain": [
              "place_full_name NA          7751896\n",
              "Manhattan, NY                  6220\n",
              "Los Angeles, CA                5606\n",
              "Mumbai, India                  5192\n",
              "New Delhi, India               5073\n",
              "                             ...   \n",
              "Downtown Media Center             1\n",
              "Jupiter Medical Center            1\n",
              "Boothby Graffoe, England          1\n",
              "Egan, Nigeria                     1\n",
              "Fort Kangra                       1\n",
              "Name: place_full_name, Length: 26831, dtype: int64"
            ]
          },
          "metadata": {},
          "execution_count": 37
        }
      ]
    },
    {
      "cell_type": "code",
      "metadata": {
        "colab": {
          "base_uri": "https://localhost:8080/",
          "height": 1000
        },
        "id": "bnaVA4H4J9cg",
        "outputId": "b06586a9-c5ff-49ef-9d2b-5d4fae75a096"
      },
      "source": [
        "unique_place_full_name_counts = tweets['place_full_name'].value_counts()[1:21]\n",
        "unique_place_full_name_pct = round(tweets['place_full_name'].value_counts()[1:21]/tweets.shape[0]*100, 3)\n",
        "\n",
        "\n",
        "# Plot\n",
        "fig = go.Figure(data=[go.Bar(\n",
        "                            x= unique_place_full_name_counts,\n",
        "                            y=unique_place_full_name_counts.index,\n",
        "                             text=unique_place_full_name_counts,\n",
        "                             textposition='auto',\n",
        "                             orientation='h'\n",
        ")])\n",
        "fig.update_layout(\n",
        "    title='Top 20 Places by COVID-19 Tweet Count in April 2020',\n",
        "    xaxis_title='Place Full Name',\n",
        "    yaxis_title='Tweet Count ',\n",
        "    width=800, height=600\n",
        ")\n",
        "fig.show()\n",
        "\n",
        "# Plot the percentages\n",
        "fig = go.Figure(data=[go.Bar(\n",
        "                            x= unique_place_full_name_pct,\n",
        "                            y=unique_place_full_name_pct.index,\n",
        "                             text=unique_place_full_name_pct,\n",
        "                             textposition='auto',\n",
        "                             orientation='h'\n",
        ")])\n",
        "fig.update_layout(\n",
        "    title='Top 20 Places by COVID-19 Tweet Percentage in April 2020',\n",
        "    xaxis_title='Place Full Name',\n",
        "    yaxis_title='Tweet Percentage (%)',\n",
        "    width=800, height=600\n",
        ")\n",
        "fig.show()\n"
      ],
      "execution_count": 38,
      "outputs": [
        {
          "output_type": "display_data",
          "data": {
            "text/html": [
              "<html>\n",
              "<head><meta charset=\"utf-8\" /></head>\n",
              "<body>\n",
              "    <div>\n",
              "            <script src=\"https://cdnjs.cloudflare.com/ajax/libs/mathjax/2.7.5/MathJax.js?config=TeX-AMS-MML_SVG\"></script><script type=\"text/javascript\">if (window.MathJax) {MathJax.Hub.Config({SVG: {font: \"STIX-Web\"}});}</script>\n",
              "                <script type=\"text/javascript\">window.PlotlyConfig = {MathJaxConfig: 'local'};</script>\n",
              "        <script src=\"https://cdn.plot.ly/plotly-latest.min.js\"></script>    \n",
              "            <div id=\"16bc5425-5c04-4912-ba69-70e2463a3c07\" class=\"plotly-graph-div\" style=\"height:600px; width:800px;\"></div>\n",
              "            <script type=\"text/javascript\">\n",
              "                \n",
              "                    window.PLOTLYENV=window.PLOTLYENV || {};\n",
              "                    \n",
              "                if (document.getElementById(\"16bc5425-5c04-4912-ba69-70e2463a3c07\")) {\n",
              "                    Plotly.newPlot(\n",
              "                        '16bc5425-5c04-4912-ba69-70e2463a3c07',\n",
              "                        [{\"orientation\": \"h\", \"text\": [6220.0, 5606.0, 5192.0, 5073.0, 4359.0, 2800.0, 2677.0, 2611.0, 2571.0, 2558.0, 2507.0, 2380.0, 2005.0, 1965.0, 1908.0, 1763.0, 1659.0, 1633.0, 1617.0, 1611.0], \"textposition\": \"auto\", \"type\": \"bar\", \"x\": [6220, 5606, 5192, 5073, 4359, 2800, 2677, 2611, 2571, 2558, 2507, 2380, 2005, 1965, 1908, 1763, 1659, 1633, 1617, 1611], \"y\": [\"Manhattan, NY\", \"Los Angeles, CA\", \"Mumbai, India\", \"New Delhi, India\", \"Toronto, Ontario\", \"Brooklyn, NY\", \"Washington, DC\", \"Houston, TX\", \"Chicago, IL\", \"Florida, USA\", \"Lagos, Nigeria\", \"Nairobi, Kenya\", \"Abuja, Nigeria\", \"Ikeja, Nigeria\", \"Melbourne, Victoria\", \"Queens, NY\", \"Kampala, Uganda\", \"Philadelphia, PA\", \"San Francisco, CA\", \"Pennsylvania, USA\"]}],\n",
              "                        {\"height\": 600, \"template\": {\"data\": {\"bar\": [{\"error_x\": {\"color\": \"#2a3f5f\"}, \"error_y\": {\"color\": \"#2a3f5f\"}, \"marker\": {\"line\": {\"color\": \"#E5ECF6\", \"width\": 0.5}}, \"type\": \"bar\"}], \"barpolar\": [{\"marker\": {\"line\": {\"color\": \"#E5ECF6\", \"width\": 0.5}}, \"type\": \"barpolar\"}], \"carpet\": [{\"aaxis\": {\"endlinecolor\": \"#2a3f5f\", \"gridcolor\": \"white\", \"linecolor\": \"white\", \"minorgridcolor\": \"white\", \"startlinecolor\": \"#2a3f5f\"}, \"baxis\": {\"endlinecolor\": \"#2a3f5f\", \"gridcolor\": \"white\", \"linecolor\": \"white\", \"minorgridcolor\": \"white\", \"startlinecolor\": \"#2a3f5f\"}, \"type\": \"carpet\"}], \"choropleth\": [{\"colorbar\": {\"outlinewidth\": 0, \"ticks\": \"\"}, \"type\": \"choropleth\"}], \"contour\": [{\"colorbar\": {\"outlinewidth\": 0, \"ticks\": \"\"}, \"colorscale\": [[0.0, \"#0d0887\"], [0.1111111111111111, \"#46039f\"], [0.2222222222222222, \"#7201a8\"], [0.3333333333333333, \"#9c179e\"], [0.4444444444444444, \"#bd3786\"], [0.5555555555555556, \"#d8576b\"], [0.6666666666666666, \"#ed7953\"], [0.7777777777777778, \"#fb9f3a\"], [0.8888888888888888, \"#fdca26\"], [1.0, \"#f0f921\"]], \"type\": \"contour\"}], \"contourcarpet\": [{\"colorbar\": {\"outlinewidth\": 0, \"ticks\": \"\"}, \"type\": \"contourcarpet\"}], \"heatmap\": [{\"colorbar\": {\"outlinewidth\": 0, \"ticks\": \"\"}, \"colorscale\": [[0.0, \"#0d0887\"], [0.1111111111111111, \"#46039f\"], [0.2222222222222222, \"#7201a8\"], [0.3333333333333333, \"#9c179e\"], [0.4444444444444444, \"#bd3786\"], [0.5555555555555556, \"#d8576b\"], [0.6666666666666666, \"#ed7953\"], [0.7777777777777778, \"#fb9f3a\"], [0.8888888888888888, \"#fdca26\"], [1.0, \"#f0f921\"]], \"type\": \"heatmap\"}], \"heatmapgl\": [{\"colorbar\": {\"outlinewidth\": 0, \"ticks\": \"\"}, \"colorscale\": [[0.0, \"#0d0887\"], [0.1111111111111111, \"#46039f\"], [0.2222222222222222, \"#7201a8\"], [0.3333333333333333, \"#9c179e\"], [0.4444444444444444, \"#bd3786\"], [0.5555555555555556, \"#d8576b\"], [0.6666666666666666, \"#ed7953\"], [0.7777777777777778, \"#fb9f3a\"], [0.8888888888888888, \"#fdca26\"], [1.0, \"#f0f921\"]], \"type\": \"heatmapgl\"}], \"histogram\": [{\"marker\": {\"colorbar\": {\"outlinewidth\": 0, \"ticks\": \"\"}}, \"type\": \"histogram\"}], \"histogram2d\": [{\"colorbar\": {\"outlinewidth\": 0, \"ticks\": \"\"}, \"colorscale\": [[0.0, \"#0d0887\"], [0.1111111111111111, \"#46039f\"], [0.2222222222222222, \"#7201a8\"], [0.3333333333333333, \"#9c179e\"], [0.4444444444444444, \"#bd3786\"], [0.5555555555555556, \"#d8576b\"], [0.6666666666666666, \"#ed7953\"], [0.7777777777777778, \"#fb9f3a\"], [0.8888888888888888, \"#fdca26\"], [1.0, \"#f0f921\"]], \"type\": \"histogram2d\"}], \"histogram2dcontour\": [{\"colorbar\": {\"outlinewidth\": 0, \"ticks\": \"\"}, \"colorscale\": [[0.0, \"#0d0887\"], [0.1111111111111111, \"#46039f\"], [0.2222222222222222, \"#7201a8\"], [0.3333333333333333, \"#9c179e\"], [0.4444444444444444, \"#bd3786\"], [0.5555555555555556, \"#d8576b\"], [0.6666666666666666, \"#ed7953\"], [0.7777777777777778, \"#fb9f3a\"], [0.8888888888888888, \"#fdca26\"], [1.0, \"#f0f921\"]], \"type\": \"histogram2dcontour\"}], \"mesh3d\": [{\"colorbar\": {\"outlinewidth\": 0, \"ticks\": \"\"}, \"type\": \"mesh3d\"}], \"parcoords\": [{\"line\": {\"colorbar\": {\"outlinewidth\": 0, \"ticks\": \"\"}}, \"type\": \"parcoords\"}], \"pie\": [{\"automargin\": true, \"type\": \"pie\"}], \"scatter\": [{\"marker\": {\"colorbar\": {\"outlinewidth\": 0, \"ticks\": \"\"}}, \"type\": \"scatter\"}], \"scatter3d\": [{\"line\": {\"colorbar\": {\"outlinewidth\": 0, \"ticks\": \"\"}}, \"marker\": {\"colorbar\": {\"outlinewidth\": 0, \"ticks\": \"\"}}, \"type\": \"scatter3d\"}], \"scattercarpet\": [{\"marker\": {\"colorbar\": {\"outlinewidth\": 0, \"ticks\": \"\"}}, \"type\": \"scattercarpet\"}], \"scattergeo\": [{\"marker\": {\"colorbar\": {\"outlinewidth\": 0, \"ticks\": \"\"}}, \"type\": \"scattergeo\"}], \"scattergl\": [{\"marker\": {\"colorbar\": {\"outlinewidth\": 0, \"ticks\": \"\"}}, \"type\": \"scattergl\"}], \"scattermapbox\": [{\"marker\": {\"colorbar\": {\"outlinewidth\": 0, \"ticks\": \"\"}}, \"type\": \"scattermapbox\"}], \"scatterpolar\": [{\"marker\": {\"colorbar\": {\"outlinewidth\": 0, \"ticks\": \"\"}}, \"type\": \"scatterpolar\"}], \"scatterpolargl\": [{\"marker\": {\"colorbar\": {\"outlinewidth\": 0, \"ticks\": \"\"}}, \"type\": \"scatterpolargl\"}], \"scatterternary\": [{\"marker\": {\"colorbar\": {\"outlinewidth\": 0, \"ticks\": \"\"}}, \"type\": \"scatterternary\"}], \"surface\": [{\"colorbar\": {\"outlinewidth\": 0, \"ticks\": \"\"}, \"colorscale\": [[0.0, \"#0d0887\"], [0.1111111111111111, \"#46039f\"], [0.2222222222222222, \"#7201a8\"], [0.3333333333333333, \"#9c179e\"], [0.4444444444444444, \"#bd3786\"], [0.5555555555555556, \"#d8576b\"], [0.6666666666666666, \"#ed7953\"], [0.7777777777777778, \"#fb9f3a\"], [0.8888888888888888, \"#fdca26\"], [1.0, \"#f0f921\"]], \"type\": \"surface\"}], \"table\": [{\"cells\": {\"fill\": {\"color\": \"#EBF0F8\"}, \"line\": {\"color\": \"white\"}}, \"header\": {\"fill\": {\"color\": \"#C8D4E3\"}, \"line\": {\"color\": \"white\"}}, \"type\": \"table\"}]}, \"layout\": {\"annotationdefaults\": {\"arrowcolor\": \"#2a3f5f\", \"arrowhead\": 0, \"arrowwidth\": 1}, \"coloraxis\": {\"colorbar\": {\"outlinewidth\": 0, \"ticks\": \"\"}}, \"colorscale\": {\"diverging\": [[0, \"#8e0152\"], [0.1, \"#c51b7d\"], [0.2, \"#de77ae\"], [0.3, \"#f1b6da\"], [0.4, \"#fde0ef\"], [0.5, \"#f7f7f7\"], [0.6, \"#e6f5d0\"], [0.7, \"#b8e186\"], [0.8, \"#7fbc41\"], [0.9, \"#4d9221\"], [1, \"#276419\"]], \"sequential\": [[0.0, \"#0d0887\"], [0.1111111111111111, \"#46039f\"], [0.2222222222222222, \"#7201a8\"], [0.3333333333333333, \"#9c179e\"], [0.4444444444444444, \"#bd3786\"], [0.5555555555555556, \"#d8576b\"], [0.6666666666666666, \"#ed7953\"], [0.7777777777777778, \"#fb9f3a\"], [0.8888888888888888, \"#fdca26\"], [1.0, \"#f0f921\"]], \"sequentialminus\": [[0.0, \"#0d0887\"], [0.1111111111111111, \"#46039f\"], [0.2222222222222222, \"#7201a8\"], [0.3333333333333333, \"#9c179e\"], [0.4444444444444444, \"#bd3786\"], [0.5555555555555556, \"#d8576b\"], [0.6666666666666666, \"#ed7953\"], [0.7777777777777778, \"#fb9f3a\"], [0.8888888888888888, \"#fdca26\"], [1.0, \"#f0f921\"]]}, \"colorway\": [\"#636efa\", \"#EF553B\", \"#00cc96\", \"#ab63fa\", \"#FFA15A\", \"#19d3f3\", \"#FF6692\", \"#B6E880\", \"#FF97FF\", \"#FECB52\"], \"font\": {\"color\": \"#2a3f5f\"}, \"geo\": {\"bgcolor\": \"white\", \"lakecolor\": \"white\", \"landcolor\": \"#E5ECF6\", \"showlakes\": true, \"showland\": true, \"subunitcolor\": \"white\"}, \"hoverlabel\": {\"align\": \"left\"}, \"hovermode\": \"closest\", \"mapbox\": {\"style\": \"light\"}, \"paper_bgcolor\": \"white\", \"plot_bgcolor\": \"#E5ECF6\", \"polar\": {\"angularaxis\": {\"gridcolor\": \"white\", \"linecolor\": \"white\", \"ticks\": \"\"}, \"bgcolor\": \"#E5ECF6\", \"radialaxis\": {\"gridcolor\": \"white\", \"linecolor\": \"white\", \"ticks\": \"\"}}, \"scene\": {\"xaxis\": {\"backgroundcolor\": \"#E5ECF6\", \"gridcolor\": \"white\", \"gridwidth\": 2, \"linecolor\": \"white\", \"showbackground\": true, \"ticks\": \"\", \"zerolinecolor\": \"white\"}, \"yaxis\": {\"backgroundcolor\": \"#E5ECF6\", \"gridcolor\": \"white\", \"gridwidth\": 2, \"linecolor\": \"white\", \"showbackground\": true, \"ticks\": \"\", \"zerolinecolor\": \"white\"}, \"zaxis\": {\"backgroundcolor\": \"#E5ECF6\", \"gridcolor\": \"white\", \"gridwidth\": 2, \"linecolor\": \"white\", \"showbackground\": true, \"ticks\": \"\", \"zerolinecolor\": \"white\"}}, \"shapedefaults\": {\"line\": {\"color\": \"#2a3f5f\"}}, \"ternary\": {\"aaxis\": {\"gridcolor\": \"white\", \"linecolor\": \"white\", \"ticks\": \"\"}, \"baxis\": {\"gridcolor\": \"white\", \"linecolor\": \"white\", \"ticks\": \"\"}, \"bgcolor\": \"#E5ECF6\", \"caxis\": {\"gridcolor\": \"white\", \"linecolor\": \"white\", \"ticks\": \"\"}}, \"title\": {\"x\": 0.05}, \"xaxis\": {\"automargin\": true, \"gridcolor\": \"white\", \"linecolor\": \"white\", \"ticks\": \"\", \"title\": {\"standoff\": 15}, \"zerolinecolor\": \"white\", \"zerolinewidth\": 2}, \"yaxis\": {\"automargin\": true, \"gridcolor\": \"white\", \"linecolor\": \"white\", \"ticks\": \"\", \"title\": {\"standoff\": 15}, \"zerolinecolor\": \"white\", \"zerolinewidth\": 2}}}, \"title\": {\"text\": \"Top 20 Places by COVID-19 Tweet Count in April 2020\"}, \"width\": 800, \"xaxis\": {\"title\": {\"text\": \"Place Full Name\"}}, \"yaxis\": {\"title\": {\"text\": \"Tweet Count \"}}},\n",
              "                        {\"responsive\": true}\n",
              "                    ).then(function(){\n",
              "                            \n",
              "var gd = document.getElementById('16bc5425-5c04-4912-ba69-70e2463a3c07');\n",
              "var x = new MutationObserver(function (mutations, observer) {{\n",
              "        var display = window.getComputedStyle(gd).display;\n",
              "        if (!display || display === 'none') {{\n",
              "            console.log([gd, 'removed!']);\n",
              "            Plotly.purge(gd);\n",
              "            observer.disconnect();\n",
              "        }}\n",
              "}});\n",
              "\n",
              "// Listen for the removal of the full notebook cells\n",
              "var notebookContainer = gd.closest('#notebook-container');\n",
              "if (notebookContainer) {{\n",
              "    x.observe(notebookContainer, {childList: true});\n",
              "}}\n",
              "\n",
              "// Listen for the clearing of the current output cell\n",
              "var outputEl = gd.closest('.output');\n",
              "if (outputEl) {{\n",
              "    x.observe(outputEl, {childList: true});\n",
              "}}\n",
              "\n",
              "                        })\n",
              "                };\n",
              "                \n",
              "            </script>\n",
              "        </div>\n",
              "</body>\n",
              "</html>"
            ]
          },
          "metadata": {}
        },
        {
          "output_type": "display_data",
          "data": {
            "text/html": [
              "<html>\n",
              "<head><meta charset=\"utf-8\" /></head>\n",
              "<body>\n",
              "    <div>\n",
              "            <script src=\"https://cdnjs.cloudflare.com/ajax/libs/mathjax/2.7.5/MathJax.js?config=TeX-AMS-MML_SVG\"></script><script type=\"text/javascript\">if (window.MathJax) {MathJax.Hub.Config({SVG: {font: \"STIX-Web\"}});}</script>\n",
              "                <script type=\"text/javascript\">window.PlotlyConfig = {MathJaxConfig: 'local'};</script>\n",
              "        <script src=\"https://cdn.plot.ly/plotly-latest.min.js\"></script>    \n",
              "            <div id=\"251ed671-cf7f-4444-9fc0-f105744fb2f4\" class=\"plotly-graph-div\" style=\"height:600px; width:800px;\"></div>\n",
              "            <script type=\"text/javascript\">\n",
              "                \n",
              "                    window.PLOTLYENV=window.PLOTLYENV || {};\n",
              "                    \n",
              "                if (document.getElementById(\"251ed671-cf7f-4444-9fc0-f105744fb2f4\")) {\n",
              "                    Plotly.newPlot(\n",
              "                        '251ed671-cf7f-4444-9fc0-f105744fb2f4',\n",
              "                        [{\"orientation\": \"h\", \"text\": [0.076, 0.069, 0.064, 0.062, 0.054, 0.034, 0.033, 0.032, 0.032, 0.031, 0.031, 0.029, 0.025, 0.024, 0.023, 0.022, 0.02, 0.02, 0.02, 0.02], \"textposition\": \"auto\", \"type\": \"bar\", \"x\": [0.076, 0.069, 0.064, 0.062, 0.054, 0.034, 0.033, 0.032, 0.032, 0.031, 0.031, 0.029, 0.025, 0.024, 0.023, 0.022, 0.02, 0.02, 0.02, 0.02], \"y\": [\"Manhattan, NY\", \"Los Angeles, CA\", \"Mumbai, India\", \"New Delhi, India\", \"Toronto, Ontario\", \"Brooklyn, NY\", \"Washington, DC\", \"Houston, TX\", \"Chicago, IL\", \"Florida, USA\", \"Lagos, Nigeria\", \"Nairobi, Kenya\", \"Abuja, Nigeria\", \"Ikeja, Nigeria\", \"Melbourne, Victoria\", \"Queens, NY\", \"Kampala, Uganda\", \"Philadelphia, PA\", \"San Francisco, CA\", \"Pennsylvania, USA\"]}],\n",
              "                        {\"height\": 600, \"template\": {\"data\": {\"bar\": [{\"error_x\": {\"color\": \"#2a3f5f\"}, \"error_y\": {\"color\": \"#2a3f5f\"}, \"marker\": {\"line\": {\"color\": \"#E5ECF6\", \"width\": 0.5}}, \"type\": \"bar\"}], \"barpolar\": [{\"marker\": {\"line\": {\"color\": \"#E5ECF6\", \"width\": 0.5}}, \"type\": \"barpolar\"}], \"carpet\": [{\"aaxis\": {\"endlinecolor\": \"#2a3f5f\", \"gridcolor\": \"white\", \"linecolor\": \"white\", \"minorgridcolor\": \"white\", \"startlinecolor\": \"#2a3f5f\"}, \"baxis\": {\"endlinecolor\": \"#2a3f5f\", \"gridcolor\": \"white\", \"linecolor\": \"white\", \"minorgridcolor\": \"white\", \"startlinecolor\": \"#2a3f5f\"}, \"type\": \"carpet\"}], \"choropleth\": [{\"colorbar\": {\"outlinewidth\": 0, \"ticks\": \"\"}, \"type\": \"choropleth\"}], \"contour\": [{\"colorbar\": {\"outlinewidth\": 0, \"ticks\": \"\"}, \"colorscale\": [[0.0, \"#0d0887\"], [0.1111111111111111, \"#46039f\"], [0.2222222222222222, \"#7201a8\"], [0.3333333333333333, \"#9c179e\"], [0.4444444444444444, \"#bd3786\"], [0.5555555555555556, \"#d8576b\"], [0.6666666666666666, \"#ed7953\"], [0.7777777777777778, \"#fb9f3a\"], [0.8888888888888888, \"#fdca26\"], [1.0, \"#f0f921\"]], \"type\": \"contour\"}], \"contourcarpet\": [{\"colorbar\": {\"outlinewidth\": 0, \"ticks\": \"\"}, \"type\": \"contourcarpet\"}], \"heatmap\": [{\"colorbar\": {\"outlinewidth\": 0, \"ticks\": \"\"}, \"colorscale\": [[0.0, \"#0d0887\"], [0.1111111111111111, \"#46039f\"], [0.2222222222222222, \"#7201a8\"], [0.3333333333333333, \"#9c179e\"], [0.4444444444444444, \"#bd3786\"], [0.5555555555555556, \"#d8576b\"], [0.6666666666666666, \"#ed7953\"], [0.7777777777777778, \"#fb9f3a\"], [0.8888888888888888, \"#fdca26\"], [1.0, \"#f0f921\"]], \"type\": \"heatmap\"}], \"heatmapgl\": [{\"colorbar\": {\"outlinewidth\": 0, \"ticks\": \"\"}, \"colorscale\": [[0.0, \"#0d0887\"], [0.1111111111111111, \"#46039f\"], [0.2222222222222222, \"#7201a8\"], [0.3333333333333333, \"#9c179e\"], [0.4444444444444444, \"#bd3786\"], [0.5555555555555556, \"#d8576b\"], [0.6666666666666666, \"#ed7953\"], [0.7777777777777778, \"#fb9f3a\"], [0.8888888888888888, \"#fdca26\"], [1.0, \"#f0f921\"]], \"type\": \"heatmapgl\"}], \"histogram\": [{\"marker\": {\"colorbar\": {\"outlinewidth\": 0, \"ticks\": \"\"}}, \"type\": \"histogram\"}], \"histogram2d\": [{\"colorbar\": {\"outlinewidth\": 0, \"ticks\": \"\"}, \"colorscale\": [[0.0, \"#0d0887\"], [0.1111111111111111, \"#46039f\"], [0.2222222222222222, \"#7201a8\"], [0.3333333333333333, \"#9c179e\"], [0.4444444444444444, \"#bd3786\"], [0.5555555555555556, \"#d8576b\"], [0.6666666666666666, \"#ed7953\"], [0.7777777777777778, \"#fb9f3a\"], [0.8888888888888888, \"#fdca26\"], [1.0, \"#f0f921\"]], \"type\": \"histogram2d\"}], \"histogram2dcontour\": [{\"colorbar\": {\"outlinewidth\": 0, \"ticks\": \"\"}, \"colorscale\": [[0.0, \"#0d0887\"], [0.1111111111111111, \"#46039f\"], [0.2222222222222222, \"#7201a8\"], [0.3333333333333333, \"#9c179e\"], [0.4444444444444444, \"#bd3786\"], [0.5555555555555556, \"#d8576b\"], [0.6666666666666666, \"#ed7953\"], [0.7777777777777778, \"#fb9f3a\"], [0.8888888888888888, \"#fdca26\"], [1.0, \"#f0f921\"]], \"type\": \"histogram2dcontour\"}], \"mesh3d\": [{\"colorbar\": {\"outlinewidth\": 0, \"ticks\": \"\"}, \"type\": \"mesh3d\"}], \"parcoords\": [{\"line\": {\"colorbar\": {\"outlinewidth\": 0, \"ticks\": \"\"}}, \"type\": \"parcoords\"}], \"pie\": [{\"automargin\": true, \"type\": \"pie\"}], \"scatter\": [{\"marker\": {\"colorbar\": {\"outlinewidth\": 0, \"ticks\": \"\"}}, \"type\": \"scatter\"}], \"scatter3d\": [{\"line\": {\"colorbar\": {\"outlinewidth\": 0, \"ticks\": \"\"}}, \"marker\": {\"colorbar\": {\"outlinewidth\": 0, \"ticks\": \"\"}}, \"type\": \"scatter3d\"}], \"scattercarpet\": [{\"marker\": {\"colorbar\": {\"outlinewidth\": 0, \"ticks\": \"\"}}, \"type\": \"scattercarpet\"}], \"scattergeo\": [{\"marker\": {\"colorbar\": {\"outlinewidth\": 0, \"ticks\": \"\"}}, \"type\": \"scattergeo\"}], \"scattergl\": [{\"marker\": {\"colorbar\": {\"outlinewidth\": 0, \"ticks\": \"\"}}, \"type\": \"scattergl\"}], \"scattermapbox\": [{\"marker\": {\"colorbar\": {\"outlinewidth\": 0, \"ticks\": \"\"}}, \"type\": \"scattermapbox\"}], \"scatterpolar\": [{\"marker\": {\"colorbar\": {\"outlinewidth\": 0, \"ticks\": \"\"}}, \"type\": \"scatterpolar\"}], \"scatterpolargl\": [{\"marker\": {\"colorbar\": {\"outlinewidth\": 0, \"ticks\": \"\"}}, \"type\": \"scatterpolargl\"}], \"scatterternary\": [{\"marker\": {\"colorbar\": {\"outlinewidth\": 0, \"ticks\": \"\"}}, \"type\": \"scatterternary\"}], \"surface\": [{\"colorbar\": {\"outlinewidth\": 0, \"ticks\": \"\"}, \"colorscale\": [[0.0, \"#0d0887\"], [0.1111111111111111, \"#46039f\"], [0.2222222222222222, \"#7201a8\"], [0.3333333333333333, \"#9c179e\"], [0.4444444444444444, \"#bd3786\"], [0.5555555555555556, \"#d8576b\"], [0.6666666666666666, \"#ed7953\"], [0.7777777777777778, \"#fb9f3a\"], [0.8888888888888888, \"#fdca26\"], [1.0, \"#f0f921\"]], \"type\": \"surface\"}], \"table\": [{\"cells\": {\"fill\": {\"color\": \"#EBF0F8\"}, \"line\": {\"color\": \"white\"}}, \"header\": {\"fill\": {\"color\": \"#C8D4E3\"}, \"line\": {\"color\": \"white\"}}, \"type\": \"table\"}]}, \"layout\": {\"annotationdefaults\": {\"arrowcolor\": \"#2a3f5f\", \"arrowhead\": 0, \"arrowwidth\": 1}, \"coloraxis\": {\"colorbar\": {\"outlinewidth\": 0, \"ticks\": \"\"}}, \"colorscale\": {\"diverging\": [[0, \"#8e0152\"], [0.1, \"#c51b7d\"], [0.2, \"#de77ae\"], [0.3, \"#f1b6da\"], [0.4, \"#fde0ef\"], [0.5, \"#f7f7f7\"], [0.6, \"#e6f5d0\"], [0.7, \"#b8e186\"], [0.8, \"#7fbc41\"], [0.9, \"#4d9221\"], [1, \"#276419\"]], \"sequential\": [[0.0, \"#0d0887\"], [0.1111111111111111, \"#46039f\"], [0.2222222222222222, \"#7201a8\"], [0.3333333333333333, \"#9c179e\"], [0.4444444444444444, \"#bd3786\"], [0.5555555555555556, \"#d8576b\"], [0.6666666666666666, \"#ed7953\"], [0.7777777777777778, \"#fb9f3a\"], [0.8888888888888888, \"#fdca26\"], [1.0, \"#f0f921\"]], \"sequentialminus\": [[0.0, \"#0d0887\"], [0.1111111111111111, \"#46039f\"], [0.2222222222222222, \"#7201a8\"], [0.3333333333333333, \"#9c179e\"], [0.4444444444444444, \"#bd3786\"], [0.5555555555555556, \"#d8576b\"], [0.6666666666666666, \"#ed7953\"], [0.7777777777777778, \"#fb9f3a\"], [0.8888888888888888, \"#fdca26\"], [1.0, \"#f0f921\"]]}, \"colorway\": [\"#636efa\", \"#EF553B\", \"#00cc96\", \"#ab63fa\", \"#FFA15A\", \"#19d3f3\", \"#FF6692\", \"#B6E880\", \"#FF97FF\", \"#FECB52\"], \"font\": {\"color\": \"#2a3f5f\"}, \"geo\": {\"bgcolor\": \"white\", \"lakecolor\": \"white\", \"landcolor\": \"#E5ECF6\", \"showlakes\": true, \"showland\": true, \"subunitcolor\": \"white\"}, \"hoverlabel\": {\"align\": \"left\"}, \"hovermode\": \"closest\", \"mapbox\": {\"style\": \"light\"}, \"paper_bgcolor\": \"white\", \"plot_bgcolor\": \"#E5ECF6\", \"polar\": {\"angularaxis\": {\"gridcolor\": \"white\", \"linecolor\": \"white\", \"ticks\": \"\"}, \"bgcolor\": \"#E5ECF6\", \"radialaxis\": {\"gridcolor\": \"white\", \"linecolor\": \"white\", \"ticks\": \"\"}}, \"scene\": {\"xaxis\": {\"backgroundcolor\": \"#E5ECF6\", \"gridcolor\": \"white\", \"gridwidth\": 2, \"linecolor\": \"white\", \"showbackground\": true, \"ticks\": \"\", \"zerolinecolor\": \"white\"}, \"yaxis\": {\"backgroundcolor\": \"#E5ECF6\", \"gridcolor\": \"white\", \"gridwidth\": 2, \"linecolor\": \"white\", \"showbackground\": true, \"ticks\": \"\", \"zerolinecolor\": \"white\"}, \"zaxis\": {\"backgroundcolor\": \"#E5ECF6\", \"gridcolor\": \"white\", \"gridwidth\": 2, \"linecolor\": \"white\", \"showbackground\": true, \"ticks\": \"\", \"zerolinecolor\": \"white\"}}, \"shapedefaults\": {\"line\": {\"color\": \"#2a3f5f\"}}, \"ternary\": {\"aaxis\": {\"gridcolor\": \"white\", \"linecolor\": \"white\", \"ticks\": \"\"}, \"baxis\": {\"gridcolor\": \"white\", \"linecolor\": \"white\", \"ticks\": \"\"}, \"bgcolor\": \"#E5ECF6\", \"caxis\": {\"gridcolor\": \"white\", \"linecolor\": \"white\", \"ticks\": \"\"}}, \"title\": {\"x\": 0.05}, \"xaxis\": {\"automargin\": true, \"gridcolor\": \"white\", \"linecolor\": \"white\", \"ticks\": \"\", \"title\": {\"standoff\": 15}, \"zerolinecolor\": \"white\", \"zerolinewidth\": 2}, \"yaxis\": {\"automargin\": true, \"gridcolor\": \"white\", \"linecolor\": \"white\", \"ticks\": \"\", \"title\": {\"standoff\": 15}, \"zerolinecolor\": \"white\", \"zerolinewidth\": 2}}}, \"title\": {\"text\": \"Top 20 Places by COVID-19 Tweet Percentage in April 2020\"}, \"width\": 800, \"xaxis\": {\"title\": {\"text\": \"Place Full Name\"}}, \"yaxis\": {\"title\": {\"text\": \"Tweet Percentage (%)\"}}},\n",
              "                        {\"responsive\": true}\n",
              "                    ).then(function(){\n",
              "                            \n",
              "var gd = document.getElementById('251ed671-cf7f-4444-9fc0-f105744fb2f4');\n",
              "var x = new MutationObserver(function (mutations, observer) {{\n",
              "        var display = window.getComputedStyle(gd).display;\n",
              "        if (!display || display === 'none') {{\n",
              "            console.log([gd, 'removed!']);\n",
              "            Plotly.purge(gd);\n",
              "            observer.disconnect();\n",
              "        }}\n",
              "}});\n",
              "\n",
              "// Listen for the removal of the full notebook cells\n",
              "var notebookContainer = gd.closest('#notebook-container');\n",
              "if (notebookContainer) {{\n",
              "    x.observe(notebookContainer, {childList: true});\n",
              "}}\n",
              "\n",
              "// Listen for the clearing of the current output cell\n",
              "var outputEl = gd.closest('.output');\n",
              "if (outputEl) {{\n",
              "    x.observe(outputEl, {childList: true});\n",
              "}}\n",
              "\n",
              "                        })\n",
              "                };\n",
              "                \n",
              "            </script>\n",
              "        </div>\n",
              "</body>\n",
              "</html>"
            ]
          },
          "metadata": {}
        }
      ]
    },
    {
      "cell_type": "markdown",
      "metadata": {
        "id": "Av0XBbXBTyAZ"
      },
      "source": [
        "The most frequent places among the geo-tagged tweets, were American cities, like Manhattan, Los Angeles, Brooklyn, etc. Indian, Nigerian, Kenyan, and Ugandan cities were also frequent. However, note that each of these geo-tagged places consisted less than 0.1% of the data. In other words, most tweets were predominantly missing geo-tags."
      ]
    },
    {
      "cell_type": "code",
      "metadata": {
        "colab": {
          "base_uri": "https://localhost:8080/"
        },
        "id": "nDkxQJpTn1j6",
        "outputId": "e6283612-dc88-4b2d-f137-d893de48ba4b"
      },
      "source": [
        "tweets['country_code'].value_counts()"
      ],
      "execution_count": 39,
      "outputs": [
        {
          "output_type": "execute_result",
          "data": {
            "text/plain": [
              "country_code NA    7753988\n",
              "US                  161212\n",
              "GB                   55894\n",
              "IN                   41618\n",
              "CA                   21169\n",
              "                    ...   \n",
              "PF                       2\n",
              "TO                       1\n",
              "PN                       1\n",
              "GF                       1\n",
              "GL                       1\n",
              "Name: country_code, Length: 217, dtype: int64"
            ]
          },
          "metadata": {},
          "execution_count": 39
        }
      ]
    },
    {
      "cell_type": "code",
      "metadata": {
        "colab": {
          "base_uri": "https://localhost:8080/",
          "height": 637
        },
        "id": "9SeYd4EcNToh",
        "outputId": "aad9c936-4a9e-436e-abb9-4208feb673f4"
      },
      "source": [
        "unique_country_code_counts = tweets['country_code'].value_counts()\n",
        "\n",
        "\n",
        "\n",
        "# Plot\n",
        "fig = go.Figure(data=[go.Bar(\n",
        "                            x= unique_country_code_counts.index,\n",
        "                            y=unique_country_code_counts,\n",
        "                             text=unique_country_code_counts,\n",
        "                             textposition='auto'\n",
        ")])\n",
        "fig.update_layout(\n",
        "    title='Distribution of Country Codes of COVID-19 Tweets made in April 2020',\n",
        "    xaxis_title='Country Code',\n",
        "    yaxis_title='Tweet Count (millions)',\n",
        "    width=800, height=600\n",
        ")\n",
        "fig.show()"
      ],
      "execution_count": 40,
      "outputs": [
        {
          "output_type": "display_data",
          "data": {
            "text/html": [
              "<html>\n",
              "<head><meta charset=\"utf-8\" /></head>\n",
              "<body>\n",
              "    <div>\n",
              "            <script src=\"https://cdnjs.cloudflare.com/ajax/libs/mathjax/2.7.5/MathJax.js?config=TeX-AMS-MML_SVG\"></script><script type=\"text/javascript\">if (window.MathJax) {MathJax.Hub.Config({SVG: {font: \"STIX-Web\"}});}</script>\n",
              "                <script type=\"text/javascript\">window.PlotlyConfig = {MathJaxConfig: 'local'};</script>\n",
              "        <script src=\"https://cdn.plot.ly/plotly-latest.min.js\"></script>    \n",
              "            <div id=\"0e6fbc2f-870d-4413-b8ab-543a1d5398b8\" class=\"plotly-graph-div\" style=\"height:600px; width:800px;\"></div>\n",
              "            <script type=\"text/javascript\">\n",
              "                \n",
              "                    window.PLOTLYENV=window.PLOTLYENV || {};\n",
              "                    \n",
              "                if (document.getElementById(\"0e6fbc2f-870d-4413-b8ab-543a1d5398b8\")) {\n",
              "                    Plotly.newPlot(\n",
              "                        '0e6fbc2f-870d-4413-b8ab-543a1d5398b8',\n",
              "                        [{\"text\": [7753988.0, 161212.0, 55894.0, 41618.0, 21169.0, 15189.0, 8095.0, 7123.0, 6886.0, 4956.0, 4779.0, 2371.0, 2370.0, 2246.0, 2154.0, 2008.0, 1968.0, 1788.0, 1750.0, 1719.0, 1666.0, 1461.0, 1440.0, 1346.0, 1316.0, 1182.0, 1153.0, 1004.0, 933.0, 910.0, 894.0, 850.0, 842.0, 667.0, 615.0, 575.0, 558.0, 557.0, 526.0, 524.0, 517.0, 515.0, 507.0, 473.0, 467.0, 457.0, 451.0, 448.0, 381.0, 380.0, 325.0, 309.0, 303.0, 292.0, 292.0, 289.0, 276.0, 260.0, 247.0, 245.0, 243.0, 239.0, 237.0, 226.0, 224.0, 221.0, 191.0, 179.0, 170.0, 163.0, 158.0, 157.0, 155.0, 139.0, 139.0, 139.0, 137.0, 134.0, 133.0, 129.0, 129.0, 123.0, 122.0, 121.0, 114.0, 113.0, 112.0, 112.0, 108.0, 108.0, 107.0, 99.0, 82.0, 78.0, 75.0, 74.0, 74.0, 74.0, 70.0, 69.0, 69.0, 69.0, 68.0, 67.0, 67.0, 66.0, 62.0, 62.0, 62.0, 56.0, 54.0, 53.0, 52.0, 51.0, 48.0, 48.0, 48.0, 46.0, 45.0, 42.0, 42.0, 39.0, 38.0, 37.0, 37.0, 35.0, 35.0, 35.0, 34.0, 34.0, 33.0, 31.0, 30.0, 29.0, 28.0, 27.0, 24.0, 24.0, 24.0, 23.0, 21.0, 21.0, 21.0, 20.0, 19.0, 19.0, 17.0, 17.0, 17.0, 16.0, 16.0, 16.0, 16.0, 15.0, 15.0, 15.0, 14.0, 14.0, 13.0, 13.0, 13.0, 13.0, 13.0, 12.0, 12.0, 12.0, 12.0, 11.0, 10.0, 10.0, 10.0, 10.0, 10.0, 10.0, 10.0, 9.0, 9.0, 9.0, 9.0, 9.0, 9.0, 9.0, 9.0, 8.0, 8.0, 8.0, 8.0, 8.0, 7.0, 7.0, 7.0, 7.0, 6.0, 6.0, 6.0, 5.0, 4.0, 4.0, 4.0, 4.0, 4.0, 3.0, 3.0, 3.0, 2.0, 2.0, 2.0, 2.0, 2.0, 2.0, 2.0, 2.0, 2.0, 1.0, 1.0, 1.0, 1.0], \"textposition\": \"auto\", \"type\": \"bar\", \"x\": [\"country_code NA\", \"US\", \"GB\", \"IN\", \"CA\", \"NG\", \"ZA\", \"AU\", \"IE\", \"PK\", \"KE\", \"UG\", \"PH\", \"GH\", \"DE\", \"IT\", \"ES\", \"AE\", \"NZ\", \"MY\", \"BE\", \"FR\", \"LK\", \"TH\", \"JP\", \"CN\", \"NL\", \"SA\", \"SG\", \"CH\", \"MV\", \"ID\", \"TR\", \"MX\", \"BD\", \"LB\", \"ZW\", \"IL\", \"TZ\", \"BR\", \"RW\", \"QA\", \"JM\", \"SE\", \"NP\", \"PL\", \"AT\", \"HK\", \"DK\", \"FJ\", \"SO\", \"IQ\", \"FI\", \"BW\", \"SL\", \"ET\", \"TW\", \"ZM\", \"NO\", \"KR\", \"PT\", \"OM\", \"GR\", \"VN\", \"EG\", \"KW\", \"TT\", \"GE\", \"AR\", \"RU\", \"CO\", \"CY\", \"AF\", \"IR\", \"BH\", \"HU\", \"RS\", \"JO\", \"AD\", \"CL\", \"CM\", \"XK\", \"CZ\", \"GM\", \"MA\", \"DJ\", \"RO\", \"PE\", \"GI\", \"MT\", \"MW\", \"EC\", \"TN\", \"MM\", \"CD\", \"CI\", \"SI\", \"AL\", \"HR\", \"SZ\", \"LS\", \"IS\", \"CR\", \"ME\", \"BM\", \"UA\", \"LU\", \"BA\", \"PA\", \"IM\", \"DZ\", \"BB\", \"VE\", \"BS\", \"SN\", \"KH\", \"LR\", \"LT\", \"PG\", \"SY\", \"SK\", \"HT\", \"LY\", \"KY\", \"DO\", \"CU\", \"GT\", \"BG\", \"BN\", \"BT\", \"AM\", \"MU\", \"MK\", \"KZ\", \"EE\", \"AZ\", \"MZ\", \"BO\", \"AO\", \"MC\", \"ML\", \"BJ\", \"KG\", \"SC\", \"NI\", \"MN\", \"AW\", \"VU\", \"VA\", \"SV\", \"BY\", \"UY\", \"BZ\", \"CG\", \"SX\", \"MQ\", \"HN\", \"TG\", \"LV\", \"SB\", \"PR\", \"VI\", \"LC\", \"GU\", \"GG\", \"GY\", \"PY\", \"LI\", \"GQ\", \"TL\", \"AG\", \"GW\", \"FO\", \"BI\", \"VG\", \"CW\", \"RE\", \"UZ\", \"MD\", \"BF\", \"CV\", \"KN\", \"SR\", \"GA\", \"TC\", \"NE\", \"DM\", \"UM\", \"GN\", \"PW\", \"TJ\", \"MO\", \"VC\", \"WS\", \"TM\", \"MG\", \"LA\", \"MP\", \"BQ\", \"GP\", \"JE\", \"FK\", \"YE\", \"AS\", \"TD\", \"NC\", \"GD\", \"SD\", \"AQ\", \"MR\", \"MF\", \"KP\", \"PF\", \"TO\", \"PN\", \"GF\", \"GL\"], \"y\": [7753988, 161212, 55894, 41618, 21169, 15189, 8095, 7123, 6886, 4956, 4779, 2371, 2370, 2246, 2154, 2008, 1968, 1788, 1750, 1719, 1666, 1461, 1440, 1346, 1316, 1182, 1153, 1004, 933, 910, 894, 850, 842, 667, 615, 575, 558, 557, 526, 524, 517, 515, 507, 473, 467, 457, 451, 448, 381, 380, 325, 309, 303, 292, 292, 289, 276, 260, 247, 245, 243, 239, 237, 226, 224, 221, 191, 179, 170, 163, 158, 157, 155, 139, 139, 139, 137, 134, 133, 129, 129, 123, 122, 121, 114, 113, 112, 112, 108, 108, 107, 99, 82, 78, 75, 74, 74, 74, 70, 69, 69, 69, 68, 67, 67, 66, 62, 62, 62, 56, 54, 53, 52, 51, 48, 48, 48, 46, 45, 42, 42, 39, 38, 37, 37, 35, 35, 35, 34, 34, 33, 31, 30, 29, 28, 27, 24, 24, 24, 23, 21, 21, 21, 20, 19, 19, 17, 17, 17, 16, 16, 16, 16, 15, 15, 15, 14, 14, 13, 13, 13, 13, 13, 12, 12, 12, 12, 11, 10, 10, 10, 10, 10, 10, 10, 9, 9, 9, 9, 9, 9, 9, 9, 8, 8, 8, 8, 8, 7, 7, 7, 7, 6, 6, 6, 5, 4, 4, 4, 4, 4, 3, 3, 3, 2, 2, 2, 2, 2, 2, 2, 2, 2, 1, 1, 1, 1]}],\n",
              "                        {\"height\": 600, \"template\": {\"data\": {\"bar\": [{\"error_x\": {\"color\": \"#2a3f5f\"}, \"error_y\": {\"color\": \"#2a3f5f\"}, \"marker\": {\"line\": {\"color\": \"#E5ECF6\", \"width\": 0.5}}, \"type\": \"bar\"}], \"barpolar\": [{\"marker\": {\"line\": {\"color\": \"#E5ECF6\", \"width\": 0.5}}, \"type\": \"barpolar\"}], \"carpet\": [{\"aaxis\": {\"endlinecolor\": \"#2a3f5f\", \"gridcolor\": \"white\", \"linecolor\": \"white\", \"minorgridcolor\": \"white\", \"startlinecolor\": \"#2a3f5f\"}, \"baxis\": {\"endlinecolor\": \"#2a3f5f\", \"gridcolor\": \"white\", \"linecolor\": \"white\", \"minorgridcolor\": \"white\", \"startlinecolor\": \"#2a3f5f\"}, \"type\": \"carpet\"}], \"choropleth\": [{\"colorbar\": {\"outlinewidth\": 0, \"ticks\": \"\"}, \"type\": \"choropleth\"}], \"contour\": [{\"colorbar\": {\"outlinewidth\": 0, \"ticks\": \"\"}, \"colorscale\": [[0.0, \"#0d0887\"], [0.1111111111111111, \"#46039f\"], [0.2222222222222222, \"#7201a8\"], [0.3333333333333333, \"#9c179e\"], [0.4444444444444444, \"#bd3786\"], [0.5555555555555556, \"#d8576b\"], [0.6666666666666666, \"#ed7953\"], [0.7777777777777778, \"#fb9f3a\"], [0.8888888888888888, \"#fdca26\"], [1.0, \"#f0f921\"]], \"type\": \"contour\"}], \"contourcarpet\": [{\"colorbar\": {\"outlinewidth\": 0, \"ticks\": \"\"}, \"type\": \"contourcarpet\"}], \"heatmap\": [{\"colorbar\": {\"outlinewidth\": 0, \"ticks\": \"\"}, \"colorscale\": [[0.0, \"#0d0887\"], [0.1111111111111111, \"#46039f\"], [0.2222222222222222, \"#7201a8\"], [0.3333333333333333, \"#9c179e\"], [0.4444444444444444, \"#bd3786\"], [0.5555555555555556, \"#d8576b\"], [0.6666666666666666, \"#ed7953\"], [0.7777777777777778, \"#fb9f3a\"], [0.8888888888888888, \"#fdca26\"], [1.0, \"#f0f921\"]], \"type\": \"heatmap\"}], \"heatmapgl\": [{\"colorbar\": {\"outlinewidth\": 0, \"ticks\": \"\"}, \"colorscale\": [[0.0, \"#0d0887\"], [0.1111111111111111, \"#46039f\"], [0.2222222222222222, \"#7201a8\"], [0.3333333333333333, \"#9c179e\"], [0.4444444444444444, \"#bd3786\"], [0.5555555555555556, \"#d8576b\"], [0.6666666666666666, \"#ed7953\"], [0.7777777777777778, \"#fb9f3a\"], [0.8888888888888888, \"#fdca26\"], [1.0, \"#f0f921\"]], \"type\": \"heatmapgl\"}], \"histogram\": [{\"marker\": {\"colorbar\": {\"outlinewidth\": 0, \"ticks\": \"\"}}, \"type\": \"histogram\"}], \"histogram2d\": [{\"colorbar\": {\"outlinewidth\": 0, \"ticks\": \"\"}, \"colorscale\": [[0.0, \"#0d0887\"], [0.1111111111111111, \"#46039f\"], [0.2222222222222222, \"#7201a8\"], [0.3333333333333333, \"#9c179e\"], [0.4444444444444444, \"#bd3786\"], [0.5555555555555556, \"#d8576b\"], [0.6666666666666666, \"#ed7953\"], [0.7777777777777778, \"#fb9f3a\"], [0.8888888888888888, \"#fdca26\"], [1.0, \"#f0f921\"]], \"type\": \"histogram2d\"}], \"histogram2dcontour\": [{\"colorbar\": {\"outlinewidth\": 0, \"ticks\": \"\"}, \"colorscale\": [[0.0, \"#0d0887\"], [0.1111111111111111, \"#46039f\"], [0.2222222222222222, \"#7201a8\"], [0.3333333333333333, \"#9c179e\"], [0.4444444444444444, \"#bd3786\"], [0.5555555555555556, \"#d8576b\"], [0.6666666666666666, \"#ed7953\"], [0.7777777777777778, \"#fb9f3a\"], [0.8888888888888888, \"#fdca26\"], [1.0, \"#f0f921\"]], \"type\": \"histogram2dcontour\"}], \"mesh3d\": [{\"colorbar\": {\"outlinewidth\": 0, \"ticks\": \"\"}, \"type\": \"mesh3d\"}], \"parcoords\": [{\"line\": {\"colorbar\": {\"outlinewidth\": 0, \"ticks\": \"\"}}, \"type\": \"parcoords\"}], \"pie\": [{\"automargin\": true, \"type\": \"pie\"}], \"scatter\": [{\"marker\": {\"colorbar\": {\"outlinewidth\": 0, \"ticks\": \"\"}}, \"type\": \"scatter\"}], \"scatter3d\": [{\"line\": {\"colorbar\": {\"outlinewidth\": 0, \"ticks\": \"\"}}, \"marker\": {\"colorbar\": {\"outlinewidth\": 0, \"ticks\": \"\"}}, \"type\": \"scatter3d\"}], \"scattercarpet\": [{\"marker\": {\"colorbar\": {\"outlinewidth\": 0, \"ticks\": \"\"}}, \"type\": \"scattercarpet\"}], \"scattergeo\": [{\"marker\": {\"colorbar\": {\"outlinewidth\": 0, \"ticks\": \"\"}}, \"type\": \"scattergeo\"}], \"scattergl\": [{\"marker\": {\"colorbar\": {\"outlinewidth\": 0, \"ticks\": \"\"}}, \"type\": \"scattergl\"}], \"scattermapbox\": [{\"marker\": {\"colorbar\": {\"outlinewidth\": 0, \"ticks\": \"\"}}, \"type\": \"scattermapbox\"}], \"scatterpolar\": [{\"marker\": {\"colorbar\": {\"outlinewidth\": 0, \"ticks\": \"\"}}, \"type\": \"scatterpolar\"}], \"scatterpolargl\": [{\"marker\": {\"colorbar\": {\"outlinewidth\": 0, \"ticks\": \"\"}}, \"type\": \"scatterpolargl\"}], \"scatterternary\": [{\"marker\": {\"colorbar\": {\"outlinewidth\": 0, \"ticks\": \"\"}}, \"type\": \"scatterternary\"}], \"surface\": [{\"colorbar\": {\"outlinewidth\": 0, \"ticks\": \"\"}, \"colorscale\": [[0.0, \"#0d0887\"], [0.1111111111111111, \"#46039f\"], [0.2222222222222222, \"#7201a8\"], [0.3333333333333333, \"#9c179e\"], [0.4444444444444444, \"#bd3786\"], [0.5555555555555556, \"#d8576b\"], [0.6666666666666666, \"#ed7953\"], [0.7777777777777778, \"#fb9f3a\"], [0.8888888888888888, \"#fdca26\"], [1.0, \"#f0f921\"]], \"type\": \"surface\"}], \"table\": [{\"cells\": {\"fill\": {\"color\": \"#EBF0F8\"}, \"line\": {\"color\": \"white\"}}, \"header\": {\"fill\": {\"color\": \"#C8D4E3\"}, \"line\": {\"color\": \"white\"}}, \"type\": \"table\"}]}, \"layout\": {\"annotationdefaults\": {\"arrowcolor\": \"#2a3f5f\", \"arrowhead\": 0, \"arrowwidth\": 1}, \"coloraxis\": {\"colorbar\": {\"outlinewidth\": 0, \"ticks\": \"\"}}, \"colorscale\": {\"diverging\": [[0, \"#8e0152\"], [0.1, \"#c51b7d\"], [0.2, \"#de77ae\"], [0.3, \"#f1b6da\"], [0.4, \"#fde0ef\"], [0.5, \"#f7f7f7\"], [0.6, \"#e6f5d0\"], [0.7, \"#b8e186\"], [0.8, \"#7fbc41\"], [0.9, \"#4d9221\"], [1, \"#276419\"]], \"sequential\": [[0.0, \"#0d0887\"], [0.1111111111111111, \"#46039f\"], [0.2222222222222222, \"#7201a8\"], [0.3333333333333333, \"#9c179e\"], [0.4444444444444444, \"#bd3786\"], [0.5555555555555556, \"#d8576b\"], [0.6666666666666666, \"#ed7953\"], [0.7777777777777778, \"#fb9f3a\"], [0.8888888888888888, \"#fdca26\"], [1.0, \"#f0f921\"]], \"sequentialminus\": [[0.0, \"#0d0887\"], [0.1111111111111111, \"#46039f\"], [0.2222222222222222, \"#7201a8\"], [0.3333333333333333, \"#9c179e\"], [0.4444444444444444, \"#bd3786\"], [0.5555555555555556, \"#d8576b\"], [0.6666666666666666, \"#ed7953\"], [0.7777777777777778, \"#fb9f3a\"], [0.8888888888888888, \"#fdca26\"], [1.0, \"#f0f921\"]]}, \"colorway\": [\"#636efa\", \"#EF553B\", \"#00cc96\", \"#ab63fa\", \"#FFA15A\", \"#19d3f3\", \"#FF6692\", \"#B6E880\", \"#FF97FF\", \"#FECB52\"], \"font\": {\"color\": \"#2a3f5f\"}, \"geo\": {\"bgcolor\": \"white\", \"lakecolor\": \"white\", \"landcolor\": \"#E5ECF6\", \"showlakes\": true, \"showland\": true, \"subunitcolor\": \"white\"}, \"hoverlabel\": {\"align\": \"left\"}, \"hovermode\": \"closest\", \"mapbox\": {\"style\": \"light\"}, \"paper_bgcolor\": \"white\", \"plot_bgcolor\": \"#E5ECF6\", \"polar\": {\"angularaxis\": {\"gridcolor\": \"white\", \"linecolor\": \"white\", \"ticks\": \"\"}, \"bgcolor\": \"#E5ECF6\", \"radialaxis\": {\"gridcolor\": \"white\", \"linecolor\": \"white\", \"ticks\": \"\"}}, \"scene\": {\"xaxis\": {\"backgroundcolor\": \"#E5ECF6\", \"gridcolor\": \"white\", \"gridwidth\": 2, \"linecolor\": \"white\", \"showbackground\": true, \"ticks\": \"\", \"zerolinecolor\": \"white\"}, \"yaxis\": {\"backgroundcolor\": \"#E5ECF6\", \"gridcolor\": \"white\", \"gridwidth\": 2, \"linecolor\": \"white\", \"showbackground\": true, \"ticks\": \"\", \"zerolinecolor\": \"white\"}, \"zaxis\": {\"backgroundcolor\": \"#E5ECF6\", \"gridcolor\": \"white\", \"gridwidth\": 2, \"linecolor\": \"white\", \"showbackground\": true, \"ticks\": \"\", \"zerolinecolor\": \"white\"}}, \"shapedefaults\": {\"line\": {\"color\": \"#2a3f5f\"}}, \"ternary\": {\"aaxis\": {\"gridcolor\": \"white\", \"linecolor\": \"white\", \"ticks\": \"\"}, \"baxis\": {\"gridcolor\": \"white\", \"linecolor\": \"white\", \"ticks\": \"\"}, \"bgcolor\": \"#E5ECF6\", \"caxis\": {\"gridcolor\": \"white\", \"linecolor\": \"white\", \"ticks\": \"\"}}, \"title\": {\"x\": 0.05}, \"xaxis\": {\"automargin\": true, \"gridcolor\": \"white\", \"linecolor\": \"white\", \"ticks\": \"\", \"title\": {\"standoff\": 15}, \"zerolinecolor\": \"white\", \"zerolinewidth\": 2}, \"yaxis\": {\"automargin\": true, \"gridcolor\": \"white\", \"linecolor\": \"white\", \"ticks\": \"\", \"title\": {\"standoff\": 15}, \"zerolinecolor\": \"white\", \"zerolinewidth\": 2}}}, \"title\": {\"text\": \"Distribution of Country Codes of COVID-19 Tweets made in April 2020\"}, \"width\": 800, \"xaxis\": {\"title\": {\"text\": \"Country Code\"}}, \"yaxis\": {\"title\": {\"text\": \"Tweet Count (millions)\"}}},\n",
              "                        {\"responsive\": true}\n",
              "                    ).then(function(){\n",
              "                            \n",
              "var gd = document.getElementById('0e6fbc2f-870d-4413-b8ab-543a1d5398b8');\n",
              "var x = new MutationObserver(function (mutations, observer) {{\n",
              "        var display = window.getComputedStyle(gd).display;\n",
              "        if (!display || display === 'none') {{\n",
              "            console.log([gd, 'removed!']);\n",
              "            Plotly.purge(gd);\n",
              "            observer.disconnect();\n",
              "        }}\n",
              "}});\n",
              "\n",
              "// Listen for the removal of the full notebook cells\n",
              "var notebookContainer = gd.closest('#notebook-container');\n",
              "if (notebookContainer) {{\n",
              "    x.observe(notebookContainer, {childList: true});\n",
              "}}\n",
              "\n",
              "// Listen for the clearing of the current output cell\n",
              "var outputEl = gd.closest('.output');\n",
              "if (outputEl) {{\n",
              "    x.observe(outputEl, {childList: true});\n",
              "}}\n",
              "\n",
              "                        })\n",
              "                };\n",
              "                \n",
              "            </script>\n",
              "        </div>\n",
              "</body>\n",
              "</html>"
            ]
          },
          "metadata": {}
        }
      ]
    },
    {
      "cell_type": "markdown",
      "metadata": {
        "id": "9dqkChP4OBmT"
      },
      "source": [
        "The majority of country codes were \"country_code NA\", meaning most tweets (7.8M) were not geo-tagged. Let's visualise the remaining country codes separately."
      ]
    },
    {
      "cell_type": "code",
      "metadata": {
        "colab": {
          "base_uri": "https://localhost:8080/",
          "height": 741
        },
        "id": "-4DlNcp1OTqg",
        "outputId": "a54e3f2e-4fdb-4225-9a5a-e752735e311a"
      },
      "source": [
        "unique_country_code_counts_minus_NA = tweets['country_code'].value_counts()[1:21]\n",
        "display(unique_country_code_counts_minus_NA.head())\n",
        "\n",
        "# Plot\n",
        "fig = go.Figure(data=[go.Bar(\n",
        "                            x= unique_country_code_counts_minus_NA.index,\n",
        "                            y=unique_country_code_counts_minus_NA,\n",
        "                             text=unique_country_code_counts_minus_NA,\n",
        "                             textposition='auto'\n",
        ")])\n",
        "fig.update_layout(\n",
        "    title='Top 20 Country Codes by COVID-19 Tweet Count in April 2020',\n",
        "    xaxis_title='Country Code',\n",
        "    yaxis_title='Tweet Count',\n",
        "    width=800, height=600\n",
        ")\n",
        "fig.show()"
      ],
      "execution_count": 41,
      "outputs": [
        {
          "output_type": "display_data",
          "data": {
            "text/plain": [
              "US    161212\n",
              "GB     55894\n",
              "IN     41618\n",
              "CA     21169\n",
              "NG     15189\n",
              "Name: country_code, dtype: int64"
            ]
          },
          "metadata": {}
        },
        {
          "output_type": "display_data",
          "data": {
            "text/html": [
              "<html>\n",
              "<head><meta charset=\"utf-8\" /></head>\n",
              "<body>\n",
              "    <div>\n",
              "            <script src=\"https://cdnjs.cloudflare.com/ajax/libs/mathjax/2.7.5/MathJax.js?config=TeX-AMS-MML_SVG\"></script><script type=\"text/javascript\">if (window.MathJax) {MathJax.Hub.Config({SVG: {font: \"STIX-Web\"}});}</script>\n",
              "                <script type=\"text/javascript\">window.PlotlyConfig = {MathJaxConfig: 'local'};</script>\n",
              "        <script src=\"https://cdn.plot.ly/plotly-latest.min.js\"></script>    \n",
              "            <div id=\"8ee8c2b2-8e09-4d43-a143-c57af7f6780c\" class=\"plotly-graph-div\" style=\"height:600px; width:800px;\"></div>\n",
              "            <script type=\"text/javascript\">\n",
              "                \n",
              "                    window.PLOTLYENV=window.PLOTLYENV || {};\n",
              "                    \n",
              "                if (document.getElementById(\"8ee8c2b2-8e09-4d43-a143-c57af7f6780c\")) {\n",
              "                    Plotly.newPlot(\n",
              "                        '8ee8c2b2-8e09-4d43-a143-c57af7f6780c',\n",
              "                        [{\"text\": [161212.0, 55894.0, 41618.0, 21169.0, 15189.0, 8095.0, 7123.0, 6886.0, 4956.0, 4779.0, 2371.0, 2370.0, 2246.0, 2154.0, 2008.0, 1968.0, 1788.0, 1750.0, 1719.0, 1666.0], \"textposition\": \"auto\", \"type\": \"bar\", \"x\": [\"US\", \"GB\", \"IN\", \"CA\", \"NG\", \"ZA\", \"AU\", \"IE\", \"PK\", \"KE\", \"UG\", \"PH\", \"GH\", \"DE\", \"IT\", \"ES\", \"AE\", \"NZ\", \"MY\", \"BE\"], \"y\": [161212, 55894, 41618, 21169, 15189, 8095, 7123, 6886, 4956, 4779, 2371, 2370, 2246, 2154, 2008, 1968, 1788, 1750, 1719, 1666]}],\n",
              "                        {\"height\": 600, \"template\": {\"data\": {\"bar\": [{\"error_x\": {\"color\": \"#2a3f5f\"}, \"error_y\": {\"color\": \"#2a3f5f\"}, \"marker\": {\"line\": {\"color\": \"#E5ECF6\", \"width\": 0.5}}, \"type\": \"bar\"}], \"barpolar\": [{\"marker\": {\"line\": {\"color\": \"#E5ECF6\", \"width\": 0.5}}, \"type\": \"barpolar\"}], \"carpet\": [{\"aaxis\": {\"endlinecolor\": \"#2a3f5f\", \"gridcolor\": \"white\", \"linecolor\": \"white\", \"minorgridcolor\": \"white\", \"startlinecolor\": \"#2a3f5f\"}, \"baxis\": {\"endlinecolor\": \"#2a3f5f\", \"gridcolor\": \"white\", \"linecolor\": \"white\", \"minorgridcolor\": \"white\", \"startlinecolor\": \"#2a3f5f\"}, \"type\": \"carpet\"}], \"choropleth\": [{\"colorbar\": {\"outlinewidth\": 0, \"ticks\": \"\"}, \"type\": \"choropleth\"}], \"contour\": [{\"colorbar\": {\"outlinewidth\": 0, \"ticks\": \"\"}, \"colorscale\": [[0.0, \"#0d0887\"], [0.1111111111111111, \"#46039f\"], [0.2222222222222222, \"#7201a8\"], [0.3333333333333333, \"#9c179e\"], [0.4444444444444444, \"#bd3786\"], [0.5555555555555556, \"#d8576b\"], [0.6666666666666666, \"#ed7953\"], [0.7777777777777778, \"#fb9f3a\"], [0.8888888888888888, \"#fdca26\"], [1.0, \"#f0f921\"]], \"type\": \"contour\"}], \"contourcarpet\": [{\"colorbar\": {\"outlinewidth\": 0, \"ticks\": \"\"}, \"type\": \"contourcarpet\"}], \"heatmap\": [{\"colorbar\": {\"outlinewidth\": 0, \"ticks\": \"\"}, \"colorscale\": [[0.0, \"#0d0887\"], [0.1111111111111111, \"#46039f\"], [0.2222222222222222, \"#7201a8\"], [0.3333333333333333, \"#9c179e\"], [0.4444444444444444, \"#bd3786\"], [0.5555555555555556, \"#d8576b\"], [0.6666666666666666, \"#ed7953\"], [0.7777777777777778, \"#fb9f3a\"], [0.8888888888888888, \"#fdca26\"], [1.0, \"#f0f921\"]], \"type\": \"heatmap\"}], \"heatmapgl\": [{\"colorbar\": {\"outlinewidth\": 0, \"ticks\": \"\"}, \"colorscale\": [[0.0, \"#0d0887\"], [0.1111111111111111, \"#46039f\"], [0.2222222222222222, \"#7201a8\"], [0.3333333333333333, \"#9c179e\"], [0.4444444444444444, \"#bd3786\"], [0.5555555555555556, \"#d8576b\"], [0.6666666666666666, \"#ed7953\"], [0.7777777777777778, \"#fb9f3a\"], [0.8888888888888888, \"#fdca26\"], [1.0, \"#f0f921\"]], \"type\": \"heatmapgl\"}], \"histogram\": [{\"marker\": {\"colorbar\": {\"outlinewidth\": 0, \"ticks\": \"\"}}, \"type\": \"histogram\"}], \"histogram2d\": [{\"colorbar\": {\"outlinewidth\": 0, \"ticks\": \"\"}, \"colorscale\": [[0.0, \"#0d0887\"], [0.1111111111111111, \"#46039f\"], [0.2222222222222222, \"#7201a8\"], [0.3333333333333333, \"#9c179e\"], [0.4444444444444444, \"#bd3786\"], [0.5555555555555556, \"#d8576b\"], [0.6666666666666666, \"#ed7953\"], [0.7777777777777778, \"#fb9f3a\"], [0.8888888888888888, \"#fdca26\"], [1.0, \"#f0f921\"]], \"type\": \"histogram2d\"}], \"histogram2dcontour\": [{\"colorbar\": {\"outlinewidth\": 0, \"ticks\": \"\"}, \"colorscale\": [[0.0, \"#0d0887\"], [0.1111111111111111, \"#46039f\"], [0.2222222222222222, \"#7201a8\"], [0.3333333333333333, \"#9c179e\"], [0.4444444444444444, \"#bd3786\"], [0.5555555555555556, \"#d8576b\"], [0.6666666666666666, \"#ed7953\"], [0.7777777777777778, \"#fb9f3a\"], [0.8888888888888888, \"#fdca26\"], [1.0, \"#f0f921\"]], \"type\": \"histogram2dcontour\"}], \"mesh3d\": [{\"colorbar\": {\"outlinewidth\": 0, \"ticks\": \"\"}, \"type\": \"mesh3d\"}], \"parcoords\": [{\"line\": {\"colorbar\": {\"outlinewidth\": 0, \"ticks\": \"\"}}, \"type\": \"parcoords\"}], \"pie\": [{\"automargin\": true, \"type\": \"pie\"}], \"scatter\": [{\"marker\": {\"colorbar\": {\"outlinewidth\": 0, \"ticks\": \"\"}}, \"type\": \"scatter\"}], \"scatter3d\": [{\"line\": {\"colorbar\": {\"outlinewidth\": 0, \"ticks\": \"\"}}, \"marker\": {\"colorbar\": {\"outlinewidth\": 0, \"ticks\": \"\"}}, \"type\": \"scatter3d\"}], \"scattercarpet\": [{\"marker\": {\"colorbar\": {\"outlinewidth\": 0, \"ticks\": \"\"}}, \"type\": \"scattercarpet\"}], \"scattergeo\": [{\"marker\": {\"colorbar\": {\"outlinewidth\": 0, \"ticks\": \"\"}}, \"type\": \"scattergeo\"}], \"scattergl\": [{\"marker\": {\"colorbar\": {\"outlinewidth\": 0, \"ticks\": \"\"}}, \"type\": \"scattergl\"}], \"scattermapbox\": [{\"marker\": {\"colorbar\": {\"outlinewidth\": 0, \"ticks\": \"\"}}, \"type\": \"scattermapbox\"}], \"scatterpolar\": [{\"marker\": {\"colorbar\": {\"outlinewidth\": 0, \"ticks\": \"\"}}, \"type\": \"scatterpolar\"}], \"scatterpolargl\": [{\"marker\": {\"colorbar\": {\"outlinewidth\": 0, \"ticks\": \"\"}}, \"type\": \"scatterpolargl\"}], \"scatterternary\": [{\"marker\": {\"colorbar\": {\"outlinewidth\": 0, \"ticks\": \"\"}}, \"type\": \"scatterternary\"}], \"surface\": [{\"colorbar\": {\"outlinewidth\": 0, \"ticks\": \"\"}, \"colorscale\": [[0.0, \"#0d0887\"], [0.1111111111111111, \"#46039f\"], [0.2222222222222222, \"#7201a8\"], [0.3333333333333333, \"#9c179e\"], [0.4444444444444444, \"#bd3786\"], [0.5555555555555556, \"#d8576b\"], [0.6666666666666666, \"#ed7953\"], [0.7777777777777778, \"#fb9f3a\"], [0.8888888888888888, \"#fdca26\"], [1.0, \"#f0f921\"]], \"type\": \"surface\"}], \"table\": [{\"cells\": {\"fill\": {\"color\": \"#EBF0F8\"}, \"line\": {\"color\": \"white\"}}, \"header\": {\"fill\": {\"color\": \"#C8D4E3\"}, \"line\": {\"color\": \"white\"}}, \"type\": \"table\"}]}, \"layout\": {\"annotationdefaults\": {\"arrowcolor\": \"#2a3f5f\", \"arrowhead\": 0, \"arrowwidth\": 1}, \"coloraxis\": {\"colorbar\": {\"outlinewidth\": 0, \"ticks\": \"\"}}, \"colorscale\": {\"diverging\": [[0, \"#8e0152\"], [0.1, \"#c51b7d\"], [0.2, \"#de77ae\"], [0.3, \"#f1b6da\"], [0.4, \"#fde0ef\"], [0.5, \"#f7f7f7\"], [0.6, \"#e6f5d0\"], [0.7, \"#b8e186\"], [0.8, \"#7fbc41\"], [0.9, \"#4d9221\"], [1, \"#276419\"]], \"sequential\": [[0.0, \"#0d0887\"], [0.1111111111111111, \"#46039f\"], [0.2222222222222222, \"#7201a8\"], [0.3333333333333333, \"#9c179e\"], [0.4444444444444444, \"#bd3786\"], [0.5555555555555556, \"#d8576b\"], [0.6666666666666666, \"#ed7953\"], [0.7777777777777778, \"#fb9f3a\"], [0.8888888888888888, \"#fdca26\"], [1.0, \"#f0f921\"]], \"sequentialminus\": [[0.0, \"#0d0887\"], [0.1111111111111111, \"#46039f\"], [0.2222222222222222, \"#7201a8\"], [0.3333333333333333, \"#9c179e\"], [0.4444444444444444, \"#bd3786\"], [0.5555555555555556, \"#d8576b\"], [0.6666666666666666, \"#ed7953\"], [0.7777777777777778, \"#fb9f3a\"], [0.8888888888888888, \"#fdca26\"], [1.0, \"#f0f921\"]]}, \"colorway\": [\"#636efa\", \"#EF553B\", \"#00cc96\", \"#ab63fa\", \"#FFA15A\", \"#19d3f3\", \"#FF6692\", \"#B6E880\", \"#FF97FF\", \"#FECB52\"], \"font\": {\"color\": \"#2a3f5f\"}, \"geo\": {\"bgcolor\": \"white\", \"lakecolor\": \"white\", \"landcolor\": \"#E5ECF6\", \"showlakes\": true, \"showland\": true, \"subunitcolor\": \"white\"}, \"hoverlabel\": {\"align\": \"left\"}, \"hovermode\": \"closest\", \"mapbox\": {\"style\": \"light\"}, \"paper_bgcolor\": \"white\", \"plot_bgcolor\": \"#E5ECF6\", \"polar\": {\"angularaxis\": {\"gridcolor\": \"white\", \"linecolor\": \"white\", \"ticks\": \"\"}, \"bgcolor\": \"#E5ECF6\", \"radialaxis\": {\"gridcolor\": \"white\", \"linecolor\": \"white\", \"ticks\": \"\"}}, \"scene\": {\"xaxis\": {\"backgroundcolor\": \"#E5ECF6\", \"gridcolor\": \"white\", \"gridwidth\": 2, \"linecolor\": \"white\", \"showbackground\": true, \"ticks\": \"\", \"zerolinecolor\": \"white\"}, \"yaxis\": {\"backgroundcolor\": \"#E5ECF6\", \"gridcolor\": \"white\", \"gridwidth\": 2, \"linecolor\": \"white\", \"showbackground\": true, \"ticks\": \"\", \"zerolinecolor\": \"white\"}, \"zaxis\": {\"backgroundcolor\": \"#E5ECF6\", \"gridcolor\": \"white\", \"gridwidth\": 2, \"linecolor\": \"white\", \"showbackground\": true, \"ticks\": \"\", \"zerolinecolor\": \"white\"}}, \"shapedefaults\": {\"line\": {\"color\": \"#2a3f5f\"}}, \"ternary\": {\"aaxis\": {\"gridcolor\": \"white\", \"linecolor\": \"white\", \"ticks\": \"\"}, \"baxis\": {\"gridcolor\": \"white\", \"linecolor\": \"white\", \"ticks\": \"\"}, \"bgcolor\": \"#E5ECF6\", \"caxis\": {\"gridcolor\": \"white\", \"linecolor\": \"white\", \"ticks\": \"\"}}, \"title\": {\"x\": 0.05}, \"xaxis\": {\"automargin\": true, \"gridcolor\": \"white\", \"linecolor\": \"white\", \"ticks\": \"\", \"title\": {\"standoff\": 15}, \"zerolinecolor\": \"white\", \"zerolinewidth\": 2}, \"yaxis\": {\"automargin\": true, \"gridcolor\": \"white\", \"linecolor\": \"white\", \"ticks\": \"\", \"title\": {\"standoff\": 15}, \"zerolinecolor\": \"white\", \"zerolinewidth\": 2}}}, \"title\": {\"text\": \"Top 20 Country Codes by COVID-19 Tweet Count in April 2020\"}, \"width\": 800, \"xaxis\": {\"title\": {\"text\": \"Country Code\"}}, \"yaxis\": {\"title\": {\"text\": \"Tweet Count\"}}},\n",
              "                        {\"responsive\": true}\n",
              "                    ).then(function(){\n",
              "                            \n",
              "var gd = document.getElementById('8ee8c2b2-8e09-4d43-a143-c57af7f6780c');\n",
              "var x = new MutationObserver(function (mutations, observer) {{\n",
              "        var display = window.getComputedStyle(gd).display;\n",
              "        if (!display || display === 'none') {{\n",
              "            console.log([gd, 'removed!']);\n",
              "            Plotly.purge(gd);\n",
              "            observer.disconnect();\n",
              "        }}\n",
              "}});\n",
              "\n",
              "// Listen for the removal of the full notebook cells\n",
              "var notebookContainer = gd.closest('#notebook-container');\n",
              "if (notebookContainer) {{\n",
              "    x.observe(notebookContainer, {childList: true});\n",
              "}}\n",
              "\n",
              "// Listen for the clearing of the current output cell\n",
              "var outputEl = gd.closest('.output');\n",
              "if (outputEl) {{\n",
              "    x.observe(outputEl, {childList: true});\n",
              "}}\n",
              "\n",
              "                        })\n",
              "                };\n",
              "                \n",
              "            </script>\n",
              "        </div>\n",
              "</body>\n",
              "</html>"
            ]
          },
          "metadata": {}
        }
      ]
    },
    {
      "cell_type": "markdown",
      "metadata": {
        "id": "ROiQA1d4QTks"
      },
      "source": [
        "We can see that the United States (US) generated most COVID-19 related tweets in April, 2020, by a significant margin. The United Kingdom (GB) generated the second highest tweet count. India (IN) took the third place. Canada (CA) and Nigeria (NG) took the fourth and fifth place, respectively. \n",
        "\n",
        "Note that this dataset contains only English tweets from the original dataset, which had a variety of languages. Because this dataset is only consisted of English tweets, English-speaking or countries where many people speak English, like the US, UK, India, Canada, Nigeria are over-represented here."
      ]
    },
    {
      "cell_type": "markdown",
      "metadata": {
        "id": "9rraGGPkQ_kh"
      },
      "source": [
        "## Check for Duplicated Rows"
      ]
    },
    {
      "cell_type": "markdown",
      "metadata": {
        "id": "ZdGkgHYRDXMt"
      },
      "source": [
        "Let's investigate if there are any duplicated rows."
      ]
    },
    {
      "cell_type": "code",
      "metadata": {
        "colab": {
          "base_uri": "https://localhost:8080/",
          "height": 822
        },
        "id": "MqkMy6dkOcV2",
        "outputId": "6852eeeb-2794-43aa-ed76-48f5387615a4"
      },
      "source": [
        "# print how many rows are duplicated\n",
        "print(f'Number of duplicated rows: {tweets.duplicated().sum()}')\n",
        "\n",
        "print(f'Percentage of duplicated rows: {tweets.duplicated().mean()*100}%')\n",
        "\n",
        "# show the duplicated rows\n",
        "duplicate_index = tweets.duplicated(keep=False)\n",
        "tweets.loc[duplicate_index, :]"
      ],
      "execution_count": 42,
      "outputs": [
        {
          "output_type": "stream",
          "name": "stdout",
          "text": [
            "Number of duplicated rows: 398\n",
            "Percentage of duplicated rows: 0.00489321962048287%\n"
          ]
        },
        {
          "output_type": "execute_result",
          "data": {
            "text/html": [
              "<div>\n",
              "<style scoped>\n",
              "    .dataframe tbody tr th:only-of-type {\n",
              "        vertical-align: middle;\n",
              "    }\n",
              "\n",
              "    .dataframe tbody tr th {\n",
              "        vertical-align: top;\n",
              "    }\n",
              "\n",
              "    .dataframe thead th {\n",
              "        text-align: right;\n",
              "    }\n",
              "</style>\n",
              "<table border=\"1\" class=\"dataframe\">\n",
              "  <thead>\n",
              "    <tr style=\"text-align: right;\">\n",
              "      <th></th>\n",
              "      <th>status_id</th>\n",
              "      <th>user_id</th>\n",
              "      <th>created_at</th>\n",
              "      <th>screen_name</th>\n",
              "      <th>text</th>\n",
              "      <th>source</th>\n",
              "      <th>reply_to_status_id</th>\n",
              "      <th>reply_to_user_id</th>\n",
              "      <th>is_quote</th>\n",
              "      <th>is_retweet</th>\n",
              "      <th>favourites_count</th>\n",
              "      <th>retweet_count</th>\n",
              "      <th>country_code</th>\n",
              "      <th>place_full_name</th>\n",
              "      <th>place_type</th>\n",
              "      <th>followers_count</th>\n",
              "      <th>friends_count</th>\n",
              "      <th>account_created_at</th>\n",
              "      <th>verified</th>\n",
              "      <th>lang</th>\n",
              "    </tr>\n",
              "  </thead>\n",
              "  <tbody>\n",
              "    <tr>\n",
              "      <th>65</th>\n",
              "      <td>1244051665642192896</td>\n",
              "      <td>3064266184</td>\n",
              "      <td>2020-03-29 00:00:05</td>\n",
              "      <td>techjunkiejh</td>\n",
              "      <td>Doors slam shut across borderless Europe as #c...</td>\n",
              "      <td>Buffer</td>\n",
              "      <td>&lt;NA&gt;</td>\n",
              "      <td>&lt;NA&gt;</td>\n",
              "      <td>False</td>\n",
              "      <td>False</td>\n",
              "      <td>14818</td>\n",
              "      <td>0</td>\n",
              "      <td>country_code NA</td>\n",
              "      <td>place_full_name NA</td>\n",
              "      <td>place_type NA</td>\n",
              "      <td>28982</td>\n",
              "      <td>25081</td>\n",
              "      <td>2015-02-27 00:58:22</td>\n",
              "      <td>False</td>\n",
              "      <td>en</td>\n",
              "    </tr>\n",
              "    <tr>\n",
              "      <th>67</th>\n",
              "      <td>1244051665642192896</td>\n",
              "      <td>3064266184</td>\n",
              "      <td>2020-03-29 00:00:05</td>\n",
              "      <td>techjunkiejh</td>\n",
              "      <td>Doors slam shut across borderless Europe as #c...</td>\n",
              "      <td>Buffer</td>\n",
              "      <td>&lt;NA&gt;</td>\n",
              "      <td>&lt;NA&gt;</td>\n",
              "      <td>False</td>\n",
              "      <td>False</td>\n",
              "      <td>14818</td>\n",
              "      <td>0</td>\n",
              "      <td>country_code NA</td>\n",
              "      <td>place_full_name NA</td>\n",
              "      <td>place_type NA</td>\n",
              "      <td>28982</td>\n",
              "      <td>25081</td>\n",
              "      <td>2015-02-27 00:58:22</td>\n",
              "      <td>False</td>\n",
              "      <td>en</td>\n",
              "    </tr>\n",
              "    <tr>\n",
              "      <th>11311</th>\n",
              "      <td>1244067805265305600</td>\n",
              "      <td>1532718984</td>\n",
              "      <td>2020-03-29 01:04:13</td>\n",
              "      <td>marcfavell</td>\n",
              "      <td>@drninashapiro my Condolences from 🇨🇦🇨🇦🇨🇦#Wind...</td>\n",
              "      <td>Twitter for Android</td>\n",
              "      <td>1243960408131551232</td>\n",
              "      <td>253810773</td>\n",
              "      <td>False</td>\n",
              "      <td>False</td>\n",
              "      <td>763</td>\n",
              "      <td>0</td>\n",
              "      <td>country_code NA</td>\n",
              "      <td>place_full_name NA</td>\n",
              "      <td>place_type NA</td>\n",
              "      <td>106</td>\n",
              "      <td>768</td>\n",
              "      <td>2013-06-20 03:54:23</td>\n",
              "      <td>False</td>\n",
              "      <td>en</td>\n",
              "    </tr>\n",
              "    <tr>\n",
              "      <th>11312</th>\n",
              "      <td>1244067805265305600</td>\n",
              "      <td>1532718984</td>\n",
              "      <td>2020-03-29 01:04:13</td>\n",
              "      <td>marcfavell</td>\n",
              "      <td>@drninashapiro my Condolences from 🇨🇦🇨🇦🇨🇦#Wind...</td>\n",
              "      <td>Twitter for Android</td>\n",
              "      <td>1243960408131551232</td>\n",
              "      <td>253810773</td>\n",
              "      <td>False</td>\n",
              "      <td>False</td>\n",
              "      <td>763</td>\n",
              "      <td>0</td>\n",
              "      <td>country_code NA</td>\n",
              "      <td>place_full_name NA</td>\n",
              "      <td>place_type NA</td>\n",
              "      <td>106</td>\n",
              "      <td>768</td>\n",
              "      <td>2013-06-20 03:54:23</td>\n",
              "      <td>False</td>\n",
              "      <td>en</td>\n",
              "    </tr>\n",
              "    <tr>\n",
              "      <th>30914</th>\n",
              "      <td>1244098805093597184</td>\n",
              "      <td>3326054230</td>\n",
              "      <td>2020-03-29 03:07:24</td>\n",
              "      <td>mariadestrella</td>\n",
              "      <td>Rhode Island Actively Stopping New Yorkers to ...</td>\n",
              "      <td>Twitter for iPhone</td>\n",
              "      <td>&lt;NA&gt;</td>\n",
              "      <td>&lt;NA&gt;</td>\n",
              "      <td>False</td>\n",
              "      <td>False</td>\n",
              "      <td>121499</td>\n",
              "      <td>0</td>\n",
              "      <td>country_code NA</td>\n",
              "      <td>place_full_name NA</td>\n",
              "      <td>place_type NA</td>\n",
              "      <td>1256</td>\n",
              "      <td>279</td>\n",
              "      <td>2015-06-15 01:51:50</td>\n",
              "      <td>False</td>\n",
              "      <td>en</td>\n",
              "    </tr>\n",
              "    <tr>\n",
              "      <th>...</th>\n",
              "      <td>...</td>\n",
              "      <td>...</td>\n",
              "      <td>...</td>\n",
              "      <td>...</td>\n",
              "      <td>...</td>\n",
              "      <td>...</td>\n",
              "      <td>...</td>\n",
              "      <td>...</td>\n",
              "      <td>...</td>\n",
              "      <td>...</td>\n",
              "      <td>...</td>\n",
              "      <td>...</td>\n",
              "      <td>...</td>\n",
              "      <td>...</td>\n",
              "      <td>...</td>\n",
              "      <td>...</td>\n",
              "      <td>...</td>\n",
              "      <td>...</td>\n",
              "      <td>...</td>\n",
              "      <td>...</td>\n",
              "    </tr>\n",
              "    <tr>\n",
              "      <th>8088371</th>\n",
              "      <td>1255923136417193992</td>\n",
              "      <td>1141041981390565376</td>\n",
              "      <td>2020-04-30 18:13:04</td>\n",
              "      <td>kate_hosk</td>\n",
              "      <td>@itvnews Best news due to #coronavirus 👏👏👏👏👏\\n...</td>\n",
              "      <td>Twitter for Android</td>\n",
              "      <td>1255918612092764160</td>\n",
              "      <td>21866939</td>\n",
              "      <td>False</td>\n",
              "      <td>False</td>\n",
              "      <td>4521</td>\n",
              "      <td>0</td>\n",
              "      <td>country_code NA</td>\n",
              "      <td>place_full_name NA</td>\n",
              "      <td>place_type NA</td>\n",
              "      <td>1</td>\n",
              "      <td>111</td>\n",
              "      <td>2019-06-18 17:56:22</td>\n",
              "      <td>False</td>\n",
              "      <td>en</td>\n",
              "    </tr>\n",
              "    <tr>\n",
              "      <th>8102057</th>\n",
              "      <td>1255945376374407168</td>\n",
              "      <td>50023846</td>\n",
              "      <td>2020-04-30 19:41:26</td>\n",
              "      <td>JGaryDewberry</td>\n",
              "      <td>#covid19 declared not man-made, so who did it ...</td>\n",
              "      <td>Twitter Web App</td>\n",
              "      <td>&lt;NA&gt;</td>\n",
              "      <td>&lt;NA&gt;</td>\n",
              "      <td>False</td>\n",
              "      <td>False</td>\n",
              "      <td>13865</td>\n",
              "      <td>0</td>\n",
              "      <td>country_code NA</td>\n",
              "      <td>place_full_name NA</td>\n",
              "      <td>place_type NA</td>\n",
              "      <td>3943</td>\n",
              "      <td>4254</td>\n",
              "      <td>2009-06-23 16:31:54</td>\n",
              "      <td>False</td>\n",
              "      <td>en</td>\n",
              "    </tr>\n",
              "    <tr>\n",
              "      <th>8102058</th>\n",
              "      <td>1255945376374407168</td>\n",
              "      <td>50023846</td>\n",
              "      <td>2020-04-30 19:41:26</td>\n",
              "      <td>JGaryDewberry</td>\n",
              "      <td>#covid19 declared not man-made, so who did it ...</td>\n",
              "      <td>Twitter Web App</td>\n",
              "      <td>&lt;NA&gt;</td>\n",
              "      <td>&lt;NA&gt;</td>\n",
              "      <td>False</td>\n",
              "      <td>False</td>\n",
              "      <td>13865</td>\n",
              "      <td>0</td>\n",
              "      <td>country_code NA</td>\n",
              "      <td>place_full_name NA</td>\n",
              "      <td>place_type NA</td>\n",
              "      <td>3943</td>\n",
              "      <td>4254</td>\n",
              "      <td>2009-06-23 16:31:54</td>\n",
              "      <td>False</td>\n",
              "      <td>en</td>\n",
              "    </tr>\n",
              "    <tr>\n",
              "      <th>8120763</th>\n",
              "      <td>1255980826157879296</td>\n",
              "      <td>1159243226</td>\n",
              "      <td>2020-04-30 22:02:18</td>\n",
              "      <td>Boo_Boo_TheBear</td>\n",
              "      <td>@0164948345aa439 @thomaskaine5 The reason why ...</td>\n",
              "      <td>Twitter Web App</td>\n",
              "      <td>1255980225667743488</td>\n",
              "      <td>1159243226</td>\n",
              "      <td>False</td>\n",
              "      <td>False</td>\n",
              "      <td>221</td>\n",
              "      <td>0</td>\n",
              "      <td>country_code NA</td>\n",
              "      <td>place_full_name NA</td>\n",
              "      <td>place_type NA</td>\n",
              "      <td>83</td>\n",
              "      <td>79</td>\n",
              "      <td>2013-02-08 05:38:06</td>\n",
              "      <td>False</td>\n",
              "      <td>en</td>\n",
              "    </tr>\n",
              "    <tr>\n",
              "      <th>8120764</th>\n",
              "      <td>1255980826157879296</td>\n",
              "      <td>1159243226</td>\n",
              "      <td>2020-04-30 22:02:18</td>\n",
              "      <td>Boo_Boo_TheBear</td>\n",
              "      <td>@0164948345aa439 @thomaskaine5 The reason why ...</td>\n",
              "      <td>Twitter Web App</td>\n",
              "      <td>1255980225667743488</td>\n",
              "      <td>1159243226</td>\n",
              "      <td>False</td>\n",
              "      <td>False</td>\n",
              "      <td>221</td>\n",
              "      <td>0</td>\n",
              "      <td>country_code NA</td>\n",
              "      <td>place_full_name NA</td>\n",
              "      <td>place_type NA</td>\n",
              "      <td>83</td>\n",
              "      <td>79</td>\n",
              "      <td>2013-02-08 05:38:06</td>\n",
              "      <td>False</td>\n",
              "      <td>en</td>\n",
              "    </tr>\n",
              "  </tbody>\n",
              "</table>\n",
              "<p>796 rows × 20 columns</p>\n",
              "</div>"
            ],
            "text/plain": [
              "                   status_id              user_id  ... verified lang\n",
              "65       1244051665642192896           3064266184  ...    False   en\n",
              "67       1244051665642192896           3064266184  ...    False   en\n",
              "11311    1244067805265305600           1532718984  ...    False   en\n",
              "11312    1244067805265305600           1532718984  ...    False   en\n",
              "30914    1244098805093597184           3326054230  ...    False   en\n",
              "...                      ...                  ...  ...      ...  ...\n",
              "8088371  1255923136417193992  1141041981390565376  ...    False   en\n",
              "8102057  1255945376374407168             50023846  ...    False   en\n",
              "8102058  1255945376374407168             50023846  ...    False   en\n",
              "8120763  1255980826157879296           1159243226  ...    False   en\n",
              "8120764  1255980826157879296           1159243226  ...    False   en\n",
              "\n",
              "[796 rows x 20 columns]"
            ]
          },
          "metadata": {},
          "execution_count": 42
        }
      ]
    },
    {
      "cell_type": "markdown",
      "metadata": {
        "id": "cFKi-ZTUUHDY"
      },
      "source": [
        "The `status_id` values, `user_id` values, timestamps in `created_at`, and contents of `text` columns all appear to be identically duplicated. Therefore, only the first occurences will be kept.\n",
        "\n",
        "Note that `status_id`, also known as tweet ID, is unique to each tweet. Even if a user deleted and reposted the same tweet within split seconds, the `status_id` value would be different. "
      ]
    },
    {
      "cell_type": "code",
      "metadata": {
        "id": "JNeNUHpDTGw4"
      },
      "source": [
        "# drop duplicates\n",
        "tweets.drop_duplicates(keep='first', inplace=True)"
      ],
      "execution_count": 43,
      "outputs": []
    },
    {
      "cell_type": "code",
      "metadata": {
        "colab": {
          "base_uri": "https://localhost:8080/"
        },
        "id": "mfRrJInSRrte",
        "outputId": "4ffc924d-f2fd-4cdc-a854-2da4a8ad5efa"
      },
      "source": [
        "# check if duplicates still exist\n",
        "tweets.duplicated().sum()"
      ],
      "execution_count": 44,
      "outputs": [
        {
          "output_type": "execute_result",
          "data": {
            "text/plain": [
              "0"
            ]
          },
          "metadata": {},
          "execution_count": 44
        }
      ]
    },
    {
      "cell_type": "markdown",
      "metadata": {
        "id": "ZHm_mCPSVUUH"
      },
      "source": [
        "All duplicate rows have been dropped.\n",
        "\n",
        "Let's reset the indices."
      ]
    },
    {
      "cell_type": "code",
      "metadata": {
        "id": "8cQN2zigGOO2"
      },
      "source": [
        "# reset index\n",
        "tweets.reset_index(drop=True, inplace=True)"
      ],
      "execution_count": 45,
      "outputs": []
    },
    {
      "cell_type": "code",
      "metadata": {
        "colab": {
          "base_uri": "https://localhost:8080/",
          "height": 335
        },
        "id": "jQQt-jz8GJGU",
        "outputId": "cf66ecb6-f94f-4392-c363-fa3ab2043b62"
      },
      "source": [
        "# check\n",
        "print(tweets.shape[0])\n",
        "tweets.tail(3)"
      ],
      "execution_count": 46,
      "outputs": [
        {
          "output_type": "stream",
          "name": "stdout",
          "text": [
            "8133306\n"
          ]
        },
        {
          "output_type": "execute_result",
          "data": {
            "text/html": [
              "<div>\n",
              "<style scoped>\n",
              "    .dataframe tbody tr th:only-of-type {\n",
              "        vertical-align: middle;\n",
              "    }\n",
              "\n",
              "    .dataframe tbody tr th {\n",
              "        vertical-align: top;\n",
              "    }\n",
              "\n",
              "    .dataframe thead th {\n",
              "        text-align: right;\n",
              "    }\n",
              "</style>\n",
              "<table border=\"1\" class=\"dataframe\">\n",
              "  <thead>\n",
              "    <tr style=\"text-align: right;\">\n",
              "      <th></th>\n",
              "      <th>status_id</th>\n",
              "      <th>user_id</th>\n",
              "      <th>created_at</th>\n",
              "      <th>screen_name</th>\n",
              "      <th>text</th>\n",
              "      <th>source</th>\n",
              "      <th>reply_to_status_id</th>\n",
              "      <th>reply_to_user_id</th>\n",
              "      <th>is_quote</th>\n",
              "      <th>is_retweet</th>\n",
              "      <th>favourites_count</th>\n",
              "      <th>retweet_count</th>\n",
              "      <th>country_code</th>\n",
              "      <th>place_full_name</th>\n",
              "      <th>place_type</th>\n",
              "      <th>followers_count</th>\n",
              "      <th>friends_count</th>\n",
              "      <th>account_created_at</th>\n",
              "      <th>verified</th>\n",
              "      <th>lang</th>\n",
              "    </tr>\n",
              "  </thead>\n",
              "  <tbody>\n",
              "    <tr>\n",
              "      <th>8133303</th>\n",
              "      <td>1256010442696245253</td>\n",
              "      <td>18198832</td>\n",
              "      <td>2020-04-30 23:59:59</td>\n",
              "      <td>TheScientistLLC</td>\n",
              "      <td>While the lockdown for #COVID19 continues on, ...</td>\n",
              "      <td>HubSpot</td>\n",
              "      <td>&lt;NA&gt;</td>\n",
              "      <td>&lt;NA&gt;</td>\n",
              "      <td>False</td>\n",
              "      <td>False</td>\n",
              "      <td>978</td>\n",
              "      <td>1</td>\n",
              "      <td>country_code NA</td>\n",
              "      <td>place_full_name NA</td>\n",
              "      <td>place_type NA</td>\n",
              "      <td>66844</td>\n",
              "      <td>383</td>\n",
              "      <td>2008-12-17 20:32:46</td>\n",
              "      <td>True</td>\n",
              "      <td>en</td>\n",
              "    </tr>\n",
              "    <tr>\n",
              "      <th>8133304</th>\n",
              "      <td>1256010440154513408</td>\n",
              "      <td>937899468585828352</td>\n",
              "      <td>2020-04-30 23:59:59</td>\n",
              "      <td>portarican_RT</td>\n",
              "      <td>Best answer. #COVID19 #WeMournThemAll https://...</td>\n",
              "      <td>Twitter Web App</td>\n",
              "      <td>&lt;NA&gt;</td>\n",
              "      <td>&lt;NA&gt;</td>\n",
              "      <td>True</td>\n",
              "      <td>False</td>\n",
              "      <td>44903</td>\n",
              "      <td>0</td>\n",
              "      <td>country_code NA</td>\n",
              "      <td>place_full_name NA</td>\n",
              "      <td>place_type NA</td>\n",
              "      <td>5503</td>\n",
              "      <td>5909</td>\n",
              "      <td>2017-12-05 04:20:33</td>\n",
              "      <td>False</td>\n",
              "      <td>en</td>\n",
              "    </tr>\n",
              "    <tr>\n",
              "      <th>8133305</th>\n",
              "      <td>1256010440007716867</td>\n",
              "      <td>1043656483</td>\n",
              "      <td>2020-04-30 23:59:59</td>\n",
              "      <td>Drz123Z</td>\n",
              "      <td>@WFXTMalini @CMichaelGibson @boston25 I had th...</td>\n",
              "      <td>Twitter for iPhone</td>\n",
              "      <td>1255986583649554432</td>\n",
              "      <td>62144220</td>\n",
              "      <td>False</td>\n",
              "      <td>False</td>\n",
              "      <td>5906</td>\n",
              "      <td>0</td>\n",
              "      <td>US</td>\n",
              "      <td>Weymouth, MA</td>\n",
              "      <td>city</td>\n",
              "      <td>85</td>\n",
              "      <td>127</td>\n",
              "      <td>2012-12-29 02:35:23</td>\n",
              "      <td>False</td>\n",
              "      <td>en</td>\n",
              "    </tr>\n",
              "  </tbody>\n",
              "</table>\n",
              "</div>"
            ],
            "text/plain": [
              "                   status_id             user_id  ... verified lang\n",
              "8133303  1256010442696245253            18198832  ...     True   en\n",
              "8133304  1256010440154513408  937899468585828352  ...    False   en\n",
              "8133305  1256010440007716867          1043656483  ...    False   en\n",
              "\n",
              "[3 rows x 20 columns]"
            ]
          },
          "metadata": {},
          "execution_count": 46
        }
      ]
    },
    {
      "cell_type": "markdown",
      "metadata": {
        "id": "2skPloUuGdnJ"
      },
      "source": [
        "The indices have been reset."
      ]
    },
    {
      "cell_type": "markdown",
      "metadata": {
        "id": "U_CPaSUlOyyI"
      },
      "source": [
        "### Modify `reply_to_status_id` and `reply_to_user_id`"
      ]
    },
    {
      "cell_type": "markdown",
      "metadata": {
        "id": "ndsVh6T_O9yX"
      },
      "source": [
        "For both `reply_to_status_id` and `reply_to_user_id`, if the tweet is not a reply, the values are \"\\<NA\\>\". If the tweet is a reply, then the status ID and user ID to which the tweet is a reply are recorded. \n"
      ]
    },
    {
      "cell_type": "markdown",
      "metadata": {
        "id": "uKigw_yHP0d9"
      },
      "source": [
        "We will consolidate `reply_to_status_id` and `reply_to_user_id` into one column called `is_reply` where the value will be 1 if the tweet is a reply and 0 otherwise."
      ]
    },
    {
      "cell_type": "code",
      "metadata": {
        "colab": {
          "base_uri": "https://localhost:8080/",
          "height": 856
        },
        "id": "U4vTWiAAQG0i",
        "outputId": "b44f36fd-971c-41d2-ffdb-a6774064e853"
      },
      "source": [
        "tweets['is_reply'] = np.where(tweets['reply_to_status_id']=='<NA>', 0, 1)\n",
        "tweets"
      ],
      "execution_count": 47,
      "outputs": [
        {
          "output_type": "execute_result",
          "data": {
            "text/html": [
              "<div>\n",
              "<style scoped>\n",
              "    .dataframe tbody tr th:only-of-type {\n",
              "        vertical-align: middle;\n",
              "    }\n",
              "\n",
              "    .dataframe tbody tr th {\n",
              "        vertical-align: top;\n",
              "    }\n",
              "\n",
              "    .dataframe thead th {\n",
              "        text-align: right;\n",
              "    }\n",
              "</style>\n",
              "<table border=\"1\" class=\"dataframe\">\n",
              "  <thead>\n",
              "    <tr style=\"text-align: right;\">\n",
              "      <th></th>\n",
              "      <th>status_id</th>\n",
              "      <th>user_id</th>\n",
              "      <th>created_at</th>\n",
              "      <th>screen_name</th>\n",
              "      <th>text</th>\n",
              "      <th>source</th>\n",
              "      <th>reply_to_status_id</th>\n",
              "      <th>reply_to_user_id</th>\n",
              "      <th>is_quote</th>\n",
              "      <th>is_retweet</th>\n",
              "      <th>favourites_count</th>\n",
              "      <th>retweet_count</th>\n",
              "      <th>country_code</th>\n",
              "      <th>place_full_name</th>\n",
              "      <th>place_type</th>\n",
              "      <th>followers_count</th>\n",
              "      <th>friends_count</th>\n",
              "      <th>account_created_at</th>\n",
              "      <th>verified</th>\n",
              "      <th>lang</th>\n",
              "      <th>is_reply</th>\n",
              "    </tr>\n",
              "  </thead>\n",
              "  <tbody>\n",
              "    <tr>\n",
              "      <th>0</th>\n",
              "      <td>1244051645975191557</td>\n",
              "      <td>80943559</td>\n",
              "      <td>2020-03-29 00:00:00</td>\n",
              "      <td>rlieving</td>\n",
              "      <td>“People are just storing up. They are staying ...</td>\n",
              "      <td>TweetDeck</td>\n",
              "      <td>&lt;NA&gt;</td>\n",
              "      <td>&lt;NA&gt;</td>\n",
              "      <td>False</td>\n",
              "      <td>False</td>\n",
              "      <td>604</td>\n",
              "      <td>0</td>\n",
              "      <td>country_code NA</td>\n",
              "      <td>place_full_name NA</td>\n",
              "      <td>place_type NA</td>\n",
              "      <td>136</td>\n",
              "      <td>457</td>\n",
              "      <td>2009-10-08 21:06:08</td>\n",
              "      <td>False</td>\n",
              "      <td>en</td>\n",
              "      <td>0</td>\n",
              "    </tr>\n",
              "    <tr>\n",
              "      <th>1</th>\n",
              "      <td>1244051646935633921</td>\n",
              "      <td>27922157</td>\n",
              "      <td>2020-03-29 00:00:00</td>\n",
              "      <td>AmerMedicalAssn</td>\n",
              "      <td>.@PatriceHarrisMD spoke with @YahooFinance abo...</td>\n",
              "      <td>Sprinklr</td>\n",
              "      <td>&lt;NA&gt;</td>\n",
              "      <td>&lt;NA&gt;</td>\n",
              "      <td>False</td>\n",
              "      <td>False</td>\n",
              "      <td>2894</td>\n",
              "      <td>3</td>\n",
              "      <td>country_code NA</td>\n",
              "      <td>place_full_name NA</td>\n",
              "      <td>place_type NA</td>\n",
              "      <td>714952</td>\n",
              "      <td>6877</td>\n",
              "      <td>2009-03-31 17:50:31</td>\n",
              "      <td>True</td>\n",
              "      <td>en</td>\n",
              "      <td>0</td>\n",
              "    </tr>\n",
              "    <tr>\n",
              "      <th>2</th>\n",
              "      <td>1244051645971025920</td>\n",
              "      <td>1115874631</td>\n",
              "      <td>2020-03-29 00:00:00</td>\n",
              "      <td>CGTNOfficial</td>\n",
              "      <td>First medical team aiding #Wuhan in fight agai...</td>\n",
              "      <td>Twitter Media Studio</td>\n",
              "      <td>&lt;NA&gt;</td>\n",
              "      <td>&lt;NA&gt;</td>\n",
              "      <td>False</td>\n",
              "      <td>False</td>\n",
              "      <td>65</td>\n",
              "      <td>18</td>\n",
              "      <td>country_code NA</td>\n",
              "      <td>place_full_name NA</td>\n",
              "      <td>place_type NA</td>\n",
              "      <td>14040072</td>\n",
              "      <td>55</td>\n",
              "      <td>2013-01-24 03:18:59</td>\n",
              "      <td>True</td>\n",
              "      <td>en</td>\n",
              "      <td>0</td>\n",
              "    </tr>\n",
              "    <tr>\n",
              "      <th>3</th>\n",
              "      <td>1244051647149543426</td>\n",
              "      <td>108845320</td>\n",
              "      <td>2020-03-29 00:00:00</td>\n",
              "      <td>OnTopMag</td>\n",
              "      <td>.@KathyGriffin: @realDonaldTrump Is 'Lying' Ab...</td>\n",
              "      <td>Twitter for Advertisers</td>\n",
              "      <td>&lt;NA&gt;</td>\n",
              "      <td>&lt;NA&gt;</td>\n",
              "      <td>False</td>\n",
              "      <td>False</td>\n",
              "      <td>2658</td>\n",
              "      <td>1</td>\n",
              "      <td>country_code NA</td>\n",
              "      <td>place_full_name NA</td>\n",
              "      <td>place_type NA</td>\n",
              "      <td>5042</td>\n",
              "      <td>5389</td>\n",
              "      <td>2010-01-27 05:23:15</td>\n",
              "      <td>False</td>\n",
              "      <td>en</td>\n",
              "      <td>0</td>\n",
              "    </tr>\n",
              "    <tr>\n",
              "      <th>4</th>\n",
              "      <td>1244051645102579712</td>\n",
              "      <td>17673635</td>\n",
              "      <td>2020-03-29 00:00:00</td>\n",
              "      <td>livemint</td>\n",
              "      <td>#CoronaUpdate | Johns Hopkins University has s...</td>\n",
              "      <td>TweetDeck</td>\n",
              "      <td>&lt;NA&gt;</td>\n",
              "      <td>&lt;NA&gt;</td>\n",
              "      <td>False</td>\n",
              "      <td>False</td>\n",
              "      <td>474</td>\n",
              "      <td>2</td>\n",
              "      <td>country_code NA</td>\n",
              "      <td>place_full_name NA</td>\n",
              "      <td>place_type NA</td>\n",
              "      <td>1862858</td>\n",
              "      <td>127</td>\n",
              "      <td>2008-11-27 09:07:38</td>\n",
              "      <td>True</td>\n",
              "      <td>en</td>\n",
              "      <td>0</td>\n",
              "    </tr>\n",
              "    <tr>\n",
              "      <th>...</th>\n",
              "      <td>...</td>\n",
              "      <td>...</td>\n",
              "      <td>...</td>\n",
              "      <td>...</td>\n",
              "      <td>...</td>\n",
              "      <td>...</td>\n",
              "      <td>...</td>\n",
              "      <td>...</td>\n",
              "      <td>...</td>\n",
              "      <td>...</td>\n",
              "      <td>...</td>\n",
              "      <td>...</td>\n",
              "      <td>...</td>\n",
              "      <td>...</td>\n",
              "      <td>...</td>\n",
              "      <td>...</td>\n",
              "      <td>...</td>\n",
              "      <td>...</td>\n",
              "      <td>...</td>\n",
              "      <td>...</td>\n",
              "      <td>...</td>\n",
              "    </tr>\n",
              "    <tr>\n",
              "      <th>8133301</th>\n",
              "      <td>1256010435641462784</td>\n",
              "      <td>7117302</td>\n",
              "      <td>2020-04-30 23:59:58</td>\n",
              "      <td>ozsultan</td>\n",
              "      <td>Dear @NYCMayor,\\n\\nThe city has Millions to sp...</td>\n",
              "      <td>Twitter for iPhone</td>\n",
              "      <td>&lt;NA&gt;</td>\n",
              "      <td>&lt;NA&gt;</td>\n",
              "      <td>False</td>\n",
              "      <td>False</td>\n",
              "      <td>18897</td>\n",
              "      <td>0</td>\n",
              "      <td>country_code NA</td>\n",
              "      <td>place_full_name NA</td>\n",
              "      <td>place_type NA</td>\n",
              "      <td>8723</td>\n",
              "      <td>7747</td>\n",
              "      <td>2007-06-27 20:09:29</td>\n",
              "      <td>False</td>\n",
              "      <td>en</td>\n",
              "      <td>0</td>\n",
              "    </tr>\n",
              "    <tr>\n",
              "      <th>8133302</th>\n",
              "      <td>1256010442876608512</td>\n",
              "      <td>912319950559354880</td>\n",
              "      <td>2020-04-30 23:59:59</td>\n",
              "      <td>DriveLockGlobal</td>\n",
              "      <td>In the middle of the #COVID19 sales surge in M...</td>\n",
              "      <td>HubSpot</td>\n",
              "      <td>&lt;NA&gt;</td>\n",
              "      <td>&lt;NA&gt;</td>\n",
              "      <td>False</td>\n",
              "      <td>False</td>\n",
              "      <td>84</td>\n",
              "      <td>0</td>\n",
              "      <td>country_code NA</td>\n",
              "      <td>place_full_name NA</td>\n",
              "      <td>place_type NA</td>\n",
              "      <td>365</td>\n",
              "      <td>1333</td>\n",
              "      <td>2017-09-25 14:16:41</td>\n",
              "      <td>False</td>\n",
              "      <td>en</td>\n",
              "      <td>0</td>\n",
              "    </tr>\n",
              "    <tr>\n",
              "      <th>8133303</th>\n",
              "      <td>1256010442696245253</td>\n",
              "      <td>18198832</td>\n",
              "      <td>2020-04-30 23:59:59</td>\n",
              "      <td>TheScientistLLC</td>\n",
              "      <td>While the lockdown for #COVID19 continues on, ...</td>\n",
              "      <td>HubSpot</td>\n",
              "      <td>&lt;NA&gt;</td>\n",
              "      <td>&lt;NA&gt;</td>\n",
              "      <td>False</td>\n",
              "      <td>False</td>\n",
              "      <td>978</td>\n",
              "      <td>1</td>\n",
              "      <td>country_code NA</td>\n",
              "      <td>place_full_name NA</td>\n",
              "      <td>place_type NA</td>\n",
              "      <td>66844</td>\n",
              "      <td>383</td>\n",
              "      <td>2008-12-17 20:32:46</td>\n",
              "      <td>True</td>\n",
              "      <td>en</td>\n",
              "      <td>0</td>\n",
              "    </tr>\n",
              "    <tr>\n",
              "      <th>8133304</th>\n",
              "      <td>1256010440154513408</td>\n",
              "      <td>937899468585828352</td>\n",
              "      <td>2020-04-30 23:59:59</td>\n",
              "      <td>portarican_RT</td>\n",
              "      <td>Best answer. #COVID19 #WeMournThemAll https://...</td>\n",
              "      <td>Twitter Web App</td>\n",
              "      <td>&lt;NA&gt;</td>\n",
              "      <td>&lt;NA&gt;</td>\n",
              "      <td>True</td>\n",
              "      <td>False</td>\n",
              "      <td>44903</td>\n",
              "      <td>0</td>\n",
              "      <td>country_code NA</td>\n",
              "      <td>place_full_name NA</td>\n",
              "      <td>place_type NA</td>\n",
              "      <td>5503</td>\n",
              "      <td>5909</td>\n",
              "      <td>2017-12-05 04:20:33</td>\n",
              "      <td>False</td>\n",
              "      <td>en</td>\n",
              "      <td>0</td>\n",
              "    </tr>\n",
              "    <tr>\n",
              "      <th>8133305</th>\n",
              "      <td>1256010440007716867</td>\n",
              "      <td>1043656483</td>\n",
              "      <td>2020-04-30 23:59:59</td>\n",
              "      <td>Drz123Z</td>\n",
              "      <td>@WFXTMalini @CMichaelGibson @boston25 I had th...</td>\n",
              "      <td>Twitter for iPhone</td>\n",
              "      <td>1255986583649554432</td>\n",
              "      <td>62144220</td>\n",
              "      <td>False</td>\n",
              "      <td>False</td>\n",
              "      <td>5906</td>\n",
              "      <td>0</td>\n",
              "      <td>US</td>\n",
              "      <td>Weymouth, MA</td>\n",
              "      <td>city</td>\n",
              "      <td>85</td>\n",
              "      <td>127</td>\n",
              "      <td>2012-12-29 02:35:23</td>\n",
              "      <td>False</td>\n",
              "      <td>en</td>\n",
              "      <td>1</td>\n",
              "    </tr>\n",
              "  </tbody>\n",
              "</table>\n",
              "<p>8133306 rows × 21 columns</p>\n",
              "</div>"
            ],
            "text/plain": [
              "                   status_id             user_id  ... lang is_reply\n",
              "0        1244051645975191557            80943559  ...   en        0\n",
              "1        1244051646935633921            27922157  ...   en        0\n",
              "2        1244051645971025920          1115874631  ...   en        0\n",
              "3        1244051647149543426           108845320  ...   en        0\n",
              "4        1244051645102579712            17673635  ...   en        0\n",
              "...                      ...                 ...  ...  ...      ...\n",
              "8133301  1256010435641462784             7117302  ...   en        0\n",
              "8133302  1256010442876608512  912319950559354880  ...   en        0\n",
              "8133303  1256010442696245253            18198832  ...   en        0\n",
              "8133304  1256010440154513408  937899468585828352  ...   en        0\n",
              "8133305  1256010440007716867          1043656483  ...   en        1\n",
              "\n",
              "[8133306 rows x 21 columns]"
            ]
          },
          "metadata": {},
          "execution_count": 47
        }
      ]
    },
    {
      "cell_type": "markdown",
      "metadata": {
        "id": "s832agBVTzR9"
      },
      "source": [
        "`is_reply` column has been added as the last column in the dataframe. \n",
        "\n",
        "Now, we can drop `reply_to_status_id` and `reply_to_user_id` columns."
      ]
    },
    {
      "cell_type": "code",
      "metadata": {
        "id": "R4dhHa5gT4qX"
      },
      "source": [
        "tweets.drop(['reply_to_status_id', 'reply_to_user_id'], axis=1, inplace=True)"
      ],
      "execution_count": 48,
      "outputs": []
    },
    {
      "cell_type": "code",
      "metadata": {
        "colab": {
          "base_uri": "https://localhost:8080/",
          "height": 301
        },
        "id": "Q5qjU_ADUOVn",
        "outputId": "24de33b2-e5b6-4dd9-f107-bbe3a843d318"
      },
      "source": [
        "# check\n",
        "display(tweets.head(3))\n",
        "print(tweets.shape)"
      ],
      "execution_count": 49,
      "outputs": [
        {
          "output_type": "display_data",
          "data": {
            "text/html": [
              "<div>\n",
              "<style scoped>\n",
              "    .dataframe tbody tr th:only-of-type {\n",
              "        vertical-align: middle;\n",
              "    }\n",
              "\n",
              "    .dataframe tbody tr th {\n",
              "        vertical-align: top;\n",
              "    }\n",
              "\n",
              "    .dataframe thead th {\n",
              "        text-align: right;\n",
              "    }\n",
              "</style>\n",
              "<table border=\"1\" class=\"dataframe\">\n",
              "  <thead>\n",
              "    <tr style=\"text-align: right;\">\n",
              "      <th></th>\n",
              "      <th>status_id</th>\n",
              "      <th>user_id</th>\n",
              "      <th>created_at</th>\n",
              "      <th>screen_name</th>\n",
              "      <th>text</th>\n",
              "      <th>source</th>\n",
              "      <th>is_quote</th>\n",
              "      <th>is_retweet</th>\n",
              "      <th>favourites_count</th>\n",
              "      <th>retweet_count</th>\n",
              "      <th>country_code</th>\n",
              "      <th>place_full_name</th>\n",
              "      <th>place_type</th>\n",
              "      <th>followers_count</th>\n",
              "      <th>friends_count</th>\n",
              "      <th>account_created_at</th>\n",
              "      <th>verified</th>\n",
              "      <th>lang</th>\n",
              "      <th>is_reply</th>\n",
              "    </tr>\n",
              "  </thead>\n",
              "  <tbody>\n",
              "    <tr>\n",
              "      <th>0</th>\n",
              "      <td>1244051645975191557</td>\n",
              "      <td>80943559</td>\n",
              "      <td>2020-03-29</td>\n",
              "      <td>rlieving</td>\n",
              "      <td>“People are just storing up. They are staying ...</td>\n",
              "      <td>TweetDeck</td>\n",
              "      <td>False</td>\n",
              "      <td>False</td>\n",
              "      <td>604</td>\n",
              "      <td>0</td>\n",
              "      <td>country_code NA</td>\n",
              "      <td>place_full_name NA</td>\n",
              "      <td>place_type NA</td>\n",
              "      <td>136</td>\n",
              "      <td>457</td>\n",
              "      <td>2009-10-08 21:06:08</td>\n",
              "      <td>False</td>\n",
              "      <td>en</td>\n",
              "      <td>0</td>\n",
              "    </tr>\n",
              "    <tr>\n",
              "      <th>1</th>\n",
              "      <td>1244051646935633921</td>\n",
              "      <td>27922157</td>\n",
              "      <td>2020-03-29</td>\n",
              "      <td>AmerMedicalAssn</td>\n",
              "      <td>.@PatriceHarrisMD spoke with @YahooFinance abo...</td>\n",
              "      <td>Sprinklr</td>\n",
              "      <td>False</td>\n",
              "      <td>False</td>\n",
              "      <td>2894</td>\n",
              "      <td>3</td>\n",
              "      <td>country_code NA</td>\n",
              "      <td>place_full_name NA</td>\n",
              "      <td>place_type NA</td>\n",
              "      <td>714952</td>\n",
              "      <td>6877</td>\n",
              "      <td>2009-03-31 17:50:31</td>\n",
              "      <td>True</td>\n",
              "      <td>en</td>\n",
              "      <td>0</td>\n",
              "    </tr>\n",
              "    <tr>\n",
              "      <th>2</th>\n",
              "      <td>1244051645971025920</td>\n",
              "      <td>1115874631</td>\n",
              "      <td>2020-03-29</td>\n",
              "      <td>CGTNOfficial</td>\n",
              "      <td>First medical team aiding #Wuhan in fight agai...</td>\n",
              "      <td>Twitter Media Studio</td>\n",
              "      <td>False</td>\n",
              "      <td>False</td>\n",
              "      <td>65</td>\n",
              "      <td>18</td>\n",
              "      <td>country_code NA</td>\n",
              "      <td>place_full_name NA</td>\n",
              "      <td>place_type NA</td>\n",
              "      <td>14040072</td>\n",
              "      <td>55</td>\n",
              "      <td>2013-01-24 03:18:59</td>\n",
              "      <td>True</td>\n",
              "      <td>en</td>\n",
              "      <td>0</td>\n",
              "    </tr>\n",
              "  </tbody>\n",
              "</table>\n",
              "</div>"
            ],
            "text/plain": [
              "             status_id     user_id created_at  ... verified lang is_reply\n",
              "0  1244051645975191557    80943559 2020-03-29  ...    False   en        0\n",
              "1  1244051646935633921    27922157 2020-03-29  ...     True   en        0\n",
              "2  1244051645971025920  1115874631 2020-03-29  ...     True   en        0\n",
              "\n",
              "[3 rows x 19 columns]"
            ]
          },
          "metadata": {}
        },
        {
          "output_type": "stream",
          "name": "stdout",
          "text": [
            "(8133306, 19)\n"
          ]
        }
      ]
    },
    {
      "cell_type": "markdown",
      "metadata": {
        "id": "DfGg3yX-Uvv6"
      },
      "source": [
        "`reply_to_status_id` and `reply_to_user_id` have been dropped."
      ]
    },
    {
      "cell_type": "markdown",
      "metadata": {
        "id": "smihymHXdPyo"
      },
      "source": [
        "## Create Time-of-Day Column\n",
        "\n",
        "Depending on the time at which a given tweet was created, it will be classified into one of the following classes:\n",
        "- \"early morning\" = 00:00:00 - 05:59:59\n",
        "- \"morning\" = 06:00:00 - 11:59:59\n",
        "- \"afternoon\" = 12:00:00 - 17:59:59\n",
        "- \"evening\" = 18:00:00 - 23:59:59\n",
        "\n"
      ]
    },
    {
      "cell_type": "markdown",
      "metadata": {
        "id": "kEJgHIfRXGw-"
      },
      "source": [
        "Let's create a function that will get the time of day when a timestamp is passed in."
      ]
    },
    {
      "cell_type": "code",
      "metadata": {
        "id": "H6ZtZNlYdITm"
      },
      "source": [
        "def get_time_of_day(time):\n",
        "  '''\n",
        "  INPUT: pandas Series of time objects (if you have datetime series, extract only time by using .dt.time method)\n",
        "  OUTPUT: depending on the time, it gets classified as either \"early morning\", \"morning\", \"afteroon\", or \"evening\"\n",
        "\n",
        "  '''\n",
        "\n",
        "  if (time >= 0) & (time < 6):\n",
        "    return 'early morning'\n",
        "  elif (time >= 6) & (time < 12):\n",
        "    return 'morning'\n",
        "  elif (time >= 12) & (time < 18):\n",
        "    return 'afternoon'\n",
        "  elif (time >= 18):\n",
        "    return 'evening'\n"
      ],
      "execution_count": 50,
      "outputs": []
    },
    {
      "cell_type": "code",
      "metadata": {
        "id": "zMGaK0vUfxgt"
      },
      "source": [
        "# map the hours to time of day (e.g., early morning, morning, afternoon, evening)\n",
        "tweets['time_of_day'] = tweets['created_at'].dt.hour.map(get_time_of_day)"
      ],
      "execution_count": 51,
      "outputs": []
    },
    {
      "cell_type": "code",
      "metadata": {
        "colab": {
          "base_uri": "https://localhost:8080/",
          "height": 734
        },
        "id": "Q9xuIk1t0fzx",
        "outputId": "11af2ac1-2251-42d1-ca41-b107839940d7"
      },
      "source": [
        "tweets.sample(8)"
      ],
      "execution_count": 52,
      "outputs": [
        {
          "output_type": "execute_result",
          "data": {
            "text/html": [
              "<div>\n",
              "<style scoped>\n",
              "    .dataframe tbody tr th:only-of-type {\n",
              "        vertical-align: middle;\n",
              "    }\n",
              "\n",
              "    .dataframe tbody tr th {\n",
              "        vertical-align: top;\n",
              "    }\n",
              "\n",
              "    .dataframe thead th {\n",
              "        text-align: right;\n",
              "    }\n",
              "</style>\n",
              "<table border=\"1\" class=\"dataframe\">\n",
              "  <thead>\n",
              "    <tr style=\"text-align: right;\">\n",
              "      <th></th>\n",
              "      <th>status_id</th>\n",
              "      <th>user_id</th>\n",
              "      <th>created_at</th>\n",
              "      <th>screen_name</th>\n",
              "      <th>text</th>\n",
              "      <th>source</th>\n",
              "      <th>is_quote</th>\n",
              "      <th>is_retweet</th>\n",
              "      <th>favourites_count</th>\n",
              "      <th>retweet_count</th>\n",
              "      <th>country_code</th>\n",
              "      <th>place_full_name</th>\n",
              "      <th>place_type</th>\n",
              "      <th>followers_count</th>\n",
              "      <th>friends_count</th>\n",
              "      <th>account_created_at</th>\n",
              "      <th>verified</th>\n",
              "      <th>lang</th>\n",
              "      <th>is_reply</th>\n",
              "      <th>time_of_day</th>\n",
              "    </tr>\n",
              "  </thead>\n",
              "  <tbody>\n",
              "    <tr>\n",
              "      <th>3490869</th>\n",
              "      <td>1248240945570516993</td>\n",
              "      <td>102299762</td>\n",
              "      <td>2020-04-09 13:26:47</td>\n",
              "      <td>davidmfprosser</td>\n",
              "      <td>Test frontline NHS staff for COVID-19 as a pri...</td>\n",
              "      <td>Twitter Web Client</td>\n",
              "      <td>False</td>\n",
              "      <td>False</td>\n",
              "      <td>1242</td>\n",
              "      <td>0</td>\n",
              "      <td>country_code NA</td>\n",
              "      <td>place_full_name NA</td>\n",
              "      <td>place_type NA</td>\n",
              "      <td>4931</td>\n",
              "      <td>4310</td>\n",
              "      <td>2010-01-06 07:03:17</td>\n",
              "      <td>False</td>\n",
              "      <td>en</td>\n",
              "      <td>0</td>\n",
              "      <td>afternoon</td>\n",
              "    </tr>\n",
              "    <tr>\n",
              "      <th>6093102</th>\n",
              "      <td>1252524889715748864</td>\n",
              "      <td>963573660207501317</td>\n",
              "      <td>2020-04-21 09:09:39</td>\n",
              "      <td>cryptojoeinvest</td>\n",
              "      <td>If you think that the wealthiest people on the...</td>\n",
              "      <td>Twitter for Android</td>\n",
              "      <td>False</td>\n",
              "      <td>False</td>\n",
              "      <td>1470</td>\n",
              "      <td>0</td>\n",
              "      <td>country_code NA</td>\n",
              "      <td>place_full_name NA</td>\n",
              "      <td>place_type NA</td>\n",
              "      <td>333</td>\n",
              "      <td>988</td>\n",
              "      <td>2018-02-14 00:40:37</td>\n",
              "      <td>False</td>\n",
              "      <td>en</td>\n",
              "      <td>0</td>\n",
              "      <td>morning</td>\n",
              "    </tr>\n",
              "    <tr>\n",
              "      <th>3464437</th>\n",
              "      <td>1248212719293140993</td>\n",
              "      <td>1194645969582854144</td>\n",
              "      <td>2020-04-09 11:34:37</td>\n",
              "      <td>HPVSideEffects</td>\n",
              "      <td>@RealCandaceO To achieve herd  immunity we hav...</td>\n",
              "      <td>Twitter for iPad</td>\n",
              "      <td>False</td>\n",
              "      <td>False</td>\n",
              "      <td>1683</td>\n",
              "      <td>1</td>\n",
              "      <td>country_code NA</td>\n",
              "      <td>place_full_name NA</td>\n",
              "      <td>place_type NA</td>\n",
              "      <td>496</td>\n",
              "      <td>164</td>\n",
              "      <td>2019-11-13 15:59:43</td>\n",
              "      <td>False</td>\n",
              "      <td>en</td>\n",
              "      <td>1</td>\n",
              "      <td>morning</td>\n",
              "    </tr>\n",
              "    <tr>\n",
              "      <th>5226699</th>\n",
              "      <td>1251111842547732481</td>\n",
              "      <td>153710068</td>\n",
              "      <td>2020-04-17 11:34:42</td>\n",
              "      <td>raitken001</td>\n",
              "      <td>Explore @PwC_UK's latest UK Economic update fo...</td>\n",
              "      <td>PwC UK SMART</td>\n",
              "      <td>False</td>\n",
              "      <td>False</td>\n",
              "      <td>55</td>\n",
              "      <td>0</td>\n",
              "      <td>country_code NA</td>\n",
              "      <td>place_full_name NA</td>\n",
              "      <td>place_type NA</td>\n",
              "      <td>102</td>\n",
              "      <td>191</td>\n",
              "      <td>2010-06-09 07:26:50</td>\n",
              "      <td>False</td>\n",
              "      <td>en</td>\n",
              "      <td>0</td>\n",
              "      <td>morning</td>\n",
              "    </tr>\n",
              "    <tr>\n",
              "      <th>3469922</th>\n",
              "      <td>1248219133893902336</td>\n",
              "      <td>165337708</td>\n",
              "      <td>2020-04-09 12:00:06</td>\n",
              "      <td>vikashrajmaster</td>\n",
              "      <td>Now #MamtaBanarjee having problems with Yellow...</td>\n",
              "      <td>Twitter for Android</td>\n",
              "      <td>False</td>\n",
              "      <td>False</td>\n",
              "      <td>11</td>\n",
              "      <td>0</td>\n",
              "      <td>country_code NA</td>\n",
              "      <td>place_full_name NA</td>\n",
              "      <td>place_type NA</td>\n",
              "      <td>12</td>\n",
              "      <td>43</td>\n",
              "      <td>2010-07-11 08:06:31</td>\n",
              "      <td>False</td>\n",
              "      <td>en</td>\n",
              "      <td>0</td>\n",
              "      <td>afternoon</td>\n",
              "    </tr>\n",
              "    <tr>\n",
              "      <th>5124712</th>\n",
              "      <td>1250935752046907396</td>\n",
              "      <td>1053647553726738432</td>\n",
              "      <td>2020-04-16 23:54:59</td>\n",
              "      <td>47TrendsNG</td>\n",
              "      <td>#Coronavirus: Osun Residents Rush To Banks, Ma...</td>\n",
              "      <td>WordPress.com</td>\n",
              "      <td>False</td>\n",
              "      <td>False</td>\n",
              "      <td>0</td>\n",
              "      <td>0</td>\n",
              "      <td>country_code NA</td>\n",
              "      <td>place_full_name NA</td>\n",
              "      <td>place_type NA</td>\n",
              "      <td>26</td>\n",
              "      <td>9</td>\n",
              "      <td>2018-10-20 14:02:07</td>\n",
              "      <td>False</td>\n",
              "      <td>en</td>\n",
              "      <td>0</td>\n",
              "      <td>evening</td>\n",
              "    </tr>\n",
              "    <tr>\n",
              "      <th>759381</th>\n",
              "      <td>1244942549275508738</td>\n",
              "      <td>30869029</td>\n",
              "      <td>2020-03-31 11:00:08</td>\n",
              "      <td>geoffwhite247</td>\n",
              "      <td>\"manic defence\" as a reaction to #coronavirus ...</td>\n",
              "      <td>Twitter Web App</td>\n",
              "      <td>False</td>\n",
              "      <td>False</td>\n",
              "      <td>1698</td>\n",
              "      <td>3</td>\n",
              "      <td>country_code NA</td>\n",
              "      <td>place_full_name NA</td>\n",
              "      <td>place_type NA</td>\n",
              "      <td>11937</td>\n",
              "      <td>5347</td>\n",
              "      <td>2009-04-13 14:00:14</td>\n",
              "      <td>True</td>\n",
              "      <td>en</td>\n",
              "      <td>0</td>\n",
              "      <td>morning</td>\n",
              "    </tr>\n",
              "    <tr>\n",
              "      <th>5816230</th>\n",
              "      <td>1252071951599837184</td>\n",
              "      <td>499943686</td>\n",
              "      <td>2020-04-20 03:09:50</td>\n",
              "      <td>RahejaCharu</td>\n",
              "      <td>“Canceled Graduation? Missing Milestones Is To...</td>\n",
              "      <td>Twitter for iPhone</td>\n",
              "      <td>False</td>\n",
              "      <td>False</td>\n",
              "      <td>803</td>\n",
              "      <td>0</td>\n",
              "      <td>country_code NA</td>\n",
              "      <td>place_full_name NA</td>\n",
              "      <td>place_type NA</td>\n",
              "      <td>230</td>\n",
              "      <td>376</td>\n",
              "      <td>2012-02-22 16:59:16</td>\n",
              "      <td>False</td>\n",
              "      <td>en</td>\n",
              "      <td>0</td>\n",
              "      <td>early morning</td>\n",
              "    </tr>\n",
              "  </tbody>\n",
              "</table>\n",
              "</div>"
            ],
            "text/plain": [
              "                   status_id              user_id  ... is_reply    time_of_day\n",
              "3490869  1248240945570516993            102299762  ...        0      afternoon\n",
              "6093102  1252524889715748864   963573660207501317  ...        0        morning\n",
              "3464437  1248212719293140993  1194645969582854144  ...        1        morning\n",
              "5226699  1251111842547732481            153710068  ...        0        morning\n",
              "3469922  1248219133893902336            165337708  ...        0      afternoon\n",
              "5124712  1250935752046907396  1053647553726738432  ...        0        evening\n",
              "759381   1244942549275508738             30869029  ...        0        morning\n",
              "5816230  1252071951599837184            499943686  ...        0  early morning\n",
              "\n",
              "[8 rows x 20 columns]"
            ]
          },
          "metadata": {},
          "execution_count": 52
        }
      ]
    },
    {
      "cell_type": "markdown",
      "metadata": {
        "id": "Cj6Sicsr6ooA"
      },
      "source": [
        "---"
      ]
    },
    {
      "cell_type": "markdown",
      "metadata": {
        "id": "Xqjxk1jB6qMx"
      },
      "source": [
        "## Visualize Distribution of Time of Day"
      ]
    },
    {
      "cell_type": "markdown",
      "metadata": {
        "id": "HamSa4fR6uwj"
      },
      "source": [
        "Let's visualize the number of tweets grouped by `time_of_day`."
      ]
    },
    {
      "cell_type": "code",
      "metadata": {
        "id": "pAUpUY2fzjL8",
        "colab": {
          "base_uri": "https://localhost:8080/",
          "height": 328
        },
        "outputId": "58d600a1-6a42-4523-cb99-db968718a1af"
      },
      "source": [
        "print(f'Total number of rows: {tweets.shape[0]} \\n')\n",
        "\n",
        "# Count the tweets for each time of day\n",
        "tweet_count_by_time_of_day = tweets.groupby('time_of_day')['time_of_day'].count()\n",
        "display(tweet_count_by_time_of_day)\n",
        "print('\\n')\n",
        "\n",
        "print(f'Does the sum of tweet counts match with total number of rows? {tweet_count_by_time_of_day.sum()==tweets.shape[0]} \\n')\n",
        "\n",
        "# calculate the percentages (divide each count by the total number of rows and multiply by 100%)\n",
        "tweet_pct_by_time_of_day = tweets.groupby('time_of_day')['time_of_day'].count()/tweets.shape[0]*100\n",
        "tweet_pct_by_time_of_day"
      ],
      "execution_count": 53,
      "outputs": [
        {
          "output_type": "stream",
          "name": "stdout",
          "text": [
            "Total number of rows: 8133306 \n",
            "\n"
          ]
        },
        {
          "output_type": "display_data",
          "data": {
            "text/plain": [
              "time_of_day\n",
              "afternoon        2781984\n",
              "early morning    1380423\n",
              "evening          2258502\n",
              "morning          1712397\n",
              "Name: time_of_day, dtype: int64"
            ]
          },
          "metadata": {}
        },
        {
          "output_type": "stream",
          "name": "stdout",
          "text": [
            "\n",
            "\n",
            "Does the sum of tweet counts match with total number of rows? True \n",
            "\n"
          ]
        },
        {
          "output_type": "execute_result",
          "data": {
            "text/plain": [
              "time_of_day\n",
              "afternoon        34.204836\n",
              "early morning    16.972471\n",
              "evening          27.768561\n",
              "morning          21.054132\n",
              "Name: time_of_day, dtype: float64"
            ]
          },
          "metadata": {},
          "execution_count": 53
        }
      ]
    },
    {
      "cell_type": "code",
      "metadata": {
        "colab": {
          "base_uri": "https://localhost:8080/",
          "height": 417
        },
        "id": "VXJyV5ja9QsF",
        "outputId": "43d1efd3-5542-46ce-9a66-7d04d5582b70"
      },
      "source": [
        "# Order the times of day and corresponding counts before plotting\n",
        "times_of_day = ['early morning', 'morning', 'afternoon', 'evening']\n",
        "tweet_count_by_time_of_day_ordered = []\n",
        "for time in times_of_day:\n",
        "  tweet_count_by_time_of_day_ordered.append(tweet_count_by_time_of_day[time])\n",
        "\n",
        "# Visualize\n",
        "fig = px.bar(x=times_of_day, y=tweet_count_by_time_of_day_ordered,\n",
        "             title='Distritbution of COVID-19 Tweet Counts in a Day in April 2020',\n",
        "             labels={'x': 'Time of Day', 'y': 'Tweet Count (millions)'},\n",
        "             width=600, height=400)\n",
        "fig.show()"
      ],
      "execution_count": 54,
      "outputs": [
        {
          "output_type": "display_data",
          "data": {
            "text/html": [
              "<html>\n",
              "<head><meta charset=\"utf-8\" /></head>\n",
              "<body>\n",
              "    <div>\n",
              "            <script src=\"https://cdnjs.cloudflare.com/ajax/libs/mathjax/2.7.5/MathJax.js?config=TeX-AMS-MML_SVG\"></script><script type=\"text/javascript\">if (window.MathJax) {MathJax.Hub.Config({SVG: {font: \"STIX-Web\"}});}</script>\n",
              "                <script type=\"text/javascript\">window.PlotlyConfig = {MathJaxConfig: 'local'};</script>\n",
              "        <script src=\"https://cdn.plot.ly/plotly-latest.min.js\"></script>    \n",
              "            <div id=\"ab6667f6-d397-4acd-bf13-a7474293f80f\" class=\"plotly-graph-div\" style=\"height:400px; width:600px;\"></div>\n",
              "            <script type=\"text/javascript\">\n",
              "                \n",
              "                    window.PLOTLYENV=window.PLOTLYENV || {};\n",
              "                    \n",
              "                if (document.getElementById(\"ab6667f6-d397-4acd-bf13-a7474293f80f\")) {\n",
              "                    Plotly.newPlot(\n",
              "                        'ab6667f6-d397-4acd-bf13-a7474293f80f',\n",
              "                        [{\"alignmentgroup\": \"True\", \"hoverlabel\": {\"namelength\": 0}, \"hovertemplate\": \"Time of Day=%{x}<br>Tweet Count (millions)=%{y}\", \"legendgroup\": \"\", \"marker\": {\"color\": \"#636efa\"}, \"name\": \"\", \"offsetgroup\": \"\", \"orientation\": \"v\", \"showlegend\": false, \"textposition\": \"auto\", \"type\": \"bar\", \"x\": [\"early morning\", \"morning\", \"afternoon\", \"evening\"], \"xaxis\": \"x\", \"y\": [1380423, 1712397, 2781984, 2258502], \"yaxis\": \"y\"}],\n",
              "                        {\"barmode\": \"relative\", \"height\": 400, \"legend\": {\"tracegroupgap\": 0}, \"template\": {\"data\": {\"bar\": [{\"error_x\": {\"color\": \"#2a3f5f\"}, \"error_y\": {\"color\": \"#2a3f5f\"}, \"marker\": {\"line\": {\"color\": \"#E5ECF6\", \"width\": 0.5}}, \"type\": \"bar\"}], \"barpolar\": [{\"marker\": {\"line\": {\"color\": \"#E5ECF6\", \"width\": 0.5}}, \"type\": \"barpolar\"}], \"carpet\": [{\"aaxis\": {\"endlinecolor\": \"#2a3f5f\", \"gridcolor\": \"white\", \"linecolor\": \"white\", \"minorgridcolor\": \"white\", \"startlinecolor\": \"#2a3f5f\"}, \"baxis\": {\"endlinecolor\": \"#2a3f5f\", \"gridcolor\": \"white\", \"linecolor\": \"white\", \"minorgridcolor\": \"white\", \"startlinecolor\": \"#2a3f5f\"}, \"type\": \"carpet\"}], \"choropleth\": [{\"colorbar\": {\"outlinewidth\": 0, \"ticks\": \"\"}, \"type\": \"choropleth\"}], \"contour\": [{\"colorbar\": {\"outlinewidth\": 0, \"ticks\": \"\"}, \"colorscale\": [[0.0, \"#0d0887\"], [0.1111111111111111, \"#46039f\"], [0.2222222222222222, \"#7201a8\"], [0.3333333333333333, \"#9c179e\"], [0.4444444444444444, \"#bd3786\"], [0.5555555555555556, \"#d8576b\"], [0.6666666666666666, \"#ed7953\"], [0.7777777777777778, \"#fb9f3a\"], [0.8888888888888888, \"#fdca26\"], [1.0, \"#f0f921\"]], \"type\": \"contour\"}], \"contourcarpet\": [{\"colorbar\": {\"outlinewidth\": 0, \"ticks\": \"\"}, \"type\": \"contourcarpet\"}], \"heatmap\": [{\"colorbar\": {\"outlinewidth\": 0, \"ticks\": \"\"}, \"colorscale\": [[0.0, \"#0d0887\"], [0.1111111111111111, \"#46039f\"], [0.2222222222222222, \"#7201a8\"], [0.3333333333333333, \"#9c179e\"], [0.4444444444444444, \"#bd3786\"], [0.5555555555555556, \"#d8576b\"], [0.6666666666666666, \"#ed7953\"], [0.7777777777777778, \"#fb9f3a\"], [0.8888888888888888, \"#fdca26\"], [1.0, \"#f0f921\"]], \"type\": \"heatmap\"}], \"heatmapgl\": [{\"colorbar\": {\"outlinewidth\": 0, \"ticks\": \"\"}, \"colorscale\": [[0.0, \"#0d0887\"], [0.1111111111111111, \"#46039f\"], [0.2222222222222222, \"#7201a8\"], [0.3333333333333333, \"#9c179e\"], [0.4444444444444444, \"#bd3786\"], [0.5555555555555556, \"#d8576b\"], [0.6666666666666666, \"#ed7953\"], [0.7777777777777778, \"#fb9f3a\"], [0.8888888888888888, \"#fdca26\"], [1.0, \"#f0f921\"]], \"type\": \"heatmapgl\"}], \"histogram\": [{\"marker\": {\"colorbar\": {\"outlinewidth\": 0, \"ticks\": \"\"}}, \"type\": \"histogram\"}], \"histogram2d\": [{\"colorbar\": {\"outlinewidth\": 0, \"ticks\": \"\"}, \"colorscale\": [[0.0, \"#0d0887\"], [0.1111111111111111, \"#46039f\"], [0.2222222222222222, \"#7201a8\"], [0.3333333333333333, \"#9c179e\"], [0.4444444444444444, \"#bd3786\"], [0.5555555555555556, \"#d8576b\"], [0.6666666666666666, \"#ed7953\"], [0.7777777777777778, \"#fb9f3a\"], [0.8888888888888888, \"#fdca26\"], [1.0, \"#f0f921\"]], \"type\": \"histogram2d\"}], \"histogram2dcontour\": [{\"colorbar\": {\"outlinewidth\": 0, \"ticks\": \"\"}, \"colorscale\": [[0.0, \"#0d0887\"], [0.1111111111111111, \"#46039f\"], [0.2222222222222222, \"#7201a8\"], [0.3333333333333333, \"#9c179e\"], [0.4444444444444444, \"#bd3786\"], [0.5555555555555556, \"#d8576b\"], [0.6666666666666666, \"#ed7953\"], [0.7777777777777778, \"#fb9f3a\"], [0.8888888888888888, \"#fdca26\"], [1.0, \"#f0f921\"]], \"type\": \"histogram2dcontour\"}], \"mesh3d\": [{\"colorbar\": {\"outlinewidth\": 0, \"ticks\": \"\"}, \"type\": \"mesh3d\"}], \"parcoords\": [{\"line\": {\"colorbar\": {\"outlinewidth\": 0, \"ticks\": \"\"}}, \"type\": \"parcoords\"}], \"pie\": [{\"automargin\": true, \"type\": \"pie\"}], \"scatter\": [{\"marker\": {\"colorbar\": {\"outlinewidth\": 0, \"ticks\": \"\"}}, \"type\": \"scatter\"}], \"scatter3d\": [{\"line\": {\"colorbar\": {\"outlinewidth\": 0, \"ticks\": \"\"}}, \"marker\": {\"colorbar\": {\"outlinewidth\": 0, \"ticks\": \"\"}}, \"type\": \"scatter3d\"}], \"scattercarpet\": [{\"marker\": {\"colorbar\": {\"outlinewidth\": 0, \"ticks\": \"\"}}, \"type\": \"scattercarpet\"}], \"scattergeo\": [{\"marker\": {\"colorbar\": {\"outlinewidth\": 0, \"ticks\": \"\"}}, \"type\": \"scattergeo\"}], \"scattergl\": [{\"marker\": {\"colorbar\": {\"outlinewidth\": 0, \"ticks\": \"\"}}, \"type\": \"scattergl\"}], \"scattermapbox\": [{\"marker\": {\"colorbar\": {\"outlinewidth\": 0, \"ticks\": \"\"}}, \"type\": \"scattermapbox\"}], \"scatterpolar\": [{\"marker\": {\"colorbar\": {\"outlinewidth\": 0, \"ticks\": \"\"}}, \"type\": \"scatterpolar\"}], \"scatterpolargl\": [{\"marker\": {\"colorbar\": {\"outlinewidth\": 0, \"ticks\": \"\"}}, \"type\": \"scatterpolargl\"}], \"scatterternary\": [{\"marker\": {\"colorbar\": {\"outlinewidth\": 0, \"ticks\": \"\"}}, \"type\": \"scatterternary\"}], \"surface\": [{\"colorbar\": {\"outlinewidth\": 0, \"ticks\": \"\"}, \"colorscale\": [[0.0, \"#0d0887\"], [0.1111111111111111, \"#46039f\"], [0.2222222222222222, \"#7201a8\"], [0.3333333333333333, \"#9c179e\"], [0.4444444444444444, \"#bd3786\"], [0.5555555555555556, \"#d8576b\"], [0.6666666666666666, \"#ed7953\"], [0.7777777777777778, \"#fb9f3a\"], [0.8888888888888888, \"#fdca26\"], [1.0, \"#f0f921\"]], \"type\": \"surface\"}], \"table\": [{\"cells\": {\"fill\": {\"color\": \"#EBF0F8\"}, \"line\": {\"color\": \"white\"}}, \"header\": {\"fill\": {\"color\": \"#C8D4E3\"}, \"line\": {\"color\": \"white\"}}, \"type\": \"table\"}]}, \"layout\": {\"annotationdefaults\": {\"arrowcolor\": \"#2a3f5f\", \"arrowhead\": 0, \"arrowwidth\": 1}, \"coloraxis\": {\"colorbar\": {\"outlinewidth\": 0, \"ticks\": \"\"}}, \"colorscale\": {\"diverging\": [[0, \"#8e0152\"], [0.1, \"#c51b7d\"], [0.2, \"#de77ae\"], [0.3, \"#f1b6da\"], [0.4, \"#fde0ef\"], [0.5, \"#f7f7f7\"], [0.6, \"#e6f5d0\"], [0.7, \"#b8e186\"], [0.8, \"#7fbc41\"], [0.9, \"#4d9221\"], [1, \"#276419\"]], \"sequential\": [[0.0, \"#0d0887\"], [0.1111111111111111, \"#46039f\"], [0.2222222222222222, \"#7201a8\"], [0.3333333333333333, \"#9c179e\"], [0.4444444444444444, \"#bd3786\"], [0.5555555555555556, \"#d8576b\"], [0.6666666666666666, \"#ed7953\"], [0.7777777777777778, \"#fb9f3a\"], [0.8888888888888888, \"#fdca26\"], [1.0, \"#f0f921\"]], \"sequentialminus\": [[0.0, \"#0d0887\"], [0.1111111111111111, \"#46039f\"], [0.2222222222222222, \"#7201a8\"], [0.3333333333333333, \"#9c179e\"], [0.4444444444444444, \"#bd3786\"], [0.5555555555555556, \"#d8576b\"], [0.6666666666666666, \"#ed7953\"], [0.7777777777777778, \"#fb9f3a\"], [0.8888888888888888, \"#fdca26\"], [1.0, \"#f0f921\"]]}, \"colorway\": [\"#636efa\", \"#EF553B\", \"#00cc96\", \"#ab63fa\", \"#FFA15A\", \"#19d3f3\", \"#FF6692\", \"#B6E880\", \"#FF97FF\", \"#FECB52\"], \"font\": {\"color\": \"#2a3f5f\"}, \"geo\": {\"bgcolor\": \"white\", \"lakecolor\": \"white\", \"landcolor\": \"#E5ECF6\", \"showlakes\": true, \"showland\": true, \"subunitcolor\": \"white\"}, \"hoverlabel\": {\"align\": \"left\"}, \"hovermode\": \"closest\", \"mapbox\": {\"style\": \"light\"}, \"paper_bgcolor\": \"white\", \"plot_bgcolor\": \"#E5ECF6\", \"polar\": {\"angularaxis\": {\"gridcolor\": \"white\", \"linecolor\": \"white\", \"ticks\": \"\"}, \"bgcolor\": \"#E5ECF6\", \"radialaxis\": {\"gridcolor\": \"white\", \"linecolor\": \"white\", \"ticks\": \"\"}}, \"scene\": {\"xaxis\": {\"backgroundcolor\": \"#E5ECF6\", \"gridcolor\": \"white\", \"gridwidth\": 2, \"linecolor\": \"white\", \"showbackground\": true, \"ticks\": \"\", \"zerolinecolor\": \"white\"}, \"yaxis\": {\"backgroundcolor\": \"#E5ECF6\", \"gridcolor\": \"white\", \"gridwidth\": 2, \"linecolor\": \"white\", \"showbackground\": true, \"ticks\": \"\", \"zerolinecolor\": \"white\"}, \"zaxis\": {\"backgroundcolor\": \"#E5ECF6\", \"gridcolor\": \"white\", \"gridwidth\": 2, \"linecolor\": \"white\", \"showbackground\": true, \"ticks\": \"\", \"zerolinecolor\": \"white\"}}, \"shapedefaults\": {\"line\": {\"color\": \"#2a3f5f\"}}, \"ternary\": {\"aaxis\": {\"gridcolor\": \"white\", \"linecolor\": \"white\", \"ticks\": \"\"}, \"baxis\": {\"gridcolor\": \"white\", \"linecolor\": \"white\", \"ticks\": \"\"}, \"bgcolor\": \"#E5ECF6\", \"caxis\": {\"gridcolor\": \"white\", \"linecolor\": \"white\", \"ticks\": \"\"}}, \"title\": {\"x\": 0.05}, \"xaxis\": {\"automargin\": true, \"gridcolor\": \"white\", \"linecolor\": \"white\", \"ticks\": \"\", \"title\": {\"standoff\": 15}, \"zerolinecolor\": \"white\", \"zerolinewidth\": 2}, \"yaxis\": {\"automargin\": true, \"gridcolor\": \"white\", \"linecolor\": \"white\", \"ticks\": \"\", \"title\": {\"standoff\": 15}, \"zerolinecolor\": \"white\", \"zerolinewidth\": 2}}}, \"title\": {\"text\": \"Distritbution of COVID-19 Tweet Counts in a Day in April 2020\"}, \"width\": 600, \"xaxis\": {\"anchor\": \"y\", \"domain\": [0.0, 1.0], \"title\": {\"text\": \"Time of Day\"}}, \"yaxis\": {\"anchor\": \"x\", \"domain\": [0.0, 1.0], \"title\": {\"text\": \"Tweet Count (millions)\"}}},\n",
              "                        {\"responsive\": true}\n",
              "                    ).then(function(){\n",
              "                            \n",
              "var gd = document.getElementById('ab6667f6-d397-4acd-bf13-a7474293f80f');\n",
              "var x = new MutationObserver(function (mutations, observer) {{\n",
              "        var display = window.getComputedStyle(gd).display;\n",
              "        if (!display || display === 'none') {{\n",
              "            console.log([gd, 'removed!']);\n",
              "            Plotly.purge(gd);\n",
              "            observer.disconnect();\n",
              "        }}\n",
              "}});\n",
              "\n",
              "// Listen for the removal of the full notebook cells\n",
              "var notebookContainer = gd.closest('#notebook-container');\n",
              "if (notebookContainer) {{\n",
              "    x.observe(notebookContainer, {childList: true});\n",
              "}}\n",
              "\n",
              "// Listen for the clearing of the current output cell\n",
              "var outputEl = gd.closest('.output');\n",
              "if (outputEl) {{\n",
              "    x.observe(outputEl, {childList: true});\n",
              "}}\n",
              "\n",
              "                        })\n",
              "                };\n",
              "                \n",
              "            </script>\n",
              "        </div>\n",
              "</body>\n",
              "</html>"
            ]
          },
          "metadata": {}
        }
      ]
    },
    {
      "cell_type": "markdown",
      "metadata": {
        "id": "Ziasy4apEtwl"
      },
      "source": [
        "We can see that people tweeted the most in the afternoon (2.8 million). Evening had the second highest count of tweets (2.3 million). 1.7 million and 1.4 million tweets were created in the morning and early morning, respectively."
      ]
    },
    {
      "cell_type": "markdown",
      "metadata": {
        "id": "OIDR4-qC5tr3"
      },
      "source": [
        "## Distribution of Sources\n",
        "\n",
        "`source` is the device, app, or platform that the user used to post the tweet. For example, if one used the Twitter app on iPhone, the value for `source` would say \"Twitter for iPhone\".\n",
        "\n",
        "Let's check the distribution of the different sources."
      ]
    },
    {
      "cell_type": "code",
      "metadata": {
        "colab": {
          "base_uri": "https://localhost:8080/"
        },
        "id": "JEiqahW46FWN",
        "outputId": "a84eeb8b-52b2-41c5-dae4-4fddaa6f7742"
      },
      "source": [
        "tweets['source'].value_counts()"
      ],
      "execution_count": 55,
      "outputs": [
        {
          "output_type": "execute_result",
          "data": {
            "text/plain": [
              "Twitter Web App                    2251704\n",
              "Twitter for iPhone                 1943776\n",
              "Twitter for Android                1922999\n",
              "TweetDeck                           353755\n",
              "Twitter Web Client                  272621\n",
              "                                    ...   \n",
              "PatientConnect365.com Posts              1\n",
              "ValChoice                                1\n",
              "Quac                                     1\n",
              "BTNNEWS                                  1\n",
              "softmetz' part of the fediverse          1\n",
              "Name: source, Length: 2706, dtype: int64"
            ]
          },
          "metadata": {},
          "execution_count": 55
        }
      ]
    },
    {
      "cell_type": "code",
      "metadata": {
        "colab": {
          "base_uri": "https://localhost:8080/"
        },
        "id": "m4XeNav-tZfd",
        "outputId": "8af1e909-2fa7-4be3-cbf4-b495a9630b4d"
      },
      "source": [
        "# calculate the percentages\n",
        "tweets['source'].value_counts()/tweets.shape[0]*100"
      ],
      "execution_count": 56,
      "outputs": [
        {
          "output_type": "execute_result",
          "data": {
            "text/plain": [
              "Twitter Web App                    27.684978\n",
              "Twitter for iPhone                 23.898966\n",
              "Twitter for Android                23.643510\n",
              "TweetDeck                           4.349461\n",
              "Twitter Web Client                  3.351909\n",
              "                                     ...    \n",
              "PatientConnect365.com Posts         0.000012\n",
              "ValChoice                           0.000012\n",
              "Quac                                0.000012\n",
              "BTNNEWS                             0.000012\n",
              "softmetz' part of the fediverse     0.000012\n",
              "Name: source, Length: 2706, dtype: float64"
            ]
          },
          "metadata": {},
          "execution_count": 56
        }
      ]
    },
    {
      "cell_type": "markdown",
      "metadata": {
        "id": "0Bl9H1e_6J_2"
      },
      "source": [
        "There are 2,706 unique sources. There are too many to visualize, and many of them could have a count of just 1. Let's visualize the top 20 sources by count."
      ]
    },
    {
      "cell_type": "code",
      "metadata": {
        "colab": {
          "base_uri": "https://localhost:8080/",
          "height": 370
        },
        "id": "8EbaozRr6cxR",
        "outputId": "e6e08e16-9f67-4893-c193-931e4ba8afa7"
      },
      "source": [
        "plt.figure(figsize=(15,5))\n",
        "sns.barplot(x=tweets['source'].value_counts()[:20], y=tweets['source'].value_counts().index[:20], orient='h')\n",
        "plt.title('Top 20 Sources by Count')\n",
        "plt.xlabel('Count (millions)')\n",
        "plt.ylabel('Source')\n",
        "plt.show()"
      ],
      "execution_count": 57,
      "outputs": [
        {
          "output_type": "display_data",
          "data": {
            "image/png": "[encoded data removed]",
            "text/plain": [
              "<Figure size 1080x360 with 1 Axes>"
            ]
          },
          "metadata": {
            "needs_background": "light"
          }
        }
      ]
    },
    {
      "cell_type": "markdown",
      "metadata": {
        "id": "foZKj7QypjSv"
      },
      "source": [
        "Twitter Web App is the most frequent source in the dataset (2,251,704 counts, 28%). The second and third most frequent sources are both mobile device-based - Twitter for iPhone (1,943,776 counts) and Twitter for Android (1,922,999 counts), respectively. Both constituted comparable fractions of the dataset, each making up about 24%. \n",
        "\n",
        "Twitter Web App, Twitter for iPhone, and Twitter for Android together consisted 76% of the entire dataset. "
      ]
    },
    {
      "cell_type": "markdown",
      "metadata": {
        "id": "I9Z2PCRo29tx"
      },
      "source": [
        "## Get Tweet Frequencies of Users"
      ]
    },
    {
      "cell_type": "markdown",
      "metadata": {
        "id": "7AdWxB1EL4e9"
      },
      "source": [
        "Get unique user IDs."
      ]
    },
    {
      "cell_type": "code",
      "metadata": {
        "colab": {
          "base_uri": "https://localhost:8080/"
        },
        "id": "2Ni7M255FYkm",
        "outputId": "1fe05d0a-c24c-4146-b5e4-885de55027ed"
      },
      "source": [
        "unique_user_ids = tweets['user_id'].unique()\n",
        "unique_user_ids.shape\n"
      ],
      "execution_count": 58,
      "outputs": [
        {
          "output_type": "execute_result",
          "data": {
            "text/plain": [
              "(1943803,)"
            ]
          },
          "metadata": {},
          "execution_count": 58
        }
      ]
    },
    {
      "cell_type": "markdown",
      "metadata": {
        "id": "AngqB5orMM-_"
      },
      "source": [
        "There are 1,943,804 unique user IDs in the dataset. "
      ]
    },
    {
      "cell_type": "code",
      "metadata": {
        "colab": {
          "base_uri": "https://localhost:8080/"
        },
        "id": "1J1eDK-fMCb9",
        "outputId": "94b60804-c862-432b-dec6-990e5b284839"
      },
      "source": [
        "tweets.groupby('user_id').size().sort_values(ascending=False)"
      ],
      "execution_count": 59,
      "outputs": [
        {
          "output_type": "execute_result",
          "data": {
            "text/plain": [
              "user_id\n",
              "938533034659168256     45786\n",
              "289118612              14958\n",
              "4913320595             14157\n",
              "139283160              10095\n",
              "902440729640710145      9746\n",
              "                       ...  \n",
              "30720345                   1\n",
              "3072036223                 1\n",
              "3072037279                 1\n",
              "3072037849                 1\n",
              "1000000083604246529        1\n",
              "Length: 1943803, dtype: int64"
            ]
          },
          "metadata": {},
          "execution_count": 59
        }
      ]
    },
    {
      "cell_type": "markdown",
      "metadata": {
        "id": "jPxngrqJNb7H"
      },
      "source": [
        "Visualize the top 20 most frequent tweeters."
      ]
    },
    {
      "cell_type": "code",
      "metadata": {
        "id": "c1dJbfB4MbSE"
      },
      "source": [
        "# get tweet count of each unique user_id, sort them in descending order\n",
        "tweet_counts_by_user_id = tweets.groupby('user_id').size().sort_values(ascending=False)\n",
        "# sort the user_ids in descending order of tweet counts\n",
        "user_ids_by_descending_count = tweet_counts_by_user_id.index\n",
        "\n",
        "# Create a dataframe\n",
        "tweet_counts_by_user_id_df = pd.DataFrame({'tweet_count': tweet_counts_by_user_id}, index=None)\n",
        "tweet_counts_by_user_id_df.reset_index(drop=False, inplace=True)"
      ],
      "execution_count": 60,
      "outputs": []
    },
    {
      "cell_type": "code",
      "metadata": {
        "colab": {
          "base_uri": "https://localhost:8080/",
          "height": 422
        },
        "id": "Xq_m2gEIPH2_",
        "outputId": "e9670f59-2958-4f8f-d6df-d2ab3fb80e98"
      },
      "source": [
        "tweet_counts_by_user_id_df"
      ],
      "execution_count": 61,
      "outputs": [
        {
          "output_type": "execute_result",
          "data": {
            "text/html": [
              "<div>\n",
              "<style scoped>\n",
              "    .dataframe tbody tr th:only-of-type {\n",
              "        vertical-align: middle;\n",
              "    }\n",
              "\n",
              "    .dataframe tbody tr th {\n",
              "        vertical-align: top;\n",
              "    }\n",
              "\n",
              "    .dataframe thead th {\n",
              "        text-align: right;\n",
              "    }\n",
              "</style>\n",
              "<table border=\"1\" class=\"dataframe\">\n",
              "  <thead>\n",
              "    <tr style=\"text-align: right;\">\n",
              "      <th></th>\n",
              "      <th>user_id</th>\n",
              "      <th>tweet_count</th>\n",
              "    </tr>\n",
              "  </thead>\n",
              "  <tbody>\n",
              "    <tr>\n",
              "      <th>0</th>\n",
              "      <td>938533034659168256</td>\n",
              "      <td>45786</td>\n",
              "    </tr>\n",
              "    <tr>\n",
              "      <th>1</th>\n",
              "      <td>289118612</td>\n",
              "      <td>14958</td>\n",
              "    </tr>\n",
              "    <tr>\n",
              "      <th>2</th>\n",
              "      <td>4913320595</td>\n",
              "      <td>14157</td>\n",
              "    </tr>\n",
              "    <tr>\n",
              "      <th>3</th>\n",
              "      <td>139283160</td>\n",
              "      <td>10095</td>\n",
              "    </tr>\n",
              "    <tr>\n",
              "      <th>4</th>\n",
              "      <td>902440729640710145</td>\n",
              "      <td>9746</td>\n",
              "    </tr>\n",
              "    <tr>\n",
              "      <th>...</th>\n",
              "      <td>...</td>\n",
              "      <td>...</td>\n",
              "    </tr>\n",
              "    <tr>\n",
              "      <th>1943798</th>\n",
              "      <td>30720345</td>\n",
              "      <td>1</td>\n",
              "    </tr>\n",
              "    <tr>\n",
              "      <th>1943799</th>\n",
              "      <td>3072036223</td>\n",
              "      <td>1</td>\n",
              "    </tr>\n",
              "    <tr>\n",
              "      <th>1943800</th>\n",
              "      <td>3072037279</td>\n",
              "      <td>1</td>\n",
              "    </tr>\n",
              "    <tr>\n",
              "      <th>1943801</th>\n",
              "      <td>3072037849</td>\n",
              "      <td>1</td>\n",
              "    </tr>\n",
              "    <tr>\n",
              "      <th>1943802</th>\n",
              "      <td>1000000083604246529</td>\n",
              "      <td>1</td>\n",
              "    </tr>\n",
              "  </tbody>\n",
              "</table>\n",
              "<p>1943803 rows × 2 columns</p>\n",
              "</div>"
            ],
            "text/plain": [
              "                     user_id  tweet_count\n",
              "0         938533034659168256        45786\n",
              "1                  289118612        14958\n",
              "2                 4913320595        14157\n",
              "3                  139283160        10095\n",
              "4         902440729640710145         9746\n",
              "...                      ...          ...\n",
              "1943798             30720345            1\n",
              "1943799           3072036223            1\n",
              "1943800           3072037279            1\n",
              "1943801           3072037849            1\n",
              "1943802  1000000083604246529            1\n",
              "\n",
              "[1943803 rows x 2 columns]"
            ]
          },
          "metadata": {},
          "execution_count": 61
        }
      ]
    },
    {
      "cell_type": "markdown",
      "metadata": {
        "id": "_wfgjSA83wFI"
      },
      "source": [
        "Plot the top 20 user IDs by tweet count."
      ]
    },
    {
      "cell_type": "code",
      "metadata": {
        "colab": {
          "base_uri": "https://localhost:8080/",
          "height": 227
        },
        "id": "XvZzy5UjNP75",
        "outputId": "35434db6-d4bb-4d3e-97d1-91619db35f8f"
      },
      "source": [
        "# Plot top 20 user IDs by tweet counts\n",
        "plt.figure(figsize=(15,5))\n",
        "sns.barplot(x=tweet_counts_by_user_id_df.iloc[0:20, 1], y=tweet_counts_by_user_id_df.iloc[0:20, 0], orient='h', color='skyblue')\n",
        "plt.title('Top 20 User IDs by COVID-19-Related Tweet Count in April 2020')\n",
        "plt.xlabel('Tweet Count')\n",
        "plt.ylabel('User ID')\n",
        "plt.show()"
      ],
      "execution_count": 62,
      "outputs": [
        {
          "output_type": "display_data",
          "data": {
            "image/png": "[encoded data removed]",
            "text/plain": [
              "<Figure size 1080x360 with 1 Axes>"
            ]
          },
          "metadata": {
            "needs_background": "light"
          }
        }
      ]
    },
    {
      "cell_type": "markdown",
      "metadata": {
        "id": "aH52kkjF48XQ"
      },
      "source": [
        "It may be better to use their screen names, instead of user IDs, to get to know them better."
      ]
    },
    {
      "cell_type": "code",
      "metadata": {
        "colab": {
          "base_uri": "https://localhost:8080/"
        },
        "id": "16_m_vsy87NS",
        "outputId": "f1d13e15-04e6-422d-fdf2-48ac47c4d7ea"
      },
      "source": [
        "# get number of unique screen names\n",
        "tweets['screen_name'].unique().shape"
      ],
      "execution_count": 63,
      "outputs": [
        {
          "output_type": "execute_result",
          "data": {
            "text/plain": [
              "(1953602,)"
            ]
          },
          "metadata": {},
          "execution_count": 63
        }
      ]
    },
    {
      "cell_type": "markdown",
      "metadata": {
        "id": "DCuft_tB9WxU"
      },
      "source": [
        "There are more unique screen names (1,953,602) than unique user IDs (1,943,803). If we try to match those two columns, we will get some kind of index error. \n",
        "\n",
        "Alternatively, we can just select top 20 screen names by tweet count to plot."
      ]
    },
    {
      "cell_type": "code",
      "metadata": {
        "colab": {
          "base_uri": "https://localhost:8080/",
          "height": 370
        },
        "id": "XTuI5eevPoIk",
        "outputId": "c2b5ba0e-4dac-4481-a77d-6e12db0d0adb"
      },
      "source": [
        "# get tweet count of each unique screen_name, sort them in descending order\n",
        "tweet_counts_by_screen_name = tweets.groupby('screen_name').size().sort_values(ascending=False)\n",
        "# sort the user_ids in descending order of tweet counts\n",
        "screen_name_by_descending_count = tweet_counts_by_screen_name.index\n",
        "\n",
        "# slice top 20 by tweet count\n",
        "top_20_screen_names = screen_name_by_descending_count[:20]\n",
        "top_20_tweet_counts = tweet_counts_by_screen_name[:20]\n",
        "\n",
        "# plot\n",
        "plt.figure(figsize=(15,5))\n",
        "sns.barplot(x=top_20_tweet_counts, y=top_20_screen_names, orient='h', color='pink')\n",
        "plt.xlabel('Tweet Count')\n",
        "plt.ylabel('Screen Name')\n",
        "plt.title('Top 20 Screen Names by COVID-19-Related Tweet Count in April 2020')\n",
        "plt.show()"
      ],
      "execution_count": 64,
      "outputs": [
        {
          "output_type": "display_data",
          "data": {
            "image/png": "[encoded data removed]",
            "text/plain": [
              "<Figure size 1080x360 with 1 Axes>"
            ]
          },
          "metadata": {
            "needs_background": "light"
          }
        }
      ]
    },
    {
      "cell_type": "markdown",
      "metadata": {
        "id": "irBGRYtm_zPu"
      },
      "source": [
        "We see that the most prolific user was openletterbot, who posted more than 40,000 tweets in the month of April in 2020. Ths screen name suggests that it is actually a bot. \n",
        "\n",
        "In its Twitter profile, openletterbot describes itself as, \"I’m a bot publishing copies of letters delivered to elected officials in the United States.\" \n",
        "\n",
        "Users, who appear to be mostly Americans, send digital copies of their letters or petitions addressed to elected officials  to the bot, and it shares a screenshot of them on its feed."
      ]
    },
    {
      "cell_type": "markdown",
      "metadata": {
        "id": "FIA0LxM8BWLY"
      },
      "source": [
        "## Calculate Tweet Frequencies of Unique Users"
      ]
    },
    {
      "cell_type": "markdown",
      "metadata": {
        "id": "LGF7jwAVBf-B"
      },
      "source": [
        "We saw that there are more unique screen names than unique user IDs. Screen names can be set by the user, so it may allow duplicates in the ecosystem, or one user could have multiple screen names within a month. Therefore, the more reliable anchor point for calculating tweet frequency of each user would be `user_id` as it is set by Twitter, not individual users."
      ]
    },
    {
      "cell_type": "code",
      "metadata": {
        "colab": {
          "base_uri": "https://localhost:8080/"
        },
        "id": "olO6sWblFEx6",
        "outputId": "98817931-d13c-494c-f8b4-ebbdb6101f2d"
      },
      "source": [
        "earliest_date = tweets['created_at'].dt.date.min()\n",
        "latest_date = tweets['created_at'].dt.date.max()\n",
        "total_timespan = (latest_date - earliest_date)\n",
        "print(earliest_date, latest_date)\n",
        "print(total_timespan)\n",
        "# total_num_days tweets['created_at'].dt.da\n",
        "# tweets.groupby('user_id').size()/\n",
        "\n"
      ],
      "execution_count": 65,
      "outputs": [
        {
          "output_type": "stream",
          "name": "stdout",
          "text": [
            "2020-03-29 2020-04-30\n",
            "32 days, 0:00:00\n"
          ]
        }
      ]
    },
    {
      "cell_type": "markdown",
      "metadata": {
        "id": "siCiOQSaJj98"
      },
      "source": [
        "The data spanned 32 days, from March 29th to April 30th, 2020."
      ]
    },
    {
      "cell_type": "code",
      "metadata": {
        "id": "1L2NF0f9FyXQ",
        "colab": {
          "base_uri": "https://localhost:8080/"
        },
        "outputId": "97f08929-d6b7-440c-9a89-0b78299a0da3"
      },
      "source": [
        "tweets['user_id'].unique().shape"
      ],
      "execution_count": 66,
      "outputs": [
        {
          "output_type": "execute_result",
          "data": {
            "text/plain": [
              "(1943803,)"
            ]
          },
          "metadata": {},
          "execution_count": 66
        }
      ]
    },
    {
      "cell_type": "markdown",
      "metadata": {
        "id": "1HpLplQCJxzE"
      },
      "source": [
        "Again, there are nearly 2 million unique user IDs in the dataset."
      ]
    },
    {
      "cell_type": "markdown",
      "metadata": {
        "id": "zT7stCPGVs_H"
      },
      "source": [
        "### Calculate User Tweet Frequency Per Day"
      ]
    },
    {
      "cell_type": "code",
      "metadata": {
        "id": "XgSglU0o7swh",
        "colab": {
          "base_uri": "https://localhost:8080/",
          "height": 518
        },
        "outputId": "0c991eaa-d7d1-40e8-9fd3-a3fc62cb891a"
      },
      "source": [
        "# get the days in int format\n",
        "total_num_days = total_timespan.days\n",
        "display(tweets.groupby('user_id').size())\n",
        "print('\\n User Tweet Frequency per day:\\n')\n",
        "user_tweet_freq_per_day = tweets.groupby('user_id').size()/total_num_days\n",
        "print(user_tweet_freq_per_day)"
      ],
      "execution_count": 67,
      "outputs": [
        {
          "output_type": "display_data",
          "data": {
            "text/plain": [
              "user_id\n",
              "1000000083604246529     1\n",
              "1000000662              1\n",
              "1000001032401846272     1\n",
              "1000001295342858241     2\n",
              "1000001683005542402    15\n",
              "                       ..\n",
              "999997696881709056      1\n",
              "999997839097913349      1\n",
              "999998869214818310      1\n",
              "999999669001510912      1\n",
              "999999918231179266      7\n",
              "Length: 1943803, dtype: int64"
            ]
          },
          "metadata": {}
        },
        {
          "output_type": "stream",
          "name": "stdout",
          "text": [
            "\n",
            " User Tweet Frequency per day:\n",
            "\n",
            "user_id\n",
            "1000000083604246529    0.03125\n",
            "1000000662             0.03125\n",
            "1000001032401846272    0.03125\n",
            "1000001295342858241    0.06250\n",
            "1000001683005542402    0.46875\n",
            "                        ...   \n",
            "999997696881709056     0.03125\n",
            "999997839097913349     0.03125\n",
            "999998869214818310     0.03125\n",
            "999999669001510912     0.03125\n",
            "999999918231179266     0.21875\n",
            "Length: 1943803, dtype: float64\n"
          ]
        }
      ]
    },
    {
      "cell_type": "markdown",
      "metadata": {
        "id": "k5JSROR8QAIb"
      },
      "source": [
        "### Calculate User Tweet Frequency Per Hour"
      ]
    },
    {
      "cell_type": "code",
      "metadata": {
        "id": "3DuJcHpmQGaV",
        "colab": {
          "base_uri": "https://localhost:8080/"
        },
        "outputId": "18a3c843-c887-4719-988b-42fe78ae8f3b"
      },
      "source": [
        "# calculate the total number of hours which the dataset spanned\n",
        "total_hours = total_num_days*24 \n",
        "total_hours"
      ],
      "execution_count": 68,
      "outputs": [
        {
          "output_type": "execute_result",
          "data": {
            "text/plain": [
              "768"
            ]
          },
          "metadata": {},
          "execution_count": 68
        }
      ]
    },
    {
      "cell_type": "markdown",
      "metadata": {
        "id": "H6_Xdv3nQZrb"
      },
      "source": [
        "The dataset covered 768 hours from March 29th to April 30, 2020."
      ]
    },
    {
      "cell_type": "code",
      "metadata": {
        "id": "fFZCqmVHO_1o",
        "colab": {
          "base_uri": "https://localhost:8080/"
        },
        "outputId": "beac2532-30ab-45d3-80bb-0ea6959421ee"
      },
      "source": [
        "# calcualte the tweet frequency per hour of each user\n",
        "user_tweet_freq_per_hour = tweets.groupby('user_id').size()/total_hours\n",
        "user_tweet_freq_per_hour"
      ],
      "execution_count": 69,
      "outputs": [
        {
          "output_type": "execute_result",
          "data": {
            "text/plain": [
              "user_id\n",
              "1000000083604246529    0.001302\n",
              "1000000662             0.001302\n",
              "1000001032401846272    0.001302\n",
              "1000001295342858241    0.002604\n",
              "1000001683005542402    0.019531\n",
              "                         ...   \n",
              "999997696881709056     0.001302\n",
              "999997839097913349     0.001302\n",
              "999998869214818310     0.001302\n",
              "999999669001510912     0.001302\n",
              "999999918231179266     0.009115\n",
              "Length: 1943803, dtype: float64"
            ]
          },
          "metadata": {},
          "execution_count": 69
        }
      ]
    },
    {
      "cell_type": "code",
      "metadata": {
        "id": "bRrqRk24VRjf",
        "colab": {
          "base_uri": "https://localhost:8080/"
        },
        "outputId": "a355438f-25a0-4fba-a7c1-b750cd09c279"
      },
      "source": [
        "# check if the indices in two series match\n",
        "(user_tweet_freq_per_day.index == user_tweet_freq_per_hour.index).all()"
      ],
      "execution_count": 70,
      "outputs": [
        {
          "output_type": "execute_result",
          "data": {
            "text/plain": [
              "True"
            ]
          },
          "metadata": {},
          "execution_count": 70
        }
      ]
    },
    {
      "cell_type": "code",
      "metadata": {
        "id": "6Zms302fUkyO"
      },
      "source": [
        "# create dataframe of user_tweet_freq_per_day and user_tweet_freq_per_hour\n",
        "\n",
        "user_tweet_freq_df = pd.DataFrame({'user_id': user_tweet_freq_per_day.index,\n",
        "                                   'user_tweet_freq_per_day': user_tweet_freq_per_day,\n",
        "                                   'user_tweet_freq_per_hour': user_tweet_freq_per_hour}, index=None)\n",
        "# fix/reset the indices\n",
        "user_tweet_freq_df.reset_index(drop=True, inplace=True)"
      ],
      "execution_count": 71,
      "outputs": []
    },
    {
      "cell_type": "code",
      "metadata": {
        "id": "2oGXp2GsWEUj",
        "colab": {
          "base_uri": "https://localhost:8080/",
          "height": 442
        },
        "outputId": "be7c229e-94ec-4378-f67b-e59fd75648ca"
      },
      "source": [
        "user_tweet_freq_df"
      ],
      "execution_count": 72,
      "outputs": [
        {
          "output_type": "execute_result",
          "data": {
            "text/html": [
              "<div>\n",
              "<style scoped>\n",
              "    .dataframe tbody tr th:only-of-type {\n",
              "        vertical-align: middle;\n",
              "    }\n",
              "\n",
              "    .dataframe tbody tr th {\n",
              "        vertical-align: top;\n",
              "    }\n",
              "\n",
              "    .dataframe thead th {\n",
              "        text-align: right;\n",
              "    }\n",
              "</style>\n",
              "<table border=\"1\" class=\"dataframe\">\n",
              "  <thead>\n",
              "    <tr style=\"text-align: right;\">\n",
              "      <th></th>\n",
              "      <th>user_id</th>\n",
              "      <th>user_tweet_freq_per_day</th>\n",
              "      <th>user_tweet_freq_per_hour</th>\n",
              "    </tr>\n",
              "  </thead>\n",
              "  <tbody>\n",
              "    <tr>\n",
              "      <th>0</th>\n",
              "      <td>1000000083604246529</td>\n",
              "      <td>0.03125</td>\n",
              "      <td>0.001302</td>\n",
              "    </tr>\n",
              "    <tr>\n",
              "      <th>1</th>\n",
              "      <td>1000000662</td>\n",
              "      <td>0.03125</td>\n",
              "      <td>0.001302</td>\n",
              "    </tr>\n",
              "    <tr>\n",
              "      <th>2</th>\n",
              "      <td>1000001032401846272</td>\n",
              "      <td>0.03125</td>\n",
              "      <td>0.001302</td>\n",
              "    </tr>\n",
              "    <tr>\n",
              "      <th>3</th>\n",
              "      <td>1000001295342858241</td>\n",
              "      <td>0.06250</td>\n",
              "      <td>0.002604</td>\n",
              "    </tr>\n",
              "    <tr>\n",
              "      <th>4</th>\n",
              "      <td>1000001683005542402</td>\n",
              "      <td>0.46875</td>\n",
              "      <td>0.019531</td>\n",
              "    </tr>\n",
              "    <tr>\n",
              "      <th>...</th>\n",
              "      <td>...</td>\n",
              "      <td>...</td>\n",
              "      <td>...</td>\n",
              "    </tr>\n",
              "    <tr>\n",
              "      <th>1943798</th>\n",
              "      <td>999997696881709056</td>\n",
              "      <td>0.03125</td>\n",
              "      <td>0.001302</td>\n",
              "    </tr>\n",
              "    <tr>\n",
              "      <th>1943799</th>\n",
              "      <td>999997839097913349</td>\n",
              "      <td>0.03125</td>\n",
              "      <td>0.001302</td>\n",
              "    </tr>\n",
              "    <tr>\n",
              "      <th>1943800</th>\n",
              "      <td>999998869214818310</td>\n",
              "      <td>0.03125</td>\n",
              "      <td>0.001302</td>\n",
              "    </tr>\n",
              "    <tr>\n",
              "      <th>1943801</th>\n",
              "      <td>999999669001510912</td>\n",
              "      <td>0.03125</td>\n",
              "      <td>0.001302</td>\n",
              "    </tr>\n",
              "    <tr>\n",
              "      <th>1943802</th>\n",
              "      <td>999999918231179266</td>\n",
              "      <td>0.21875</td>\n",
              "      <td>0.009115</td>\n",
              "    </tr>\n",
              "  </tbody>\n",
              "</table>\n",
              "<p>1943803 rows × 3 columns</p>\n",
              "</div>"
            ],
            "text/plain": [
              "                     user_id  user_tweet_freq_per_day  user_tweet_freq_per_hour\n",
              "0        1000000083604246529                  0.03125                  0.001302\n",
              "1                 1000000662                  0.03125                  0.001302\n",
              "2        1000001032401846272                  0.03125                  0.001302\n",
              "3        1000001295342858241                  0.06250                  0.002604\n",
              "4        1000001683005542402                  0.46875                  0.019531\n",
              "...                      ...                      ...                       ...\n",
              "1943798   999997696881709056                  0.03125                  0.001302\n",
              "1943799   999997839097913349                  0.03125                  0.001302\n",
              "1943800   999998869214818310                  0.03125                  0.001302\n",
              "1943801   999999669001510912                  0.03125                  0.001302\n",
              "1943802   999999918231179266                  0.21875                  0.009115\n",
              "\n",
              "[1943803 rows x 3 columns]"
            ]
          },
          "metadata": {},
          "execution_count": 72
        }
      ]
    },
    {
      "cell_type": "markdown",
      "metadata": {
        "id": "Lv03mrAEVVfR"
      },
      "source": [
        "## Add Tweet Frequency Information to the DataFrame"
      ]
    },
    {
      "cell_type": "markdown",
      "metadata": {
        "id": "Usn8qYixWNUo"
      },
      "source": [
        "Let's merge this dataframe with the `tweets` dataframe."
      ]
    },
    {
      "cell_type": "code",
      "metadata": {
        "id": "7wo3zMkFQ-HX",
        "colab": {
          "base_uri": "https://localhost:8080/",
          "height": 856
        },
        "outputId": "a2082032-ebdd-40a4-a95b-04e79e6b0f29"
      },
      "source": [
        "tweets = tweets.merge(user_tweet_freq_df, how='left', on='user_id')\n",
        "tweets"
      ],
      "execution_count": 73,
      "outputs": [
        {
          "output_type": "execute_result",
          "data": {
            "text/html": [
              "<div>\n",
              "<style scoped>\n",
              "    .dataframe tbody tr th:only-of-type {\n",
              "        vertical-align: middle;\n",
              "    }\n",
              "\n",
              "    .dataframe tbody tr th {\n",
              "        vertical-align: top;\n",
              "    }\n",
              "\n",
              "    .dataframe thead th {\n",
              "        text-align: right;\n",
              "    }\n",
              "</style>\n",
              "<table border=\"1\" class=\"dataframe\">\n",
              "  <thead>\n",
              "    <tr style=\"text-align: right;\">\n",
              "      <th></th>\n",
              "      <th>status_id</th>\n",
              "      <th>user_id</th>\n",
              "      <th>created_at</th>\n",
              "      <th>screen_name</th>\n",
              "      <th>text</th>\n",
              "      <th>source</th>\n",
              "      <th>is_quote</th>\n",
              "      <th>is_retweet</th>\n",
              "      <th>favourites_count</th>\n",
              "      <th>retweet_count</th>\n",
              "      <th>country_code</th>\n",
              "      <th>place_full_name</th>\n",
              "      <th>place_type</th>\n",
              "      <th>followers_count</th>\n",
              "      <th>friends_count</th>\n",
              "      <th>account_created_at</th>\n",
              "      <th>verified</th>\n",
              "      <th>lang</th>\n",
              "      <th>is_reply</th>\n",
              "      <th>time_of_day</th>\n",
              "      <th>user_tweet_freq_per_day</th>\n",
              "      <th>user_tweet_freq_per_hour</th>\n",
              "    </tr>\n",
              "  </thead>\n",
              "  <tbody>\n",
              "    <tr>\n",
              "      <th>0</th>\n",
              "      <td>1244051645975191557</td>\n",
              "      <td>80943559</td>\n",
              "      <td>2020-03-29 00:00:00</td>\n",
              "      <td>rlieving</td>\n",
              "      <td>“People are just storing up. They are staying ...</td>\n",
              "      <td>TweetDeck</td>\n",
              "      <td>False</td>\n",
              "      <td>False</td>\n",
              "      <td>604</td>\n",
              "      <td>0</td>\n",
              "      <td>country_code NA</td>\n",
              "      <td>place_full_name NA</td>\n",
              "      <td>place_type NA</td>\n",
              "      <td>136</td>\n",
              "      <td>457</td>\n",
              "      <td>2009-10-08 21:06:08</td>\n",
              "      <td>False</td>\n",
              "      <td>en</td>\n",
              "      <td>0</td>\n",
              "      <td>early morning</td>\n",
              "      <td>4.18750</td>\n",
              "      <td>0.174479</td>\n",
              "    </tr>\n",
              "    <tr>\n",
              "      <th>1</th>\n",
              "      <td>1244051646935633921</td>\n",
              "      <td>27922157</td>\n",
              "      <td>2020-03-29 00:00:00</td>\n",
              "      <td>AmerMedicalAssn</td>\n",
              "      <td>.@PatriceHarrisMD spoke with @YahooFinance abo...</td>\n",
              "      <td>Sprinklr</td>\n",
              "      <td>False</td>\n",
              "      <td>False</td>\n",
              "      <td>2894</td>\n",
              "      <td>3</td>\n",
              "      <td>country_code NA</td>\n",
              "      <td>place_full_name NA</td>\n",
              "      <td>place_type NA</td>\n",
              "      <td>714952</td>\n",
              "      <td>6877</td>\n",
              "      <td>2009-03-31 17:50:31</td>\n",
              "      <td>True</td>\n",
              "      <td>en</td>\n",
              "      <td>0</td>\n",
              "      <td>early morning</td>\n",
              "      <td>16.46875</td>\n",
              "      <td>0.686198</td>\n",
              "    </tr>\n",
              "    <tr>\n",
              "      <th>2</th>\n",
              "      <td>1244051645971025920</td>\n",
              "      <td>1115874631</td>\n",
              "      <td>2020-03-29 00:00:00</td>\n",
              "      <td>CGTNOfficial</td>\n",
              "      <td>First medical team aiding #Wuhan in fight agai...</td>\n",
              "      <td>Twitter Media Studio</td>\n",
              "      <td>False</td>\n",
              "      <td>False</td>\n",
              "      <td>65</td>\n",
              "      <td>18</td>\n",
              "      <td>country_code NA</td>\n",
              "      <td>place_full_name NA</td>\n",
              "      <td>place_type NA</td>\n",
              "      <td>14040072</td>\n",
              "      <td>55</td>\n",
              "      <td>2013-01-24 03:18:59</td>\n",
              "      <td>True</td>\n",
              "      <td>en</td>\n",
              "      <td>0</td>\n",
              "      <td>early morning</td>\n",
              "      <td>50.65625</td>\n",
              "      <td>2.110677</td>\n",
              "    </tr>\n",
              "    <tr>\n",
              "      <th>3</th>\n",
              "      <td>1244051647149543426</td>\n",
              "      <td>108845320</td>\n",
              "      <td>2020-03-29 00:00:00</td>\n",
              "      <td>OnTopMag</td>\n",
              "      <td>.@KathyGriffin: @realDonaldTrump Is 'Lying' Ab...</td>\n",
              "      <td>Twitter for Advertisers</td>\n",
              "      <td>False</td>\n",
              "      <td>False</td>\n",
              "      <td>2658</td>\n",
              "      <td>1</td>\n",
              "      <td>country_code NA</td>\n",
              "      <td>place_full_name NA</td>\n",
              "      <td>place_type NA</td>\n",
              "      <td>5042</td>\n",
              "      <td>5389</td>\n",
              "      <td>2010-01-27 05:23:15</td>\n",
              "      <td>False</td>\n",
              "      <td>en</td>\n",
              "      <td>0</td>\n",
              "      <td>early morning</td>\n",
              "      <td>3.28125</td>\n",
              "      <td>0.136719</td>\n",
              "    </tr>\n",
              "    <tr>\n",
              "      <th>4</th>\n",
              "      <td>1244051645102579712</td>\n",
              "      <td>17673635</td>\n",
              "      <td>2020-03-29 00:00:00</td>\n",
              "      <td>livemint</td>\n",
              "      <td>#CoronaUpdate | Johns Hopkins University has s...</td>\n",
              "      <td>TweetDeck</td>\n",
              "      <td>False</td>\n",
              "      <td>False</td>\n",
              "      <td>474</td>\n",
              "      <td>2</td>\n",
              "      <td>country_code NA</td>\n",
              "      <td>place_full_name NA</td>\n",
              "      <td>place_type NA</td>\n",
              "      <td>1862858</td>\n",
              "      <td>127</td>\n",
              "      <td>2008-11-27 09:07:38</td>\n",
              "      <td>True</td>\n",
              "      <td>en</td>\n",
              "      <td>0</td>\n",
              "      <td>early morning</td>\n",
              "      <td>22.65625</td>\n",
              "      <td>0.944010</td>\n",
              "    </tr>\n",
              "    <tr>\n",
              "      <th>...</th>\n",
              "      <td>...</td>\n",
              "      <td>...</td>\n",
              "      <td>...</td>\n",
              "      <td>...</td>\n",
              "      <td>...</td>\n",
              "      <td>...</td>\n",
              "      <td>...</td>\n",
              "      <td>...</td>\n",
              "      <td>...</td>\n",
              "      <td>...</td>\n",
              "      <td>...</td>\n",
              "      <td>...</td>\n",
              "      <td>...</td>\n",
              "      <td>...</td>\n",
              "      <td>...</td>\n",
              "      <td>...</td>\n",
              "      <td>...</td>\n",
              "      <td>...</td>\n",
              "      <td>...</td>\n",
              "      <td>...</td>\n",
              "      <td>...</td>\n",
              "      <td>...</td>\n",
              "    </tr>\n",
              "    <tr>\n",
              "      <th>8133301</th>\n",
              "      <td>1256010435641462784</td>\n",
              "      <td>7117302</td>\n",
              "      <td>2020-04-30 23:59:58</td>\n",
              "      <td>ozsultan</td>\n",
              "      <td>Dear @NYCMayor,\\n\\nThe city has Millions to sp...</td>\n",
              "      <td>Twitter for iPhone</td>\n",
              "      <td>False</td>\n",
              "      <td>False</td>\n",
              "      <td>18897</td>\n",
              "      <td>0</td>\n",
              "      <td>country_code NA</td>\n",
              "      <td>place_full_name NA</td>\n",
              "      <td>place_type NA</td>\n",
              "      <td>8723</td>\n",
              "      <td>7747</td>\n",
              "      <td>2007-06-27 20:09:29</td>\n",
              "      <td>False</td>\n",
              "      <td>en</td>\n",
              "      <td>0</td>\n",
              "      <td>evening</td>\n",
              "      <td>0.53125</td>\n",
              "      <td>0.022135</td>\n",
              "    </tr>\n",
              "    <tr>\n",
              "      <th>8133302</th>\n",
              "      <td>1256010442876608512</td>\n",
              "      <td>912319950559354880</td>\n",
              "      <td>2020-04-30 23:59:59</td>\n",
              "      <td>DriveLockGlobal</td>\n",
              "      <td>In the middle of the #COVID19 sales surge in M...</td>\n",
              "      <td>HubSpot</td>\n",
              "      <td>False</td>\n",
              "      <td>False</td>\n",
              "      <td>84</td>\n",
              "      <td>0</td>\n",
              "      <td>country_code NA</td>\n",
              "      <td>place_full_name NA</td>\n",
              "      <td>place_type NA</td>\n",
              "      <td>365</td>\n",
              "      <td>1333</td>\n",
              "      <td>2017-09-25 14:16:41</td>\n",
              "      <td>False</td>\n",
              "      <td>en</td>\n",
              "      <td>0</td>\n",
              "      <td>evening</td>\n",
              "      <td>0.12500</td>\n",
              "      <td>0.005208</td>\n",
              "    </tr>\n",
              "    <tr>\n",
              "      <th>8133303</th>\n",
              "      <td>1256010442696245253</td>\n",
              "      <td>18198832</td>\n",
              "      <td>2020-04-30 23:59:59</td>\n",
              "      <td>TheScientistLLC</td>\n",
              "      <td>While the lockdown for #COVID19 continues on, ...</td>\n",
              "      <td>HubSpot</td>\n",
              "      <td>False</td>\n",
              "      <td>False</td>\n",
              "      <td>978</td>\n",
              "      <td>1</td>\n",
              "      <td>country_code NA</td>\n",
              "      <td>place_full_name NA</td>\n",
              "      <td>place_type NA</td>\n",
              "      <td>66844</td>\n",
              "      <td>383</td>\n",
              "      <td>2008-12-17 20:32:46</td>\n",
              "      <td>True</td>\n",
              "      <td>en</td>\n",
              "      <td>0</td>\n",
              "      <td>evening</td>\n",
              "      <td>0.31250</td>\n",
              "      <td>0.013021</td>\n",
              "    </tr>\n",
              "    <tr>\n",
              "      <th>8133304</th>\n",
              "      <td>1256010440154513408</td>\n",
              "      <td>937899468585828352</td>\n",
              "      <td>2020-04-30 23:59:59</td>\n",
              "      <td>portarican_RT</td>\n",
              "      <td>Best answer. #COVID19 #WeMournThemAll https://...</td>\n",
              "      <td>Twitter Web App</td>\n",
              "      <td>True</td>\n",
              "      <td>False</td>\n",
              "      <td>44903</td>\n",
              "      <td>0</td>\n",
              "      <td>country_code NA</td>\n",
              "      <td>place_full_name NA</td>\n",
              "      <td>place_type NA</td>\n",
              "      <td>5503</td>\n",
              "      <td>5909</td>\n",
              "      <td>2017-12-05 04:20:33</td>\n",
              "      <td>False</td>\n",
              "      <td>en</td>\n",
              "      <td>0</td>\n",
              "      <td>evening</td>\n",
              "      <td>10.87500</td>\n",
              "      <td>0.453125</td>\n",
              "    </tr>\n",
              "    <tr>\n",
              "      <th>8133305</th>\n",
              "      <td>1256010440007716867</td>\n",
              "      <td>1043656483</td>\n",
              "      <td>2020-04-30 23:59:59</td>\n",
              "      <td>Drz123Z</td>\n",
              "      <td>@WFXTMalini @CMichaelGibson @boston25 I had th...</td>\n",
              "      <td>Twitter for iPhone</td>\n",
              "      <td>False</td>\n",
              "      <td>False</td>\n",
              "      <td>5906</td>\n",
              "      <td>0</td>\n",
              "      <td>US</td>\n",
              "      <td>Weymouth, MA</td>\n",
              "      <td>city</td>\n",
              "      <td>85</td>\n",
              "      <td>127</td>\n",
              "      <td>2012-12-29 02:35:23</td>\n",
              "      <td>False</td>\n",
              "      <td>en</td>\n",
              "      <td>1</td>\n",
              "      <td>evening</td>\n",
              "      <td>0.15625</td>\n",
              "      <td>0.006510</td>\n",
              "    </tr>\n",
              "  </tbody>\n",
              "</table>\n",
              "<p>8133306 rows × 22 columns</p>\n",
              "</div>"
            ],
            "text/plain": [
              "                   status_id  ... user_tweet_freq_per_hour\n",
              "0        1244051645975191557  ...                 0.174479\n",
              "1        1244051646935633921  ...                 0.686198\n",
              "2        1244051645971025920  ...                 2.110677\n",
              "3        1244051647149543426  ...                 0.136719\n",
              "4        1244051645102579712  ...                 0.944010\n",
              "...                      ...  ...                      ...\n",
              "8133301  1256010435641462784  ...                 0.022135\n",
              "8133302  1256010442876608512  ...                 0.005208\n",
              "8133303  1256010442696245253  ...                 0.013021\n",
              "8133304  1256010440154513408  ...                 0.453125\n",
              "8133305  1256010440007716867  ...                 0.006510\n",
              "\n",
              "[8133306 rows x 22 columns]"
            ]
          },
          "metadata": {},
          "execution_count": 73
        }
      ]
    },
    {
      "cell_type": "markdown",
      "metadata": {
        "id": "E0j1WQREXqEZ"
      },
      "source": [
        "The number of rows is unaffeccted. Upon visual check, `user_tweet_freq_per_day` and `user_tweet_freq_per_hour` have been added to `tweets` dataframe."
      ]
    },
    {
      "cell_type": "code",
      "metadata": {
        "colab": {
          "base_uri": "https://localhost:8080/"
        },
        "id": "cFg_3Ev8siwE",
        "outputId": "709ab341-599a-4e7a-bab0-8a163d5fdda0"
      },
      "source": [
        "print('User tweet frequency per day min:', tweets['user_tweet_freq_per_day'].min())\n",
        "print('User tweet frequency per day max:', tweets['user_tweet_freq_per_day'].max())\n",
        "print('User tweet frequency per day mean:', tweets['user_tweet_freq_per_day'].mean())\n",
        "print('User tweet frequency per day median:', tweets['user_tweet_freq_per_day'].median())\n",
        "print('User tweet frequency per day standard deviation:', tweets['user_tweet_freq_per_day'].std())\n",
        "\n",
        "\n",
        "\n"
      ],
      "execution_count": 74,
      "outputs": [
        {
          "output_type": "stream",
          "name": "stdout",
          "text": [
            "User tweet frequency per day min: 0.03125\n",
            "User tweet frequency per day max: 1430.8125\n",
            "User tweet frequency per day mean: 14.215844646998404\n",
            "User tweet frequency per day median: 0.40625\n",
            "User tweet frequency per day standard deviation: 111.80857082019277\n"
          ]
        }
      ]
    },
    {
      "cell_type": "code",
      "metadata": {
        "id": "lANisxMgTq84"
      },
      "source": [
        "sns.histplot(x=tweets['user_tweet_freq_per_day'])\n",
        "plt.title('Distribution of User Tweet Frequency Per Day')\n",
        "plt.xlabel('Daily Tweet Frequency')\n",
        "plt.ylabel('Count')\n",
        "plt.show()"
      ],
      "execution_count": null,
      "outputs": []
    },
    {
      "cell_type": "markdown",
      "metadata": {
        "id": "NnWrPJb8zgnW"
      },
      "source": [
        "Tweet frequency per day ranges widely - from 0.03 to 1430 tweets per day. The mean frequency per day is 14.2, and the median is 0.4. The standard deviation is 111.8 tweets per day. As such, we expect to see a highly skewed distribution of tweet frequencies per day."
      ]
    },
    {
      "cell_type": "markdown",
      "metadata": {
        "id": "FNNIS-Vpcsx1"
      },
      "source": [
        "## Randomly Sample 10% of the Dataset"
      ]
    },
    {
      "cell_type": "code",
      "metadata": {
        "colab": {
          "base_uri": "https://localhost:8080/"
        },
        "id": "8mZX_JRXcxAB",
        "outputId": "2006a495-8f07-40df-fe93-6aebf1bac60e"
      },
      "source": [
        "tweets_sample = tweets.sample(frac=0.1, random_state=44)\n",
        "tweets_sample.reset_index(drop=True, inplace=True)\n",
        "tweets_sample.shape"
      ],
      "execution_count": 75,
      "outputs": [
        {
          "output_type": "execute_result",
          "data": {
            "text/plain": [
              "(813331, 22)"
            ]
          },
          "metadata": {},
          "execution_count": 75
        }
      ]
    },
    {
      "cell_type": "markdown",
      "metadata": {
        "id": "X7i_jv1rf9JR"
      },
      "source": [
        "The random sample contains 813,331 rows, compared to 8+ million rows in the original dataset."
      ]
    },
    {
      "cell_type": "markdown",
      "metadata": {
        "id": "qUQAM3AxZt7a"
      },
      "source": [
        "### Check Distritbution of Tweet Counts by Date"
      ]
    },
    {
      "cell_type": "code",
      "metadata": {
        "colab": {
          "base_uri": "https://localhost:8080/",
          "height": 247
        },
        "id": "wiDQO2kQZw7X",
        "outputId": "4af3dcd0-6927-4a41-cea5-ec0f7b295a67"
      },
      "source": [
        "# get tweet count for each date in the dataset\n",
        "tweet_count_by_date = tweets_sample['created_at'].dt.date.value_counts()\n",
        "# sort the dates\n",
        "tweet_count_by_date.sort_index()\n",
        "\n",
        "# plot the distribution\n",
        "plt.figure(figsize=(15,5))\n",
        "plt.bar(tweet_count_by_date.index, tweet_count_by_date)\n",
        "plt.xlim(right=max(tweet_count_by_date.index))\n",
        "plt.title('COVID-19 Related Tweet Count Late March and April 2020 (10% Sample)')\n",
        "plt.xlabel('Date')\n",
        "plt.ylabel('Count')\n",
        "plt.show()\n"
      ],
      "execution_count": 76,
      "outputs": [
        {
          "output_type": "display_data",
          "data": {
            "image/png": "[encoded data removed]",
            "text/plain": [
              "<Figure size 1080x360 with 1 Axes>"
            ]
          },
          "metadata": {
            "needs_background": "light"
          }
        }
      ]
    },
    {
      "cell_type": "markdown",
      "metadata": {
        "id": "k477JSgOZ9Ta"
      },
      "source": [
        "We see very similar distribution of tweet counts to that of the original dataset."
      ]
    },
    {
      "cell_type": "markdown",
      "metadata": {
        "id": "c78QCeLCdOUa"
      },
      "source": [
        "### Check Distribution of Tweet Counts by Time of Day"
      ]
    },
    {
      "cell_type": "code",
      "metadata": {
        "colab": {
          "base_uri": "https://localhost:8080/",
          "height": 625
        },
        "id": "V60v4YrIc6Xx",
        "outputId": "b0ca2d9c-a20a-4fde-e03d-ee2935076629"
      },
      "source": [
        "print(f'Total number of rows: {tweets_sample.shape[0]} \\n')\n",
        "\n",
        "# Count the tweets for each time of day\n",
        "tweet_count_by_time_of_day = tweets_sample.groupby('time_of_day')['time_of_day'].count()\n",
        "display(tweet_count_by_time_of_day)\n",
        "print('\\n')\n",
        "\n",
        "print(f'Does the sum of tweet counts match with total number of rows? {tweet_count_by_time_of_day.sum()==tweets_sample.shape[0]} \\n')\n",
        "\n",
        "# calculate the percentages (divide each count by the total number of rows and multiply by 100%)\n",
        "tweet_pct_by_time_of_day = tweets_sample.groupby('time_of_day')['time_of_day'].count()/tweets_sample.shape[0]*100\n",
        "tweet_pct_by_time_of_day\n",
        "\n",
        "# Order the times of day and corresponding counts before plotting\n",
        "times_of_day = ['early morning', 'morning', 'afternoon', 'evening']\n",
        "tweet_count_by_time_of_day_ordered = []\n",
        "for time in times_of_day:\n",
        "  tweet_count_by_time_of_day_ordered.append(tweet_count_by_time_of_day[time])\n",
        "\n",
        "# Visualize\n",
        "fig = px.bar(x=times_of_day, y=tweet_count_by_time_of_day_ordered,\n",
        "             title='COVID-19 Tweet Counts by Time of Day (10% Sample)',\n",
        "             labels={'x': 'Time of Day', 'y': 'Tweet Count'},\n",
        "             width=600, height=400)\n",
        "fig.show()"
      ],
      "execution_count": 77,
      "outputs": [
        {
          "output_type": "stream",
          "name": "stdout",
          "text": [
            "Total number of rows: 813331 \n",
            "\n"
          ]
        },
        {
          "output_type": "display_data",
          "data": {
            "text/plain": [
              "time_of_day\n",
              "afternoon        278539\n",
              "early morning    138005\n",
              "evening          225956\n",
              "morning          170831\n",
              "Name: time_of_day, dtype: int64"
            ]
          },
          "metadata": {}
        },
        {
          "output_type": "stream",
          "name": "stdout",
          "text": [
            "\n",
            "\n",
            "Does the sum of tweet counts match with total number of rows? True \n",
            "\n"
          ]
        },
        {
          "output_type": "display_data",
          "data": {
            "text/html": [
              "<html>\n",
              "<head><meta charset=\"utf-8\" /></head>\n",
              "<body>\n",
              "    <div>\n",
              "            <script src=\"https://cdnjs.cloudflare.com/ajax/libs/mathjax/2.7.5/MathJax.js?config=TeX-AMS-MML_SVG\"></script><script type=\"text/javascript\">if (window.MathJax) {MathJax.Hub.Config({SVG: {font: \"STIX-Web\"}});}</script>\n",
              "                <script type=\"text/javascript\">window.PlotlyConfig = {MathJaxConfig: 'local'};</script>\n",
              "        <script src=\"https://cdn.plot.ly/plotly-latest.min.js\"></script>    \n",
              "            <div id=\"dfc24fd2-f356-4bb4-98c8-ce27aecdb837\" class=\"plotly-graph-div\" style=\"height:400px; width:600px;\"></div>\n",
              "            <script type=\"text/javascript\">\n",
              "                \n",
              "                    window.PLOTLYENV=window.PLOTLYENV || {};\n",
              "                    \n",
              "                if (document.getElementById(\"dfc24fd2-f356-4bb4-98c8-ce27aecdb837\")) {\n",
              "                    Plotly.newPlot(\n",
              "                        'dfc24fd2-f356-4bb4-98c8-ce27aecdb837',\n",
              "                        [{\"alignmentgroup\": \"True\", \"hoverlabel\": {\"namelength\": 0}, \"hovertemplate\": \"Time of Day=%{x}<br>Tweet Count=%{y}\", \"legendgroup\": \"\", \"marker\": {\"color\": \"#636efa\"}, \"name\": \"\", \"offsetgroup\": \"\", \"orientation\": \"v\", \"showlegend\": false, \"textposition\": \"auto\", \"type\": \"bar\", \"x\": [\"early morning\", \"morning\", \"afternoon\", \"evening\"], \"xaxis\": \"x\", \"y\": [138005, 170831, 278539, 225956], \"yaxis\": \"y\"}],\n",
              "                        {\"barmode\": \"relative\", \"height\": 400, \"legend\": {\"tracegroupgap\": 0}, \"template\": {\"data\": {\"bar\": [{\"error_x\": {\"color\": \"#2a3f5f\"}, \"error_y\": {\"color\": \"#2a3f5f\"}, \"marker\": {\"line\": {\"color\": \"#E5ECF6\", \"width\": 0.5}}, \"type\": \"bar\"}], \"barpolar\": [{\"marker\": {\"line\": {\"color\": \"#E5ECF6\", \"width\": 0.5}}, \"type\": \"barpolar\"}], \"carpet\": [{\"aaxis\": {\"endlinecolor\": \"#2a3f5f\", \"gridcolor\": \"white\", \"linecolor\": \"white\", \"minorgridcolor\": \"white\", \"startlinecolor\": \"#2a3f5f\"}, \"baxis\": {\"endlinecolor\": \"#2a3f5f\", \"gridcolor\": \"white\", \"linecolor\": \"white\", \"minorgridcolor\": \"white\", \"startlinecolor\": \"#2a3f5f\"}, \"type\": \"carpet\"}], \"choropleth\": [{\"colorbar\": {\"outlinewidth\": 0, \"ticks\": \"\"}, \"type\": \"choropleth\"}], \"contour\": [{\"colorbar\": {\"outlinewidth\": 0, \"ticks\": \"\"}, \"colorscale\": [[0.0, \"#0d0887\"], [0.1111111111111111, \"#46039f\"], [0.2222222222222222, \"#7201a8\"], [0.3333333333333333, \"#9c179e\"], [0.4444444444444444, \"#bd3786\"], [0.5555555555555556, \"#d8576b\"], [0.6666666666666666, \"#ed7953\"], [0.7777777777777778, \"#fb9f3a\"], [0.8888888888888888, \"#fdca26\"], [1.0, \"#f0f921\"]], \"type\": \"contour\"}], \"contourcarpet\": [{\"colorbar\": {\"outlinewidth\": 0, \"ticks\": \"\"}, \"type\": \"contourcarpet\"}], \"heatmap\": [{\"colorbar\": {\"outlinewidth\": 0, \"ticks\": \"\"}, \"colorscale\": [[0.0, \"#0d0887\"], [0.1111111111111111, \"#46039f\"], [0.2222222222222222, \"#7201a8\"], [0.3333333333333333, \"#9c179e\"], [0.4444444444444444, \"#bd3786\"], [0.5555555555555556, \"#d8576b\"], [0.6666666666666666, \"#ed7953\"], [0.7777777777777778, \"#fb9f3a\"], [0.8888888888888888, \"#fdca26\"], [1.0, \"#f0f921\"]], \"type\": \"heatmap\"}], \"heatmapgl\": [{\"colorbar\": {\"outlinewidth\": 0, \"ticks\": \"\"}, \"colorscale\": [[0.0, \"#0d0887\"], [0.1111111111111111, \"#46039f\"], [0.2222222222222222, \"#7201a8\"], [0.3333333333333333, \"#9c179e\"], [0.4444444444444444, \"#bd3786\"], [0.5555555555555556, \"#d8576b\"], [0.6666666666666666, \"#ed7953\"], [0.7777777777777778, \"#fb9f3a\"], [0.8888888888888888, \"#fdca26\"], [1.0, \"#f0f921\"]], \"type\": \"heatmapgl\"}], \"histogram\": [{\"marker\": {\"colorbar\": {\"outlinewidth\": 0, \"ticks\": \"\"}}, \"type\": \"histogram\"}], \"histogram2d\": [{\"colorbar\": {\"outlinewidth\": 0, \"ticks\": \"\"}, \"colorscale\": [[0.0, \"#0d0887\"], [0.1111111111111111, \"#46039f\"], [0.2222222222222222, \"#7201a8\"], [0.3333333333333333, \"#9c179e\"], [0.4444444444444444, \"#bd3786\"], [0.5555555555555556, \"#d8576b\"], [0.6666666666666666, \"#ed7953\"], [0.7777777777777778, \"#fb9f3a\"], [0.8888888888888888, \"#fdca26\"], [1.0, \"#f0f921\"]], \"type\": \"histogram2d\"}], \"histogram2dcontour\": [{\"colorbar\": {\"outlinewidth\": 0, \"ticks\": \"\"}, \"colorscale\": [[0.0, \"#0d0887\"], [0.1111111111111111, \"#46039f\"], [0.2222222222222222, \"#7201a8\"], [0.3333333333333333, \"#9c179e\"], [0.4444444444444444, \"#bd3786\"], [0.5555555555555556, \"#d8576b\"], [0.6666666666666666, \"#ed7953\"], [0.7777777777777778, \"#fb9f3a\"], [0.8888888888888888, \"#fdca26\"], [1.0, \"#f0f921\"]], \"type\": \"histogram2dcontour\"}], \"mesh3d\": [{\"colorbar\": {\"outlinewidth\": 0, \"ticks\": \"\"}, \"type\": \"mesh3d\"}], \"parcoords\": [{\"line\": {\"colorbar\": {\"outlinewidth\": 0, \"ticks\": \"\"}}, \"type\": \"parcoords\"}], \"pie\": [{\"automargin\": true, \"type\": \"pie\"}], \"scatter\": [{\"marker\": {\"colorbar\": {\"outlinewidth\": 0, \"ticks\": \"\"}}, \"type\": \"scatter\"}], \"scatter3d\": [{\"line\": {\"colorbar\": {\"outlinewidth\": 0, \"ticks\": \"\"}}, \"marker\": {\"colorbar\": {\"outlinewidth\": 0, \"ticks\": \"\"}}, \"type\": \"scatter3d\"}], \"scattercarpet\": [{\"marker\": {\"colorbar\": {\"outlinewidth\": 0, \"ticks\": \"\"}}, \"type\": \"scattercarpet\"}], \"scattergeo\": [{\"marker\": {\"colorbar\": {\"outlinewidth\": 0, \"ticks\": \"\"}}, \"type\": \"scattergeo\"}], \"scattergl\": [{\"marker\": {\"colorbar\": {\"outlinewidth\": 0, \"ticks\": \"\"}}, \"type\": \"scattergl\"}], \"scattermapbox\": [{\"marker\": {\"colorbar\": {\"outlinewidth\": 0, \"ticks\": \"\"}}, \"type\": \"scattermapbox\"}], \"scatterpolar\": [{\"marker\": {\"colorbar\": {\"outlinewidth\": 0, \"ticks\": \"\"}}, \"type\": \"scatterpolar\"}], \"scatterpolargl\": [{\"marker\": {\"colorbar\": {\"outlinewidth\": 0, \"ticks\": \"\"}}, \"type\": \"scatterpolargl\"}], \"scatterternary\": [{\"marker\": {\"colorbar\": {\"outlinewidth\": 0, \"ticks\": \"\"}}, \"type\": \"scatterternary\"}], \"surface\": [{\"colorbar\": {\"outlinewidth\": 0, \"ticks\": \"\"}, \"colorscale\": [[0.0, \"#0d0887\"], [0.1111111111111111, \"#46039f\"], [0.2222222222222222, \"#7201a8\"], [0.3333333333333333, \"#9c179e\"], [0.4444444444444444, \"#bd3786\"], [0.5555555555555556, \"#d8576b\"], [0.6666666666666666, \"#ed7953\"], [0.7777777777777778, \"#fb9f3a\"], [0.8888888888888888, \"#fdca26\"], [1.0, \"#f0f921\"]], \"type\": \"surface\"}], \"table\": [{\"cells\": {\"fill\": {\"color\": \"#EBF0F8\"}, \"line\": {\"color\": \"white\"}}, \"header\": {\"fill\": {\"color\": \"#C8D4E3\"}, \"line\": {\"color\": \"white\"}}, \"type\": \"table\"}]}, \"layout\": {\"annotationdefaults\": {\"arrowcolor\": \"#2a3f5f\", \"arrowhead\": 0, \"arrowwidth\": 1}, \"coloraxis\": {\"colorbar\": {\"outlinewidth\": 0, \"ticks\": \"\"}}, \"colorscale\": {\"diverging\": [[0, \"#8e0152\"], [0.1, \"#c51b7d\"], [0.2, \"#de77ae\"], [0.3, \"#f1b6da\"], [0.4, \"#fde0ef\"], [0.5, \"#f7f7f7\"], [0.6, \"#e6f5d0\"], [0.7, \"#b8e186\"], [0.8, \"#7fbc41\"], [0.9, \"#4d9221\"], [1, \"#276419\"]], \"sequential\": [[0.0, \"#0d0887\"], [0.1111111111111111, \"#46039f\"], [0.2222222222222222, \"#7201a8\"], [0.3333333333333333, \"#9c179e\"], [0.4444444444444444, \"#bd3786\"], [0.5555555555555556, \"#d8576b\"], [0.6666666666666666, \"#ed7953\"], [0.7777777777777778, \"#fb9f3a\"], [0.8888888888888888, \"#fdca26\"], [1.0, \"#f0f921\"]], \"sequentialminus\": [[0.0, \"#0d0887\"], [0.1111111111111111, \"#46039f\"], [0.2222222222222222, \"#7201a8\"], [0.3333333333333333, \"#9c179e\"], [0.4444444444444444, \"#bd3786\"], [0.5555555555555556, \"#d8576b\"], [0.6666666666666666, \"#ed7953\"], [0.7777777777777778, \"#fb9f3a\"], [0.8888888888888888, \"#fdca26\"], [1.0, \"#f0f921\"]]}, \"colorway\": [\"#636efa\", \"#EF553B\", \"#00cc96\", \"#ab63fa\", \"#FFA15A\", \"#19d3f3\", \"#FF6692\", \"#B6E880\", \"#FF97FF\", \"#FECB52\"], \"font\": {\"color\": \"#2a3f5f\"}, \"geo\": {\"bgcolor\": \"white\", \"lakecolor\": \"white\", \"landcolor\": \"#E5ECF6\", \"showlakes\": true, \"showland\": true, \"subunitcolor\": \"white\"}, \"hoverlabel\": {\"align\": \"left\"}, \"hovermode\": \"closest\", \"mapbox\": {\"style\": \"light\"}, \"paper_bgcolor\": \"white\", \"plot_bgcolor\": \"#E5ECF6\", \"polar\": {\"angularaxis\": {\"gridcolor\": \"white\", \"linecolor\": \"white\", \"ticks\": \"\"}, \"bgcolor\": \"#E5ECF6\", \"radialaxis\": {\"gridcolor\": \"white\", \"linecolor\": \"white\", \"ticks\": \"\"}}, \"scene\": {\"xaxis\": {\"backgroundcolor\": \"#E5ECF6\", \"gridcolor\": \"white\", \"gridwidth\": 2, \"linecolor\": \"white\", \"showbackground\": true, \"ticks\": \"\", \"zerolinecolor\": \"white\"}, \"yaxis\": {\"backgroundcolor\": \"#E5ECF6\", \"gridcolor\": \"white\", \"gridwidth\": 2, \"linecolor\": \"white\", \"showbackground\": true, \"ticks\": \"\", \"zerolinecolor\": \"white\"}, \"zaxis\": {\"backgroundcolor\": \"#E5ECF6\", \"gridcolor\": \"white\", \"gridwidth\": 2, \"linecolor\": \"white\", \"showbackground\": true, \"ticks\": \"\", \"zerolinecolor\": \"white\"}}, \"shapedefaults\": {\"line\": {\"color\": \"#2a3f5f\"}}, \"ternary\": {\"aaxis\": {\"gridcolor\": \"white\", \"linecolor\": \"white\", \"ticks\": \"\"}, \"baxis\": {\"gridcolor\": \"white\", \"linecolor\": \"white\", \"ticks\": \"\"}, \"bgcolor\": \"#E5ECF6\", \"caxis\": {\"gridcolor\": \"white\", \"linecolor\": \"white\", \"ticks\": \"\"}}, \"title\": {\"x\": 0.05}, \"xaxis\": {\"automargin\": true, \"gridcolor\": \"white\", \"linecolor\": \"white\", \"ticks\": \"\", \"title\": {\"standoff\": 15}, \"zerolinecolor\": \"white\", \"zerolinewidth\": 2}, \"yaxis\": {\"automargin\": true, \"gridcolor\": \"white\", \"linecolor\": \"white\", \"ticks\": \"\", \"title\": {\"standoff\": 15}, \"zerolinecolor\": \"white\", \"zerolinewidth\": 2}}}, \"title\": {\"text\": \"COVID-19 Tweet Counts by Time of Day (10% Sample)\"}, \"width\": 600, \"xaxis\": {\"anchor\": \"y\", \"domain\": [0.0, 1.0], \"title\": {\"text\": \"Time of Day\"}}, \"yaxis\": {\"anchor\": \"x\", \"domain\": [0.0, 1.0], \"title\": {\"text\": \"Tweet Count\"}}},\n",
              "                        {\"responsive\": true}\n",
              "                    ).then(function(){\n",
              "                            \n",
              "var gd = document.getElementById('dfc24fd2-f356-4bb4-98c8-ce27aecdb837');\n",
              "var x = new MutationObserver(function (mutations, observer) {{\n",
              "        var display = window.getComputedStyle(gd).display;\n",
              "        if (!display || display === 'none') {{\n",
              "            console.log([gd, 'removed!']);\n",
              "            Plotly.purge(gd);\n",
              "            observer.disconnect();\n",
              "        }}\n",
              "}});\n",
              "\n",
              "// Listen for the removal of the full notebook cells\n",
              "var notebookContainer = gd.closest('#notebook-container');\n",
              "if (notebookContainer) {{\n",
              "    x.observe(notebookContainer, {childList: true});\n",
              "}}\n",
              "\n",
              "// Listen for the clearing of the current output cell\n",
              "var outputEl = gd.closest('.output');\n",
              "if (outputEl) {{\n",
              "    x.observe(outputEl, {childList: true});\n",
              "}}\n",
              "\n",
              "                        })\n",
              "                };\n",
              "                \n",
              "            </script>\n",
              "        </div>\n",
              "</body>\n",
              "</html>"
            ]
          },
          "metadata": {}
        }
      ]
    },
    {
      "cell_type": "markdown",
      "metadata": {
        "id": "BFPr4DsXeCES"
      },
      "source": [
        "The distribution of tweet count throughout the day is comparable to that of the entire dataset. "
      ]
    },
    {
      "cell_type": "markdown",
      "metadata": {
        "id": "sjHoY1fba2Ni"
      },
      "source": [
        "### Check Top Users by Tweet Count\n",
        "\n",
        "Let's check if the top users by tweet count are comparable to the original dataset."
      ]
    },
    {
      "cell_type": "code",
      "metadata": {
        "colab": {
          "base_uri": "https://localhost:8080/",
          "height": 235
        },
        "id": "8C6l3G2aawfR",
        "outputId": "548f986f-f3b6-4160-903d-6a31becbf437"
      },
      "source": [
        "# get tweet count of each unique screen_name, sort them in descending order\n",
        "tweet_counts_by_screen_name = tweets_sample.groupby('screen_name').size().sort_values(ascending=False)\n",
        "# sort the user_ids in descending order of tweet counts\n",
        "screen_name_by_descending_count = tweet_counts_by_screen_name.index\n",
        "\n",
        "# slice top 20 by tweet count\n",
        "top_20_screen_names = screen_name_by_descending_count[:20]\n",
        "top_20_tweet_counts = tweet_counts_by_screen_name[:20]\n",
        "\n",
        "# plot\n",
        "plt.figure(figsize=(15,5))\n",
        "sns.barplot(x=top_20_tweet_counts, y=top_20_screen_names, orient='h', color='pink')\n",
        "plt.xlabel('Tweet Count')\n",
        "plt.ylabel('Screen Name')\n",
        "plt.title('Top 20 Screen Names by Tweet Count (10% Sample)')\n",
        "plt.show()"
      ],
      "execution_count": 78,
      "outputs": [
        {
          "output_type": "display_data",
          "data": {
            "image/png": "[encoded data removed]",
            "text/plain": [
              "<Figure size 1080x360 with 1 Axes>"
            ]
          },
          "metadata": {
            "needs_background": "light"
          }
        }
      ]
    },
    {
      "cell_type": "markdown",
      "metadata": {
        "id": "KCZfRiVlbpey"
      },
      "source": [
        "We see that the top users by tweet count in this 10% random sample were also top users in the original dataset."
      ]
    },
    {
      "cell_type": "markdown",
      "metadata": {
        "id": "ZQx36r4dZVrR"
      },
      "source": [
        "### Check Top 20 Sources"
      ]
    },
    {
      "cell_type": "code",
      "metadata": {
        "colab": {
          "base_uri": "https://localhost:8080/",
          "height": 229
        },
        "id": "i7KGLdVSYRlY",
        "outputId": "f99ff14a-8f09-443c-ba7a-b4139760acc8"
      },
      "source": [
        "plt.figure(figsize=(15,5))\n",
        "sns.barplot(x=tweets_sample['source'].value_counts()[:20], \n",
        "            y=tweets_sample['source'].value_counts().index[:20], \n",
        "            orient='h')\n",
        "plt.title('Top 20 Sources by Count in 10% Sample')\n",
        "plt.xlabel('Count')\n",
        "plt.ylabel('Source')\n",
        "plt.show()"
      ],
      "execution_count": 79,
      "outputs": [
        {
          "output_type": "display_data",
          "data": {
            "image/png": "[encoded data removed]",
            "text/plain": [
              "<Figure size 1080x360 with 1 Axes>"
            ]
          },
          "metadata": {
            "needs_background": "light"
          }
        }
      ]
    },
    {
      "cell_type": "markdown",
      "metadata": {
        "id": "EWRMC0s7YxPW"
      },
      "source": [
        "The distribution of sources in this 10% sample is comparable to that of the original dataset. The most frequent sources are still Twitter Web App, Twitter for iPhone, and Twitter for Android."
      ]
    },
    {
      "cell_type": "code",
      "metadata": {
        "colab": {
          "base_uri": "https://localhost:8080/"
        },
        "id": "pW2aNwF1anCf",
        "outputId": "a8b4d0a2-dd63-4a45-920b-90a1f4b7dcea"
      },
      "source": [
        "tweets_sample['screen_name'].nunique()"
      ],
      "execution_count": 80,
      "outputs": [
        {
          "output_type": "execute_result",
          "data": {
            "text/plain": [
              "434790"
            ]
          },
          "metadata": {},
          "execution_count": 80
        }
      ]
    },
    {
      "cell_type": "code",
      "metadata": {
        "colab": {
          "base_uri": "https://localhost:8080/"
        },
        "id": "OOC_5ZI5bTEy",
        "outputId": "67e9b7b6-0b1d-4749-92dd-dd7538b625e5"
      },
      "source": [
        "tweets_sample['created_at'].dt.date.head()"
      ],
      "execution_count": 81,
      "outputs": [
        {
          "output_type": "execute_result",
          "data": {
            "text/plain": [
              "0    2020-04-02\n",
              "1    2020-04-15\n",
              "2    2020-04-30\n",
              "3    2020-04-25\n",
              "4    2020-04-01\n",
              "Name: created_at, dtype: object"
            ]
          },
          "metadata": {},
          "execution_count": 81
        }
      ]
    },
    {
      "cell_type": "markdown",
      "metadata": {
        "id": "0_IeBYy3b66z"
      },
      "source": [
        "## Text Cleaning"
      ]
    },
    {
      "cell_type": "markdown",
      "metadata": {
        "id": "DhwFVgEudoip"
      },
      "source": [
        "Before performing any modeling, we need to clean up the text in the tweets. They may contain URLs, images, videos, hashtags, etc. We will remove URLs, images, videos, and emojis. However, we will separate the hashtags and mentions and put them in different columns.\n",
        "\n",
        "After we clean up the text and create new column with just hashtags and mentions, we will vectorize them to make them numeric data before modeling."
      ]
    },
    {
      "cell_type": "code",
      "metadata": {
        "id": "pvVcr6wqbyi5"
      },
      "source": [
        "# tweets_sample"
      ],
      "execution_count": 82,
      "outputs": []
    },
    {
      "cell_type": "markdown",
      "metadata": {
        "id": "NY1TCzS9i-DZ"
      },
      "source": [
        "## Extract Hashtags and Mentions (SCRAP - Don't run upon restart)"
      ]
    },
    {
      "cell_type": "markdown",
      "metadata": {
        "id": "JOfiMRLLinbk"
      },
      "source": [
        "`tweet-preprocessor` will be used to clean the tweets. The library is widely used for preprocessing tweets before performing machine learning models. "
      ]
    },
    {
      "cell_type": "code",
      "metadata": {
        "id": "MwDlvfZlc74Z"
      },
      "source": [
        "# # source: https://pypi.org/project/tweet-preprocessor/\n",
        "# !pip install tweet-preprocessor\n",
        "# import preprocessor as p"
      ],
      "execution_count": 83,
      "outputs": []
    },
    {
      "cell_type": "code",
      "metadata": {
        "id": "NIz9o1T2iVVE"
      },
      "source": [
        "# tweets"
      ],
      "execution_count": 84,
      "outputs": []
    },
    {
      "cell_type": "code",
      "metadata": {
        "id": "levHLlt_jvzf"
      },
      "source": [
        "# test_text = 'Preprocessor is #awesome #great_job #hello @realDonaldTrump@JohnSmith'\n",
        "# parsed_text = p.parse(test_text)"
      ],
      "execution_count": 85,
      "outputs": []
    },
    {
      "cell_type": "code",
      "metadata": {
        "id": "JYH1Ndw5mBzj"
      },
      "source": [
        "# parsed_text"
      ],
      "execution_count": 86,
      "outputs": []
    },
    {
      "cell_type": "code",
      "metadata": {
        "id": "US_aMwhimDUu"
      },
      "source": [
        "# parsed_text.hashtags"
      ],
      "execution_count": 87,
      "outputs": []
    },
    {
      "cell_type": "code",
      "metadata": {
        "id": "EnFlTe91m6DR"
      },
      "source": [
        "# parsed_text.mentions"
      ],
      "execution_count": 88,
      "outputs": []
    },
    {
      "cell_type": "code",
      "metadata": {
        "id": "UkK2nqXMn2Rq"
      },
      "source": [
        "# mentions = ''\n",
        "# for i in range(len(parsed_text.mentions)):\n",
        "#   mentions += f'{parsed_text.mentions[i].match} '\n",
        "\n",
        "# mentions"
      ],
      "execution_count": 89,
      "outputs": []
    },
    {
      "cell_type": "code",
      "metadata": {
        "id": "bs0v0Y5VmKkD"
      },
      "source": [
        "# for i, v in enumerate(tweets['text'].head(10)):\n",
        "#   print(i,v)"
      ],
      "execution_count": 90,
      "outputs": []
    },
    {
      "cell_type": "code",
      "metadata": {
        "id": "hNVHRJHomm5w"
      },
      "source": [
        "# test_tweets = tweets_sample[:10]\n",
        "# test_tweets"
      ],
      "execution_count": 91,
      "outputs": []
    },
    {
      "cell_type": "code",
      "metadata": {
        "id": "PacK6XGpnSH0"
      },
      "source": [
        "# test_tweets['hashtags'] = ''\n",
        "# test_tweets['mentions'] = ''\n",
        "# test_tweets"
      ],
      "execution_count": 92,
      "outputs": []
    },
    {
      "cell_type": "code",
      "metadata": {
        "id": "t7qq2UZFp-Lt"
      },
      "source": [
        "# test_tweets.loc[0, 'text']"
      ],
      "execution_count": 93,
      "outputs": []
    },
    {
      "cell_type": "markdown",
      "metadata": {
        "id": "_BHWmZ9op-A0"
      },
      "source": [
        ""
      ]
    },
    {
      "cell_type": "code",
      "metadata": {
        "id": "3lkHhkhtnhDT"
      },
      "source": [
        "# # enumerate index and text of each row\n",
        "# for i, t in enumerate(test_tweets['text']):\n",
        "#   # for each row, concatenate string of mentions and string of hashtags\n",
        "#   mentions=''\n",
        "#   hashtags=''\n",
        "#   # parse the text\n",
        "#   parsed_text = p.parse(t)\n",
        "#   # if there are mentions\n",
        "#   if parsed_text.mentions != None:\n",
        "#     # loop through mentions object which is a list\n",
        "#     for j in range(len(parsed_text.mentions)):\n",
        "#       # concatenate to mentions string\n",
        "#       mentions += f'{parsed_text.mentions[j].match} '\n",
        "      \n",
        "#   # if there are hashtags\n",
        "#   if parsed_text.hashtags != None:\n",
        "#     # loop through hashtags object which is a list\n",
        "#     for k in range(len(parsed_text.hashtags)):\n",
        "#       # concatenate each hashtag to hashtags string  \n",
        "#       hashtags += f'{parsed_text.hashtags[k].match} '\n",
        "\n",
        "#   # update the row values\n",
        "#   test_tweets.loc[i, 'mentions'] = mentions\n",
        "#   test_tweets.loc[i, 'hashtags'] = hashtags\n",
        "#    # print(mentions, hashtags)"
      ],
      "execution_count": 94,
      "outputs": []
    },
    {
      "cell_type": "code",
      "metadata": {
        "id": "t6fW7IrV-nde"
      },
      "source": [
        "# test_tweets"
      ],
      "execution_count": 95,
      "outputs": []
    },
    {
      "cell_type": "code",
      "metadata": {
        "id": "wj6QOss_zlY4"
      },
      "source": [
        "# tweets_sample_8000 = tweets_sample.sample(8000)\n",
        "# tweets_sample_8000.reset_index(drop=True, inplace=True)"
      ],
      "execution_count": 96,
      "outputs": []
    },
    {
      "cell_type": "code",
      "metadata": {
        "id": "JXLkFBIszsg0"
      },
      "source": [
        "# tweets_sample_8000['mentions'] = ''\n",
        "# tweets_sample_8000['hashtags'] = ''\n",
        "\n",
        "# from tqdm import tqdm\n",
        "# # enumerate index and text of each row\n",
        "# for i, t in tqdm(enumerate(tweets_sample_8000['text'])):\n",
        "#   #print(f'Working on row index {i}', end='\\r')\n",
        "  \n",
        "#   # for each row, concatenate string of mentions and string of hashtags\n",
        "#   mentions=''\n",
        "#   hashtags=''\n",
        "#   # parse the text\n",
        "#   parsed_text = p.parse(t)\n",
        "#   # if there are mentions\n",
        "#   if parsed_text.mentions != None:\n",
        "#     # loop through mentions object which is a list\n",
        "#     for j in range(len(parsed_text.mentions)):\n",
        "#       # concatenate to mentions string\n",
        "#       mentions += f'{parsed_text.mentions[j].match} '\n",
        "      \n",
        "#   # if there are hashtags\n",
        "#   if parsed_text.hashtags != None:\n",
        "#     # loop through hashtags object which is a list\n",
        "#     for k in range(len(parsed_text.hashtags)):\n",
        "#       # concatenate each hashtag to hashtags string  \n",
        "#       hashtags += f'{parsed_text.hashtags[k].match} '\n",
        "\n",
        "#   # update the row values\n",
        "#   tweets_sample_8000.loc[i, 'mentions'] = mentions\n",
        "#   tweets_sample_8000.loc[i, 'hashtags'] = hashtags"
      ],
      "execution_count": 97,
      "outputs": []
    },
    {
      "cell_type": "code",
      "metadata": {
        "id": "mBXaGzjqz4XV"
      },
      "source": [
        "# tweets_sample_8000.head()"
      ],
      "execution_count": 98,
      "outputs": []
    },
    {
      "cell_type": "code",
      "metadata": {
        "id": "C6nCLEmTqMu7"
      },
      "source": [
        "# # create new columns for hashtags and mentions\n",
        "# # populate them with empty strings for now\n",
        "# tweets_sample['mentions'] = ''\n",
        "# tweets_sample['hashtags'] = ''\n",
        "\n",
        "# from tqdm import tqdm\n",
        "# # enumerate index and text of each row\n",
        "# for i, t in tqdm(enumerate(tweets_sample['text'])):\n",
        "#   #print(f'Working on row index {i}', end='\\r')\n",
        "  \n",
        "#   # for each row, concatenate string of mentions and string of hashtags\n",
        "#   mentions=''\n",
        "#   hashtags=''\n",
        "#   # parse the text\n",
        "#   parsed_text = p.parse(t)\n",
        "#   # if there are mentions\n",
        "#   if parsed_text.mentions != None:\n",
        "#     # loop through mentions object which is a list\n",
        "#     for j in range(len(parsed_text.mentions)):\n",
        "#       # concatenate to mentions string\n",
        "#       mentions += f'{parsed_text.mentions[j].match} '\n",
        "      \n",
        "#   # if there are hashtags\n",
        "#   if parsed_text.hashtags != None:\n",
        "#     # loop through hashtags object which is a list\n",
        "#     for k in range(len(parsed_text.hashtags)):\n",
        "#       # concatenate each hashtag to hashtags string  \n",
        "#       hashtags += f'{parsed_text.hashtags[k].match} '\n",
        "\n",
        "#   # update the row values\n",
        "#   tweets_sample.loc[i, 'mentions'] = mentions\n",
        "#   tweets_sample.loc[i, 'hashtags'] = hashtags\n",
        "#    # print(mentions, hashtags)\n"
      ],
      "execution_count": 99,
      "outputs": []
    },
    {
      "cell_type": "markdown",
      "metadata": {
        "id": "PIOlXvOpQFoi"
      },
      "source": [
        "Maybe do it in chunks of 100,000? "
      ]
    },
    {
      "cell_type": "code",
      "metadata": {
        "id": "9l35PubzsFUD"
      },
      "source": [
        "# tweets_sample"
      ],
      "execution_count": 100,
      "outputs": []
    },
    {
      "cell_type": "code",
      "metadata": {
        "id": "_9PcSNiC-Vjn"
      },
      "source": [
        "# def extract_hashtags(text):\n",
        "#   parsed_text = p.parse(text)\n",
        "#   mentions=''\n",
        "  \n",
        "#   # parse the text\n",
        "#   parsed_text = p.parse(t)\n",
        "#   # if there are mentions\n",
        "#   if parsed_text.mentions != None:\n",
        "#     # loop through mentions object which is a list\n",
        "#     for j in range(len(parsed_text.mentions)):\n",
        "#       # concatenate to mentions string\n",
        "#       mentions += f'{parsed_text.mentions[j].match} '\n",
        "\n",
        "#   return mentions\n",
        "\n",
        "\n",
        "# def extract_mentions(text):\n",
        "#   hashtags = ''\n",
        "#   parsed_text = p.parse(text)\n",
        "#   # if there are hashtags\n",
        "#   if parsed_text.hashtags != None:\n",
        "#     # loop through hashtags object which is a list\n",
        "#     for k in range(len(parsed_text.hashtags)):\n",
        "#       # concatenate each hashtag to hashtags string  \n",
        "#       hashtags += f'{parsed_text.hashtags[k].match} '\n",
        "#   return hashtags "
      ],
      "execution_count": 101,
      "outputs": []
    },
    {
      "cell_type": "code",
      "metadata": {
        "id": "dUyEvcwgFUN1"
      },
      "source": [
        "# tweets_sample['mention'] = ''\n",
        "# mask = p.parse(tweets_sample['text'])"
      ],
      "execution_count": 102,
      "outputs": []
    },
    {
      "cell_type": "markdown",
      "metadata": {
        "id": "82KI0Fp1NhlM"
      },
      "source": [
        "Preprocessing with texacy: https://textacy.readthedocs.io/en/latest/api_reference/preprocessing.html"
      ]
    },
    {
      "cell_type": "code",
      "metadata": {
        "id": "8fxxGLgfNjqs"
      },
      "source": [
        "# tweets_sample.head()"
      ],
      "execution_count": 103,
      "outputs": []
    },
    {
      "cell_type": "code",
      "metadata": {
        "id": "T76s51J9_h5N"
      },
      "source": [
        "# tweets_sample[500000:500020]"
      ],
      "execution_count": 104,
      "outputs": []
    },
    {
      "cell_type": "code",
      "metadata": {
        "id": "bHjlekdF_qik"
      },
      "source": [
        "# test_tweets.to_csv('/content/drive/MyDrive/BrainStation/Capstone/test_tweets.csv')"
      ],
      "execution_count": 105,
      "outputs": []
    },
    {
      "cell_type": "code",
      "metadata": {
        "id": "0wKE7Z4mGMUf"
      },
      "source": [
        "# df = pd.read_csv('/content/drive/MyDrive/BrainStation/Capstone/test_tweets.csv',index_col=0, header=0)\n",
        "# df"
      ],
      "execution_count": 106,
      "outputs": []
    },
    {
      "cell_type": "markdown",
      "metadata": {
        "id": "3e_6Nx8LxObn"
      },
      "source": [
        "### end of junk/scrapping\n",
        "---"
      ]
    },
    {
      "cell_type": "markdown",
      "metadata": {
        "id": "bVRCsBQU2xao"
      },
      "source": [
        "## Count Vectorize \n",
        "\n"
      ]
    },
    {
      "cell_type": "markdown",
      "metadata": {
        "id": "fvdKwLot26Gb"
      },
      "source": [
        "### 10% Random Sample from the 10% Sample (1% of Total)\n",
        "\n",
        "The 10% random sample from the original dataset contains more than 800,000 tweets. The sample size is still too large when it comes to runtimes and memory usage, especially considering how many columns will be added after One Hot Encoding and CountVectorizing.\n",
        "\n",
        "Let's take another 10% random sample from this sample to get the number of rows down to about 80,000.bold text"
      ]
    },
    {
      "cell_type": "code",
      "metadata": {
        "colab": {
          "base_uri": "https://localhost:8080/"
        },
        "id": "Rslr4KUjxVLx",
        "outputId": "e10accb1-9c3c-4933-f93e-85b477466aaa"
      },
      "source": [
        "tweets_small_sample = tweets_sample.sample(frac=0.1, random_state=44)\n",
        "tweets_small_sample.shape"
      ],
      "execution_count": 107,
      "outputs": [
        {
          "output_type": "execute_result",
          "data": {
            "text/plain": [
              "(81333, 22)"
            ]
          },
          "metadata": {},
          "execution_count": 107
        }
      ]
    },
    {
      "cell_type": "markdown",
      "metadata": {
        "id": "dsC0aYXh3q5a"
      },
      "source": [
        "The sample now contains 81,333 tweets and 22 columns."
      ]
    },
    {
      "cell_type": "code",
      "metadata": {
        "colab": {
          "base_uri": "https://localhost:8080/",
          "height": 398
        },
        "id": "-FeJV5j13ldh",
        "outputId": "8044b372-da70-4a05-e95b-6c4887f73143"
      },
      "source": [
        "# preview\n",
        "tweets_small_sample.head()"
      ],
      "execution_count": 108,
      "outputs": [
        {
          "output_type": "execute_result",
          "data": {
            "text/html": [
              "<div>\n",
              "<style scoped>\n",
              "    .dataframe tbody tr th:only-of-type {\n",
              "        vertical-align: middle;\n",
              "    }\n",
              "\n",
              "    .dataframe tbody tr th {\n",
              "        vertical-align: top;\n",
              "    }\n",
              "\n",
              "    .dataframe thead th {\n",
              "        text-align: right;\n",
              "    }\n",
              "</style>\n",
              "<table border=\"1\" class=\"dataframe\">\n",
              "  <thead>\n",
              "    <tr style=\"text-align: right;\">\n",
              "      <th></th>\n",
              "      <th>status_id</th>\n",
              "      <th>user_id</th>\n",
              "      <th>created_at</th>\n",
              "      <th>screen_name</th>\n",
              "      <th>text</th>\n",
              "      <th>source</th>\n",
              "      <th>is_quote</th>\n",
              "      <th>is_retweet</th>\n",
              "      <th>favourites_count</th>\n",
              "      <th>retweet_count</th>\n",
              "      <th>country_code</th>\n",
              "      <th>place_full_name</th>\n",
              "      <th>place_type</th>\n",
              "      <th>followers_count</th>\n",
              "      <th>friends_count</th>\n",
              "      <th>account_created_at</th>\n",
              "      <th>verified</th>\n",
              "      <th>lang</th>\n",
              "      <th>is_reply</th>\n",
              "      <th>time_of_day</th>\n",
              "      <th>user_tweet_freq_per_day</th>\n",
              "      <th>user_tweet_freq_per_hour</th>\n",
              "    </tr>\n",
              "  </thead>\n",
              "  <tbody>\n",
              "    <tr>\n",
              "      <th>214016</th>\n",
              "      <td>1246317814534647810</td>\n",
              "      <td>279822752</td>\n",
              "      <td>2020-04-04 06:04:57</td>\n",
              "      <td>alostvoicefound</td>\n",
              "      <td>We've decided to name this little girl Cora Ti...</td>\n",
              "      <td>Twitter for Android</td>\n",
              "      <td>False</td>\n",
              "      <td>False</td>\n",
              "      <td>16341</td>\n",
              "      <td>0</td>\n",
              "      <td>country_code NA</td>\n",
              "      <td>place_full_name NA</td>\n",
              "      <td>place_type NA</td>\n",
              "      <td>1205</td>\n",
              "      <td>1029</td>\n",
              "      <td>2011-04-10 02:52:10</td>\n",
              "      <td>False</td>\n",
              "      <td>en</td>\n",
              "      <td>0</td>\n",
              "      <td>morning</td>\n",
              "      <td>0.03125</td>\n",
              "      <td>0.001302</td>\n",
              "    </tr>\n",
              "    <tr>\n",
              "      <th>139986</th>\n",
              "      <td>1251798223276122112</td>\n",
              "      <td>470036016</td>\n",
              "      <td>2020-04-19 09:02:08</td>\n",
              "      <td>BillWilliams01</td>\n",
              "      <td>Ha! @michaelgove now backtracking on the “prom...</td>\n",
              "      <td>Twitter for iPhone</td>\n",
              "      <td>False</td>\n",
              "      <td>False</td>\n",
              "      <td>22888</td>\n",
              "      <td>0</td>\n",
              "      <td>GB</td>\n",
              "      <td>Camberwell, London</td>\n",
              "      <td>city</td>\n",
              "      <td>1978</td>\n",
              "      <td>1906</td>\n",
              "      <td>2012-01-21 08:01:47</td>\n",
              "      <td>False</td>\n",
              "      <td>en</td>\n",
              "      <td>0</td>\n",
              "      <td>morning</td>\n",
              "      <td>0.31250</td>\n",
              "      <td>0.013021</td>\n",
              "    </tr>\n",
              "    <tr>\n",
              "      <th>754715</th>\n",
              "      <td>1244361937581944833</td>\n",
              "      <td>138177160</td>\n",
              "      <td>2020-03-29 20:32:59</td>\n",
              "      <td>HillRogerJ</td>\n",
              "      <td>.@FEMA_Pete @SecAzar: the US faces a severe  #...</td>\n",
              "      <td>Twitter Web Client</td>\n",
              "      <td>False</td>\n",
              "      <td>False</td>\n",
              "      <td>228</td>\n",
              "      <td>0</td>\n",
              "      <td>country_code NA</td>\n",
              "      <td>place_full_name NA</td>\n",
              "      <td>place_type NA</td>\n",
              "      <td>156</td>\n",
              "      <td>58</td>\n",
              "      <td>2010-04-28 21:03:17</td>\n",
              "      <td>False</td>\n",
              "      <td>en</td>\n",
              "      <td>0</td>\n",
              "      <td>evening</td>\n",
              "      <td>0.09375</td>\n",
              "      <td>0.003906</td>\n",
              "    </tr>\n",
              "    <tr>\n",
              "      <th>448755</th>\n",
              "      <td>1245343717067829250</td>\n",
              "      <td>1112030120477450240</td>\n",
              "      <td>2020-04-01 13:34:14</td>\n",
              "      <td>humberto_herb</td>\n",
              "      <td>@AndrewHolnessJM #covid19 There are doctors an...</td>\n",
              "      <td>Twitter Web App</td>\n",
              "      <td>False</td>\n",
              "      <td>False</td>\n",
              "      <td>26936</td>\n",
              "      <td>0</td>\n",
              "      <td>country_code NA</td>\n",
              "      <td>place_full_name NA</td>\n",
              "      <td>place_type NA</td>\n",
              "      <td>334</td>\n",
              "      <td>1751</td>\n",
              "      <td>2019-03-30 16:33:36</td>\n",
              "      <td>False</td>\n",
              "      <td>en</td>\n",
              "      <td>1</td>\n",
              "      <td>afternoon</td>\n",
              "      <td>1.43750</td>\n",
              "      <td>0.059896</td>\n",
              "    </tr>\n",
              "    <tr>\n",
              "      <th>163873</th>\n",
              "      <td>1252918702166638592</td>\n",
              "      <td>2346990325</td>\n",
              "      <td>2020-04-22 11:14:31</td>\n",
              "      <td>SikaRudzi</td>\n",
              "      <td>Painful to learn of another #Covid19 related f...</td>\n",
              "      <td>Twitter for Android</td>\n",
              "      <td>True</td>\n",
              "      <td>False</td>\n",
              "      <td>2929</td>\n",
              "      <td>0</td>\n",
              "      <td>country_code NA</td>\n",
              "      <td>place_full_name NA</td>\n",
              "      <td>place_type NA</td>\n",
              "      <td>140</td>\n",
              "      <td>157</td>\n",
              "      <td>2014-02-16 15:02:47</td>\n",
              "      <td>False</td>\n",
              "      <td>en</td>\n",
              "      <td>0</td>\n",
              "      <td>morning</td>\n",
              "      <td>0.09375</td>\n",
              "      <td>0.003906</td>\n",
              "    </tr>\n",
              "  </tbody>\n",
              "</table>\n",
              "</div>"
            ],
            "text/plain": [
              "                  status_id  ... user_tweet_freq_per_hour\n",
              "214016  1246317814534647810  ...                 0.001302\n",
              "139986  1251798223276122112  ...                 0.013021\n",
              "754715  1244361937581944833  ...                 0.003906\n",
              "448755  1245343717067829250  ...                 0.059896\n",
              "163873  1252918702166638592  ...                 0.003906\n",
              "\n",
              "[5 rows x 22 columns]"
            ]
          },
          "metadata": {},
          "execution_count": 108
        }
      ]
    },
    {
      "cell_type": "markdown",
      "metadata": {
        "id": "C3FDxUZseS7w"
      },
      "source": [
        "The indices need to be reset."
      ]
    },
    {
      "cell_type": "code",
      "metadata": {
        "id": "r1P00dOY3ygA"
      },
      "source": [
        "# reset index\n",
        "tweets_small_sample.reset_index(drop=True, inplace=True)"
      ],
      "execution_count": 109,
      "outputs": []
    },
    {
      "cell_type": "code",
      "metadata": {
        "colab": {
          "base_uri": "https://localhost:8080/",
          "height": 398
        },
        "id": "Z2lIGdrL39it",
        "outputId": "870e1353-5a18-4344-e360-bf9999c31374"
      },
      "source": [
        "# verify\n",
        "tweets_small_sample.head()"
      ],
      "execution_count": 110,
      "outputs": [
        {
          "output_type": "execute_result",
          "data": {
            "text/html": [
              "<div>\n",
              "<style scoped>\n",
              "    .dataframe tbody tr th:only-of-type {\n",
              "        vertical-align: middle;\n",
              "    }\n",
              "\n",
              "    .dataframe tbody tr th {\n",
              "        vertical-align: top;\n",
              "    }\n",
              "\n",
              "    .dataframe thead th {\n",
              "        text-align: right;\n",
              "    }\n",
              "</style>\n",
              "<table border=\"1\" class=\"dataframe\">\n",
              "  <thead>\n",
              "    <tr style=\"text-align: right;\">\n",
              "      <th></th>\n",
              "      <th>status_id</th>\n",
              "      <th>user_id</th>\n",
              "      <th>created_at</th>\n",
              "      <th>screen_name</th>\n",
              "      <th>text</th>\n",
              "      <th>source</th>\n",
              "      <th>is_quote</th>\n",
              "      <th>is_retweet</th>\n",
              "      <th>favourites_count</th>\n",
              "      <th>retweet_count</th>\n",
              "      <th>country_code</th>\n",
              "      <th>place_full_name</th>\n",
              "      <th>place_type</th>\n",
              "      <th>followers_count</th>\n",
              "      <th>friends_count</th>\n",
              "      <th>account_created_at</th>\n",
              "      <th>verified</th>\n",
              "      <th>lang</th>\n",
              "      <th>is_reply</th>\n",
              "      <th>time_of_day</th>\n",
              "      <th>user_tweet_freq_per_day</th>\n",
              "      <th>user_tweet_freq_per_hour</th>\n",
              "    </tr>\n",
              "  </thead>\n",
              "  <tbody>\n",
              "    <tr>\n",
              "      <th>0</th>\n",
              "      <td>1246317814534647810</td>\n",
              "      <td>279822752</td>\n",
              "      <td>2020-04-04 06:04:57</td>\n",
              "      <td>alostvoicefound</td>\n",
              "      <td>We've decided to name this little girl Cora Ti...</td>\n",
              "      <td>Twitter for Android</td>\n",
              "      <td>False</td>\n",
              "      <td>False</td>\n",
              "      <td>16341</td>\n",
              "      <td>0</td>\n",
              "      <td>country_code NA</td>\n",
              "      <td>place_full_name NA</td>\n",
              "      <td>place_type NA</td>\n",
              "      <td>1205</td>\n",
              "      <td>1029</td>\n",
              "      <td>2011-04-10 02:52:10</td>\n",
              "      <td>False</td>\n",
              "      <td>en</td>\n",
              "      <td>0</td>\n",
              "      <td>morning</td>\n",
              "      <td>0.03125</td>\n",
              "      <td>0.001302</td>\n",
              "    </tr>\n",
              "    <tr>\n",
              "      <th>1</th>\n",
              "      <td>1251798223276122112</td>\n",
              "      <td>470036016</td>\n",
              "      <td>2020-04-19 09:02:08</td>\n",
              "      <td>BillWilliams01</td>\n",
              "      <td>Ha! @michaelgove now backtracking on the “prom...</td>\n",
              "      <td>Twitter for iPhone</td>\n",
              "      <td>False</td>\n",
              "      <td>False</td>\n",
              "      <td>22888</td>\n",
              "      <td>0</td>\n",
              "      <td>GB</td>\n",
              "      <td>Camberwell, London</td>\n",
              "      <td>city</td>\n",
              "      <td>1978</td>\n",
              "      <td>1906</td>\n",
              "      <td>2012-01-21 08:01:47</td>\n",
              "      <td>False</td>\n",
              "      <td>en</td>\n",
              "      <td>0</td>\n",
              "      <td>morning</td>\n",
              "      <td>0.31250</td>\n",
              "      <td>0.013021</td>\n",
              "    </tr>\n",
              "    <tr>\n",
              "      <th>2</th>\n",
              "      <td>1244361937581944833</td>\n",
              "      <td>138177160</td>\n",
              "      <td>2020-03-29 20:32:59</td>\n",
              "      <td>HillRogerJ</td>\n",
              "      <td>.@FEMA_Pete @SecAzar: the US faces a severe  #...</td>\n",
              "      <td>Twitter Web Client</td>\n",
              "      <td>False</td>\n",
              "      <td>False</td>\n",
              "      <td>228</td>\n",
              "      <td>0</td>\n",
              "      <td>country_code NA</td>\n",
              "      <td>place_full_name NA</td>\n",
              "      <td>place_type NA</td>\n",
              "      <td>156</td>\n",
              "      <td>58</td>\n",
              "      <td>2010-04-28 21:03:17</td>\n",
              "      <td>False</td>\n",
              "      <td>en</td>\n",
              "      <td>0</td>\n",
              "      <td>evening</td>\n",
              "      <td>0.09375</td>\n",
              "      <td>0.003906</td>\n",
              "    </tr>\n",
              "    <tr>\n",
              "      <th>3</th>\n",
              "      <td>1245343717067829250</td>\n",
              "      <td>1112030120477450240</td>\n",
              "      <td>2020-04-01 13:34:14</td>\n",
              "      <td>humberto_herb</td>\n",
              "      <td>@AndrewHolnessJM #covid19 There are doctors an...</td>\n",
              "      <td>Twitter Web App</td>\n",
              "      <td>False</td>\n",
              "      <td>False</td>\n",
              "      <td>26936</td>\n",
              "      <td>0</td>\n",
              "      <td>country_code NA</td>\n",
              "      <td>place_full_name NA</td>\n",
              "      <td>place_type NA</td>\n",
              "      <td>334</td>\n",
              "      <td>1751</td>\n",
              "      <td>2019-03-30 16:33:36</td>\n",
              "      <td>False</td>\n",
              "      <td>en</td>\n",
              "      <td>1</td>\n",
              "      <td>afternoon</td>\n",
              "      <td>1.43750</td>\n",
              "      <td>0.059896</td>\n",
              "    </tr>\n",
              "    <tr>\n",
              "      <th>4</th>\n",
              "      <td>1252918702166638592</td>\n",
              "      <td>2346990325</td>\n",
              "      <td>2020-04-22 11:14:31</td>\n",
              "      <td>SikaRudzi</td>\n",
              "      <td>Painful to learn of another #Covid19 related f...</td>\n",
              "      <td>Twitter for Android</td>\n",
              "      <td>True</td>\n",
              "      <td>False</td>\n",
              "      <td>2929</td>\n",
              "      <td>0</td>\n",
              "      <td>country_code NA</td>\n",
              "      <td>place_full_name NA</td>\n",
              "      <td>place_type NA</td>\n",
              "      <td>140</td>\n",
              "      <td>157</td>\n",
              "      <td>2014-02-16 15:02:47</td>\n",
              "      <td>False</td>\n",
              "      <td>en</td>\n",
              "      <td>0</td>\n",
              "      <td>morning</td>\n",
              "      <td>0.09375</td>\n",
              "      <td>0.003906</td>\n",
              "    </tr>\n",
              "  </tbody>\n",
              "</table>\n",
              "</div>"
            ],
            "text/plain": [
              "             status_id  ... user_tweet_freq_per_hour\n",
              "0  1246317814534647810  ...                 0.001302\n",
              "1  1251798223276122112  ...                 0.013021\n",
              "2  1244361937581944833  ...                 0.003906\n",
              "3  1245343717067829250  ...                 0.059896\n",
              "4  1252918702166638592  ...                 0.003906\n",
              "\n",
              "[5 rows x 22 columns]"
            ]
          },
          "metadata": {},
          "execution_count": 110
        }
      ]
    },
    {
      "cell_type": "markdown",
      "metadata": {
        "id": "RptFb2u14Bhs"
      },
      "source": [
        "The indices for our 1% random sample have been reset."
      ]
    },
    {
      "cell_type": "markdown",
      "metadata": {
        "id": "qM_oISFL6mtw"
      },
      "source": [
        "#### Check Distribution"
      ]
    },
    {
      "cell_type": "code",
      "metadata": {
        "colab": {
          "base_uri": "https://localhost:8080/",
          "height": 249
        },
        "id": "fpFPj-8i6WiJ",
        "outputId": "285fc481-66ca-483c-e66d-d7f4bb327bde"
      },
      "source": [
        "# get tweet count for each date in the dataset\n",
        "tweet_count_by_date = tweets_small_sample['created_at'].dt.date.value_counts()\n",
        "# sort the dates\n",
        "tweet_count_by_date.sort_index()\n",
        "\n",
        "# plot the distribution\n",
        "plt.figure(figsize=(15,5))\n",
        "plt.bar(tweet_count_by_date.index, tweet_count_by_date)\n",
        "plt.xlim(right=max(tweet_count_by_date.index))\n",
        "plt.title('COVID-19 Related Tweet Count by Date (1% of Total Dataset)')\n",
        "plt.xlabel('Date')\n",
        "plt.ylabel('Count')\n",
        "plt.show()"
      ],
      "execution_count": 111,
      "outputs": [
        {
          "output_type": "display_data",
          "data": {
            "image/png": "[encoded data removed]",
            "text/plain": [
              "<Figure size 1080x360 with 1 Axes>"
            ]
          },
          "metadata": {
            "needs_background": "light"
          }
        }
      ]
    },
    {
      "cell_type": "markdown",
      "metadata": {
        "id": "5-8BQDIZ6tDy"
      },
      "source": [
        "The distribution of tweet counts by date is very similar to that of the original dataset as well as to the first 10% sample that contained about 800,000 tweets."
      ]
    },
    {
      "cell_type": "markdown",
      "metadata": {
        "id": "59hG0pEgevaV"
      },
      "source": [
        "Export this 1% sample as csv file so in case we want to start from scratch, we don't have to re-run the whole notebook.\n"
      ]
    },
    {
      "cell_type": "code",
      "metadata": {
        "id": "MiKxnA_9747K"
      },
      "source": [
        "# export this 1% sample as csv file so in case we want to start from scratch, we don't have to run the whole notebook\n",
        "# tweets_small_sample.to_csv('/content/drive/MyDrive/BrainStation/Capstone/tweets_small_sample.csv')"
      ],
      "execution_count": 112,
      "outputs": []
    },
    {
      "cell_type": "markdown",
      "metadata": {
        "id": "b92Ju2KQ4uEc"
      },
      "source": [
        "### Extract Hashtags and Mentions (Skip)"
      ]
    },
    {
      "cell_type": "code",
      "metadata": {
        "id": "oK2gPOa14ABf"
      },
      "source": [
        "# import re\n",
        "# # extract hashtags and mentions from the tweet texts\n",
        "# # put them in new columns called 'hashtags' and 'mentions\n",
        "# tweets_sample_1_pct['hashtags'] = tweets_sample_1_pct['text'].apply(lambda x: re.findall(r\"#(\\w+)\", x))\n",
        "# tweets_sample_1_pct['mentions'] = tweets_sample_1_pct['text'].apply(lambda x: re.findall(r\"@(\\w+)\", x))"
      ],
      "execution_count": 113,
      "outputs": []
    },
    {
      "cell_type": "code",
      "metadata": {
        "id": "fYrAOEAt42H3"
      },
      "source": [
        "# tweets_sample_1_pct"
      ],
      "execution_count": 114,
      "outputs": []
    },
    {
      "cell_type": "markdown",
      "metadata": {
        "id": "POOVhZjG7FIu"
      },
      "source": [
        "### DROP HASHTAGS AND MENTIOSN COLS FOR NOW"
      ]
    },
    {
      "cell_type": "code",
      "metadata": {
        "id": "vUaqO8ZD7JBy"
      },
      "source": [
        "# tweets_sample_1_pct.drop(columns=['mentions', 'hashtags'], inplace=True)"
      ],
      "execution_count": 115,
      "outputs": []
    },
    {
      "cell_type": "markdown",
      "metadata": {
        "id": "DGqj3F7mKvYw"
      },
      "source": [
        "### Import 1% random sample csv file with fresh kernel"
      ]
    },
    {
      "cell_type": "code",
      "metadata": {
        "id": "Ei7V35P2Kupi"
      },
      "source": [
        "# tweets_small_df = pd.read_csv('/content/drive/MyDrive/BrainStation/Capstone/tweets_small_sample.csv', index_col=0, header=0)\n",
        "# tweets_small_df.shape"
      ],
      "execution_count": 116,
      "outputs": []
    },
    {
      "cell_type": "markdown",
      "metadata": {
        "id": "3_m_tyjmMKbv"
      },
      "source": [
        ""
      ]
    },
    {
      "cell_type": "markdown",
      "metadata": {
        "id": "Bgrx0Ioe5d3n"
      },
      "source": [
        "### CountVectorizer"
      ]
    },
    {
      "cell_type": "code",
      "metadata": {
        "colab": {
          "base_uri": "https://localhost:8080/"
        },
        "id": "4_3C5e7D75CE",
        "outputId": "3b054fdd-b67b-4f9d-b69d-47239795cec9"
      },
      "source": [
        "tweets_small_sample.info()"
      ],
      "execution_count": 117,
      "outputs": [
        {
          "output_type": "stream",
          "name": "stdout",
          "text": [
            "<class 'pandas.core.frame.DataFrame'>\n",
            "RangeIndex: 81333 entries, 0 to 81332\n",
            "Data columns (total 22 columns):\n",
            " #   Column                    Non-Null Count  Dtype         \n",
            "---  ------                    --------------  -----         \n",
            " 0   status_id                 81333 non-null  object        \n",
            " 1   user_id                   81333 non-null  object        \n",
            " 2   created_at                81333 non-null  datetime64[ns]\n",
            " 3   screen_name               81333 non-null  object        \n",
            " 4   text                      81333 non-null  object        \n",
            " 5   source                    81333 non-null  object        \n",
            " 6   is_quote                  81333 non-null  bool          \n",
            " 7   is_retweet                81333 non-null  bool          \n",
            " 8   favourites_count          81333 non-null  int64         \n",
            " 9   retweet_count             81333 non-null  int64         \n",
            " 10  country_code              81333 non-null  object        \n",
            " 11  place_full_name           81333 non-null  object        \n",
            " 12  place_type                81333 non-null  object        \n",
            " 13  followers_count           81333 non-null  int64         \n",
            " 14  friends_count             81333 non-null  int64         \n",
            " 15  account_created_at        81333 non-null  datetime64[ns]\n",
            " 16  verified                  81333 non-null  bool          \n",
            " 17  lang                      81333 non-null  object        \n",
            " 18  is_reply                  81333 non-null  int64         \n",
            " 19  time_of_day               81333 non-null  object        \n",
            " 20  user_tweet_freq_per_day   81333 non-null  float64       \n",
            " 21  user_tweet_freq_per_hour  81333 non-null  float64       \n",
            "dtypes: bool(3), datetime64[ns](2), float64(2), int64(5), object(10)\n",
            "memory usage: 12.0+ MB\n"
          ]
        }
      ]
    },
    {
      "cell_type": "markdown",
      "metadata": {
        "id": "_QHPJLvRdHMv"
      },
      "source": [
        "There are no missing values.\n",
        "\n",
        "Note that we will need to convert the non-numeric features to numeric before modeling down the line. But, let's focus on count vectorization for now."
      ]
    },
    {
      "cell_type": "code",
      "metadata": {
        "id": "PazFUVSK43Uf"
      },
      "source": [
        "from sklearn.feature_extraction.text import CountVectorizer"
      ],
      "execution_count": 118,
      "outputs": []
    },
    {
      "cell_type": "code",
      "metadata": {
        "colab": {
          "base_uri": "https://localhost:8080/"
        },
        "id": "K1GDhfAi5nej",
        "outputId": "2a9bce2d-552c-4f4e-e71c-e3abf0bb0a9d"
      },
      "source": [
        "bagofwords = CountVectorizer(stop_words='english',\n",
        "                             min_df=200,\n",
        "                             max_df=0.95)\n",
        "bagofwords.fit(tweets_small_sample['text'])\n",
        "\n",
        "text_vectorized = bagofwords.transform(tweets_small_sample['text'])\n",
        "\n",
        "print(f'Shape of vectorzied tweet texts: {text_vectorized.shape}')\n"
      ],
      "execution_count": 119,
      "outputs": [
        {
          "output_type": "stream",
          "name": "stdout",
          "text": [
            "Shape of vectorzied tweet texts: (81333, 947)\n"
          ]
        }
      ]
    },
    {
      "cell_type": "markdown",
      "metadata": {
        "id": "hTdyZkBuA1_t"
      },
      "source": [
        "With min_df=200 and max_df=0.95, 947 tokens have been extracted.\n",
        "\n",
        "`min_df`: ignore terms that appear less than the given frequency (ex. min_df=200 means ignore terms that appear in fewer than 200 documents)\n",
        "\n",
        "`max_df`: ignore terms that appear more than the given frequency (ex. max_df=0.95 means ignore terms that appear in more than 95% of the documents)"
      ]
    },
    {
      "cell_type": "code",
      "metadata": {
        "id": "tVNE5_bQ8u7g"
      },
      "source": [
        "# source: BrainStation\n",
        "def plot_most_frequent(words, word_counts, top=20):\n",
        "    '''\n",
        "    INPUTS\n",
        "    - words: words that were vectorized from a column\n",
        "    - word_counts: count of each word (frequency)\n",
        "    - top: specify the number of most frequent words to show from most to least\n",
        "    - column_name: the column from which the tokens were vectorized\n",
        "\n",
        "    OUTPUTS\n",
        "    - matplotlib plot of frequency for each word (number of words specified by top parameter)\n",
        "    '''\n",
        "    words_df = pd.DataFrame({\"Token\": words, \n",
        "                             \"Count\": word_counts})\n",
        "    \n",
        "    fig, ax = plt.subplots(figsize=(0.75*top, 5))\n",
        "    words_df.sort_values(by=\"Count\", ascending=False).head(top)\\\n",
        "        .set_index(\"Token\")\\\n",
        "        .plot(kind=\"bar\", rot=45, ax=ax)\n",
        "    sns.despine()\n",
        "    plt.title(f\"Most Frequent Words\")\n",
        "    plt.show()"
      ],
      "execution_count": 120,
      "outputs": []
    },
    {
      "cell_type": "code",
      "metadata": {
        "id": "FeH2giw59H6i",
        "colab": {
          "base_uri": "https://localhost:8080/",
          "height": 279
        },
        "outputId": "5599c270-4866-44e6-d9f3-ac66b6f933ad"
      },
      "source": [
        "words = bagofwords.get_feature_names()\n",
        "word_counts = text_vectorized.toarray().sum(axis=0)\n",
        "# plot top 20 most frequent words\n",
        "plot_most_frequent(words, word_counts)"
      ],
      "execution_count": 121,
      "outputs": [
        {
          "output_type": "display_data",
          "data": {
            "image/png": "[encoded data removed]",
            "text/plain": [
              "<Figure size 1080x360 with 1 Axes>"
            ]
          },
          "metadata": {
            "needs_background": "light"
          }
        }
      ]
    },
    {
      "cell_type": "markdown",
      "metadata": {
        "id": "bEetQKAfhatP"
      },
      "source": [
        "We see that \"https\" is the most frequent word. This is because each tweet ends with a URL link to the tweet. We may need to remove URLs and other artifacts that we do not want.\n",
        "\n",
        "Let's lower the `max_df` and re-run the vectorizer."
      ]
    },
    {
      "cell_type": "code",
      "metadata": {
        "colab": {
          "base_uri": "https://localhost:8080/"
        },
        "id": "krfU24OBx2b3",
        "outputId": "5b3a85b0-a953-4b0d-da24-96acc7e3ba06"
      },
      "source": [
        "bagofwords = CountVectorizer(stop_words='english',\n",
        "                             min_df=200,\n",
        "                             max_df=0.40)\n",
        "bagofwords.fit(tweets_small_sample['text'])\n",
        "\n",
        "text_vectorized = bagofwords.transform(tweets_small_sample['text'])\n",
        "\n",
        "print(f'Shape of vectorzied tweet texts: {text_vectorized.shape}')"
      ],
      "execution_count": 122,
      "outputs": [
        {
          "output_type": "stream",
          "name": "stdout",
          "text": [
            "Shape of vectorzied tweet texts: (81333, 944)\n"
          ]
        }
      ]
    },
    {
      "cell_type": "code",
      "metadata": {
        "colab": {
          "base_uri": "https://localhost:8080/",
          "height": 275
        },
        "id": "1IeXYqrT6yCB",
        "outputId": "17f2abc9-ef85-4c5e-ae12-271df808b4e5"
      },
      "source": [
        "words = bagofwords.get_feature_names()\n",
        "word_counts = text_vectorized.toarray().sum(axis=0)\n",
        "# plot top 20 most frequent words\n",
        "plot_most_frequent(words, word_counts)"
      ],
      "execution_count": 123,
      "outputs": [
        {
          "output_type": "display_data",
          "data": {
            "image/png": "[encoded data removed]",
            "text/plain": [
              "<Figure size 1080x360 with 1 Axes>"
            ]
          },
          "metadata": {
            "needs_background": "light"
          }
        }
      ]
    },
    {
      "cell_type": "markdown",
      "metadata": {
        "id": "di0pdypP1wOS"
      },
      "source": [
        "Many of the top 20 words are related to COVID-19 (e.g., \"covid_19\", \"pandemic\", \"19\", \"lockdown\", \"health\", etc.). Interestingly, or perhaps unsurprisingly, \"trump\" is one of the most frequently tweeted word. Note that CountVectorizer converts every word into lowercase. Therefore, it is most likely that \"trump\" stems from \"Trump\".\n",
        "\n",
        "However, the most frequent word is \"amp\". Let's investigate this further."
      ]
    },
    {
      "cell_type": "code",
      "metadata": {
        "colab": {
          "base_uri": "https://localhost:8080/"
        },
        "id": "plicrM2KyA1Z",
        "outputId": "a4023f57-d721-41c6-8184-b1e66dac0c91"
      },
      "source": [
        "substring = 'amp'\n",
        "# pull out a few tweets that contains \"amp\"\n",
        "contains_amp = tweets_small_sample.loc[tweets_small_sample['text'].str.contains(substring)]\n",
        "contains_amp.reset_index(drop=True, inplace=True)\n",
        "contains_amp['text']"
      ],
      "execution_count": 124,
      "outputs": [
        {
          "output_type": "execute_result",
          "data": {
            "text/plain": [
              "0       \"In this lockdown, these people in the communi...\n",
              "1       Chronology samajhiye!\\n\\n1. #ShaheenBagh\\n2. #...\n",
              "2       @PaulDelaware @JohnJHarwood @VP Fortunately (r...\n",
              "3       My husband &amp; daughter @LucieLcarter  take ...\n",
              "4       N95 with CE &amp; FDA \\n#n95mask #protectivema...\n",
              "                              ...                        \n",
              "8708    Be Ready to #fightcovid19\\n#thankyouheroes #do...\n",
              "8709    @adamboultonSKY @MattHancock Ya don't say...\\n...\n",
              "8710    Under cover of a global pandemic with no parli...\n",
              "8711    Updated graph of confirmed and presumptive US ...\n",
              "8712    EP 024: \"Primal Advice &amp; Cosmic Dice\"  The...\n",
              "Name: text, Length: 8713, dtype: object"
            ]
          },
          "metadata": {},
          "execution_count": 124
        }
      ]
    },
    {
      "cell_type": "markdown",
      "metadata": {
        "id": "eXbLwZ0l9AAK"
      },
      "source": [
        "There are close to 9,000 tweets that contain \"amp\". "
      ]
    },
    {
      "cell_type": "markdown",
      "metadata": {
        "id": "PNfgEQP87Ker"
      },
      "source": [
        "Pull a couple of these tweets and see in what context \"amp\" comes from."
      ]
    },
    {
      "cell_type": "code",
      "metadata": {
        "colab": {
          "base_uri": "https://localhost:8080/",
          "height": 87
        },
        "id": "tXrN4F4KzDD7",
        "outputId": "5a36f6aa-deaa-41ae-ee9a-e3c606d3146d"
      },
      "source": [
        "contains_amp['text'][0]"
      ],
      "execution_count": 125,
      "outputs": [
        {
          "output_type": "execute_result",
          "data": {
            "application/vnd.google.colaboratory.intrinsic+json": {
              "type": "string"
            },
            "text/plain": [
              "'\"In this lockdown, these people in the community suffer the most and they are faced with two hazards #coronavirus &amp; #poverty because they are unable to get any work during the lockdown period and they do not have any savings so that they can spend it now\"\\nhttps://t.co/0lj4jJTQSf'"
            ]
          },
          "metadata": {},
          "execution_count": 125
        }
      ]
    },
    {
      "cell_type": "code",
      "metadata": {
        "colab": {
          "base_uri": "https://localhost:8080/",
          "height": 53
        },
        "id": "qWaWO6e48bLp",
        "outputId": "2690ee64-68ee-449d-b243-b0163f957668"
      },
      "source": [
        "contains_amp['text'][4]"
      ],
      "execution_count": 126,
      "outputs": [
        {
          "output_type": "execute_result",
          "data": {
            "application/vnd.google.colaboratory.intrinsic+json": {
              "type": "string"
            },
            "text/plain": [
              "'N95 with CE &amp; FDA \\n#n95mask #protectivemasks #CE #FDA #cronavirus #covid19 https://t.co/XKFkvpZ74F'"
            ]
          },
          "metadata": {},
          "execution_count": 126
        }
      ]
    },
    {
      "cell_type": "markdown",
      "metadata": {
        "id": "DQLSZDdh9bTj"
      },
      "source": [
        "Some of these tweets contain \"&amp;\". This is how \"&\" gets encoded when scraping. We do not know if this will be important in detecting bots. Therefore, we will refrain from dropping tokens at this point. Instead, we will perform KMeans clustering to see how the clusters come out at this point."
      ]
    },
    {
      "cell_type": "markdown",
      "metadata": {
        "id": "0-sXguCD92TH"
      },
      "source": [
        "## KMeans Clustering"
      ]
    },
    {
      "cell_type": "markdown",
      "metadata": {
        "id": "x0Z1DpjT_FTz"
      },
      "source": [
        "Make a pandas dataframe of text_vectorized so that it can be concatenated with tweets_small_sample. "
      ]
    },
    {
      "cell_type": "markdown",
      "metadata": {
        "id": "bMz5hO3WMh7g"
      },
      "source": [
        "Prefix \"t_\" will be added to each token so that we can easily tell these features originated from count vectorization."
      ]
    },
    {
      "cell_type": "code",
      "metadata": {
        "colab": {
          "base_uri": "https://localhost:8080/",
          "height": 272
        },
        "id": "uHiDhk-W9Z2D",
        "outputId": "fed1de98-fcce-4cc0-d95b-ee4e80d550ec"
      },
      "source": [
        "# make df of the vectorized words\n",
        "text_vectorized_df = pd.DataFrame(columns=bagofwords.get_feature_names(), data=text_vectorized.toarray())\n",
        "\n",
        "# add prefix to the tokens to indicate that they came from CountVectorizing\n",
        "text_vectorized_df = text_vectorized_df.add_prefix('t_') # add prefix t_\n",
        "\n",
        "# preview teh dataframe\n",
        "display(text_vectorized_df.head())\n",
        "# check shape\n",
        "print(f'Shape of text_vectorized_df: {text_vectorized_df.shape}')"
      ],
      "execution_count": 127,
      "outputs": [
        {
          "output_type": "display_data",
          "data": {
            "text/html": [
              "<div>\n",
              "<style scoped>\n",
              "    .dataframe tbody tr th:only-of-type {\n",
              "        vertical-align: middle;\n",
              "    }\n",
              "\n",
              "    .dataframe tbody tr th {\n",
              "        vertical-align: top;\n",
              "    }\n",
              "\n",
              "    .dataframe thead th {\n",
              "        text-align: right;\n",
              "    }\n",
              "</style>\n",
              "<table border=\"1\" class=\"dataframe\">\n",
              "  <thead>\n",
              "    <tr style=\"text-align: right;\">\n",
              "      <th></th>\n",
              "      <th>t_00</th>\n",
              "      <th>t_000</th>\n",
              "      <th>t_04</th>\n",
              "      <th>t_10</th>\n",
              "      <th>t_100</th>\n",
              "      <th>t_11</th>\n",
              "      <th>t_12</th>\n",
              "      <th>t_13</th>\n",
              "      <th>t_14</th>\n",
              "      <th>t_15</th>\n",
              "      <th>t_16</th>\n",
              "      <th>t_17</th>\n",
              "      <th>t_18</th>\n",
              "      <th>t_19</th>\n",
              "      <th>t_1st</th>\n",
              "      <th>t_20</th>\n",
              "      <th>t_200</th>\n",
              "      <th>t_2019</th>\n",
              "      <th>t_2020</th>\n",
              "      <th>t_21</th>\n",
              "      <th>t_22</th>\n",
              "      <th>t_23</th>\n",
              "      <th>t_24</th>\n",
              "      <th>t_25</th>\n",
              "      <th>t_26</th>\n",
              "      <th>t_27</th>\n",
              "      <th>t_28</th>\n",
              "      <th>t_29</th>\n",
              "      <th>t_30</th>\n",
              "      <th>t_40</th>\n",
              "      <th>t_45</th>\n",
              "      <th>t_50</th>\n",
              "      <th>t_500</th>\n",
              "      <th>t_60</th>\n",
              "      <th>t_able</th>\n",
              "      <th>t_absolutely</th>\n",
              "      <th>t_access</th>\n",
              "      <th>t_according</th>\n",
              "      <th>t_account</th>\n",
              "      <th>t_act</th>\n",
              "      <th>...</th>\n",
              "      <th>t_watching</th>\n",
              "      <th>t_water</th>\n",
              "      <th>t_way</th>\n",
              "      <th>t_ways</th>\n",
              "      <th>t_wear</th>\n",
              "      <th>t_wearing</th>\n",
              "      <th>t_webinar</th>\n",
              "      <th>t_website</th>\n",
              "      <th>t_week</th>\n",
              "      <th>t_weekend</th>\n",
              "      <th>t_weeks</th>\n",
              "      <th>t_went</th>\n",
              "      <th>t_white</th>\n",
              "      <th>t_whitehouse</th>\n",
              "      <th>t_win</th>\n",
              "      <th>t_wish</th>\n",
              "      <th>t_woman</th>\n",
              "      <th>t_women</th>\n",
              "      <th>t_won</th>\n",
              "      <th>t_wonder</th>\n",
              "      <th>t_word</th>\n",
              "      <th>t_words</th>\n",
              "      <th>t_work</th>\n",
              "      <th>t_workers</th>\n",
              "      <th>t_working</th>\n",
              "      <th>t_works</th>\n",
              "      <th>t_world</th>\n",
              "      <th>t_worldwide</th>\n",
              "      <th>t_worse</th>\n",
              "      <th>t_worst</th>\n",
              "      <th>t_worth</th>\n",
              "      <th>t_wrong</th>\n",
              "      <th>t_wuhan</th>\n",
              "      <th>t_year</th>\n",
              "      <th>t_years</th>\n",
              "      <th>t_yes</th>\n",
              "      <th>t_yesterday</th>\n",
              "      <th>t_york</th>\n",
              "      <th>t_young</th>\n",
              "      <th>t_youtube</th>\n",
              "    </tr>\n",
              "  </thead>\n",
              "  <tbody>\n",
              "    <tr>\n",
              "      <th>0</th>\n",
              "      <td>0</td>\n",
              "      <td>0</td>\n",
              "      <td>0</td>\n",
              "      <td>0</td>\n",
              "      <td>0</td>\n",
              "      <td>0</td>\n",
              "      <td>0</td>\n",
              "      <td>0</td>\n",
              "      <td>0</td>\n",
              "      <td>0</td>\n",
              "      <td>0</td>\n",
              "      <td>0</td>\n",
              "      <td>0</td>\n",
              "      <td>0</td>\n",
              "      <td>0</td>\n",
              "      <td>0</td>\n",
              "      <td>0</td>\n",
              "      <td>0</td>\n",
              "      <td>0</td>\n",
              "      <td>0</td>\n",
              "      <td>0</td>\n",
              "      <td>0</td>\n",
              "      <td>0</td>\n",
              "      <td>0</td>\n",
              "      <td>0</td>\n",
              "      <td>0</td>\n",
              "      <td>0</td>\n",
              "      <td>0</td>\n",
              "      <td>0</td>\n",
              "      <td>0</td>\n",
              "      <td>0</td>\n",
              "      <td>0</td>\n",
              "      <td>0</td>\n",
              "      <td>0</td>\n",
              "      <td>0</td>\n",
              "      <td>0</td>\n",
              "      <td>0</td>\n",
              "      <td>0</td>\n",
              "      <td>0</td>\n",
              "      <td>0</td>\n",
              "      <td>...</td>\n",
              "      <td>0</td>\n",
              "      <td>0</td>\n",
              "      <td>0</td>\n",
              "      <td>0</td>\n",
              "      <td>0</td>\n",
              "      <td>0</td>\n",
              "      <td>0</td>\n",
              "      <td>0</td>\n",
              "      <td>0</td>\n",
              "      <td>0</td>\n",
              "      <td>0</td>\n",
              "      <td>0</td>\n",
              "      <td>0</td>\n",
              "      <td>0</td>\n",
              "      <td>0</td>\n",
              "      <td>0</td>\n",
              "      <td>0</td>\n",
              "      <td>0</td>\n",
              "      <td>0</td>\n",
              "      <td>0</td>\n",
              "      <td>0</td>\n",
              "      <td>0</td>\n",
              "      <td>0</td>\n",
              "      <td>0</td>\n",
              "      <td>0</td>\n",
              "      <td>0</td>\n",
              "      <td>0</td>\n",
              "      <td>0</td>\n",
              "      <td>0</td>\n",
              "      <td>0</td>\n",
              "      <td>0</td>\n",
              "      <td>0</td>\n",
              "      <td>0</td>\n",
              "      <td>0</td>\n",
              "      <td>0</td>\n",
              "      <td>0</td>\n",
              "      <td>0</td>\n",
              "      <td>0</td>\n",
              "      <td>0</td>\n",
              "      <td>0</td>\n",
              "    </tr>\n",
              "    <tr>\n",
              "      <th>1</th>\n",
              "      <td>0</td>\n",
              "      <td>0</td>\n",
              "      <td>0</td>\n",
              "      <td>0</td>\n",
              "      <td>0</td>\n",
              "      <td>0</td>\n",
              "      <td>0</td>\n",
              "      <td>0</td>\n",
              "      <td>0</td>\n",
              "      <td>0</td>\n",
              "      <td>0</td>\n",
              "      <td>0</td>\n",
              "      <td>0</td>\n",
              "      <td>0</td>\n",
              "      <td>0</td>\n",
              "      <td>0</td>\n",
              "      <td>0</td>\n",
              "      <td>0</td>\n",
              "      <td>0</td>\n",
              "      <td>0</td>\n",
              "      <td>0</td>\n",
              "      <td>0</td>\n",
              "      <td>0</td>\n",
              "      <td>0</td>\n",
              "      <td>0</td>\n",
              "      <td>0</td>\n",
              "      <td>0</td>\n",
              "      <td>0</td>\n",
              "      <td>0</td>\n",
              "      <td>0</td>\n",
              "      <td>0</td>\n",
              "      <td>0</td>\n",
              "      <td>0</td>\n",
              "      <td>0</td>\n",
              "      <td>0</td>\n",
              "      <td>0</td>\n",
              "      <td>0</td>\n",
              "      <td>0</td>\n",
              "      <td>0</td>\n",
              "      <td>0</td>\n",
              "      <td>...</td>\n",
              "      <td>0</td>\n",
              "      <td>0</td>\n",
              "      <td>0</td>\n",
              "      <td>0</td>\n",
              "      <td>0</td>\n",
              "      <td>0</td>\n",
              "      <td>0</td>\n",
              "      <td>0</td>\n",
              "      <td>0</td>\n",
              "      <td>0</td>\n",
              "      <td>0</td>\n",
              "      <td>0</td>\n",
              "      <td>0</td>\n",
              "      <td>0</td>\n",
              "      <td>0</td>\n",
              "      <td>0</td>\n",
              "      <td>0</td>\n",
              "      <td>0</td>\n",
              "      <td>0</td>\n",
              "      <td>0</td>\n",
              "      <td>0</td>\n",
              "      <td>0</td>\n",
              "      <td>0</td>\n",
              "      <td>0</td>\n",
              "      <td>0</td>\n",
              "      <td>0</td>\n",
              "      <td>0</td>\n",
              "      <td>0</td>\n",
              "      <td>0</td>\n",
              "      <td>0</td>\n",
              "      <td>0</td>\n",
              "      <td>0</td>\n",
              "      <td>0</td>\n",
              "      <td>0</td>\n",
              "      <td>0</td>\n",
              "      <td>0</td>\n",
              "      <td>0</td>\n",
              "      <td>0</td>\n",
              "      <td>0</td>\n",
              "      <td>0</td>\n",
              "    </tr>\n",
              "    <tr>\n",
              "      <th>2</th>\n",
              "      <td>0</td>\n",
              "      <td>0</td>\n",
              "      <td>0</td>\n",
              "      <td>0</td>\n",
              "      <td>0</td>\n",
              "      <td>0</td>\n",
              "      <td>0</td>\n",
              "      <td>0</td>\n",
              "      <td>0</td>\n",
              "      <td>0</td>\n",
              "      <td>0</td>\n",
              "      <td>0</td>\n",
              "      <td>0</td>\n",
              "      <td>0</td>\n",
              "      <td>0</td>\n",
              "      <td>0</td>\n",
              "      <td>0</td>\n",
              "      <td>0</td>\n",
              "      <td>0</td>\n",
              "      <td>0</td>\n",
              "      <td>0</td>\n",
              "      <td>0</td>\n",
              "      <td>0</td>\n",
              "      <td>0</td>\n",
              "      <td>0</td>\n",
              "      <td>0</td>\n",
              "      <td>0</td>\n",
              "      <td>0</td>\n",
              "      <td>0</td>\n",
              "      <td>0</td>\n",
              "      <td>0</td>\n",
              "      <td>0</td>\n",
              "      <td>0</td>\n",
              "      <td>0</td>\n",
              "      <td>0</td>\n",
              "      <td>0</td>\n",
              "      <td>0</td>\n",
              "      <td>0</td>\n",
              "      <td>0</td>\n",
              "      <td>1</td>\n",
              "      <td>...</td>\n",
              "      <td>0</td>\n",
              "      <td>0</td>\n",
              "      <td>0</td>\n",
              "      <td>0</td>\n",
              "      <td>0</td>\n",
              "      <td>0</td>\n",
              "      <td>0</td>\n",
              "      <td>0</td>\n",
              "      <td>0</td>\n",
              "      <td>0</td>\n",
              "      <td>0</td>\n",
              "      <td>0</td>\n",
              "      <td>0</td>\n",
              "      <td>0</td>\n",
              "      <td>0</td>\n",
              "      <td>0</td>\n",
              "      <td>0</td>\n",
              "      <td>0</td>\n",
              "      <td>0</td>\n",
              "      <td>0</td>\n",
              "      <td>0</td>\n",
              "      <td>0</td>\n",
              "      <td>0</td>\n",
              "      <td>0</td>\n",
              "      <td>0</td>\n",
              "      <td>0</td>\n",
              "      <td>0</td>\n",
              "      <td>0</td>\n",
              "      <td>0</td>\n",
              "      <td>0</td>\n",
              "      <td>0</td>\n",
              "      <td>0</td>\n",
              "      <td>0</td>\n",
              "      <td>0</td>\n",
              "      <td>0</td>\n",
              "      <td>0</td>\n",
              "      <td>0</td>\n",
              "      <td>0</td>\n",
              "      <td>0</td>\n",
              "      <td>0</td>\n",
              "    </tr>\n",
              "    <tr>\n",
              "      <th>3</th>\n",
              "      <td>0</td>\n",
              "      <td>0</td>\n",
              "      <td>0</td>\n",
              "      <td>0</td>\n",
              "      <td>0</td>\n",
              "      <td>0</td>\n",
              "      <td>0</td>\n",
              "      <td>0</td>\n",
              "      <td>0</td>\n",
              "      <td>0</td>\n",
              "      <td>0</td>\n",
              "      <td>0</td>\n",
              "      <td>0</td>\n",
              "      <td>0</td>\n",
              "      <td>0</td>\n",
              "      <td>0</td>\n",
              "      <td>0</td>\n",
              "      <td>0</td>\n",
              "      <td>0</td>\n",
              "      <td>0</td>\n",
              "      <td>0</td>\n",
              "      <td>0</td>\n",
              "      <td>0</td>\n",
              "      <td>0</td>\n",
              "      <td>0</td>\n",
              "      <td>0</td>\n",
              "      <td>0</td>\n",
              "      <td>0</td>\n",
              "      <td>0</td>\n",
              "      <td>0</td>\n",
              "      <td>0</td>\n",
              "      <td>0</td>\n",
              "      <td>0</td>\n",
              "      <td>0</td>\n",
              "      <td>0</td>\n",
              "      <td>0</td>\n",
              "      <td>0</td>\n",
              "      <td>0</td>\n",
              "      <td>0</td>\n",
              "      <td>0</td>\n",
              "      <td>...</td>\n",
              "      <td>0</td>\n",
              "      <td>0</td>\n",
              "      <td>0</td>\n",
              "      <td>0</td>\n",
              "      <td>0</td>\n",
              "      <td>0</td>\n",
              "      <td>0</td>\n",
              "      <td>0</td>\n",
              "      <td>0</td>\n",
              "      <td>0</td>\n",
              "      <td>0</td>\n",
              "      <td>0</td>\n",
              "      <td>0</td>\n",
              "      <td>0</td>\n",
              "      <td>0</td>\n",
              "      <td>0</td>\n",
              "      <td>0</td>\n",
              "      <td>0</td>\n",
              "      <td>0</td>\n",
              "      <td>0</td>\n",
              "      <td>0</td>\n",
              "      <td>0</td>\n",
              "      <td>0</td>\n",
              "      <td>0</td>\n",
              "      <td>0</td>\n",
              "      <td>0</td>\n",
              "      <td>0</td>\n",
              "      <td>0</td>\n",
              "      <td>0</td>\n",
              "      <td>0</td>\n",
              "      <td>0</td>\n",
              "      <td>0</td>\n",
              "      <td>0</td>\n",
              "      <td>0</td>\n",
              "      <td>0</td>\n",
              "      <td>0</td>\n",
              "      <td>0</td>\n",
              "      <td>0</td>\n",
              "      <td>0</td>\n",
              "      <td>0</td>\n",
              "    </tr>\n",
              "    <tr>\n",
              "      <th>4</th>\n",
              "      <td>0</td>\n",
              "      <td>0</td>\n",
              "      <td>0</td>\n",
              "      <td>0</td>\n",
              "      <td>0</td>\n",
              "      <td>0</td>\n",
              "      <td>0</td>\n",
              "      <td>0</td>\n",
              "      <td>0</td>\n",
              "      <td>0</td>\n",
              "      <td>0</td>\n",
              "      <td>0</td>\n",
              "      <td>0</td>\n",
              "      <td>0</td>\n",
              "      <td>0</td>\n",
              "      <td>0</td>\n",
              "      <td>0</td>\n",
              "      <td>0</td>\n",
              "      <td>0</td>\n",
              "      <td>0</td>\n",
              "      <td>0</td>\n",
              "      <td>0</td>\n",
              "      <td>0</td>\n",
              "      <td>0</td>\n",
              "      <td>0</td>\n",
              "      <td>0</td>\n",
              "      <td>0</td>\n",
              "      <td>0</td>\n",
              "      <td>0</td>\n",
              "      <td>0</td>\n",
              "      <td>0</td>\n",
              "      <td>0</td>\n",
              "      <td>0</td>\n",
              "      <td>0</td>\n",
              "      <td>0</td>\n",
              "      <td>0</td>\n",
              "      <td>0</td>\n",
              "      <td>0</td>\n",
              "      <td>0</td>\n",
              "      <td>0</td>\n",
              "      <td>...</td>\n",
              "      <td>0</td>\n",
              "      <td>0</td>\n",
              "      <td>0</td>\n",
              "      <td>0</td>\n",
              "      <td>0</td>\n",
              "      <td>0</td>\n",
              "      <td>0</td>\n",
              "      <td>0</td>\n",
              "      <td>0</td>\n",
              "      <td>0</td>\n",
              "      <td>0</td>\n",
              "      <td>0</td>\n",
              "      <td>0</td>\n",
              "      <td>0</td>\n",
              "      <td>0</td>\n",
              "      <td>0</td>\n",
              "      <td>0</td>\n",
              "      <td>0</td>\n",
              "      <td>0</td>\n",
              "      <td>0</td>\n",
              "      <td>0</td>\n",
              "      <td>0</td>\n",
              "      <td>0</td>\n",
              "      <td>0</td>\n",
              "      <td>0</td>\n",
              "      <td>0</td>\n",
              "      <td>0</td>\n",
              "      <td>0</td>\n",
              "      <td>0</td>\n",
              "      <td>0</td>\n",
              "      <td>0</td>\n",
              "      <td>0</td>\n",
              "      <td>0</td>\n",
              "      <td>0</td>\n",
              "      <td>0</td>\n",
              "      <td>0</td>\n",
              "      <td>0</td>\n",
              "      <td>0</td>\n",
              "      <td>0</td>\n",
              "      <td>0</td>\n",
              "    </tr>\n",
              "  </tbody>\n",
              "</table>\n",
              "<p>5 rows × 944 columns</p>\n",
              "</div>"
            ],
            "text/plain": [
              "   t_00  t_000  t_04  t_10  ...  t_yesterday  t_york  t_young  t_youtube\n",
              "0     0      0     0     0  ...            0       0        0          0\n",
              "1     0      0     0     0  ...            0       0        0          0\n",
              "2     0      0     0     0  ...            0       0        0          0\n",
              "3     0      0     0     0  ...            0       0        0          0\n",
              "4     0      0     0     0  ...            0       0        0          0\n",
              "\n",
              "[5 rows x 944 columns]"
            ]
          },
          "metadata": {}
        },
        {
          "output_type": "stream",
          "name": "stdout",
          "text": [
            "Shape of text_vectorized_df: (81333, 944)\n"
          ]
        }
      ]
    },
    {
      "cell_type": "code",
      "metadata": {
        "colab": {
          "base_uri": "https://localhost:8080/",
          "height": 445
        },
        "id": "OdgdmDgB_v-p",
        "outputId": "292d011f-367f-47ef-ed09-23b60e873194"
      },
      "source": [
        "# concatenate the two dfs column-wise (axis=1)\n",
        "tweets_small_sample_vectorized = pd.concat([tweets_small_sample, text_vectorized_df], axis=1)\n",
        "\n",
        "# preview\n",
        "display(tweets_small_sample_vectorized.head())\n",
        "\n",
        "# shape\n",
        "print(f'Shape of concatenated tweets_small_sample: {tweets_small_sample_vectorized.shape}')"
      ],
      "execution_count": 128,
      "outputs": [
        {
          "output_type": "display_data",
          "data": {
            "text/html": [
              "<div>\n",
              "<style scoped>\n",
              "    .dataframe tbody tr th:only-of-type {\n",
              "        vertical-align: middle;\n",
              "    }\n",
              "\n",
              "    .dataframe tbody tr th {\n",
              "        vertical-align: top;\n",
              "    }\n",
              "\n",
              "    .dataframe thead th {\n",
              "        text-align: right;\n",
              "    }\n",
              "</style>\n",
              "<table border=\"1\" class=\"dataframe\">\n",
              "  <thead>\n",
              "    <tr style=\"text-align: right;\">\n",
              "      <th></th>\n",
              "      <th>status_id</th>\n",
              "      <th>user_id</th>\n",
              "      <th>created_at</th>\n",
              "      <th>screen_name</th>\n",
              "      <th>text</th>\n",
              "      <th>source</th>\n",
              "      <th>is_quote</th>\n",
              "      <th>is_retweet</th>\n",
              "      <th>favourites_count</th>\n",
              "      <th>retweet_count</th>\n",
              "      <th>country_code</th>\n",
              "      <th>place_full_name</th>\n",
              "      <th>place_type</th>\n",
              "      <th>followers_count</th>\n",
              "      <th>friends_count</th>\n",
              "      <th>account_created_at</th>\n",
              "      <th>verified</th>\n",
              "      <th>lang</th>\n",
              "      <th>is_reply</th>\n",
              "      <th>time_of_day</th>\n",
              "      <th>user_tweet_freq_per_day</th>\n",
              "      <th>user_tweet_freq_per_hour</th>\n",
              "      <th>t_00</th>\n",
              "      <th>t_000</th>\n",
              "      <th>t_04</th>\n",
              "      <th>t_10</th>\n",
              "      <th>t_100</th>\n",
              "      <th>t_11</th>\n",
              "      <th>t_12</th>\n",
              "      <th>t_13</th>\n",
              "      <th>t_14</th>\n",
              "      <th>t_15</th>\n",
              "      <th>t_16</th>\n",
              "      <th>t_17</th>\n",
              "      <th>t_18</th>\n",
              "      <th>t_19</th>\n",
              "      <th>t_1st</th>\n",
              "      <th>t_20</th>\n",
              "      <th>t_200</th>\n",
              "      <th>t_2019</th>\n",
              "      <th>...</th>\n",
              "      <th>t_watching</th>\n",
              "      <th>t_water</th>\n",
              "      <th>t_way</th>\n",
              "      <th>t_ways</th>\n",
              "      <th>t_wear</th>\n",
              "      <th>t_wearing</th>\n",
              "      <th>t_webinar</th>\n",
              "      <th>t_website</th>\n",
              "      <th>t_week</th>\n",
              "      <th>t_weekend</th>\n",
              "      <th>t_weeks</th>\n",
              "      <th>t_went</th>\n",
              "      <th>t_white</th>\n",
              "      <th>t_whitehouse</th>\n",
              "      <th>t_win</th>\n",
              "      <th>t_wish</th>\n",
              "      <th>t_woman</th>\n",
              "      <th>t_women</th>\n",
              "      <th>t_won</th>\n",
              "      <th>t_wonder</th>\n",
              "      <th>t_word</th>\n",
              "      <th>t_words</th>\n",
              "      <th>t_work</th>\n",
              "      <th>t_workers</th>\n",
              "      <th>t_working</th>\n",
              "      <th>t_works</th>\n",
              "      <th>t_world</th>\n",
              "      <th>t_worldwide</th>\n",
              "      <th>t_worse</th>\n",
              "      <th>t_worst</th>\n",
              "      <th>t_worth</th>\n",
              "      <th>t_wrong</th>\n",
              "      <th>t_wuhan</th>\n",
              "      <th>t_year</th>\n",
              "      <th>t_years</th>\n",
              "      <th>t_yes</th>\n",
              "      <th>t_yesterday</th>\n",
              "      <th>t_york</th>\n",
              "      <th>t_young</th>\n",
              "      <th>t_youtube</th>\n",
              "    </tr>\n",
              "  </thead>\n",
              "  <tbody>\n",
              "    <tr>\n",
              "      <th>0</th>\n",
              "      <td>1246317814534647810</td>\n",
              "      <td>279822752</td>\n",
              "      <td>2020-04-04 06:04:57</td>\n",
              "      <td>alostvoicefound</td>\n",
              "      <td>We've decided to name this little girl Cora Ti...</td>\n",
              "      <td>Twitter for Android</td>\n",
              "      <td>False</td>\n",
              "      <td>False</td>\n",
              "      <td>16341</td>\n",
              "      <td>0</td>\n",
              "      <td>country_code NA</td>\n",
              "      <td>place_full_name NA</td>\n",
              "      <td>place_type NA</td>\n",
              "      <td>1205</td>\n",
              "      <td>1029</td>\n",
              "      <td>2011-04-10 02:52:10</td>\n",
              "      <td>False</td>\n",
              "      <td>en</td>\n",
              "      <td>0</td>\n",
              "      <td>morning</td>\n",
              "      <td>0.03125</td>\n",
              "      <td>0.001302</td>\n",
              "      <td>0</td>\n",
              "      <td>0</td>\n",
              "      <td>0</td>\n",
              "      <td>0</td>\n",
              "      <td>0</td>\n",
              "      <td>0</td>\n",
              "      <td>0</td>\n",
              "      <td>0</td>\n",
              "      <td>0</td>\n",
              "      <td>0</td>\n",
              "      <td>0</td>\n",
              "      <td>0</td>\n",
              "      <td>0</td>\n",
              "      <td>0</td>\n",
              "      <td>0</td>\n",
              "      <td>0</td>\n",
              "      <td>0</td>\n",
              "      <td>0</td>\n",
              "      <td>...</td>\n",
              "      <td>0</td>\n",
              "      <td>0</td>\n",
              "      <td>0</td>\n",
              "      <td>0</td>\n",
              "      <td>0</td>\n",
              "      <td>0</td>\n",
              "      <td>0</td>\n",
              "      <td>0</td>\n",
              "      <td>0</td>\n",
              "      <td>0</td>\n",
              "      <td>0</td>\n",
              "      <td>0</td>\n",
              "      <td>0</td>\n",
              "      <td>0</td>\n",
              "      <td>0</td>\n",
              "      <td>0</td>\n",
              "      <td>0</td>\n",
              "      <td>0</td>\n",
              "      <td>0</td>\n",
              "      <td>0</td>\n",
              "      <td>0</td>\n",
              "      <td>0</td>\n",
              "      <td>0</td>\n",
              "      <td>0</td>\n",
              "      <td>0</td>\n",
              "      <td>0</td>\n",
              "      <td>0</td>\n",
              "      <td>0</td>\n",
              "      <td>0</td>\n",
              "      <td>0</td>\n",
              "      <td>0</td>\n",
              "      <td>0</td>\n",
              "      <td>0</td>\n",
              "      <td>0</td>\n",
              "      <td>0</td>\n",
              "      <td>0</td>\n",
              "      <td>0</td>\n",
              "      <td>0</td>\n",
              "      <td>0</td>\n",
              "      <td>0</td>\n",
              "    </tr>\n",
              "    <tr>\n",
              "      <th>1</th>\n",
              "      <td>1251798223276122112</td>\n",
              "      <td>470036016</td>\n",
              "      <td>2020-04-19 09:02:08</td>\n",
              "      <td>BillWilliams01</td>\n",
              "      <td>Ha! @michaelgove now backtracking on the “prom...</td>\n",
              "      <td>Twitter for iPhone</td>\n",
              "      <td>False</td>\n",
              "      <td>False</td>\n",
              "      <td>22888</td>\n",
              "      <td>0</td>\n",
              "      <td>GB</td>\n",
              "      <td>Camberwell, London</td>\n",
              "      <td>city</td>\n",
              "      <td>1978</td>\n",
              "      <td>1906</td>\n",
              "      <td>2012-01-21 08:01:47</td>\n",
              "      <td>False</td>\n",
              "      <td>en</td>\n",
              "      <td>0</td>\n",
              "      <td>morning</td>\n",
              "      <td>0.31250</td>\n",
              "      <td>0.013021</td>\n",
              "      <td>0</td>\n",
              "      <td>0</td>\n",
              "      <td>0</td>\n",
              "      <td>0</td>\n",
              "      <td>0</td>\n",
              "      <td>0</td>\n",
              "      <td>0</td>\n",
              "      <td>0</td>\n",
              "      <td>0</td>\n",
              "      <td>0</td>\n",
              "      <td>0</td>\n",
              "      <td>0</td>\n",
              "      <td>0</td>\n",
              "      <td>0</td>\n",
              "      <td>0</td>\n",
              "      <td>0</td>\n",
              "      <td>0</td>\n",
              "      <td>0</td>\n",
              "      <td>...</td>\n",
              "      <td>0</td>\n",
              "      <td>0</td>\n",
              "      <td>0</td>\n",
              "      <td>0</td>\n",
              "      <td>0</td>\n",
              "      <td>0</td>\n",
              "      <td>0</td>\n",
              "      <td>0</td>\n",
              "      <td>0</td>\n",
              "      <td>0</td>\n",
              "      <td>0</td>\n",
              "      <td>0</td>\n",
              "      <td>0</td>\n",
              "      <td>0</td>\n",
              "      <td>0</td>\n",
              "      <td>0</td>\n",
              "      <td>0</td>\n",
              "      <td>0</td>\n",
              "      <td>0</td>\n",
              "      <td>0</td>\n",
              "      <td>0</td>\n",
              "      <td>0</td>\n",
              "      <td>0</td>\n",
              "      <td>0</td>\n",
              "      <td>0</td>\n",
              "      <td>0</td>\n",
              "      <td>0</td>\n",
              "      <td>0</td>\n",
              "      <td>0</td>\n",
              "      <td>0</td>\n",
              "      <td>0</td>\n",
              "      <td>0</td>\n",
              "      <td>0</td>\n",
              "      <td>0</td>\n",
              "      <td>0</td>\n",
              "      <td>0</td>\n",
              "      <td>0</td>\n",
              "      <td>0</td>\n",
              "      <td>0</td>\n",
              "      <td>0</td>\n",
              "    </tr>\n",
              "    <tr>\n",
              "      <th>2</th>\n",
              "      <td>1244361937581944833</td>\n",
              "      <td>138177160</td>\n",
              "      <td>2020-03-29 20:32:59</td>\n",
              "      <td>HillRogerJ</td>\n",
              "      <td>.@FEMA_Pete @SecAzar: the US faces a severe  #...</td>\n",
              "      <td>Twitter Web Client</td>\n",
              "      <td>False</td>\n",
              "      <td>False</td>\n",
              "      <td>228</td>\n",
              "      <td>0</td>\n",
              "      <td>country_code NA</td>\n",
              "      <td>place_full_name NA</td>\n",
              "      <td>place_type NA</td>\n",
              "      <td>156</td>\n",
              "      <td>58</td>\n",
              "      <td>2010-04-28 21:03:17</td>\n",
              "      <td>False</td>\n",
              "      <td>en</td>\n",
              "      <td>0</td>\n",
              "      <td>evening</td>\n",
              "      <td>0.09375</td>\n",
              "      <td>0.003906</td>\n",
              "      <td>0</td>\n",
              "      <td>0</td>\n",
              "      <td>0</td>\n",
              "      <td>0</td>\n",
              "      <td>0</td>\n",
              "      <td>0</td>\n",
              "      <td>0</td>\n",
              "      <td>0</td>\n",
              "      <td>0</td>\n",
              "      <td>0</td>\n",
              "      <td>0</td>\n",
              "      <td>0</td>\n",
              "      <td>0</td>\n",
              "      <td>0</td>\n",
              "      <td>0</td>\n",
              "      <td>0</td>\n",
              "      <td>0</td>\n",
              "      <td>0</td>\n",
              "      <td>...</td>\n",
              "      <td>0</td>\n",
              "      <td>0</td>\n",
              "      <td>0</td>\n",
              "      <td>0</td>\n",
              "      <td>0</td>\n",
              "      <td>0</td>\n",
              "      <td>0</td>\n",
              "      <td>0</td>\n",
              "      <td>0</td>\n",
              "      <td>0</td>\n",
              "      <td>0</td>\n",
              "      <td>0</td>\n",
              "      <td>0</td>\n",
              "      <td>0</td>\n",
              "      <td>0</td>\n",
              "      <td>0</td>\n",
              "      <td>0</td>\n",
              "      <td>0</td>\n",
              "      <td>0</td>\n",
              "      <td>0</td>\n",
              "      <td>0</td>\n",
              "      <td>0</td>\n",
              "      <td>0</td>\n",
              "      <td>0</td>\n",
              "      <td>0</td>\n",
              "      <td>0</td>\n",
              "      <td>0</td>\n",
              "      <td>0</td>\n",
              "      <td>0</td>\n",
              "      <td>0</td>\n",
              "      <td>0</td>\n",
              "      <td>0</td>\n",
              "      <td>0</td>\n",
              "      <td>0</td>\n",
              "      <td>0</td>\n",
              "      <td>0</td>\n",
              "      <td>0</td>\n",
              "      <td>0</td>\n",
              "      <td>0</td>\n",
              "      <td>0</td>\n",
              "    </tr>\n",
              "    <tr>\n",
              "      <th>3</th>\n",
              "      <td>1245343717067829250</td>\n",
              "      <td>1112030120477450240</td>\n",
              "      <td>2020-04-01 13:34:14</td>\n",
              "      <td>humberto_herb</td>\n",
              "      <td>@AndrewHolnessJM #covid19 There are doctors an...</td>\n",
              "      <td>Twitter Web App</td>\n",
              "      <td>False</td>\n",
              "      <td>False</td>\n",
              "      <td>26936</td>\n",
              "      <td>0</td>\n",
              "      <td>country_code NA</td>\n",
              "      <td>place_full_name NA</td>\n",
              "      <td>place_type NA</td>\n",
              "      <td>334</td>\n",
              "      <td>1751</td>\n",
              "      <td>2019-03-30 16:33:36</td>\n",
              "      <td>False</td>\n",
              "      <td>en</td>\n",
              "      <td>1</td>\n",
              "      <td>afternoon</td>\n",
              "      <td>1.43750</td>\n",
              "      <td>0.059896</td>\n",
              "      <td>0</td>\n",
              "      <td>0</td>\n",
              "      <td>0</td>\n",
              "      <td>0</td>\n",
              "      <td>0</td>\n",
              "      <td>0</td>\n",
              "      <td>0</td>\n",
              "      <td>0</td>\n",
              "      <td>0</td>\n",
              "      <td>0</td>\n",
              "      <td>0</td>\n",
              "      <td>0</td>\n",
              "      <td>0</td>\n",
              "      <td>0</td>\n",
              "      <td>0</td>\n",
              "      <td>0</td>\n",
              "      <td>0</td>\n",
              "      <td>0</td>\n",
              "      <td>...</td>\n",
              "      <td>0</td>\n",
              "      <td>0</td>\n",
              "      <td>0</td>\n",
              "      <td>0</td>\n",
              "      <td>0</td>\n",
              "      <td>0</td>\n",
              "      <td>0</td>\n",
              "      <td>0</td>\n",
              "      <td>0</td>\n",
              "      <td>0</td>\n",
              "      <td>0</td>\n",
              "      <td>0</td>\n",
              "      <td>0</td>\n",
              "      <td>0</td>\n",
              "      <td>0</td>\n",
              "      <td>0</td>\n",
              "      <td>0</td>\n",
              "      <td>0</td>\n",
              "      <td>0</td>\n",
              "      <td>0</td>\n",
              "      <td>0</td>\n",
              "      <td>0</td>\n",
              "      <td>0</td>\n",
              "      <td>0</td>\n",
              "      <td>0</td>\n",
              "      <td>0</td>\n",
              "      <td>0</td>\n",
              "      <td>0</td>\n",
              "      <td>0</td>\n",
              "      <td>0</td>\n",
              "      <td>0</td>\n",
              "      <td>0</td>\n",
              "      <td>0</td>\n",
              "      <td>0</td>\n",
              "      <td>0</td>\n",
              "      <td>0</td>\n",
              "      <td>0</td>\n",
              "      <td>0</td>\n",
              "      <td>0</td>\n",
              "      <td>0</td>\n",
              "    </tr>\n",
              "    <tr>\n",
              "      <th>4</th>\n",
              "      <td>1252918702166638592</td>\n",
              "      <td>2346990325</td>\n",
              "      <td>2020-04-22 11:14:31</td>\n",
              "      <td>SikaRudzi</td>\n",
              "      <td>Painful to learn of another #Covid19 related f...</td>\n",
              "      <td>Twitter for Android</td>\n",
              "      <td>True</td>\n",
              "      <td>False</td>\n",
              "      <td>2929</td>\n",
              "      <td>0</td>\n",
              "      <td>country_code NA</td>\n",
              "      <td>place_full_name NA</td>\n",
              "      <td>place_type NA</td>\n",
              "      <td>140</td>\n",
              "      <td>157</td>\n",
              "      <td>2014-02-16 15:02:47</td>\n",
              "      <td>False</td>\n",
              "      <td>en</td>\n",
              "      <td>0</td>\n",
              "      <td>morning</td>\n",
              "      <td>0.09375</td>\n",
              "      <td>0.003906</td>\n",
              "      <td>0</td>\n",
              "      <td>0</td>\n",
              "      <td>0</td>\n",
              "      <td>0</td>\n",
              "      <td>0</td>\n",
              "      <td>0</td>\n",
              "      <td>0</td>\n",
              "      <td>0</td>\n",
              "      <td>0</td>\n",
              "      <td>0</td>\n",
              "      <td>0</td>\n",
              "      <td>0</td>\n",
              "      <td>0</td>\n",
              "      <td>0</td>\n",
              "      <td>0</td>\n",
              "      <td>0</td>\n",
              "      <td>0</td>\n",
              "      <td>0</td>\n",
              "      <td>...</td>\n",
              "      <td>0</td>\n",
              "      <td>0</td>\n",
              "      <td>0</td>\n",
              "      <td>0</td>\n",
              "      <td>0</td>\n",
              "      <td>0</td>\n",
              "      <td>0</td>\n",
              "      <td>0</td>\n",
              "      <td>0</td>\n",
              "      <td>0</td>\n",
              "      <td>0</td>\n",
              "      <td>0</td>\n",
              "      <td>0</td>\n",
              "      <td>0</td>\n",
              "      <td>0</td>\n",
              "      <td>0</td>\n",
              "      <td>0</td>\n",
              "      <td>0</td>\n",
              "      <td>0</td>\n",
              "      <td>0</td>\n",
              "      <td>0</td>\n",
              "      <td>0</td>\n",
              "      <td>0</td>\n",
              "      <td>0</td>\n",
              "      <td>0</td>\n",
              "      <td>0</td>\n",
              "      <td>0</td>\n",
              "      <td>0</td>\n",
              "      <td>0</td>\n",
              "      <td>0</td>\n",
              "      <td>0</td>\n",
              "      <td>0</td>\n",
              "      <td>0</td>\n",
              "      <td>0</td>\n",
              "      <td>0</td>\n",
              "      <td>0</td>\n",
              "      <td>0</td>\n",
              "      <td>0</td>\n",
              "      <td>0</td>\n",
              "      <td>0</td>\n",
              "    </tr>\n",
              "  </tbody>\n",
              "</table>\n",
              "<p>5 rows × 966 columns</p>\n",
              "</div>"
            ],
            "text/plain": [
              "             status_id              user_id  ... t_young t_youtube\n",
              "0  1246317814534647810            279822752  ...       0         0\n",
              "1  1251798223276122112            470036016  ...       0         0\n",
              "2  1244361937581944833            138177160  ...       0         0\n",
              "3  1245343717067829250  1112030120477450240  ...       0         0\n",
              "4  1252918702166638592           2346990325  ...       0         0\n",
              "\n",
              "[5 rows x 966 columns]"
            ]
          },
          "metadata": {}
        },
        {
          "output_type": "stream",
          "name": "stdout",
          "text": [
            "Shape of concatenated tweets_small_sample: (81333, 966)\n"
          ]
        }
      ]
    },
    {
      "cell_type": "markdown",
      "metadata": {
        "id": "B0FnB-9nEM3U"
      },
      "source": [
        "The number of rows is unchanged, as expected. The number of columns is now 966 (22 initial columns + 944 tokens = 966). "
      ]
    },
    {
      "cell_type": "markdown",
      "metadata": {
        "id": "ia_EUHazErBV"
      },
      "source": [
        "### Convert Non-Numeric Columns into Numeric Columns"
      ]
    },
    {
      "cell_type": "code",
      "metadata": {
        "colab": {
          "base_uri": "https://localhost:8080/"
        },
        "id": "ZfbnNViIFszM",
        "outputId": "7c73041e-0d86-4e61-b7eb-83539ff4a62a"
      },
      "source": [
        "tweets_small_sample.info()"
      ],
      "execution_count": 129,
      "outputs": [
        {
          "output_type": "stream",
          "name": "stdout",
          "text": [
            "<class 'pandas.core.frame.DataFrame'>\n",
            "RangeIndex: 81333 entries, 0 to 81332\n",
            "Data columns (total 22 columns):\n",
            " #   Column                    Non-Null Count  Dtype         \n",
            "---  ------                    --------------  -----         \n",
            " 0   status_id                 81333 non-null  object        \n",
            " 1   user_id                   81333 non-null  object        \n",
            " 2   created_at                81333 non-null  datetime64[ns]\n",
            " 3   screen_name               81333 non-null  object        \n",
            " 4   text                      81333 non-null  object        \n",
            " 5   source                    81333 non-null  object        \n",
            " 6   is_quote                  81333 non-null  bool          \n",
            " 7   is_retweet                81333 non-null  bool          \n",
            " 8   favourites_count          81333 non-null  int64         \n",
            " 9   retweet_count             81333 non-null  int64         \n",
            " 10  country_code              81333 non-null  object        \n",
            " 11  place_full_name           81333 non-null  object        \n",
            " 12  place_type                81333 non-null  object        \n",
            " 13  followers_count           81333 non-null  int64         \n",
            " 14  friends_count             81333 non-null  int64         \n",
            " 15  account_created_at        81333 non-null  datetime64[ns]\n",
            " 16  verified                  81333 non-null  bool          \n",
            " 17  lang                      81333 non-null  object        \n",
            " 18  is_reply                  81333 non-null  int64         \n",
            " 19  time_of_day               81333 non-null  object        \n",
            " 20  user_tweet_freq_per_day   81333 non-null  float64       \n",
            " 21  user_tweet_freq_per_hour  81333 non-null  float64       \n",
            "dtypes: bool(3), datetime64[ns](2), float64(2), int64(5), object(10)\n",
            "memory usage: 12.0+ MB\n"
          ]
        }
      ]
    },
    {
      "cell_type": "code",
      "metadata": {
        "colab": {
          "base_uri": "https://localhost:8080/"
        },
        "id": "5HkkHsPQGB5q",
        "outputId": "4cc9fbe6-b1a1-4133-eeed-30c588711745"
      },
      "source": [
        "# number of unique country codes\n",
        "tweets_small_sample_vectorized['country_code'].nunique()"
      ],
      "execution_count": 130,
      "outputs": [
        {
          "output_type": "execute_result",
          "data": {
            "text/plain": [
              "114"
            ]
          },
          "metadata": {},
          "execution_count": 130
        }
      ]
    },
    {
      "cell_type": "code",
      "metadata": {
        "colab": {
          "base_uri": "https://localhost:8080/"
        },
        "id": "SL0GvbjhGGhz",
        "outputId": "34221267-9250-461f-d4b6-b907bec6b439"
      },
      "source": [
        "# number of unique place full names\n",
        "tweets_small_sample_vectorized['place_full_name'].nunique()"
      ],
      "execution_count": 131,
      "outputs": [
        {
          "output_type": "execute_result",
          "data": {
            "text/plain": [
              "1738"
            ]
          },
          "metadata": {},
          "execution_count": 131
        }
      ]
    },
    {
      "cell_type": "code",
      "metadata": {
        "colab": {
          "base_uri": "https://localhost:8080/"
        },
        "id": "XsbzFPNZGPGC",
        "outputId": "701ded6e-14bc-475d-fd68-c2c65f1382c7"
      },
      "source": [
        "# number of unique place types\n",
        "tweets_small_sample_vectorized['place_type'].nunique()"
      ],
      "execution_count": 132,
      "outputs": [
        {
          "output_type": "execute_result",
          "data": {
            "text/plain": [
              "6"
            ]
          },
          "metadata": {},
          "execution_count": 132
        }
      ]
    },
    {
      "cell_type": "markdown",
      "metadata": {
        "id": "5WVkUj01F1XP"
      },
      "source": [
        "We will drop `status_id`, `user_id`, `created_at`, `text`, `place_full_name`, `place_type`, `account_created_at`, and `lang`. These columns are chosen for dropping either because their information is implied in other columns or they would create too many new columns when One Hot Encoded. In the case of `text` column, it has been vectorized, so we can drop it.\n",
        "\n",
        "### Add `account_age` Feature\n",
        "\n",
        "Before dropping `created_at` and `account_created_at`, we can use them to calcualte the age of the account at the time of tweeting. We will add these values to a new column called `account_age`.\n",
        "\n"
      ]
    },
    {
      "cell_type": "code",
      "metadata": {
        "colab": {
          "base_uri": "https://localhost:8080/"
        },
        "id": "MZTiBKc8I7n9",
        "outputId": "a7e0ccd6-ff1f-45e0-a390-c49e8cde4542"
      },
      "source": [
        "# calculate the account age at the time of tweeting\n",
        "account_age = tweets_small_sample['created_at'] - tweets_small_sample['account_created_at']\n",
        "\n",
        "# extract only the days and add them to a new col called account_age\n",
        "tweets_small_sample_vectorized['account_age'] = account_age.dt.days\n",
        "\n",
        "# check\n",
        "tweets_small_sample_vectorized['account_age']"
      ],
      "execution_count": 133,
      "outputs": [
        {
          "output_type": "execute_result",
          "data": {
            "text/plain": [
              "0        3282\n",
              "1        3011\n",
              "2        3622\n",
              "3         367\n",
              "4        2256\n",
              "         ... \n",
              "81328     393\n",
              "81329    2591\n",
              "81330    2736\n",
              "81331    1830\n",
              "81332      10\n",
              "Name: account_age, Length: 81333, dtype: int64"
            ]
          },
          "metadata": {},
          "execution_count": 133
        }
      ]
    },
    {
      "cell_type": "markdown",
      "metadata": {
        "id": "uFizt4GTKPRy"
      },
      "source": [
        "`account_age` feature has been added. \n",
        "\n",
        "We can drop the abovementioned columns."
      ]
    },
    {
      "cell_type": "code",
      "metadata": {
        "id": "qnFXLR4CKbZk"
      },
      "source": [
        "tweets_small_sample_vectorized.drop(columns=['status_id',\n",
        "                                             'user_id',\n",
        "                                             'created_at',\n",
        "                                             'text',\n",
        "                                             'place_full_name',\n",
        "                                             'place_type',\n",
        "                                             'account_created_at',\n",
        "                                             'lang'], axis=1, inplace=True)"
      ],
      "execution_count": 134,
      "outputs": []
    },
    {
      "cell_type": "code",
      "metadata": {
        "colab": {
          "base_uri": "https://localhost:8080/"
        },
        "id": "vYJvlCSqLUZy",
        "outputId": "43ea312c-8da0-453c-ff95-cb838ab0aa7b"
      },
      "source": [
        "# check dtypes\n",
        "tweets_small_sample_vectorized.iloc[:,:20].info()"
      ],
      "execution_count": 135,
      "outputs": [
        {
          "output_type": "stream",
          "name": "stdout",
          "text": [
            "<class 'pandas.core.frame.DataFrame'>\n",
            "RangeIndex: 81333 entries, 0 to 81332\n",
            "Data columns (total 20 columns):\n",
            " #   Column                    Non-Null Count  Dtype  \n",
            "---  ------                    --------------  -----  \n",
            " 0   screen_name               81333 non-null  object \n",
            " 1   source                    81333 non-null  object \n",
            " 2   is_quote                  81333 non-null  bool   \n",
            " 3   is_retweet                81333 non-null  bool   \n",
            " 4   favourites_count          81333 non-null  int64  \n",
            " 5   retweet_count             81333 non-null  int64  \n",
            " 6   country_code              81333 non-null  object \n",
            " 7   followers_count           81333 non-null  int64  \n",
            " 8   friends_count             81333 non-null  int64  \n",
            " 9   verified                  81333 non-null  bool   \n",
            " 10  is_reply                  81333 non-null  int64  \n",
            " 11  time_of_day               81333 non-null  object \n",
            " 12  user_tweet_freq_per_day   81333 non-null  float64\n",
            " 13  user_tweet_freq_per_hour  81333 non-null  float64\n",
            " 14  t_00                      81333 non-null  int64  \n",
            " 15  t_000                     81333 non-null  int64  \n",
            " 16  t_04                      81333 non-null  int64  \n",
            " 17  t_10                      81333 non-null  int64  \n",
            " 18  t_100                     81333 non-null  int64  \n",
            " 19  t_11                      81333 non-null  int64  \n",
            "dtypes: bool(3), float64(2), int64(11), object(4)\n",
            "memory usage: 10.8+ MB\n"
          ]
        }
      ]
    },
    {
      "cell_type": "markdown",
      "metadata": {
        "id": "WRB3szeFL6ku"
      },
      "source": [
        "Before One Hot Encoding the remaining `object` type columns, we will convert the `bool` type columns into `int` type."
      ]
    },
    {
      "cell_type": "code",
      "metadata": {
        "colab": {
          "base_uri": "https://localhost:8080/"
        },
        "id": "neOvVcjyMB6i",
        "outputId": "7fb387c7-0a6f-456a-89a3-754230825520"
      },
      "source": [
        "tweets_small_sample_vectorized['is_quote'] = tweets_small_sample_vectorized['is_quote'].astype(int)\n",
        "tweets_small_sample_vectorized['is_retweet'] = tweets_small_sample_vectorized['is_retweet'].astype(int)\n",
        "tweets_small_sample_vectorized['verified'] =tweets_small_sample_vectorized['verified'].astype(int)\n",
        "\n",
        "# check dtypes\n",
        "tweets_small_sample_vectorized.iloc[:,:20].info()"
      ],
      "execution_count": 136,
      "outputs": [
        {
          "output_type": "stream",
          "name": "stdout",
          "text": [
            "<class 'pandas.core.frame.DataFrame'>\n",
            "RangeIndex: 81333 entries, 0 to 81332\n",
            "Data columns (total 20 columns):\n",
            " #   Column                    Non-Null Count  Dtype  \n",
            "---  ------                    --------------  -----  \n",
            " 0   screen_name               81333 non-null  object \n",
            " 1   source                    81333 non-null  object \n",
            " 2   is_quote                  81333 non-null  int64  \n",
            " 3   is_retweet                81333 non-null  int64  \n",
            " 4   favourites_count          81333 non-null  int64  \n",
            " 5   retweet_count             81333 non-null  int64  \n",
            " 6   country_code              81333 non-null  object \n",
            " 7   followers_count           81333 non-null  int64  \n",
            " 8   friends_count             81333 non-null  int64  \n",
            " 9   verified                  81333 non-null  int64  \n",
            " 10  is_reply                  81333 non-null  int64  \n",
            " 11  time_of_day               81333 non-null  object \n",
            " 12  user_tweet_freq_per_day   81333 non-null  float64\n",
            " 13  user_tweet_freq_per_hour  81333 non-null  float64\n",
            " 14  t_00                      81333 non-null  int64  \n",
            " 15  t_000                     81333 non-null  int64  \n",
            " 16  t_04                      81333 non-null  int64  \n",
            " 17  t_10                      81333 non-null  int64  \n",
            " 18  t_100                     81333 non-null  int64  \n",
            " 19  t_11                      81333 non-null  int64  \n",
            "dtypes: float64(2), int64(14), object(4)\n",
            "memory usage: 12.4+ MB\n"
          ]
        }
      ]
    },
    {
      "cell_type": "markdown",
      "metadata": {
        "id": "wI0fjVdlM7QF"
      },
      "source": [
        "The boolean columns have been converted to `int64` columns."
      ]
    },
    {
      "cell_type": "markdown",
      "metadata": {
        "id": "yopJtn4cNiPh"
      },
      "source": [
        "### One Hot Encoding"
      ]
    },
    {
      "cell_type": "markdown",
      "metadata": {
        "id": "6lnArFwnOOAp"
      },
      "source": [
        "Let's One Hot Encode `screen_name`, `source`, `country_code`, and `time_of_day`."
      ]
    },
    {
      "cell_type": "code",
      "metadata": {
        "id": "6YY_DEKiN3Sz"
      },
      "source": [
        "from sklearn.preprocessing import OneHotEncoder"
      ],
      "execution_count": 137,
      "outputs": []
    },
    {
      "cell_type": "code",
      "metadata": {
        "id": "1mNR4fNCN7Os"
      },
      "source": [
        "# # instantiate one hot encoder\n",
        "# ohe = OneHotEncoder()\n",
        "\n",
        "# # ohe expects a 2D array input\n",
        "# screen_name = pd.DataFrame(tweets_small_sample_vectorized['screen_name'])\n",
        "\n",
        "# # fit and transform\n",
        "# screen_name = ohe.fit_transform(screen_name)\n",
        "# screen_name.shape\n",
        "\n"
      ],
      "execution_count": 138,
      "outputs": []
    },
    {
      "cell_type": "markdown",
      "metadata": {
        "id": "v_aUplGOTefI"
      },
      "source": [
        "66,439 unique screen names have been one hot encoded."
      ]
    },
    {
      "cell_type": "code",
      "metadata": {
        "id": "1JkxuFPOQ5Ed"
      },
      "source": [
        "# screen_name_dense = screen_name.toarray()\n",
        "# screen_name_dense.head()\n",
        "\n",
        "### This code crashed because of memory usage!!"
      ],
      "execution_count": 139,
      "outputs": []
    },
    {
      "cell_type": "markdown",
      "metadata": {
        "id": "o-5X846TSCsO"
      },
      "source": [
        "The kernel crashed while densifying the one hot encoded screen names. It contains more than 66,000 columns, which would undoubtedly put burden on the memory. It may make sense to once again random sample from this sample size.\n",
        "\n",
        "Let's random sample 30% from this sample of 81,333 tweets. This would trim the number of rows down to about 24,400 rows. "
      ]
    },
    {
      "cell_type": "markdown",
      "metadata": {
        "id": "6_h3SmbtTj25"
      },
      "source": [
        "#### Random Sample 30% from tweets_small_sample_vectorized"
      ]
    },
    {
      "cell_type": "code",
      "metadata": {
        "colab": {
          "base_uri": "https://localhost:8080/",
          "height": 393
        },
        "id": "UFZVMAhnTozP",
        "outputId": "79241f50-ad86-4b61-e9b3-1dd1c786b746"
      },
      "source": [
        "tweets_small_sample_vectorized2 = tweets_small_sample_vectorized.sample(frac=0.30, random_state=22)\n",
        "\n",
        "# get shape\n",
        "print(f'Shape of new smaller sample: {tweets_small_sample_vectorized2.shape}')\n",
        "\n",
        "# preview new sample\n",
        "tweets_small_sample_vectorized2.head()"
      ],
      "execution_count": 140,
      "outputs": [
        {
          "output_type": "stream",
          "name": "stdout",
          "text": [
            "Shape of new smaller sample: (24400, 959)\n"
          ]
        },
        {
          "output_type": "execute_result",
          "data": {
            "text/html": [
              "<div>\n",
              "<style scoped>\n",
              "    .dataframe tbody tr th:only-of-type {\n",
              "        vertical-align: middle;\n",
              "    }\n",
              "\n",
              "    .dataframe tbody tr th {\n",
              "        vertical-align: top;\n",
              "    }\n",
              "\n",
              "    .dataframe thead th {\n",
              "        text-align: right;\n",
              "    }\n",
              "</style>\n",
              "<table border=\"1\" class=\"dataframe\">\n",
              "  <thead>\n",
              "    <tr style=\"text-align: right;\">\n",
              "      <th></th>\n",
              "      <th>screen_name</th>\n",
              "      <th>source</th>\n",
              "      <th>is_quote</th>\n",
              "      <th>is_retweet</th>\n",
              "      <th>favourites_count</th>\n",
              "      <th>retweet_count</th>\n",
              "      <th>country_code</th>\n",
              "      <th>followers_count</th>\n",
              "      <th>friends_count</th>\n",
              "      <th>verified</th>\n",
              "      <th>is_reply</th>\n",
              "      <th>time_of_day</th>\n",
              "      <th>user_tweet_freq_per_day</th>\n",
              "      <th>user_tweet_freq_per_hour</th>\n",
              "      <th>t_00</th>\n",
              "      <th>t_000</th>\n",
              "      <th>t_04</th>\n",
              "      <th>t_10</th>\n",
              "      <th>t_100</th>\n",
              "      <th>t_11</th>\n",
              "      <th>t_12</th>\n",
              "      <th>t_13</th>\n",
              "      <th>t_14</th>\n",
              "      <th>t_15</th>\n",
              "      <th>t_16</th>\n",
              "      <th>t_17</th>\n",
              "      <th>t_18</th>\n",
              "      <th>t_19</th>\n",
              "      <th>t_1st</th>\n",
              "      <th>t_20</th>\n",
              "      <th>t_200</th>\n",
              "      <th>t_2019</th>\n",
              "      <th>t_2020</th>\n",
              "      <th>t_21</th>\n",
              "      <th>t_22</th>\n",
              "      <th>t_23</th>\n",
              "      <th>t_24</th>\n",
              "      <th>t_25</th>\n",
              "      <th>t_26</th>\n",
              "      <th>t_27</th>\n",
              "      <th>...</th>\n",
              "      <th>t_water</th>\n",
              "      <th>t_way</th>\n",
              "      <th>t_ways</th>\n",
              "      <th>t_wear</th>\n",
              "      <th>t_wearing</th>\n",
              "      <th>t_webinar</th>\n",
              "      <th>t_website</th>\n",
              "      <th>t_week</th>\n",
              "      <th>t_weekend</th>\n",
              "      <th>t_weeks</th>\n",
              "      <th>t_went</th>\n",
              "      <th>t_white</th>\n",
              "      <th>t_whitehouse</th>\n",
              "      <th>t_win</th>\n",
              "      <th>t_wish</th>\n",
              "      <th>t_woman</th>\n",
              "      <th>t_women</th>\n",
              "      <th>t_won</th>\n",
              "      <th>t_wonder</th>\n",
              "      <th>t_word</th>\n",
              "      <th>t_words</th>\n",
              "      <th>t_work</th>\n",
              "      <th>t_workers</th>\n",
              "      <th>t_working</th>\n",
              "      <th>t_works</th>\n",
              "      <th>t_world</th>\n",
              "      <th>t_worldwide</th>\n",
              "      <th>t_worse</th>\n",
              "      <th>t_worst</th>\n",
              "      <th>t_worth</th>\n",
              "      <th>t_wrong</th>\n",
              "      <th>t_wuhan</th>\n",
              "      <th>t_year</th>\n",
              "      <th>t_years</th>\n",
              "      <th>t_yes</th>\n",
              "      <th>t_yesterday</th>\n",
              "      <th>t_york</th>\n",
              "      <th>t_young</th>\n",
              "      <th>t_youtube</th>\n",
              "      <th>account_age</th>\n",
              "    </tr>\n",
              "  </thead>\n",
              "  <tbody>\n",
              "    <tr>\n",
              "      <th>30352</th>\n",
              "      <td>TrumpTruth_2020</td>\n",
              "      <td>Twitter Web App</td>\n",
              "      <td>0</td>\n",
              "      <td>0</td>\n",
              "      <td>14</td>\n",
              "      <td>0</td>\n",
              "      <td>country_code NA</td>\n",
              "      <td>1136</td>\n",
              "      <td>1226</td>\n",
              "      <td>0</td>\n",
              "      <td>1</td>\n",
              "      <td>early morning</td>\n",
              "      <td>0.06250</td>\n",
              "      <td>0.002604</td>\n",
              "      <td>0</td>\n",
              "      <td>0</td>\n",
              "      <td>0</td>\n",
              "      <td>0</td>\n",
              "      <td>0</td>\n",
              "      <td>0</td>\n",
              "      <td>0</td>\n",
              "      <td>0</td>\n",
              "      <td>0</td>\n",
              "      <td>0</td>\n",
              "      <td>0</td>\n",
              "      <td>0</td>\n",
              "      <td>0</td>\n",
              "      <td>0</td>\n",
              "      <td>0</td>\n",
              "      <td>0</td>\n",
              "      <td>0</td>\n",
              "      <td>0</td>\n",
              "      <td>0</td>\n",
              "      <td>0</td>\n",
              "      <td>0</td>\n",
              "      <td>0</td>\n",
              "      <td>0</td>\n",
              "      <td>0</td>\n",
              "      <td>0</td>\n",
              "      <td>0</td>\n",
              "      <td>...</td>\n",
              "      <td>0</td>\n",
              "      <td>0</td>\n",
              "      <td>0</td>\n",
              "      <td>0</td>\n",
              "      <td>0</td>\n",
              "      <td>0</td>\n",
              "      <td>0</td>\n",
              "      <td>0</td>\n",
              "      <td>0</td>\n",
              "      <td>0</td>\n",
              "      <td>0</td>\n",
              "      <td>0</td>\n",
              "      <td>0</td>\n",
              "      <td>0</td>\n",
              "      <td>0</td>\n",
              "      <td>0</td>\n",
              "      <td>0</td>\n",
              "      <td>0</td>\n",
              "      <td>0</td>\n",
              "      <td>0</td>\n",
              "      <td>0</td>\n",
              "      <td>0</td>\n",
              "      <td>0</td>\n",
              "      <td>0</td>\n",
              "      <td>0</td>\n",
              "      <td>0</td>\n",
              "      <td>0</td>\n",
              "      <td>0</td>\n",
              "      <td>0</td>\n",
              "      <td>0</td>\n",
              "      <td>0</td>\n",
              "      <td>0</td>\n",
              "      <td>0</td>\n",
              "      <td>0</td>\n",
              "      <td>0</td>\n",
              "      <td>0</td>\n",
              "      <td>0</td>\n",
              "      <td>0</td>\n",
              "      <td>0</td>\n",
              "      <td>913</td>\n",
              "    </tr>\n",
              "    <tr>\n",
              "      <th>21145</th>\n",
              "      <td>issafrica</td>\n",
              "      <td>Hootsuite Inc.</td>\n",
              "      <td>0</td>\n",
              "      <td>0</td>\n",
              "      <td>8</td>\n",
              "      <td>0</td>\n",
              "      <td>country_code NA</td>\n",
              "      <td>30480</td>\n",
              "      <td>167</td>\n",
              "      <td>1</td>\n",
              "      <td>0</td>\n",
              "      <td>early morning</td>\n",
              "      <td>4.96875</td>\n",
              "      <td>0.207031</td>\n",
              "      <td>0</td>\n",
              "      <td>0</td>\n",
              "      <td>0</td>\n",
              "      <td>0</td>\n",
              "      <td>0</td>\n",
              "      <td>0</td>\n",
              "      <td>0</td>\n",
              "      <td>0</td>\n",
              "      <td>0</td>\n",
              "      <td>0</td>\n",
              "      <td>0</td>\n",
              "      <td>0</td>\n",
              "      <td>0</td>\n",
              "      <td>0</td>\n",
              "      <td>0</td>\n",
              "      <td>0</td>\n",
              "      <td>0</td>\n",
              "      <td>0</td>\n",
              "      <td>0</td>\n",
              "      <td>0</td>\n",
              "      <td>0</td>\n",
              "      <td>0</td>\n",
              "      <td>0</td>\n",
              "      <td>0</td>\n",
              "      <td>0</td>\n",
              "      <td>0</td>\n",
              "      <td>...</td>\n",
              "      <td>0</td>\n",
              "      <td>0</td>\n",
              "      <td>0</td>\n",
              "      <td>0</td>\n",
              "      <td>0</td>\n",
              "      <td>0</td>\n",
              "      <td>0</td>\n",
              "      <td>0</td>\n",
              "      <td>0</td>\n",
              "      <td>0</td>\n",
              "      <td>0</td>\n",
              "      <td>0</td>\n",
              "      <td>0</td>\n",
              "      <td>0</td>\n",
              "      <td>0</td>\n",
              "      <td>0</td>\n",
              "      <td>0</td>\n",
              "      <td>0</td>\n",
              "      <td>0</td>\n",
              "      <td>0</td>\n",
              "      <td>0</td>\n",
              "      <td>0</td>\n",
              "      <td>0</td>\n",
              "      <td>0</td>\n",
              "      <td>0</td>\n",
              "      <td>0</td>\n",
              "      <td>0</td>\n",
              "      <td>0</td>\n",
              "      <td>0</td>\n",
              "      <td>0</td>\n",
              "      <td>0</td>\n",
              "      <td>0</td>\n",
              "      <td>0</td>\n",
              "      <td>0</td>\n",
              "      <td>0</td>\n",
              "      <td>0</td>\n",
              "      <td>0</td>\n",
              "      <td>0</td>\n",
              "      <td>0</td>\n",
              "      <td>3918</td>\n",
              "    </tr>\n",
              "    <tr>\n",
              "      <th>56075</th>\n",
              "      <td>MeghaaGhosh</td>\n",
              "      <td>Twitter for Android</td>\n",
              "      <td>0</td>\n",
              "      <td>0</td>\n",
              "      <td>5103</td>\n",
              "      <td>0</td>\n",
              "      <td>country_code NA</td>\n",
              "      <td>8413</td>\n",
              "      <td>424</td>\n",
              "      <td>0</td>\n",
              "      <td>0</td>\n",
              "      <td>afternoon</td>\n",
              "      <td>0.37500</td>\n",
              "      <td>0.015625</td>\n",
              "      <td>0</td>\n",
              "      <td>0</td>\n",
              "      <td>0</td>\n",
              "      <td>0</td>\n",
              "      <td>0</td>\n",
              "      <td>0</td>\n",
              "      <td>0</td>\n",
              "      <td>0</td>\n",
              "      <td>0</td>\n",
              "      <td>0</td>\n",
              "      <td>0</td>\n",
              "      <td>0</td>\n",
              "      <td>0</td>\n",
              "      <td>0</td>\n",
              "      <td>0</td>\n",
              "      <td>0</td>\n",
              "      <td>0</td>\n",
              "      <td>0</td>\n",
              "      <td>0</td>\n",
              "      <td>0</td>\n",
              "      <td>0</td>\n",
              "      <td>0</td>\n",
              "      <td>0</td>\n",
              "      <td>0</td>\n",
              "      <td>0</td>\n",
              "      <td>0</td>\n",
              "      <td>...</td>\n",
              "      <td>0</td>\n",
              "      <td>0</td>\n",
              "      <td>0</td>\n",
              "      <td>0</td>\n",
              "      <td>0</td>\n",
              "      <td>0</td>\n",
              "      <td>0</td>\n",
              "      <td>0</td>\n",
              "      <td>0</td>\n",
              "      <td>0</td>\n",
              "      <td>0</td>\n",
              "      <td>0</td>\n",
              "      <td>0</td>\n",
              "      <td>0</td>\n",
              "      <td>0</td>\n",
              "      <td>0</td>\n",
              "      <td>0</td>\n",
              "      <td>0</td>\n",
              "      <td>0</td>\n",
              "      <td>0</td>\n",
              "      <td>0</td>\n",
              "      <td>0</td>\n",
              "      <td>0</td>\n",
              "      <td>0</td>\n",
              "      <td>0</td>\n",
              "      <td>0</td>\n",
              "      <td>0</td>\n",
              "      <td>0</td>\n",
              "      <td>0</td>\n",
              "      <td>0</td>\n",
              "      <td>0</td>\n",
              "      <td>0</td>\n",
              "      <td>0</td>\n",
              "      <td>0</td>\n",
              "      <td>0</td>\n",
              "      <td>0</td>\n",
              "      <td>0</td>\n",
              "      <td>0</td>\n",
              "      <td>0</td>\n",
              "      <td>3928</td>\n",
              "    </tr>\n",
              "    <tr>\n",
              "      <th>14884</th>\n",
              "      <td>khotsohlangus</td>\n",
              "      <td>Twitter for Android</td>\n",
              "      <td>0</td>\n",
              "      <td>0</td>\n",
              "      <td>607</td>\n",
              "      <td>0</td>\n",
              "      <td>ZA</td>\n",
              "      <td>77</td>\n",
              "      <td>483</td>\n",
              "      <td>0</td>\n",
              "      <td>0</td>\n",
              "      <td>afternoon</td>\n",
              "      <td>0.03125</td>\n",
              "      <td>0.001302</td>\n",
              "      <td>0</td>\n",
              "      <td>0</td>\n",
              "      <td>0</td>\n",
              "      <td>0</td>\n",
              "      <td>0</td>\n",
              "      <td>0</td>\n",
              "      <td>0</td>\n",
              "      <td>0</td>\n",
              "      <td>0</td>\n",
              "      <td>0</td>\n",
              "      <td>0</td>\n",
              "      <td>0</td>\n",
              "      <td>0</td>\n",
              "      <td>0</td>\n",
              "      <td>0</td>\n",
              "      <td>0</td>\n",
              "      <td>0</td>\n",
              "      <td>0</td>\n",
              "      <td>0</td>\n",
              "      <td>0</td>\n",
              "      <td>0</td>\n",
              "      <td>0</td>\n",
              "      <td>0</td>\n",
              "      <td>0</td>\n",
              "      <td>0</td>\n",
              "      <td>0</td>\n",
              "      <td>...</td>\n",
              "      <td>0</td>\n",
              "      <td>0</td>\n",
              "      <td>0</td>\n",
              "      <td>0</td>\n",
              "      <td>0</td>\n",
              "      <td>0</td>\n",
              "      <td>0</td>\n",
              "      <td>0</td>\n",
              "      <td>0</td>\n",
              "      <td>0</td>\n",
              "      <td>0</td>\n",
              "      <td>0</td>\n",
              "      <td>0</td>\n",
              "      <td>0</td>\n",
              "      <td>0</td>\n",
              "      <td>0</td>\n",
              "      <td>0</td>\n",
              "      <td>0</td>\n",
              "      <td>0</td>\n",
              "      <td>0</td>\n",
              "      <td>0</td>\n",
              "      <td>0</td>\n",
              "      <td>0</td>\n",
              "      <td>0</td>\n",
              "      <td>0</td>\n",
              "      <td>0</td>\n",
              "      <td>0</td>\n",
              "      <td>0</td>\n",
              "      <td>0</td>\n",
              "      <td>0</td>\n",
              "      <td>0</td>\n",
              "      <td>0</td>\n",
              "      <td>0</td>\n",
              "      <td>0</td>\n",
              "      <td>2</td>\n",
              "      <td>0</td>\n",
              "      <td>0</td>\n",
              "      <td>0</td>\n",
              "      <td>0</td>\n",
              "      <td>2748</td>\n",
              "    </tr>\n",
              "    <tr>\n",
              "      <th>61488</th>\n",
              "      <td>AlArabiya_Eng</td>\n",
              "      <td>Sprinklr</td>\n",
              "      <td>0</td>\n",
              "      <td>0</td>\n",
              "      <td>0</td>\n",
              "      <td>2</td>\n",
              "      <td>country_code NA</td>\n",
              "      <td>833027</td>\n",
              "      <td>40</td>\n",
              "      <td>1</td>\n",
              "      <td>0</td>\n",
              "      <td>evening</td>\n",
              "      <td>74.71875</td>\n",
              "      <td>3.113281</td>\n",
              "      <td>0</td>\n",
              "      <td>0</td>\n",
              "      <td>0</td>\n",
              "      <td>0</td>\n",
              "      <td>0</td>\n",
              "      <td>0</td>\n",
              "      <td>0</td>\n",
              "      <td>0</td>\n",
              "      <td>0</td>\n",
              "      <td>0</td>\n",
              "      <td>0</td>\n",
              "      <td>0</td>\n",
              "      <td>0</td>\n",
              "      <td>0</td>\n",
              "      <td>0</td>\n",
              "      <td>0</td>\n",
              "      <td>0</td>\n",
              "      <td>0</td>\n",
              "      <td>0</td>\n",
              "      <td>0</td>\n",
              "      <td>0</td>\n",
              "      <td>0</td>\n",
              "      <td>0</td>\n",
              "      <td>0</td>\n",
              "      <td>0</td>\n",
              "      <td>0</td>\n",
              "      <td>...</td>\n",
              "      <td>0</td>\n",
              "      <td>0</td>\n",
              "      <td>0</td>\n",
              "      <td>0</td>\n",
              "      <td>0</td>\n",
              "      <td>0</td>\n",
              "      <td>0</td>\n",
              "      <td>0</td>\n",
              "      <td>0</td>\n",
              "      <td>0</td>\n",
              "      <td>0</td>\n",
              "      <td>0</td>\n",
              "      <td>0</td>\n",
              "      <td>0</td>\n",
              "      <td>0</td>\n",
              "      <td>0</td>\n",
              "      <td>0</td>\n",
              "      <td>0</td>\n",
              "      <td>0</td>\n",
              "      <td>0</td>\n",
              "      <td>0</td>\n",
              "      <td>0</td>\n",
              "      <td>0</td>\n",
              "      <td>0</td>\n",
              "      <td>0</td>\n",
              "      <td>0</td>\n",
              "      <td>0</td>\n",
              "      <td>0</td>\n",
              "      <td>0</td>\n",
              "      <td>0</td>\n",
              "      <td>0</td>\n",
              "      <td>0</td>\n",
              "      <td>0</td>\n",
              "      <td>0</td>\n",
              "      <td>0</td>\n",
              "      <td>0</td>\n",
              "      <td>0</td>\n",
              "      <td>0</td>\n",
              "      <td>0</td>\n",
              "      <td>4069</td>\n",
              "    </tr>\n",
              "  </tbody>\n",
              "</table>\n",
              "<p>5 rows × 959 columns</p>\n",
              "</div>"
            ],
            "text/plain": [
              "           screen_name               source  ...  t_youtube  account_age\n",
              "30352  TrumpTruth_2020      Twitter Web App  ...          0          913\n",
              "21145        issafrica       Hootsuite Inc.  ...          0         3918\n",
              "56075      MeghaaGhosh  Twitter for Android  ...          0         3928\n",
              "14884    khotsohlangus  Twitter for Android  ...          0         2748\n",
              "61488    AlArabiya_Eng             Sprinklr  ...          0         4069\n",
              "\n",
              "[5 rows x 959 columns]"
            ]
          },
          "metadata": {},
          "execution_count": 140
        }
      ]
    },
    {
      "cell_type": "markdown",
      "metadata": {
        "id": "pAzevud4je_2"
      },
      "source": [
        "This sample has 24,400 rows and 959 columns. Let's reset the indices before proceeding."
      ]
    },
    {
      "cell_type": "code",
      "metadata": {
        "id": "tmJdhtO4jnZe"
      },
      "source": [
        "tweets_small_sample_vectorized2.reset_index(drop=True, inplace=True)"
      ],
      "execution_count": 141,
      "outputs": []
    },
    {
      "cell_type": "code",
      "metadata": {
        "colab": {
          "base_uri": "https://localhost:8080/",
          "height": 341
        },
        "id": "UKHIZ3tYjtfT",
        "outputId": "924c7b23-5ffe-4900-fbc7-207fa0306c67"
      },
      "source": [
        "# check index\n",
        "tweets_small_sample_vectorized2.tail()"
      ],
      "execution_count": 142,
      "outputs": [
        {
          "output_type": "execute_result",
          "data": {
            "text/html": [
              "<div>\n",
              "<style scoped>\n",
              "    .dataframe tbody tr th:only-of-type {\n",
              "        vertical-align: middle;\n",
              "    }\n",
              "\n",
              "    .dataframe tbody tr th {\n",
              "        vertical-align: top;\n",
              "    }\n",
              "\n",
              "    .dataframe thead th {\n",
              "        text-align: right;\n",
              "    }\n",
              "</style>\n",
              "<table border=\"1\" class=\"dataframe\">\n",
              "  <thead>\n",
              "    <tr style=\"text-align: right;\">\n",
              "      <th></th>\n",
              "      <th>screen_name</th>\n",
              "      <th>source</th>\n",
              "      <th>is_quote</th>\n",
              "      <th>is_retweet</th>\n",
              "      <th>favourites_count</th>\n",
              "      <th>retweet_count</th>\n",
              "      <th>country_code</th>\n",
              "      <th>followers_count</th>\n",
              "      <th>friends_count</th>\n",
              "      <th>verified</th>\n",
              "      <th>is_reply</th>\n",
              "      <th>time_of_day</th>\n",
              "      <th>user_tweet_freq_per_day</th>\n",
              "      <th>user_tweet_freq_per_hour</th>\n",
              "      <th>t_00</th>\n",
              "      <th>t_000</th>\n",
              "      <th>t_04</th>\n",
              "      <th>t_10</th>\n",
              "      <th>t_100</th>\n",
              "      <th>t_11</th>\n",
              "      <th>t_12</th>\n",
              "      <th>t_13</th>\n",
              "      <th>t_14</th>\n",
              "      <th>t_15</th>\n",
              "      <th>t_16</th>\n",
              "      <th>t_17</th>\n",
              "      <th>t_18</th>\n",
              "      <th>t_19</th>\n",
              "      <th>t_1st</th>\n",
              "      <th>t_20</th>\n",
              "      <th>t_200</th>\n",
              "      <th>t_2019</th>\n",
              "      <th>t_2020</th>\n",
              "      <th>t_21</th>\n",
              "      <th>t_22</th>\n",
              "      <th>t_23</th>\n",
              "      <th>t_24</th>\n",
              "      <th>t_25</th>\n",
              "      <th>t_26</th>\n",
              "      <th>t_27</th>\n",
              "      <th>...</th>\n",
              "      <th>t_water</th>\n",
              "      <th>t_way</th>\n",
              "      <th>t_ways</th>\n",
              "      <th>t_wear</th>\n",
              "      <th>t_wearing</th>\n",
              "      <th>t_webinar</th>\n",
              "      <th>t_website</th>\n",
              "      <th>t_week</th>\n",
              "      <th>t_weekend</th>\n",
              "      <th>t_weeks</th>\n",
              "      <th>t_went</th>\n",
              "      <th>t_white</th>\n",
              "      <th>t_whitehouse</th>\n",
              "      <th>t_win</th>\n",
              "      <th>t_wish</th>\n",
              "      <th>t_woman</th>\n",
              "      <th>t_women</th>\n",
              "      <th>t_won</th>\n",
              "      <th>t_wonder</th>\n",
              "      <th>t_word</th>\n",
              "      <th>t_words</th>\n",
              "      <th>t_work</th>\n",
              "      <th>t_workers</th>\n",
              "      <th>t_working</th>\n",
              "      <th>t_works</th>\n",
              "      <th>t_world</th>\n",
              "      <th>t_worldwide</th>\n",
              "      <th>t_worse</th>\n",
              "      <th>t_worst</th>\n",
              "      <th>t_worth</th>\n",
              "      <th>t_wrong</th>\n",
              "      <th>t_wuhan</th>\n",
              "      <th>t_year</th>\n",
              "      <th>t_years</th>\n",
              "      <th>t_yes</th>\n",
              "      <th>t_yesterday</th>\n",
              "      <th>t_york</th>\n",
              "      <th>t_young</th>\n",
              "      <th>t_youtube</th>\n",
              "      <th>account_age</th>\n",
              "    </tr>\n",
              "  </thead>\n",
              "  <tbody>\n",
              "    <tr>\n",
              "      <th>24395</th>\n",
              "      <td>cmaconthehill</td>\n",
              "      <td>Twitter Web App</td>\n",
              "      <td>0</td>\n",
              "      <td>0</td>\n",
              "      <td>1181</td>\n",
              "      <td>1</td>\n",
              "      <td>country_code NA</td>\n",
              "      <td>12463</td>\n",
              "      <td>2960</td>\n",
              "      <td>1</td>\n",
              "      <td>1</td>\n",
              "      <td>afternoon</td>\n",
              "      <td>7.59375</td>\n",
              "      <td>0.316406</td>\n",
              "      <td>0</td>\n",
              "      <td>0</td>\n",
              "      <td>0</td>\n",
              "      <td>0</td>\n",
              "      <td>0</td>\n",
              "      <td>0</td>\n",
              "      <td>0</td>\n",
              "      <td>0</td>\n",
              "      <td>0</td>\n",
              "      <td>0</td>\n",
              "      <td>0</td>\n",
              "      <td>0</td>\n",
              "      <td>0</td>\n",
              "      <td>0</td>\n",
              "      <td>0</td>\n",
              "      <td>0</td>\n",
              "      <td>0</td>\n",
              "      <td>0</td>\n",
              "      <td>0</td>\n",
              "      <td>0</td>\n",
              "      <td>0</td>\n",
              "      <td>0</td>\n",
              "      <td>0</td>\n",
              "      <td>0</td>\n",
              "      <td>0</td>\n",
              "      <td>0</td>\n",
              "      <td>...</td>\n",
              "      <td>0</td>\n",
              "      <td>0</td>\n",
              "      <td>0</td>\n",
              "      <td>0</td>\n",
              "      <td>0</td>\n",
              "      <td>0</td>\n",
              "      <td>0</td>\n",
              "      <td>0</td>\n",
              "      <td>0</td>\n",
              "      <td>0</td>\n",
              "      <td>0</td>\n",
              "      <td>0</td>\n",
              "      <td>0</td>\n",
              "      <td>0</td>\n",
              "      <td>0</td>\n",
              "      <td>0</td>\n",
              "      <td>0</td>\n",
              "      <td>0</td>\n",
              "      <td>0</td>\n",
              "      <td>0</td>\n",
              "      <td>0</td>\n",
              "      <td>0</td>\n",
              "      <td>0</td>\n",
              "      <td>0</td>\n",
              "      <td>0</td>\n",
              "      <td>0</td>\n",
              "      <td>0</td>\n",
              "      <td>0</td>\n",
              "      <td>0</td>\n",
              "      <td>0</td>\n",
              "      <td>0</td>\n",
              "      <td>0</td>\n",
              "      <td>0</td>\n",
              "      <td>0</td>\n",
              "      <td>0</td>\n",
              "      <td>0</td>\n",
              "      <td>0</td>\n",
              "      <td>0</td>\n",
              "      <td>0</td>\n",
              "      <td>3344</td>\n",
              "    </tr>\n",
              "    <tr>\n",
              "      <th>24396</th>\n",
              "      <td>Martin_Stillman</td>\n",
              "      <td>Twitter for iPhone</td>\n",
              "      <td>0</td>\n",
              "      <td>0</td>\n",
              "      <td>10</td>\n",
              "      <td>0</td>\n",
              "      <td>AU</td>\n",
              "      <td>410</td>\n",
              "      <td>383</td>\n",
              "      <td>0</td>\n",
              "      <td>0</td>\n",
              "      <td>morning</td>\n",
              "      <td>0.31250</td>\n",
              "      <td>0.013021</td>\n",
              "      <td>0</td>\n",
              "      <td>0</td>\n",
              "      <td>0</td>\n",
              "      <td>0</td>\n",
              "      <td>0</td>\n",
              "      <td>0</td>\n",
              "      <td>0</td>\n",
              "      <td>0</td>\n",
              "      <td>0</td>\n",
              "      <td>0</td>\n",
              "      <td>0</td>\n",
              "      <td>0</td>\n",
              "      <td>0</td>\n",
              "      <td>0</td>\n",
              "      <td>0</td>\n",
              "      <td>0</td>\n",
              "      <td>0</td>\n",
              "      <td>0</td>\n",
              "      <td>0</td>\n",
              "      <td>0</td>\n",
              "      <td>0</td>\n",
              "      <td>0</td>\n",
              "      <td>0</td>\n",
              "      <td>0</td>\n",
              "      <td>0</td>\n",
              "      <td>0</td>\n",
              "      <td>...</td>\n",
              "      <td>0</td>\n",
              "      <td>0</td>\n",
              "      <td>0</td>\n",
              "      <td>0</td>\n",
              "      <td>0</td>\n",
              "      <td>0</td>\n",
              "      <td>0</td>\n",
              "      <td>0</td>\n",
              "      <td>0</td>\n",
              "      <td>0</td>\n",
              "      <td>0</td>\n",
              "      <td>0</td>\n",
              "      <td>0</td>\n",
              "      <td>0</td>\n",
              "      <td>0</td>\n",
              "      <td>0</td>\n",
              "      <td>0</td>\n",
              "      <td>0</td>\n",
              "      <td>0</td>\n",
              "      <td>0</td>\n",
              "      <td>0</td>\n",
              "      <td>0</td>\n",
              "      <td>0</td>\n",
              "      <td>0</td>\n",
              "      <td>0</td>\n",
              "      <td>0</td>\n",
              "      <td>0</td>\n",
              "      <td>0</td>\n",
              "      <td>0</td>\n",
              "      <td>0</td>\n",
              "      <td>0</td>\n",
              "      <td>0</td>\n",
              "      <td>0</td>\n",
              "      <td>0</td>\n",
              "      <td>0</td>\n",
              "      <td>0</td>\n",
              "      <td>0</td>\n",
              "      <td>0</td>\n",
              "      <td>0</td>\n",
              "      <td>2787</td>\n",
              "    </tr>\n",
              "    <tr>\n",
              "      <th>24397</th>\n",
              "      <td>NovemberMan_11</td>\n",
              "      <td>Twitter Web App</td>\n",
              "      <td>0</td>\n",
              "      <td>0</td>\n",
              "      <td>149</td>\n",
              "      <td>0</td>\n",
              "      <td>country_code NA</td>\n",
              "      <td>20</td>\n",
              "      <td>244</td>\n",
              "      <td>0</td>\n",
              "      <td>1</td>\n",
              "      <td>evening</td>\n",
              "      <td>0.12500</td>\n",
              "      <td>0.005208</td>\n",
              "      <td>0</td>\n",
              "      <td>0</td>\n",
              "      <td>0</td>\n",
              "      <td>0</td>\n",
              "      <td>0</td>\n",
              "      <td>0</td>\n",
              "      <td>0</td>\n",
              "      <td>0</td>\n",
              "      <td>0</td>\n",
              "      <td>0</td>\n",
              "      <td>0</td>\n",
              "      <td>0</td>\n",
              "      <td>0</td>\n",
              "      <td>0</td>\n",
              "      <td>0</td>\n",
              "      <td>0</td>\n",
              "      <td>0</td>\n",
              "      <td>0</td>\n",
              "      <td>0</td>\n",
              "      <td>0</td>\n",
              "      <td>0</td>\n",
              "      <td>0</td>\n",
              "      <td>0</td>\n",
              "      <td>0</td>\n",
              "      <td>0</td>\n",
              "      <td>0</td>\n",
              "      <td>...</td>\n",
              "      <td>0</td>\n",
              "      <td>0</td>\n",
              "      <td>0</td>\n",
              "      <td>0</td>\n",
              "      <td>0</td>\n",
              "      <td>0</td>\n",
              "      <td>0</td>\n",
              "      <td>0</td>\n",
              "      <td>0</td>\n",
              "      <td>0</td>\n",
              "      <td>0</td>\n",
              "      <td>0</td>\n",
              "      <td>0</td>\n",
              "      <td>0</td>\n",
              "      <td>0</td>\n",
              "      <td>0</td>\n",
              "      <td>0</td>\n",
              "      <td>0</td>\n",
              "      <td>0</td>\n",
              "      <td>0</td>\n",
              "      <td>0</td>\n",
              "      <td>0</td>\n",
              "      <td>0</td>\n",
              "      <td>0</td>\n",
              "      <td>0</td>\n",
              "      <td>0</td>\n",
              "      <td>0</td>\n",
              "      <td>0</td>\n",
              "      <td>0</td>\n",
              "      <td>0</td>\n",
              "      <td>0</td>\n",
              "      <td>0</td>\n",
              "      <td>0</td>\n",
              "      <td>0</td>\n",
              "      <td>0</td>\n",
              "      <td>0</td>\n",
              "      <td>0</td>\n",
              "      <td>0</td>\n",
              "      <td>0</td>\n",
              "      <td>1714</td>\n",
              "    </tr>\n",
              "    <tr>\n",
              "      <th>24398</th>\n",
              "      <td>Epilepsy_2020</td>\n",
              "      <td>Twitter Web App</td>\n",
              "      <td>0</td>\n",
              "      <td>0</td>\n",
              "      <td>170</td>\n",
              "      <td>1</td>\n",
              "      <td>country_code NA</td>\n",
              "      <td>409</td>\n",
              "      <td>801</td>\n",
              "      <td>0</td>\n",
              "      <td>0</td>\n",
              "      <td>morning</td>\n",
              "      <td>0.34375</td>\n",
              "      <td>0.014323</td>\n",
              "      <td>0</td>\n",
              "      <td>0</td>\n",
              "      <td>0</td>\n",
              "      <td>0</td>\n",
              "      <td>0</td>\n",
              "      <td>0</td>\n",
              "      <td>0</td>\n",
              "      <td>0</td>\n",
              "      <td>0</td>\n",
              "      <td>0</td>\n",
              "      <td>0</td>\n",
              "      <td>0</td>\n",
              "      <td>0</td>\n",
              "      <td>0</td>\n",
              "      <td>0</td>\n",
              "      <td>0</td>\n",
              "      <td>0</td>\n",
              "      <td>0</td>\n",
              "      <td>2</td>\n",
              "      <td>1</td>\n",
              "      <td>1</td>\n",
              "      <td>0</td>\n",
              "      <td>0</td>\n",
              "      <td>0</td>\n",
              "      <td>0</td>\n",
              "      <td>0</td>\n",
              "      <td>...</td>\n",
              "      <td>0</td>\n",
              "      <td>0</td>\n",
              "      <td>0</td>\n",
              "      <td>0</td>\n",
              "      <td>0</td>\n",
              "      <td>0</td>\n",
              "      <td>0</td>\n",
              "      <td>0</td>\n",
              "      <td>0</td>\n",
              "      <td>0</td>\n",
              "      <td>0</td>\n",
              "      <td>0</td>\n",
              "      <td>0</td>\n",
              "      <td>0</td>\n",
              "      <td>0</td>\n",
              "      <td>0</td>\n",
              "      <td>0</td>\n",
              "      <td>0</td>\n",
              "      <td>0</td>\n",
              "      <td>0</td>\n",
              "      <td>0</td>\n",
              "      <td>0</td>\n",
              "      <td>0</td>\n",
              "      <td>0</td>\n",
              "      <td>0</td>\n",
              "      <td>0</td>\n",
              "      <td>0</td>\n",
              "      <td>0</td>\n",
              "      <td>0</td>\n",
              "      <td>0</td>\n",
              "      <td>0</td>\n",
              "      <td>0</td>\n",
              "      <td>0</td>\n",
              "      <td>0</td>\n",
              "      <td>0</td>\n",
              "      <td>0</td>\n",
              "      <td>0</td>\n",
              "      <td>0</td>\n",
              "      <td>0</td>\n",
              "      <td>933</td>\n",
              "    </tr>\n",
              "    <tr>\n",
              "      <th>24399</th>\n",
              "      <td>NASCIO</td>\n",
              "      <td>TweetDeck</td>\n",
              "      <td>0</td>\n",
              "      <td>0</td>\n",
              "      <td>6241</td>\n",
              "      <td>0</td>\n",
              "      <td>country_code NA</td>\n",
              "      <td>6954</td>\n",
              "      <td>630</td>\n",
              "      <td>0</td>\n",
              "      <td>0</td>\n",
              "      <td>evening</td>\n",
              "      <td>0.37500</td>\n",
              "      <td>0.015625</td>\n",
              "      <td>0</td>\n",
              "      <td>0</td>\n",
              "      <td>0</td>\n",
              "      <td>0</td>\n",
              "      <td>0</td>\n",
              "      <td>0</td>\n",
              "      <td>0</td>\n",
              "      <td>0</td>\n",
              "      <td>0</td>\n",
              "      <td>0</td>\n",
              "      <td>0</td>\n",
              "      <td>0</td>\n",
              "      <td>0</td>\n",
              "      <td>0</td>\n",
              "      <td>0</td>\n",
              "      <td>0</td>\n",
              "      <td>0</td>\n",
              "      <td>0</td>\n",
              "      <td>0</td>\n",
              "      <td>0</td>\n",
              "      <td>0</td>\n",
              "      <td>0</td>\n",
              "      <td>0</td>\n",
              "      <td>0</td>\n",
              "      <td>0</td>\n",
              "      <td>0</td>\n",
              "      <td>...</td>\n",
              "      <td>0</td>\n",
              "      <td>0</td>\n",
              "      <td>0</td>\n",
              "      <td>0</td>\n",
              "      <td>0</td>\n",
              "      <td>0</td>\n",
              "      <td>0</td>\n",
              "      <td>0</td>\n",
              "      <td>0</td>\n",
              "      <td>0</td>\n",
              "      <td>0</td>\n",
              "      <td>0</td>\n",
              "      <td>0</td>\n",
              "      <td>0</td>\n",
              "      <td>0</td>\n",
              "      <td>0</td>\n",
              "      <td>0</td>\n",
              "      <td>0</td>\n",
              "      <td>0</td>\n",
              "      <td>0</td>\n",
              "      <td>0</td>\n",
              "      <td>0</td>\n",
              "      <td>0</td>\n",
              "      <td>0</td>\n",
              "      <td>0</td>\n",
              "      <td>0</td>\n",
              "      <td>0</td>\n",
              "      <td>0</td>\n",
              "      <td>0</td>\n",
              "      <td>0</td>\n",
              "      <td>0</td>\n",
              "      <td>0</td>\n",
              "      <td>0</td>\n",
              "      <td>0</td>\n",
              "      <td>0</td>\n",
              "      <td>0</td>\n",
              "      <td>0</td>\n",
              "      <td>0</td>\n",
              "      <td>0</td>\n",
              "      <td>4080</td>\n",
              "    </tr>\n",
              "  </tbody>\n",
              "</table>\n",
              "<p>5 rows × 959 columns</p>\n",
              "</div>"
            ],
            "text/plain": [
              "           screen_name              source  ...  t_youtube  account_age\n",
              "24395    cmaconthehill     Twitter Web App  ...          0         3344\n",
              "24396  Martin_Stillman  Twitter for iPhone  ...          0         2787\n",
              "24397   NovemberMan_11     Twitter Web App  ...          0         1714\n",
              "24398    Epilepsy_2020     Twitter Web App  ...          0          933\n",
              "24399           NASCIO           TweetDeck  ...          0         4080\n",
              "\n",
              "[5 rows x 959 columns]"
            ]
          },
          "metadata": {},
          "execution_count": 142
        }
      ]
    },
    {
      "cell_type": "markdown",
      "metadata": {
        "id": "Z1YvgmDOkim_"
      },
      "source": [
        "The indices have been reset."
      ]
    },
    {
      "cell_type": "markdown",
      "metadata": {
        "id": "WRTfjCQvj5cO"
      },
      "source": [
        "Let's check the distributions."
      ]
    },
    {
      "cell_type": "code",
      "metadata": {
        "colab": {
          "base_uri": "https://localhost:8080/",
          "height": 590
        },
        "id": "2M7nut-6j7s4",
        "outputId": "636ea2a1-5e9c-4947-c63a-3ef43fc3a3f6"
      },
      "source": [
        "# Count the tweets for each time of day\n",
        "tweet_count_by_time_of_day = tweets_small_sample_vectorized2.groupby('time_of_day')['time_of_day'].count()\n",
        "display(tweet_count_by_time_of_day)\n",
        "print('\\n')\n",
        "\n",
        "print(f'Does the sum of tweet counts match with total number of rows? {tweet_count_by_time_of_day.sum()==tweets_sample.shape[0]} \\n')\n",
        "\n",
        "# calculate the percentages (divide each count by the total number of rows and multiply by 100%)\n",
        "tweet_pct_by_time_of_day = tweets_small_sample_vectorized2.groupby('time_of_day')['time_of_day'].count()/tweets_sample.shape[0]*100\n",
        "tweet_pct_by_time_of_day\n",
        "\n",
        "# Order the times of day and corresponding counts before plotting\n",
        "times_of_day = ['early morning', 'morning', 'afternoon', 'evening']\n",
        "tweet_count_by_time_of_day_ordered = []\n",
        "for time in times_of_day:\n",
        "  tweet_count_by_time_of_day_ordered.append(tweet_count_by_time_of_day[time])\n",
        "\n",
        "# Visualize\n",
        "fig = px.bar(x=times_of_day, y=tweet_count_by_time_of_day_ordered,\n",
        "             title='COVID-19 Tweet Counts by Time of Day (24,400 Sample)',\n",
        "             labels={'x': 'Time of Day', 'y': 'Tweet Count'},\n",
        "             width=600, height=400)\n",
        "fig.show()"
      ],
      "execution_count": 143,
      "outputs": [
        {
          "output_type": "display_data",
          "data": {
            "text/plain": [
              "time_of_day\n",
              "afternoon        8421\n",
              "early morning    4103\n",
              "evening          6777\n",
              "morning          5099\n",
              "Name: time_of_day, dtype: int64"
            ]
          },
          "metadata": {}
        },
        {
          "output_type": "stream",
          "name": "stdout",
          "text": [
            "\n",
            "\n",
            "Does the sum of tweet counts match with total number of rows? False \n",
            "\n"
          ]
        },
        {
          "output_type": "display_data",
          "data": {
            "text/html": [
              "<html>\n",
              "<head><meta charset=\"utf-8\" /></head>\n",
              "<body>\n",
              "    <div>\n",
              "            <script src=\"https://cdnjs.cloudflare.com/ajax/libs/mathjax/2.7.5/MathJax.js?config=TeX-AMS-MML_SVG\"></script><script type=\"text/javascript\">if (window.MathJax) {MathJax.Hub.Config({SVG: {font: \"STIX-Web\"}});}</script>\n",
              "                <script type=\"text/javascript\">window.PlotlyConfig = {MathJaxConfig: 'local'};</script>\n",
              "        <script src=\"https://cdn.plot.ly/plotly-latest.min.js\"></script>    \n",
              "            <div id=\"4cf3c6ac-02e9-4748-bbf7-6cc5bcaef073\" class=\"plotly-graph-div\" style=\"height:400px; width:600px;\"></div>\n",
              "            <script type=\"text/javascript\">\n",
              "                \n",
              "                    window.PLOTLYENV=window.PLOTLYENV || {};\n",
              "                    \n",
              "                if (document.getElementById(\"4cf3c6ac-02e9-4748-bbf7-6cc5bcaef073\")) {\n",
              "                    Plotly.newPlot(\n",
              "                        '4cf3c6ac-02e9-4748-bbf7-6cc5bcaef073',\n",
              "                        [{\"alignmentgroup\": \"True\", \"hoverlabel\": {\"namelength\": 0}, \"hovertemplate\": \"Time of Day=%{x}<br>Tweet Count=%{y}\", \"legendgroup\": \"\", \"marker\": {\"color\": \"#636efa\"}, \"name\": \"\", \"offsetgroup\": \"\", \"orientation\": \"v\", \"showlegend\": false, \"textposition\": \"auto\", \"type\": \"bar\", \"x\": [\"early morning\", \"morning\", \"afternoon\", \"evening\"], \"xaxis\": \"x\", \"y\": [4103, 5099, 8421, 6777], \"yaxis\": \"y\"}],\n",
              "                        {\"barmode\": \"relative\", \"height\": 400, \"legend\": {\"tracegroupgap\": 0}, \"template\": {\"data\": {\"bar\": [{\"error_x\": {\"color\": \"#2a3f5f\"}, \"error_y\": {\"color\": \"#2a3f5f\"}, \"marker\": {\"line\": {\"color\": \"#E5ECF6\", \"width\": 0.5}}, \"type\": \"bar\"}], \"barpolar\": [{\"marker\": {\"line\": {\"color\": \"#E5ECF6\", \"width\": 0.5}}, \"type\": \"barpolar\"}], \"carpet\": [{\"aaxis\": {\"endlinecolor\": \"#2a3f5f\", \"gridcolor\": \"white\", \"linecolor\": \"white\", \"minorgridcolor\": \"white\", \"startlinecolor\": \"#2a3f5f\"}, \"baxis\": {\"endlinecolor\": \"#2a3f5f\", \"gridcolor\": \"white\", \"linecolor\": \"white\", \"minorgridcolor\": \"white\", \"startlinecolor\": \"#2a3f5f\"}, \"type\": \"carpet\"}], \"choropleth\": [{\"colorbar\": {\"outlinewidth\": 0, \"ticks\": \"\"}, \"type\": \"choropleth\"}], \"contour\": [{\"colorbar\": {\"outlinewidth\": 0, \"ticks\": \"\"}, \"colorscale\": [[0.0, \"#0d0887\"], [0.1111111111111111, \"#46039f\"], [0.2222222222222222, \"#7201a8\"], [0.3333333333333333, \"#9c179e\"], [0.4444444444444444, \"#bd3786\"], [0.5555555555555556, \"#d8576b\"], [0.6666666666666666, \"#ed7953\"], [0.7777777777777778, \"#fb9f3a\"], [0.8888888888888888, \"#fdca26\"], [1.0, \"#f0f921\"]], \"type\": \"contour\"}], \"contourcarpet\": [{\"colorbar\": {\"outlinewidth\": 0, \"ticks\": \"\"}, \"type\": \"contourcarpet\"}], \"heatmap\": [{\"colorbar\": {\"outlinewidth\": 0, \"ticks\": \"\"}, \"colorscale\": [[0.0, \"#0d0887\"], [0.1111111111111111, \"#46039f\"], [0.2222222222222222, \"#7201a8\"], [0.3333333333333333, \"#9c179e\"], [0.4444444444444444, \"#bd3786\"], [0.5555555555555556, \"#d8576b\"], [0.6666666666666666, \"#ed7953\"], [0.7777777777777778, \"#fb9f3a\"], [0.8888888888888888, \"#fdca26\"], [1.0, \"#f0f921\"]], \"type\": \"heatmap\"}], \"heatmapgl\": [{\"colorbar\": {\"outlinewidth\": 0, \"ticks\": \"\"}, \"colorscale\": [[0.0, \"#0d0887\"], [0.1111111111111111, \"#46039f\"], [0.2222222222222222, \"#7201a8\"], [0.3333333333333333, \"#9c179e\"], [0.4444444444444444, \"#bd3786\"], [0.5555555555555556, \"#d8576b\"], [0.6666666666666666, \"#ed7953\"], [0.7777777777777778, \"#fb9f3a\"], [0.8888888888888888, \"#fdca26\"], [1.0, \"#f0f921\"]], \"type\": \"heatmapgl\"}], \"histogram\": [{\"marker\": {\"colorbar\": {\"outlinewidth\": 0, \"ticks\": \"\"}}, \"type\": \"histogram\"}], \"histogram2d\": [{\"colorbar\": {\"outlinewidth\": 0, \"ticks\": \"\"}, \"colorscale\": [[0.0, \"#0d0887\"], [0.1111111111111111, \"#46039f\"], [0.2222222222222222, \"#7201a8\"], [0.3333333333333333, \"#9c179e\"], [0.4444444444444444, \"#bd3786\"], [0.5555555555555556, \"#d8576b\"], [0.6666666666666666, \"#ed7953\"], [0.7777777777777778, \"#fb9f3a\"], [0.8888888888888888, \"#fdca26\"], [1.0, \"#f0f921\"]], \"type\": \"histogram2d\"}], \"histogram2dcontour\": [{\"colorbar\": {\"outlinewidth\": 0, \"ticks\": \"\"}, \"colorscale\": [[0.0, \"#0d0887\"], [0.1111111111111111, \"#46039f\"], [0.2222222222222222, \"#7201a8\"], [0.3333333333333333, \"#9c179e\"], [0.4444444444444444, \"#bd3786\"], [0.5555555555555556, \"#d8576b\"], [0.6666666666666666, \"#ed7953\"], [0.7777777777777778, \"#fb9f3a\"], [0.8888888888888888, \"#fdca26\"], [1.0, \"#f0f921\"]], \"type\": \"histogram2dcontour\"}], \"mesh3d\": [{\"colorbar\": {\"outlinewidth\": 0, \"ticks\": \"\"}, \"type\": \"mesh3d\"}], \"parcoords\": [{\"line\": {\"colorbar\": {\"outlinewidth\": 0, \"ticks\": \"\"}}, \"type\": \"parcoords\"}], \"pie\": [{\"automargin\": true, \"type\": \"pie\"}], \"scatter\": [{\"marker\": {\"colorbar\": {\"outlinewidth\": 0, \"ticks\": \"\"}}, \"type\": \"scatter\"}], \"scatter3d\": [{\"line\": {\"colorbar\": {\"outlinewidth\": 0, \"ticks\": \"\"}}, \"marker\": {\"colorbar\": {\"outlinewidth\": 0, \"ticks\": \"\"}}, \"type\": \"scatter3d\"}], \"scattercarpet\": [{\"marker\": {\"colorbar\": {\"outlinewidth\": 0, \"ticks\": \"\"}}, \"type\": \"scattercarpet\"}], \"scattergeo\": [{\"marker\": {\"colorbar\": {\"outlinewidth\": 0, \"ticks\": \"\"}}, \"type\": \"scattergeo\"}], \"scattergl\": [{\"marker\": {\"colorbar\": {\"outlinewidth\": 0, \"ticks\": \"\"}}, \"type\": \"scattergl\"}], \"scattermapbox\": [{\"marker\": {\"colorbar\": {\"outlinewidth\": 0, \"ticks\": \"\"}}, \"type\": \"scattermapbox\"}], \"scatterpolar\": [{\"marker\": {\"colorbar\": {\"outlinewidth\": 0, \"ticks\": \"\"}}, \"type\": \"scatterpolar\"}], \"scatterpolargl\": [{\"marker\": {\"colorbar\": {\"outlinewidth\": 0, \"ticks\": \"\"}}, \"type\": \"scatterpolargl\"}], \"scatterternary\": [{\"marker\": {\"colorbar\": {\"outlinewidth\": 0, \"ticks\": \"\"}}, \"type\": \"scatterternary\"}], \"surface\": [{\"colorbar\": {\"outlinewidth\": 0, \"ticks\": \"\"}, \"colorscale\": [[0.0, \"#0d0887\"], [0.1111111111111111, \"#46039f\"], [0.2222222222222222, \"#7201a8\"], [0.3333333333333333, \"#9c179e\"], [0.4444444444444444, \"#bd3786\"], [0.5555555555555556, \"#d8576b\"], [0.6666666666666666, \"#ed7953\"], [0.7777777777777778, \"#fb9f3a\"], [0.8888888888888888, \"#fdca26\"], [1.0, \"#f0f921\"]], \"type\": \"surface\"}], \"table\": [{\"cells\": {\"fill\": {\"color\": \"#EBF0F8\"}, \"line\": {\"color\": \"white\"}}, \"header\": {\"fill\": {\"color\": \"#C8D4E3\"}, \"line\": {\"color\": \"white\"}}, \"type\": \"table\"}]}, \"layout\": {\"annotationdefaults\": {\"arrowcolor\": \"#2a3f5f\", \"arrowhead\": 0, \"arrowwidth\": 1}, \"coloraxis\": {\"colorbar\": {\"outlinewidth\": 0, \"ticks\": \"\"}}, \"colorscale\": {\"diverging\": [[0, \"#8e0152\"], [0.1, \"#c51b7d\"], [0.2, \"#de77ae\"], [0.3, \"#f1b6da\"], [0.4, \"#fde0ef\"], [0.5, \"#f7f7f7\"], [0.6, \"#e6f5d0\"], [0.7, \"#b8e186\"], [0.8, \"#7fbc41\"], [0.9, \"#4d9221\"], [1, \"#276419\"]], \"sequential\": [[0.0, \"#0d0887\"], [0.1111111111111111, \"#46039f\"], [0.2222222222222222, \"#7201a8\"], [0.3333333333333333, \"#9c179e\"], [0.4444444444444444, \"#bd3786\"], [0.5555555555555556, \"#d8576b\"], [0.6666666666666666, \"#ed7953\"], [0.7777777777777778, \"#fb9f3a\"], [0.8888888888888888, \"#fdca26\"], [1.0, \"#f0f921\"]], \"sequentialminus\": [[0.0, \"#0d0887\"], [0.1111111111111111, \"#46039f\"], [0.2222222222222222, \"#7201a8\"], [0.3333333333333333, \"#9c179e\"], [0.4444444444444444, \"#bd3786\"], [0.5555555555555556, \"#d8576b\"], [0.6666666666666666, \"#ed7953\"], [0.7777777777777778, \"#fb9f3a\"], [0.8888888888888888, \"#fdca26\"], [1.0, \"#f0f921\"]]}, \"colorway\": [\"#636efa\", \"#EF553B\", \"#00cc96\", \"#ab63fa\", \"#FFA15A\", \"#19d3f3\", \"#FF6692\", \"#B6E880\", \"#FF97FF\", \"#FECB52\"], \"font\": {\"color\": \"#2a3f5f\"}, \"geo\": {\"bgcolor\": \"white\", \"lakecolor\": \"white\", \"landcolor\": \"#E5ECF6\", \"showlakes\": true, \"showland\": true, \"subunitcolor\": \"white\"}, \"hoverlabel\": {\"align\": \"left\"}, \"hovermode\": \"closest\", \"mapbox\": {\"style\": \"light\"}, \"paper_bgcolor\": \"white\", \"plot_bgcolor\": \"#E5ECF6\", \"polar\": {\"angularaxis\": {\"gridcolor\": \"white\", \"linecolor\": \"white\", \"ticks\": \"\"}, \"bgcolor\": \"#E5ECF6\", \"radialaxis\": {\"gridcolor\": \"white\", \"linecolor\": \"white\", \"ticks\": \"\"}}, \"scene\": {\"xaxis\": {\"backgroundcolor\": \"#E5ECF6\", \"gridcolor\": \"white\", \"gridwidth\": 2, \"linecolor\": \"white\", \"showbackground\": true, \"ticks\": \"\", \"zerolinecolor\": \"white\"}, \"yaxis\": {\"backgroundcolor\": \"#E5ECF6\", \"gridcolor\": \"white\", \"gridwidth\": 2, \"linecolor\": \"white\", \"showbackground\": true, \"ticks\": \"\", \"zerolinecolor\": \"white\"}, \"zaxis\": {\"backgroundcolor\": \"#E5ECF6\", \"gridcolor\": \"white\", \"gridwidth\": 2, \"linecolor\": \"white\", \"showbackground\": true, \"ticks\": \"\", \"zerolinecolor\": \"white\"}}, \"shapedefaults\": {\"line\": {\"color\": \"#2a3f5f\"}}, \"ternary\": {\"aaxis\": {\"gridcolor\": \"white\", \"linecolor\": \"white\", \"ticks\": \"\"}, \"baxis\": {\"gridcolor\": \"white\", \"linecolor\": \"white\", \"ticks\": \"\"}, \"bgcolor\": \"#E5ECF6\", \"caxis\": {\"gridcolor\": \"white\", \"linecolor\": \"white\", \"ticks\": \"\"}}, \"title\": {\"x\": 0.05}, \"xaxis\": {\"automargin\": true, \"gridcolor\": \"white\", \"linecolor\": \"white\", \"ticks\": \"\", \"title\": {\"standoff\": 15}, \"zerolinecolor\": \"white\", \"zerolinewidth\": 2}, \"yaxis\": {\"automargin\": true, \"gridcolor\": \"white\", \"linecolor\": \"white\", \"ticks\": \"\", \"title\": {\"standoff\": 15}, \"zerolinecolor\": \"white\", \"zerolinewidth\": 2}}}, \"title\": {\"text\": \"COVID-19 Tweet Counts by Time of Day (24,400 Sample)\"}, \"width\": 600, \"xaxis\": {\"anchor\": \"y\", \"domain\": [0.0, 1.0], \"title\": {\"text\": \"Time of Day\"}}, \"yaxis\": {\"anchor\": \"x\", \"domain\": [0.0, 1.0], \"title\": {\"text\": \"Tweet Count\"}}},\n",
              "                        {\"responsive\": true}\n",
              "                    ).then(function(){\n",
              "                            \n",
              "var gd = document.getElementById('4cf3c6ac-02e9-4748-bbf7-6cc5bcaef073');\n",
              "var x = new MutationObserver(function (mutations, observer) {{\n",
              "        var display = window.getComputedStyle(gd).display;\n",
              "        if (!display || display === 'none') {{\n",
              "            console.log([gd, 'removed!']);\n",
              "            Plotly.purge(gd);\n",
              "            observer.disconnect();\n",
              "        }}\n",
              "}});\n",
              "\n",
              "// Listen for the removal of the full notebook cells\n",
              "var notebookContainer = gd.closest('#notebook-container');\n",
              "if (notebookContainer) {{\n",
              "    x.observe(notebookContainer, {childList: true});\n",
              "}}\n",
              "\n",
              "// Listen for the clearing of the current output cell\n",
              "var outputEl = gd.closest('.output');\n",
              "if (outputEl) {{\n",
              "    x.observe(outputEl, {childList: true});\n",
              "}}\n",
              "\n",
              "                        })\n",
              "                };\n",
              "                \n",
              "            </script>\n",
              "        </div>\n",
              "</body>\n",
              "</html>"
            ]
          },
          "metadata": {}
        }
      ]
    },
    {
      "cell_type": "markdown",
      "metadata": {
        "id": "XFpKekwQkZ_u"
      },
      "source": [
        "The distribution of tweet counts across the different times of day is comparable to previous samples as well as the original dataset."
      ]
    },
    {
      "cell_type": "markdown",
      "metadata": {
        "id": "cZglRAtAkse8"
      },
      "source": [
        "Let's check the top users by tweet count."
      ]
    },
    {
      "cell_type": "code",
      "metadata": {
        "colab": {
          "base_uri": "https://localhost:8080/",
          "height": 235
        },
        "id": "EiCKnbISkuBT",
        "outputId": "7399f4c7-d1e5-461a-b2b3-53201918a703"
      },
      "source": [
        "# get tweet count of each unique screen_name, sort them in descending order\n",
        "tweet_counts_by_screen_name = tweets_small_sample_vectorized2.groupby('screen_name').size().sort_values(ascending=False)\n",
        "# sort the user_ids in descending order of tweet counts\n",
        "screen_name_by_descending_count = tweet_counts_by_screen_name.index\n",
        "\n",
        "# slice top 20 by tweet count\n",
        "top_20_screen_names = screen_name_by_descending_count[:20]\n",
        "top_20_tweet_counts = tweet_counts_by_screen_name[:20]\n",
        "\n",
        "# plot\n",
        "plt.figure(figsize=(15,5))\n",
        "sns.barplot(x=top_20_tweet_counts, y=top_20_screen_names, orient='h', color='pink')\n",
        "plt.xlabel('Tweet Count')\n",
        "plt.ylabel('Screen Name')\n",
        "plt.title('Top 20 Screen Names by Tweet Count (24,400 Sample)')\n",
        "plt.show()"
      ],
      "execution_count": 144,
      "outputs": [
        {
          "output_type": "display_data",
          "data": {
            "image/png": "[encoded data removed]",
            "text/plain": [
              "<Figure size 1080x360 with 1 Axes>"
            ]
          },
          "metadata": {
            "needs_background": "light"
          }
        }
      ]
    },
    {
      "cell_type": "markdown",
      "metadata": {
        "id": "wAWXSQ78lFro"
      },
      "source": [
        "Still, the most prolific tweeter is openletterbot. The rankings of the rest of the users changed slightly but not by huge margins."
      ]
    },
    {
      "cell_type": "markdown",
      "metadata": {
        "id": "Id1jq1x9lrc8"
      },
      "source": [
        "Let's check the top 20 sources."
      ]
    },
    {
      "cell_type": "code",
      "metadata": {
        "colab": {
          "base_uri": "https://localhost:8080/",
          "height": 228
        },
        "id": "erizXeXPl28U",
        "outputId": "f44cb9d6-0bc3-439f-918e-cd58ced0b55a"
      },
      "source": [
        "# plot top 20 sources\n",
        "plt.figure(figsize=(15,5))\n",
        "sns.barplot(x=tweets_small_sample_vectorized2['source'].value_counts()[:20], \n",
        "            y=tweets_small_sample_vectorized2['source'].value_counts().index[:20], \n",
        "            orient='h')\n",
        "plt.title('Top 20 Sources by Count (24,400 Sample)')\n",
        "plt.xlabel('Count')\n",
        "plt.ylabel('Source')\n",
        "plt.show()"
      ],
      "execution_count": 145,
      "outputs": [
        {
          "output_type": "display_data",
          "data": {
            "image/png": "[encoded data removed]",
            "text/plain": [
              "<Figure size 1080x360 with 1 Axes>"
            ]
          },
          "metadata": {
            "needs_background": "light"
          }
        }
      ]
    },
    {
      "cell_type": "markdown",
      "metadata": {
        "id": "RLdrnTsxmCVM"
      },
      "source": [
        "The rankings of most frequently used sources generally did not change."
      ]
    },
    {
      "cell_type": "markdown",
      "metadata": {
        "id": "jB_muOixmSne"
      },
      "source": [
        "Overall, this sample appears to be fairly representative of the original dataset."
      ]
    },
    {
      "cell_type": "code",
      "metadata": {
        "colab": {
          "base_uri": "https://localhost:8080/",
          "height": 615
        },
        "id": "GWpUzo5emcVT",
        "outputId": "aa7236c9-d480-4b32-81df-01d171866e05"
      },
      "source": [
        "tweets_small_sample_vectorized2"
      ],
      "execution_count": 146,
      "outputs": [
        {
          "output_type": "execute_result",
          "data": {
            "text/html": [
              "<div>\n",
              "<style scoped>\n",
              "    .dataframe tbody tr th:only-of-type {\n",
              "        vertical-align: middle;\n",
              "    }\n",
              "\n",
              "    .dataframe tbody tr th {\n",
              "        vertical-align: top;\n",
              "    }\n",
              "\n",
              "    .dataframe thead th {\n",
              "        text-align: right;\n",
              "    }\n",
              "</style>\n",
              "<table border=\"1\" class=\"dataframe\">\n",
              "  <thead>\n",
              "    <tr style=\"text-align: right;\">\n",
              "      <th></th>\n",
              "      <th>screen_name</th>\n",
              "      <th>source</th>\n",
              "      <th>is_quote</th>\n",
              "      <th>is_retweet</th>\n",
              "      <th>favourites_count</th>\n",
              "      <th>retweet_count</th>\n",
              "      <th>country_code</th>\n",
              "      <th>followers_count</th>\n",
              "      <th>friends_count</th>\n",
              "      <th>verified</th>\n",
              "      <th>is_reply</th>\n",
              "      <th>time_of_day</th>\n",
              "      <th>user_tweet_freq_per_day</th>\n",
              "      <th>user_tweet_freq_per_hour</th>\n",
              "      <th>t_00</th>\n",
              "      <th>t_000</th>\n",
              "      <th>t_04</th>\n",
              "      <th>t_10</th>\n",
              "      <th>t_100</th>\n",
              "      <th>t_11</th>\n",
              "      <th>t_12</th>\n",
              "      <th>t_13</th>\n",
              "      <th>t_14</th>\n",
              "      <th>t_15</th>\n",
              "      <th>t_16</th>\n",
              "      <th>t_17</th>\n",
              "      <th>t_18</th>\n",
              "      <th>t_19</th>\n",
              "      <th>t_1st</th>\n",
              "      <th>t_20</th>\n",
              "      <th>t_200</th>\n",
              "      <th>t_2019</th>\n",
              "      <th>t_2020</th>\n",
              "      <th>t_21</th>\n",
              "      <th>t_22</th>\n",
              "      <th>t_23</th>\n",
              "      <th>t_24</th>\n",
              "      <th>t_25</th>\n",
              "      <th>t_26</th>\n",
              "      <th>t_27</th>\n",
              "      <th>...</th>\n",
              "      <th>t_water</th>\n",
              "      <th>t_way</th>\n",
              "      <th>t_ways</th>\n",
              "      <th>t_wear</th>\n",
              "      <th>t_wearing</th>\n",
              "      <th>t_webinar</th>\n",
              "      <th>t_website</th>\n",
              "      <th>t_week</th>\n",
              "      <th>t_weekend</th>\n",
              "      <th>t_weeks</th>\n",
              "      <th>t_went</th>\n",
              "      <th>t_white</th>\n",
              "      <th>t_whitehouse</th>\n",
              "      <th>t_win</th>\n",
              "      <th>t_wish</th>\n",
              "      <th>t_woman</th>\n",
              "      <th>t_women</th>\n",
              "      <th>t_won</th>\n",
              "      <th>t_wonder</th>\n",
              "      <th>t_word</th>\n",
              "      <th>t_words</th>\n",
              "      <th>t_work</th>\n",
              "      <th>t_workers</th>\n",
              "      <th>t_working</th>\n",
              "      <th>t_works</th>\n",
              "      <th>t_world</th>\n",
              "      <th>t_worldwide</th>\n",
              "      <th>t_worse</th>\n",
              "      <th>t_worst</th>\n",
              "      <th>t_worth</th>\n",
              "      <th>t_wrong</th>\n",
              "      <th>t_wuhan</th>\n",
              "      <th>t_year</th>\n",
              "      <th>t_years</th>\n",
              "      <th>t_yes</th>\n",
              "      <th>t_yesterday</th>\n",
              "      <th>t_york</th>\n",
              "      <th>t_young</th>\n",
              "      <th>t_youtube</th>\n",
              "      <th>account_age</th>\n",
              "    </tr>\n",
              "  </thead>\n",
              "  <tbody>\n",
              "    <tr>\n",
              "      <th>0</th>\n",
              "      <td>TrumpTruth_2020</td>\n",
              "      <td>Twitter Web App</td>\n",
              "      <td>0</td>\n",
              "      <td>0</td>\n",
              "      <td>14</td>\n",
              "      <td>0</td>\n",
              "      <td>country_code NA</td>\n",
              "      <td>1136</td>\n",
              "      <td>1226</td>\n",
              "      <td>0</td>\n",
              "      <td>1</td>\n",
              "      <td>early morning</td>\n",
              "      <td>0.06250</td>\n",
              "      <td>0.002604</td>\n",
              "      <td>0</td>\n",
              "      <td>0</td>\n",
              "      <td>0</td>\n",
              "      <td>0</td>\n",
              "      <td>0</td>\n",
              "      <td>0</td>\n",
              "      <td>0</td>\n",
              "      <td>0</td>\n",
              "      <td>0</td>\n",
              "      <td>0</td>\n",
              "      <td>0</td>\n",
              "      <td>0</td>\n",
              "      <td>0</td>\n",
              "      <td>0</td>\n",
              "      <td>0</td>\n",
              "      <td>0</td>\n",
              "      <td>0</td>\n",
              "      <td>0</td>\n",
              "      <td>0</td>\n",
              "      <td>0</td>\n",
              "      <td>0</td>\n",
              "      <td>0</td>\n",
              "      <td>0</td>\n",
              "      <td>0</td>\n",
              "      <td>0</td>\n",
              "      <td>0</td>\n",
              "      <td>...</td>\n",
              "      <td>0</td>\n",
              "      <td>0</td>\n",
              "      <td>0</td>\n",
              "      <td>0</td>\n",
              "      <td>0</td>\n",
              "      <td>0</td>\n",
              "      <td>0</td>\n",
              "      <td>0</td>\n",
              "      <td>0</td>\n",
              "      <td>0</td>\n",
              "      <td>0</td>\n",
              "      <td>0</td>\n",
              "      <td>0</td>\n",
              "      <td>0</td>\n",
              "      <td>0</td>\n",
              "      <td>0</td>\n",
              "      <td>0</td>\n",
              "      <td>0</td>\n",
              "      <td>0</td>\n",
              "      <td>0</td>\n",
              "      <td>0</td>\n",
              "      <td>0</td>\n",
              "      <td>0</td>\n",
              "      <td>0</td>\n",
              "      <td>0</td>\n",
              "      <td>0</td>\n",
              "      <td>0</td>\n",
              "      <td>0</td>\n",
              "      <td>0</td>\n",
              "      <td>0</td>\n",
              "      <td>0</td>\n",
              "      <td>0</td>\n",
              "      <td>0</td>\n",
              "      <td>0</td>\n",
              "      <td>0</td>\n",
              "      <td>0</td>\n",
              "      <td>0</td>\n",
              "      <td>0</td>\n",
              "      <td>0</td>\n",
              "      <td>913</td>\n",
              "    </tr>\n",
              "    <tr>\n",
              "      <th>1</th>\n",
              "      <td>issafrica</td>\n",
              "      <td>Hootsuite Inc.</td>\n",
              "      <td>0</td>\n",
              "      <td>0</td>\n",
              "      <td>8</td>\n",
              "      <td>0</td>\n",
              "      <td>country_code NA</td>\n",
              "      <td>30480</td>\n",
              "      <td>167</td>\n",
              "      <td>1</td>\n",
              "      <td>0</td>\n",
              "      <td>early morning</td>\n",
              "      <td>4.96875</td>\n",
              "      <td>0.207031</td>\n",
              "      <td>0</td>\n",
              "      <td>0</td>\n",
              "      <td>0</td>\n",
              "      <td>0</td>\n",
              "      <td>0</td>\n",
              "      <td>0</td>\n",
              "      <td>0</td>\n",
              "      <td>0</td>\n",
              "      <td>0</td>\n",
              "      <td>0</td>\n",
              "      <td>0</td>\n",
              "      <td>0</td>\n",
              "      <td>0</td>\n",
              "      <td>0</td>\n",
              "      <td>0</td>\n",
              "      <td>0</td>\n",
              "      <td>0</td>\n",
              "      <td>0</td>\n",
              "      <td>0</td>\n",
              "      <td>0</td>\n",
              "      <td>0</td>\n",
              "      <td>0</td>\n",
              "      <td>0</td>\n",
              "      <td>0</td>\n",
              "      <td>0</td>\n",
              "      <td>0</td>\n",
              "      <td>...</td>\n",
              "      <td>0</td>\n",
              "      <td>0</td>\n",
              "      <td>0</td>\n",
              "      <td>0</td>\n",
              "      <td>0</td>\n",
              "      <td>0</td>\n",
              "      <td>0</td>\n",
              "      <td>0</td>\n",
              "      <td>0</td>\n",
              "      <td>0</td>\n",
              "      <td>0</td>\n",
              "      <td>0</td>\n",
              "      <td>0</td>\n",
              "      <td>0</td>\n",
              "      <td>0</td>\n",
              "      <td>0</td>\n",
              "      <td>0</td>\n",
              "      <td>0</td>\n",
              "      <td>0</td>\n",
              "      <td>0</td>\n",
              "      <td>0</td>\n",
              "      <td>0</td>\n",
              "      <td>0</td>\n",
              "      <td>0</td>\n",
              "      <td>0</td>\n",
              "      <td>0</td>\n",
              "      <td>0</td>\n",
              "      <td>0</td>\n",
              "      <td>0</td>\n",
              "      <td>0</td>\n",
              "      <td>0</td>\n",
              "      <td>0</td>\n",
              "      <td>0</td>\n",
              "      <td>0</td>\n",
              "      <td>0</td>\n",
              "      <td>0</td>\n",
              "      <td>0</td>\n",
              "      <td>0</td>\n",
              "      <td>0</td>\n",
              "      <td>3918</td>\n",
              "    </tr>\n",
              "    <tr>\n",
              "      <th>2</th>\n",
              "      <td>MeghaaGhosh</td>\n",
              "      <td>Twitter for Android</td>\n",
              "      <td>0</td>\n",
              "      <td>0</td>\n",
              "      <td>5103</td>\n",
              "      <td>0</td>\n",
              "      <td>country_code NA</td>\n",
              "      <td>8413</td>\n",
              "      <td>424</td>\n",
              "      <td>0</td>\n",
              "      <td>0</td>\n",
              "      <td>afternoon</td>\n",
              "      <td>0.37500</td>\n",
              "      <td>0.015625</td>\n",
              "      <td>0</td>\n",
              "      <td>0</td>\n",
              "      <td>0</td>\n",
              "      <td>0</td>\n",
              "      <td>0</td>\n",
              "      <td>0</td>\n",
              "      <td>0</td>\n",
              "      <td>0</td>\n",
              "      <td>0</td>\n",
              "      <td>0</td>\n",
              "      <td>0</td>\n",
              "      <td>0</td>\n",
              "      <td>0</td>\n",
              "      <td>0</td>\n",
              "      <td>0</td>\n",
              "      <td>0</td>\n",
              "      <td>0</td>\n",
              "      <td>0</td>\n",
              "      <td>0</td>\n",
              "      <td>0</td>\n",
              "      <td>0</td>\n",
              "      <td>0</td>\n",
              "      <td>0</td>\n",
              "      <td>0</td>\n",
              "      <td>0</td>\n",
              "      <td>0</td>\n",
              "      <td>...</td>\n",
              "      <td>0</td>\n",
              "      <td>0</td>\n",
              "      <td>0</td>\n",
              "      <td>0</td>\n",
              "      <td>0</td>\n",
              "      <td>0</td>\n",
              "      <td>0</td>\n",
              "      <td>0</td>\n",
              "      <td>0</td>\n",
              "      <td>0</td>\n",
              "      <td>0</td>\n",
              "      <td>0</td>\n",
              "      <td>0</td>\n",
              "      <td>0</td>\n",
              "      <td>0</td>\n",
              "      <td>0</td>\n",
              "      <td>0</td>\n",
              "      <td>0</td>\n",
              "      <td>0</td>\n",
              "      <td>0</td>\n",
              "      <td>0</td>\n",
              "      <td>0</td>\n",
              "      <td>0</td>\n",
              "      <td>0</td>\n",
              "      <td>0</td>\n",
              "      <td>0</td>\n",
              "      <td>0</td>\n",
              "      <td>0</td>\n",
              "      <td>0</td>\n",
              "      <td>0</td>\n",
              "      <td>0</td>\n",
              "      <td>0</td>\n",
              "      <td>0</td>\n",
              "      <td>0</td>\n",
              "      <td>0</td>\n",
              "      <td>0</td>\n",
              "      <td>0</td>\n",
              "      <td>0</td>\n",
              "      <td>0</td>\n",
              "      <td>3928</td>\n",
              "    </tr>\n",
              "    <tr>\n",
              "      <th>3</th>\n",
              "      <td>khotsohlangus</td>\n",
              "      <td>Twitter for Android</td>\n",
              "      <td>0</td>\n",
              "      <td>0</td>\n",
              "      <td>607</td>\n",
              "      <td>0</td>\n",
              "      <td>ZA</td>\n",
              "      <td>77</td>\n",
              "      <td>483</td>\n",
              "      <td>0</td>\n",
              "      <td>0</td>\n",
              "      <td>afternoon</td>\n",
              "      <td>0.03125</td>\n",
              "      <td>0.001302</td>\n",
              "      <td>0</td>\n",
              "      <td>0</td>\n",
              "      <td>0</td>\n",
              "      <td>0</td>\n",
              "      <td>0</td>\n",
              "      <td>0</td>\n",
              "      <td>0</td>\n",
              "      <td>0</td>\n",
              "      <td>0</td>\n",
              "      <td>0</td>\n",
              "      <td>0</td>\n",
              "      <td>0</td>\n",
              "      <td>0</td>\n",
              "      <td>0</td>\n",
              "      <td>0</td>\n",
              "      <td>0</td>\n",
              "      <td>0</td>\n",
              "      <td>0</td>\n",
              "      <td>0</td>\n",
              "      <td>0</td>\n",
              "      <td>0</td>\n",
              "      <td>0</td>\n",
              "      <td>0</td>\n",
              "      <td>0</td>\n",
              "      <td>0</td>\n",
              "      <td>0</td>\n",
              "      <td>...</td>\n",
              "      <td>0</td>\n",
              "      <td>0</td>\n",
              "      <td>0</td>\n",
              "      <td>0</td>\n",
              "      <td>0</td>\n",
              "      <td>0</td>\n",
              "      <td>0</td>\n",
              "      <td>0</td>\n",
              "      <td>0</td>\n",
              "      <td>0</td>\n",
              "      <td>0</td>\n",
              "      <td>0</td>\n",
              "      <td>0</td>\n",
              "      <td>0</td>\n",
              "      <td>0</td>\n",
              "      <td>0</td>\n",
              "      <td>0</td>\n",
              "      <td>0</td>\n",
              "      <td>0</td>\n",
              "      <td>0</td>\n",
              "      <td>0</td>\n",
              "      <td>0</td>\n",
              "      <td>0</td>\n",
              "      <td>0</td>\n",
              "      <td>0</td>\n",
              "      <td>0</td>\n",
              "      <td>0</td>\n",
              "      <td>0</td>\n",
              "      <td>0</td>\n",
              "      <td>0</td>\n",
              "      <td>0</td>\n",
              "      <td>0</td>\n",
              "      <td>0</td>\n",
              "      <td>0</td>\n",
              "      <td>2</td>\n",
              "      <td>0</td>\n",
              "      <td>0</td>\n",
              "      <td>0</td>\n",
              "      <td>0</td>\n",
              "      <td>2748</td>\n",
              "    </tr>\n",
              "    <tr>\n",
              "      <th>4</th>\n",
              "      <td>AlArabiya_Eng</td>\n",
              "      <td>Sprinklr</td>\n",
              "      <td>0</td>\n",
              "      <td>0</td>\n",
              "      <td>0</td>\n",
              "      <td>2</td>\n",
              "      <td>country_code NA</td>\n",
              "      <td>833027</td>\n",
              "      <td>40</td>\n",
              "      <td>1</td>\n",
              "      <td>0</td>\n",
              "      <td>evening</td>\n",
              "      <td>74.71875</td>\n",
              "      <td>3.113281</td>\n",
              "      <td>0</td>\n",
              "      <td>0</td>\n",
              "      <td>0</td>\n",
              "      <td>0</td>\n",
              "      <td>0</td>\n",
              "      <td>0</td>\n",
              "      <td>0</td>\n",
              "      <td>0</td>\n",
              "      <td>0</td>\n",
              "      <td>0</td>\n",
              "      <td>0</td>\n",
              "      <td>0</td>\n",
              "      <td>0</td>\n",
              "      <td>0</td>\n",
              "      <td>0</td>\n",
              "      <td>0</td>\n",
              "      <td>0</td>\n",
              "      <td>0</td>\n",
              "      <td>0</td>\n",
              "      <td>0</td>\n",
              "      <td>0</td>\n",
              "      <td>0</td>\n",
              "      <td>0</td>\n",
              "      <td>0</td>\n",
              "      <td>0</td>\n",
              "      <td>0</td>\n",
              "      <td>...</td>\n",
              "      <td>0</td>\n",
              "      <td>0</td>\n",
              "      <td>0</td>\n",
              "      <td>0</td>\n",
              "      <td>0</td>\n",
              "      <td>0</td>\n",
              "      <td>0</td>\n",
              "      <td>0</td>\n",
              "      <td>0</td>\n",
              "      <td>0</td>\n",
              "      <td>0</td>\n",
              "      <td>0</td>\n",
              "      <td>0</td>\n",
              "      <td>0</td>\n",
              "      <td>0</td>\n",
              "      <td>0</td>\n",
              "      <td>0</td>\n",
              "      <td>0</td>\n",
              "      <td>0</td>\n",
              "      <td>0</td>\n",
              "      <td>0</td>\n",
              "      <td>0</td>\n",
              "      <td>0</td>\n",
              "      <td>0</td>\n",
              "      <td>0</td>\n",
              "      <td>0</td>\n",
              "      <td>0</td>\n",
              "      <td>0</td>\n",
              "      <td>0</td>\n",
              "      <td>0</td>\n",
              "      <td>0</td>\n",
              "      <td>0</td>\n",
              "      <td>0</td>\n",
              "      <td>0</td>\n",
              "      <td>0</td>\n",
              "      <td>0</td>\n",
              "      <td>0</td>\n",
              "      <td>0</td>\n",
              "      <td>0</td>\n",
              "      <td>4069</td>\n",
              "    </tr>\n",
              "    <tr>\n",
              "      <th>...</th>\n",
              "      <td>...</td>\n",
              "      <td>...</td>\n",
              "      <td>...</td>\n",
              "      <td>...</td>\n",
              "      <td>...</td>\n",
              "      <td>...</td>\n",
              "      <td>...</td>\n",
              "      <td>...</td>\n",
              "      <td>...</td>\n",
              "      <td>...</td>\n",
              "      <td>...</td>\n",
              "      <td>...</td>\n",
              "      <td>...</td>\n",
              "      <td>...</td>\n",
              "      <td>...</td>\n",
              "      <td>...</td>\n",
              "      <td>...</td>\n",
              "      <td>...</td>\n",
              "      <td>...</td>\n",
              "      <td>...</td>\n",
              "      <td>...</td>\n",
              "      <td>...</td>\n",
              "      <td>...</td>\n",
              "      <td>...</td>\n",
              "      <td>...</td>\n",
              "      <td>...</td>\n",
              "      <td>...</td>\n",
              "      <td>...</td>\n",
              "      <td>...</td>\n",
              "      <td>...</td>\n",
              "      <td>...</td>\n",
              "      <td>...</td>\n",
              "      <td>...</td>\n",
              "      <td>...</td>\n",
              "      <td>...</td>\n",
              "      <td>...</td>\n",
              "      <td>...</td>\n",
              "      <td>...</td>\n",
              "      <td>...</td>\n",
              "      <td>...</td>\n",
              "      <td>...</td>\n",
              "      <td>...</td>\n",
              "      <td>...</td>\n",
              "      <td>...</td>\n",
              "      <td>...</td>\n",
              "      <td>...</td>\n",
              "      <td>...</td>\n",
              "      <td>...</td>\n",
              "      <td>...</td>\n",
              "      <td>...</td>\n",
              "      <td>...</td>\n",
              "      <td>...</td>\n",
              "      <td>...</td>\n",
              "      <td>...</td>\n",
              "      <td>...</td>\n",
              "      <td>...</td>\n",
              "      <td>...</td>\n",
              "      <td>...</td>\n",
              "      <td>...</td>\n",
              "      <td>...</td>\n",
              "      <td>...</td>\n",
              "      <td>...</td>\n",
              "      <td>...</td>\n",
              "      <td>...</td>\n",
              "      <td>...</td>\n",
              "      <td>...</td>\n",
              "      <td>...</td>\n",
              "      <td>...</td>\n",
              "      <td>...</td>\n",
              "      <td>...</td>\n",
              "      <td>...</td>\n",
              "      <td>...</td>\n",
              "      <td>...</td>\n",
              "      <td>...</td>\n",
              "      <td>...</td>\n",
              "      <td>...</td>\n",
              "      <td>...</td>\n",
              "      <td>...</td>\n",
              "      <td>...</td>\n",
              "      <td>...</td>\n",
              "      <td>...</td>\n",
              "    </tr>\n",
              "    <tr>\n",
              "      <th>24395</th>\n",
              "      <td>cmaconthehill</td>\n",
              "      <td>Twitter Web App</td>\n",
              "      <td>0</td>\n",
              "      <td>0</td>\n",
              "      <td>1181</td>\n",
              "      <td>1</td>\n",
              "      <td>country_code NA</td>\n",
              "      <td>12463</td>\n",
              "      <td>2960</td>\n",
              "      <td>1</td>\n",
              "      <td>1</td>\n",
              "      <td>afternoon</td>\n",
              "      <td>7.59375</td>\n",
              "      <td>0.316406</td>\n",
              "      <td>0</td>\n",
              "      <td>0</td>\n",
              "      <td>0</td>\n",
              "      <td>0</td>\n",
              "      <td>0</td>\n",
              "      <td>0</td>\n",
              "      <td>0</td>\n",
              "      <td>0</td>\n",
              "      <td>0</td>\n",
              "      <td>0</td>\n",
              "      <td>0</td>\n",
              "      <td>0</td>\n",
              "      <td>0</td>\n",
              "      <td>0</td>\n",
              "      <td>0</td>\n",
              "      <td>0</td>\n",
              "      <td>0</td>\n",
              "      <td>0</td>\n",
              "      <td>0</td>\n",
              "      <td>0</td>\n",
              "      <td>0</td>\n",
              "      <td>0</td>\n",
              "      <td>0</td>\n",
              "      <td>0</td>\n",
              "      <td>0</td>\n",
              "      <td>0</td>\n",
              "      <td>...</td>\n",
              "      <td>0</td>\n",
              "      <td>0</td>\n",
              "      <td>0</td>\n",
              "      <td>0</td>\n",
              "      <td>0</td>\n",
              "      <td>0</td>\n",
              "      <td>0</td>\n",
              "      <td>0</td>\n",
              "      <td>0</td>\n",
              "      <td>0</td>\n",
              "      <td>0</td>\n",
              "      <td>0</td>\n",
              "      <td>0</td>\n",
              "      <td>0</td>\n",
              "      <td>0</td>\n",
              "      <td>0</td>\n",
              "      <td>0</td>\n",
              "      <td>0</td>\n",
              "      <td>0</td>\n",
              "      <td>0</td>\n",
              "      <td>0</td>\n",
              "      <td>0</td>\n",
              "      <td>0</td>\n",
              "      <td>0</td>\n",
              "      <td>0</td>\n",
              "      <td>0</td>\n",
              "      <td>0</td>\n",
              "      <td>0</td>\n",
              "      <td>0</td>\n",
              "      <td>0</td>\n",
              "      <td>0</td>\n",
              "      <td>0</td>\n",
              "      <td>0</td>\n",
              "      <td>0</td>\n",
              "      <td>0</td>\n",
              "      <td>0</td>\n",
              "      <td>0</td>\n",
              "      <td>0</td>\n",
              "      <td>0</td>\n",
              "      <td>3344</td>\n",
              "    </tr>\n",
              "    <tr>\n",
              "      <th>24396</th>\n",
              "      <td>Martin_Stillman</td>\n",
              "      <td>Twitter for iPhone</td>\n",
              "      <td>0</td>\n",
              "      <td>0</td>\n",
              "      <td>10</td>\n",
              "      <td>0</td>\n",
              "      <td>AU</td>\n",
              "      <td>410</td>\n",
              "      <td>383</td>\n",
              "      <td>0</td>\n",
              "      <td>0</td>\n",
              "      <td>morning</td>\n",
              "      <td>0.31250</td>\n",
              "      <td>0.013021</td>\n",
              "      <td>0</td>\n",
              "      <td>0</td>\n",
              "      <td>0</td>\n",
              "      <td>0</td>\n",
              "      <td>0</td>\n",
              "      <td>0</td>\n",
              "      <td>0</td>\n",
              "      <td>0</td>\n",
              "      <td>0</td>\n",
              "      <td>0</td>\n",
              "      <td>0</td>\n",
              "      <td>0</td>\n",
              "      <td>0</td>\n",
              "      <td>0</td>\n",
              "      <td>0</td>\n",
              "      <td>0</td>\n",
              "      <td>0</td>\n",
              "      <td>0</td>\n",
              "      <td>0</td>\n",
              "      <td>0</td>\n",
              "      <td>0</td>\n",
              "      <td>0</td>\n",
              "      <td>0</td>\n",
              "      <td>0</td>\n",
              "      <td>0</td>\n",
              "      <td>0</td>\n",
              "      <td>...</td>\n",
              "      <td>0</td>\n",
              "      <td>0</td>\n",
              "      <td>0</td>\n",
              "      <td>0</td>\n",
              "      <td>0</td>\n",
              "      <td>0</td>\n",
              "      <td>0</td>\n",
              "      <td>0</td>\n",
              "      <td>0</td>\n",
              "      <td>0</td>\n",
              "      <td>0</td>\n",
              "      <td>0</td>\n",
              "      <td>0</td>\n",
              "      <td>0</td>\n",
              "      <td>0</td>\n",
              "      <td>0</td>\n",
              "      <td>0</td>\n",
              "      <td>0</td>\n",
              "      <td>0</td>\n",
              "      <td>0</td>\n",
              "      <td>0</td>\n",
              "      <td>0</td>\n",
              "      <td>0</td>\n",
              "      <td>0</td>\n",
              "      <td>0</td>\n",
              "      <td>0</td>\n",
              "      <td>0</td>\n",
              "      <td>0</td>\n",
              "      <td>0</td>\n",
              "      <td>0</td>\n",
              "      <td>0</td>\n",
              "      <td>0</td>\n",
              "      <td>0</td>\n",
              "      <td>0</td>\n",
              "      <td>0</td>\n",
              "      <td>0</td>\n",
              "      <td>0</td>\n",
              "      <td>0</td>\n",
              "      <td>0</td>\n",
              "      <td>2787</td>\n",
              "    </tr>\n",
              "    <tr>\n",
              "      <th>24397</th>\n",
              "      <td>NovemberMan_11</td>\n",
              "      <td>Twitter Web App</td>\n",
              "      <td>0</td>\n",
              "      <td>0</td>\n",
              "      <td>149</td>\n",
              "      <td>0</td>\n",
              "      <td>country_code NA</td>\n",
              "      <td>20</td>\n",
              "      <td>244</td>\n",
              "      <td>0</td>\n",
              "      <td>1</td>\n",
              "      <td>evening</td>\n",
              "      <td>0.12500</td>\n",
              "      <td>0.005208</td>\n",
              "      <td>0</td>\n",
              "      <td>0</td>\n",
              "      <td>0</td>\n",
              "      <td>0</td>\n",
              "      <td>0</td>\n",
              "      <td>0</td>\n",
              "      <td>0</td>\n",
              "      <td>0</td>\n",
              "      <td>0</td>\n",
              "      <td>0</td>\n",
              "      <td>0</td>\n",
              "      <td>0</td>\n",
              "      <td>0</td>\n",
              "      <td>0</td>\n",
              "      <td>0</td>\n",
              "      <td>0</td>\n",
              "      <td>0</td>\n",
              "      <td>0</td>\n",
              "      <td>0</td>\n",
              "      <td>0</td>\n",
              "      <td>0</td>\n",
              "      <td>0</td>\n",
              "      <td>0</td>\n",
              "      <td>0</td>\n",
              "      <td>0</td>\n",
              "      <td>0</td>\n",
              "      <td>...</td>\n",
              "      <td>0</td>\n",
              "      <td>0</td>\n",
              "      <td>0</td>\n",
              "      <td>0</td>\n",
              "      <td>0</td>\n",
              "      <td>0</td>\n",
              "      <td>0</td>\n",
              "      <td>0</td>\n",
              "      <td>0</td>\n",
              "      <td>0</td>\n",
              "      <td>0</td>\n",
              "      <td>0</td>\n",
              "      <td>0</td>\n",
              "      <td>0</td>\n",
              "      <td>0</td>\n",
              "      <td>0</td>\n",
              "      <td>0</td>\n",
              "      <td>0</td>\n",
              "      <td>0</td>\n",
              "      <td>0</td>\n",
              "      <td>0</td>\n",
              "      <td>0</td>\n",
              "      <td>0</td>\n",
              "      <td>0</td>\n",
              "      <td>0</td>\n",
              "      <td>0</td>\n",
              "      <td>0</td>\n",
              "      <td>0</td>\n",
              "      <td>0</td>\n",
              "      <td>0</td>\n",
              "      <td>0</td>\n",
              "      <td>0</td>\n",
              "      <td>0</td>\n",
              "      <td>0</td>\n",
              "      <td>0</td>\n",
              "      <td>0</td>\n",
              "      <td>0</td>\n",
              "      <td>0</td>\n",
              "      <td>0</td>\n",
              "      <td>1714</td>\n",
              "    </tr>\n",
              "    <tr>\n",
              "      <th>24398</th>\n",
              "      <td>Epilepsy_2020</td>\n",
              "      <td>Twitter Web App</td>\n",
              "      <td>0</td>\n",
              "      <td>0</td>\n",
              "      <td>170</td>\n",
              "      <td>1</td>\n",
              "      <td>country_code NA</td>\n",
              "      <td>409</td>\n",
              "      <td>801</td>\n",
              "      <td>0</td>\n",
              "      <td>0</td>\n",
              "      <td>morning</td>\n",
              "      <td>0.34375</td>\n",
              "      <td>0.014323</td>\n",
              "      <td>0</td>\n",
              "      <td>0</td>\n",
              "      <td>0</td>\n",
              "      <td>0</td>\n",
              "      <td>0</td>\n",
              "      <td>0</td>\n",
              "      <td>0</td>\n",
              "      <td>0</td>\n",
              "      <td>0</td>\n",
              "      <td>0</td>\n",
              "      <td>0</td>\n",
              "      <td>0</td>\n",
              "      <td>0</td>\n",
              "      <td>0</td>\n",
              "      <td>0</td>\n",
              "      <td>0</td>\n",
              "      <td>0</td>\n",
              "      <td>0</td>\n",
              "      <td>2</td>\n",
              "      <td>1</td>\n",
              "      <td>1</td>\n",
              "      <td>0</td>\n",
              "      <td>0</td>\n",
              "      <td>0</td>\n",
              "      <td>0</td>\n",
              "      <td>0</td>\n",
              "      <td>...</td>\n",
              "      <td>0</td>\n",
              "      <td>0</td>\n",
              "      <td>0</td>\n",
              "      <td>0</td>\n",
              "      <td>0</td>\n",
              "      <td>0</td>\n",
              "      <td>0</td>\n",
              "      <td>0</td>\n",
              "      <td>0</td>\n",
              "      <td>0</td>\n",
              "      <td>0</td>\n",
              "      <td>0</td>\n",
              "      <td>0</td>\n",
              "      <td>0</td>\n",
              "      <td>0</td>\n",
              "      <td>0</td>\n",
              "      <td>0</td>\n",
              "      <td>0</td>\n",
              "      <td>0</td>\n",
              "      <td>0</td>\n",
              "      <td>0</td>\n",
              "      <td>0</td>\n",
              "      <td>0</td>\n",
              "      <td>0</td>\n",
              "      <td>0</td>\n",
              "      <td>0</td>\n",
              "      <td>0</td>\n",
              "      <td>0</td>\n",
              "      <td>0</td>\n",
              "      <td>0</td>\n",
              "      <td>0</td>\n",
              "      <td>0</td>\n",
              "      <td>0</td>\n",
              "      <td>0</td>\n",
              "      <td>0</td>\n",
              "      <td>0</td>\n",
              "      <td>0</td>\n",
              "      <td>0</td>\n",
              "      <td>0</td>\n",
              "      <td>933</td>\n",
              "    </tr>\n",
              "    <tr>\n",
              "      <th>24399</th>\n",
              "      <td>NASCIO</td>\n",
              "      <td>TweetDeck</td>\n",
              "      <td>0</td>\n",
              "      <td>0</td>\n",
              "      <td>6241</td>\n",
              "      <td>0</td>\n",
              "      <td>country_code NA</td>\n",
              "      <td>6954</td>\n",
              "      <td>630</td>\n",
              "      <td>0</td>\n",
              "      <td>0</td>\n",
              "      <td>evening</td>\n",
              "      <td>0.37500</td>\n",
              "      <td>0.015625</td>\n",
              "      <td>0</td>\n",
              "      <td>0</td>\n",
              "      <td>0</td>\n",
              "      <td>0</td>\n",
              "      <td>0</td>\n",
              "      <td>0</td>\n",
              "      <td>0</td>\n",
              "      <td>0</td>\n",
              "      <td>0</td>\n",
              "      <td>0</td>\n",
              "      <td>0</td>\n",
              "      <td>0</td>\n",
              "      <td>0</td>\n",
              "      <td>0</td>\n",
              "      <td>0</td>\n",
              "      <td>0</td>\n",
              "      <td>0</td>\n",
              "      <td>0</td>\n",
              "      <td>0</td>\n",
              "      <td>0</td>\n",
              "      <td>0</td>\n",
              "      <td>0</td>\n",
              "      <td>0</td>\n",
              "      <td>0</td>\n",
              "      <td>0</td>\n",
              "      <td>0</td>\n",
              "      <td>...</td>\n",
              "      <td>0</td>\n",
              "      <td>0</td>\n",
              "      <td>0</td>\n",
              "      <td>0</td>\n",
              "      <td>0</td>\n",
              "      <td>0</td>\n",
              "      <td>0</td>\n",
              "      <td>0</td>\n",
              "      <td>0</td>\n",
              "      <td>0</td>\n",
              "      <td>0</td>\n",
              "      <td>0</td>\n",
              "      <td>0</td>\n",
              "      <td>0</td>\n",
              "      <td>0</td>\n",
              "      <td>0</td>\n",
              "      <td>0</td>\n",
              "      <td>0</td>\n",
              "      <td>0</td>\n",
              "      <td>0</td>\n",
              "      <td>0</td>\n",
              "      <td>0</td>\n",
              "      <td>0</td>\n",
              "      <td>0</td>\n",
              "      <td>0</td>\n",
              "      <td>0</td>\n",
              "      <td>0</td>\n",
              "      <td>0</td>\n",
              "      <td>0</td>\n",
              "      <td>0</td>\n",
              "      <td>0</td>\n",
              "      <td>0</td>\n",
              "      <td>0</td>\n",
              "      <td>0</td>\n",
              "      <td>0</td>\n",
              "      <td>0</td>\n",
              "      <td>0</td>\n",
              "      <td>0</td>\n",
              "      <td>0</td>\n",
              "      <td>4080</td>\n",
              "    </tr>\n",
              "  </tbody>\n",
              "</table>\n",
              "<p>24400 rows × 959 columns</p>\n",
              "</div>"
            ],
            "text/plain": [
              "           screen_name               source  ...  t_youtube  account_age\n",
              "0      TrumpTruth_2020      Twitter Web App  ...          0          913\n",
              "1            issafrica       Hootsuite Inc.  ...          0         3918\n",
              "2          MeghaaGhosh  Twitter for Android  ...          0         3928\n",
              "3        khotsohlangus  Twitter for Android  ...          0         2748\n",
              "4        AlArabiya_Eng             Sprinklr  ...          0         4069\n",
              "...                ...                  ...  ...        ...          ...\n",
              "24395    cmaconthehill      Twitter Web App  ...          0         3344\n",
              "24396  Martin_Stillman   Twitter for iPhone  ...          0         2787\n",
              "24397   NovemberMan_11      Twitter Web App  ...          0         1714\n",
              "24398    Epilepsy_2020      Twitter Web App  ...          0          933\n",
              "24399           NASCIO            TweetDeck  ...          0         4080\n",
              "\n",
              "[24400 rows x 959 columns]"
            ]
          },
          "metadata": {},
          "execution_count": 146
        }
      ]
    },
    {
      "cell_type": "code",
      "metadata": {
        "id": "xzi6ZyYnrbjC"
      },
      "source": [
        "def my_ohe_converter(series, prefix=''):\n",
        "  '''\n",
        "  -INPUT-\n",
        "  series: pandas series of categorical column\n",
        "  prefix: prefix you want to add in front of every encoded feature\n",
        "    default is empty string\n",
        "\n",
        "  -OUTPUT-\n",
        "  pandas dataframe of one hot encoded matrix (it will be dense)\n",
        "  '''\n",
        "  # instantiate\n",
        "  ohe = OneHotEncoder()\n",
        "  # ohe expects a 2D array, so first convert it to dataframe\n",
        "  subcategory = pd.DataFrame(series)\n",
        "\n",
        "  # one hot encode\n",
        "  encoded = ohe.fit_transform(subcategory)\n",
        "\n",
        "  # convert the sparse matrix to dense array before making it a dataframe\n",
        "  dense_array = encoded.toarray()\n",
        "  # make it a dataframe\n",
        "  encoded_df = pd.DataFrame(dense_array, columns = ohe.categories_, dtype=int)\n",
        "  # add prefix\n",
        "  encoded_df = encoded_df.add_prefix(prefix)\n",
        "\n",
        "  return encoded_df\n",
        "\n"
      ],
      "execution_count": 147,
      "outputs": []
    },
    {
      "cell_type": "markdown",
      "metadata": {
        "id": "rOaRqv8ntoy0"
      },
      "source": [
        "Using the above function let's convert the non-numeric columns into numeric columns."
      ]
    },
    {
      "cell_type": "code",
      "metadata": {
        "colab": {
          "base_uri": "https://localhost:8080/",
          "height": 737
        },
        "id": "2iKrokcNtHdy",
        "outputId": "3e7b6c03-1b53-407d-dd2d-8902b6a137a0"
      },
      "source": [
        "# convert screen_name to numeric columns\n",
        "screen_name_series = tweets_small_sample_vectorized2['screen_name']\n",
        "screen_name_prefix = 'name_'\n",
        "screen_name_encoded_df = my_ohe_converter(screen_name_series, screen_name_prefix)\n",
        "\n",
        "# check\n",
        "print(f'shape of screen_name_encoded_df: {screen_name_encoded_df.shape}')\n",
        "# preview\n",
        "display(screen_name_encoded_df.head(3))\n",
        "\n",
        "# convert source\n",
        "source_series = tweets_small_sample_vectorized2['source']\n",
        "source_prefix = 'source_'\n",
        "source_encoded_df = my_ohe_converter(source_series, source_prefix)\n",
        "\n",
        "# check\n",
        "print(f'shape of source_encoded_df: {source_encoded_df.shape}')\n",
        "# preview\n",
        "display(source_encoded_df.head(3))\n",
        "\n",
        "# convert country_code\n",
        "country_code_series = tweets_small_sample_vectorized2['country_code']\n",
        "country_code_prefix = 'country_'\n",
        "country_code_encoded_df = my_ohe_converter(country_code_series, country_code_prefix)\n",
        "\n",
        "# check\n",
        "print(f'shape of country_code_encoded_df: {country_code_encoded_df.shape}')\n",
        "# preview\n",
        "display(country_code_encoded_df.head(3))\n",
        "\n",
        "\n",
        "# convert time_of_day\n",
        "time_of_day_series = tweets_small_sample_vectorized2['time_of_day']\n",
        "time_of_day_prefix = 'time_'\n",
        "time_of_day_encoded_df = my_ohe_converter(time_of_day_series, time_of_day_prefix)\n",
        "\n",
        "# check\n",
        "print(f'shape of time_of_day_encoded_df: {time_of_day_encoded_df.shape}')\n",
        "# preview\n",
        "display(time_of_day_encoded_df.head(3))"
      ],
      "execution_count": 148,
      "outputs": [
        {
          "output_type": "stream",
          "name": "stdout",
          "text": [
            "shape of screen_name_encoded_df: (24400, 22041)\n"
          ]
        },
        {
          "output_type": "display_data",
          "data": {
            "text/html": [
              "<div>\n",
              "<style scoped>\n",
              "    .dataframe tbody tr th:only-of-type {\n",
              "        vertical-align: middle;\n",
              "    }\n",
              "\n",
              "    .dataframe tbody tr th {\n",
              "        vertical-align: top;\n",
              "    }\n",
              "\n",
              "    .dataframe thead tr th {\n",
              "        text-align: left;\n",
              "    }\n",
              "</style>\n",
              "<table border=\"1\" class=\"dataframe\">\n",
              "  <thead>\n",
              "    <tr>\n",
              "      <th></th>\n",
              "      <th>name_007innewyork</th>\n",
              "      <th>name_0331bravo</th>\n",
              "      <th>name_0504Traveller</th>\n",
              "      <th>name_07hannahm02</th>\n",
              "      <th>name_07telecom</th>\n",
              "      <th>name_08meghana</th>\n",
              "      <th>name_0biJon</th>\n",
              "      <th>name_0c959fa2c845485</th>\n",
              "      <th>name_0urcellardoor</th>\n",
              "      <th>name_1004Smiles</th>\n",
              "      <th>name_100WordSolitude</th>\n",
              "      <th>name_100thofasec</th>\n",
              "      <th>name_1055WDUV</th>\n",
              "      <th>name_1059TheRegion</th>\n",
              "      <th>name_10DaysThatShook</th>\n",
              "      <th>name_10DowningStreet</th>\n",
              "      <th>name_10F01C0</th>\n",
              "      <th>name_10NewsCoronel</th>\n",
              "      <th>name_10NewsFirst</th>\n",
              "      <th>name_10NewsFirstAdl</th>\n",
              "      <th>name_10print20goto10</th>\n",
              "      <th>name_120DegreesMNL</th>\n",
              "      <th>name_1212D33P</th>\n",
              "      <th>name_123izzie</th>\n",
              "      <th>name_13Somebodyelse</th>\n",
              "      <th>name_13nikoclemmons</th>\n",
              "      <th>name_16thOctoberGr</th>\n",
              "      <th>name_1776Unites</th>\n",
              "      <th>name_1776usafreedom</th>\n",
              "      <th>name_17GEN4</th>\n",
              "      <th>name_1956bbay</th>\n",
              "      <th>name_1993emilyrs</th>\n",
              "      <th>name_19CovAid</th>\n",
              "      <th>name_1ChanceDiamond</th>\n",
              "      <th>name_1ChordWonder</th>\n",
              "      <th>name_1Climat</th>\n",
              "      <th>name_1CrimsonRoad</th>\n",
              "      <th>name_1DrCath</th>\n",
              "      <th>name_1HowardWalker</th>\n",
              "      <th>name_1Kimsey</th>\n",
              "      <th>...</th>\n",
              "      <th>name_zeeman4</th>\n",
              "      <th>name_zeenatfazil</th>\n",
              "      <th>name_zeesalaamtweet</th>\n",
              "      <th>name_zeeshanabro</th>\n",
              "      <th>name_zeidislost</th>\n",
              "      <th>name_zeke_thomas</th>\n",
              "      <th>name_zeldalaflame</th>\n",
              "      <th>name_zelispayments</th>\n",
              "      <th>name_zen_coyote</th>\n",
              "      <th>name_zenitholidays</th>\n",
              "      <th>name_zenmagafrica</th>\n",
              "      <th>name_zenobia960</th>\n",
              "      <th>name_zerointheuk</th>\n",
              "      <th>name_zexzx</th>\n",
              "      <th>name_zeyad9999</th>\n",
              "      <th>name_zidhiva</th>\n",
              "      <th>name_zin_zah</th>\n",
              "      <th>name_zincleadore</th>\n",
              "      <th>name_zippeddy</th>\n",
              "      <th>name_zipporahmoses</th>\n",
              "      <th>name_zittokabwe</th>\n",
              "      <th>name_zizabella</th>\n",
              "      <th>name_zkusovac</th>\n",
              "      <th>name_zlinuxguy</th>\n",
              "      <th>name_zobop_republic</th>\n",
              "      <th>name_zoe_greenwald</th>\n",
              "      <th>name_zoecology</th>\n",
              "      <th>name_zoemedia16</th>\n",
              "      <th>name_zoescaman</th>\n",
              "      <th>name_zoinxy</th>\n",
              "      <th>name_zoumrouda</th>\n",
              "      <th>name_ztarasj</th>\n",
              "      <th>name_zubair674</th>\n",
              "      <th>name_zubair_m_ahmed</th>\n",
              "      <th>name_zules7172</th>\n",
              "      <th>name_zunran</th>\n",
              "      <th>name_zuschoen</th>\n",
              "      <th>name_zwitterion_work</th>\n",
              "      <th>name_zzxang86</th>\n",
              "      <th>name_zzziiinnnggg</th>\n",
              "    </tr>\n",
              "  </thead>\n",
              "  <tbody>\n",
              "    <tr>\n",
              "      <th>0</th>\n",
              "      <td>0</td>\n",
              "      <td>0</td>\n",
              "      <td>0</td>\n",
              "      <td>0</td>\n",
              "      <td>0</td>\n",
              "      <td>0</td>\n",
              "      <td>0</td>\n",
              "      <td>0</td>\n",
              "      <td>0</td>\n",
              "      <td>0</td>\n",
              "      <td>0</td>\n",
              "      <td>0</td>\n",
              "      <td>0</td>\n",
              "      <td>0</td>\n",
              "      <td>0</td>\n",
              "      <td>0</td>\n",
              "      <td>0</td>\n",
              "      <td>0</td>\n",
              "      <td>0</td>\n",
              "      <td>0</td>\n",
              "      <td>0</td>\n",
              "      <td>0</td>\n",
              "      <td>0</td>\n",
              "      <td>0</td>\n",
              "      <td>0</td>\n",
              "      <td>0</td>\n",
              "      <td>0</td>\n",
              "      <td>0</td>\n",
              "      <td>0</td>\n",
              "      <td>0</td>\n",
              "      <td>0</td>\n",
              "      <td>0</td>\n",
              "      <td>0</td>\n",
              "      <td>0</td>\n",
              "      <td>0</td>\n",
              "      <td>0</td>\n",
              "      <td>0</td>\n",
              "      <td>0</td>\n",
              "      <td>0</td>\n",
              "      <td>0</td>\n",
              "      <td>...</td>\n",
              "      <td>0</td>\n",
              "      <td>0</td>\n",
              "      <td>0</td>\n",
              "      <td>0</td>\n",
              "      <td>0</td>\n",
              "      <td>0</td>\n",
              "      <td>0</td>\n",
              "      <td>0</td>\n",
              "      <td>0</td>\n",
              "      <td>0</td>\n",
              "      <td>0</td>\n",
              "      <td>0</td>\n",
              "      <td>0</td>\n",
              "      <td>0</td>\n",
              "      <td>0</td>\n",
              "      <td>0</td>\n",
              "      <td>0</td>\n",
              "      <td>0</td>\n",
              "      <td>0</td>\n",
              "      <td>0</td>\n",
              "      <td>0</td>\n",
              "      <td>0</td>\n",
              "      <td>0</td>\n",
              "      <td>0</td>\n",
              "      <td>0</td>\n",
              "      <td>0</td>\n",
              "      <td>0</td>\n",
              "      <td>0</td>\n",
              "      <td>0</td>\n",
              "      <td>0</td>\n",
              "      <td>0</td>\n",
              "      <td>0</td>\n",
              "      <td>0</td>\n",
              "      <td>0</td>\n",
              "      <td>0</td>\n",
              "      <td>0</td>\n",
              "      <td>0</td>\n",
              "      <td>0</td>\n",
              "      <td>0</td>\n",
              "      <td>0</td>\n",
              "    </tr>\n",
              "    <tr>\n",
              "      <th>1</th>\n",
              "      <td>0</td>\n",
              "      <td>0</td>\n",
              "      <td>0</td>\n",
              "      <td>0</td>\n",
              "      <td>0</td>\n",
              "      <td>0</td>\n",
              "      <td>0</td>\n",
              "      <td>0</td>\n",
              "      <td>0</td>\n",
              "      <td>0</td>\n",
              "      <td>0</td>\n",
              "      <td>0</td>\n",
              "      <td>0</td>\n",
              "      <td>0</td>\n",
              "      <td>0</td>\n",
              "      <td>0</td>\n",
              "      <td>0</td>\n",
              "      <td>0</td>\n",
              "      <td>0</td>\n",
              "      <td>0</td>\n",
              "      <td>0</td>\n",
              "      <td>0</td>\n",
              "      <td>0</td>\n",
              "      <td>0</td>\n",
              "      <td>0</td>\n",
              "      <td>0</td>\n",
              "      <td>0</td>\n",
              "      <td>0</td>\n",
              "      <td>0</td>\n",
              "      <td>0</td>\n",
              "      <td>0</td>\n",
              "      <td>0</td>\n",
              "      <td>0</td>\n",
              "      <td>0</td>\n",
              "      <td>0</td>\n",
              "      <td>0</td>\n",
              "      <td>0</td>\n",
              "      <td>0</td>\n",
              "      <td>0</td>\n",
              "      <td>0</td>\n",
              "      <td>...</td>\n",
              "      <td>0</td>\n",
              "      <td>0</td>\n",
              "      <td>0</td>\n",
              "      <td>0</td>\n",
              "      <td>0</td>\n",
              "      <td>0</td>\n",
              "      <td>0</td>\n",
              "      <td>0</td>\n",
              "      <td>0</td>\n",
              "      <td>0</td>\n",
              "      <td>0</td>\n",
              "      <td>0</td>\n",
              "      <td>0</td>\n",
              "      <td>0</td>\n",
              "      <td>0</td>\n",
              "      <td>0</td>\n",
              "      <td>0</td>\n",
              "      <td>0</td>\n",
              "      <td>0</td>\n",
              "      <td>0</td>\n",
              "      <td>0</td>\n",
              "      <td>0</td>\n",
              "      <td>0</td>\n",
              "      <td>0</td>\n",
              "      <td>0</td>\n",
              "      <td>0</td>\n",
              "      <td>0</td>\n",
              "      <td>0</td>\n",
              "      <td>0</td>\n",
              "      <td>0</td>\n",
              "      <td>0</td>\n",
              "      <td>0</td>\n",
              "      <td>0</td>\n",
              "      <td>0</td>\n",
              "      <td>0</td>\n",
              "      <td>0</td>\n",
              "      <td>0</td>\n",
              "      <td>0</td>\n",
              "      <td>0</td>\n",
              "      <td>0</td>\n",
              "    </tr>\n",
              "    <tr>\n",
              "      <th>2</th>\n",
              "      <td>0</td>\n",
              "      <td>0</td>\n",
              "      <td>0</td>\n",
              "      <td>0</td>\n",
              "      <td>0</td>\n",
              "      <td>0</td>\n",
              "      <td>0</td>\n",
              "      <td>0</td>\n",
              "      <td>0</td>\n",
              "      <td>0</td>\n",
              "      <td>0</td>\n",
              "      <td>0</td>\n",
              "      <td>0</td>\n",
              "      <td>0</td>\n",
              "      <td>0</td>\n",
              "      <td>0</td>\n",
              "      <td>0</td>\n",
              "      <td>0</td>\n",
              "      <td>0</td>\n",
              "      <td>0</td>\n",
              "      <td>0</td>\n",
              "      <td>0</td>\n",
              "      <td>0</td>\n",
              "      <td>0</td>\n",
              "      <td>0</td>\n",
              "      <td>0</td>\n",
              "      <td>0</td>\n",
              "      <td>0</td>\n",
              "      <td>0</td>\n",
              "      <td>0</td>\n",
              "      <td>0</td>\n",
              "      <td>0</td>\n",
              "      <td>0</td>\n",
              "      <td>0</td>\n",
              "      <td>0</td>\n",
              "      <td>0</td>\n",
              "      <td>0</td>\n",
              "      <td>0</td>\n",
              "      <td>0</td>\n",
              "      <td>0</td>\n",
              "      <td>...</td>\n",
              "      <td>0</td>\n",
              "      <td>0</td>\n",
              "      <td>0</td>\n",
              "      <td>0</td>\n",
              "      <td>0</td>\n",
              "      <td>0</td>\n",
              "      <td>0</td>\n",
              "      <td>0</td>\n",
              "      <td>0</td>\n",
              "      <td>0</td>\n",
              "      <td>0</td>\n",
              "      <td>0</td>\n",
              "      <td>0</td>\n",
              "      <td>0</td>\n",
              "      <td>0</td>\n",
              "      <td>0</td>\n",
              "      <td>0</td>\n",
              "      <td>0</td>\n",
              "      <td>0</td>\n",
              "      <td>0</td>\n",
              "      <td>0</td>\n",
              "      <td>0</td>\n",
              "      <td>0</td>\n",
              "      <td>0</td>\n",
              "      <td>0</td>\n",
              "      <td>0</td>\n",
              "      <td>0</td>\n",
              "      <td>0</td>\n",
              "      <td>0</td>\n",
              "      <td>0</td>\n",
              "      <td>0</td>\n",
              "      <td>0</td>\n",
              "      <td>0</td>\n",
              "      <td>0</td>\n",
              "      <td>0</td>\n",
              "      <td>0</td>\n",
              "      <td>0</td>\n",
              "      <td>0</td>\n",
              "      <td>0</td>\n",
              "      <td>0</td>\n",
              "    </tr>\n",
              "  </tbody>\n",
              "</table>\n",
              "<p>3 rows × 22041 columns</p>\n",
              "</div>"
            ],
            "text/plain": [
              "  name_007innewyork name_0331bravo  ... name_zzxang86 name_zzziiinnnggg\n",
              "0                 0              0  ...             0                 0\n",
              "1                 0              0  ...             0                 0\n",
              "2                 0              0  ...             0                 0\n",
              "\n",
              "[3 rows x 22041 columns]"
            ]
          },
          "metadata": {}
        },
        {
          "output_type": "stream",
          "name": "stdout",
          "text": [
            "shape of source_encoded_df: (24400, 333)\n"
          ]
        },
        {
          "output_type": "display_data",
          "data": {
            "text/html": [
              "<div>\n",
              "<style scoped>\n",
              "    .dataframe tbody tr th:only-of-type {\n",
              "        vertical-align: middle;\n",
              "    }\n",
              "\n",
              "    .dataframe tbody tr th {\n",
              "        vertical-align: top;\n",
              "    }\n",
              "\n",
              "    .dataframe thead tr th {\n",
              "        text-align: left;\n",
              "    }\n",
              "</style>\n",
              "<table border=\"1\" class=\"dataframe\">\n",
              "  <thead>\n",
              "    <tr>\n",
              "      <th></th>\n",
              "      <th>source_1buvtw</th>\n",
              "      <th>source_@thedextazlab</th>\n",
              "      <th>source_Africa Newsroom</th>\n",
              "      <th>source_Agenparl</th>\n",
              "      <th>source_AgoraPulse Manager</th>\n",
              "      <th>source_Aiir</th>\n",
              "      <th>source_Alexander Higgins</th>\n",
              "      <th>source_AmazingContent</th>\n",
              "      <th>source_Amazon USA</th>\n",
              "      <th>source_Apphi</th>\n",
              "      <th>source_Appleinsider.com</th>\n",
              "      <th>source_AudioburstPublisher</th>\n",
              "      <th>source_Auto tweets</th>\n",
              "      <th>source_BHIVE Nectar</th>\n",
              "      <th>source_BLOX CMS</th>\n",
              "      <th>source_BT03</th>\n",
              "      <th>source_Back At You Media</th>\n",
              "      <th>source_Bambu by Sprout Social</th>\n",
              "      <th>source_Bitly</th>\n",
              "      <th>source_Bizcommunity.com</th>\n",
              "      <th>source_Blog2Social APP</th>\n",
              "      <th>source_Blogoal.com</th>\n",
              "      <th>source_Boma Marketing</th>\n",
              "      <th>source_BorderScanner</th>\n",
              "      <th>source_Bot_Confinement</th>\n",
              "      <th>source_Buffer</th>\n",
              "      <th>source_COVID-19 Information Bot</th>\n",
              "      <th>source_COVID-19 Tracker</th>\n",
              "      <th>source_COVID19-Tweet</th>\n",
              "      <th>source_COVID19-Updates</th>\n",
              "      <th>source_Campaign Share</th>\n",
              "      <th>source_Cancer Health Auto Tweet</th>\n",
              "      <th>source_Canva</th>\n",
              "      <th>source_CaronaBot</th>\n",
              "      <th>source_Cassie Feld</th>\n",
              "      <th>source_Cavin</th>\n",
              "      <th>source_Cemoh News</th>\n",
              "      <th>source_Cheap Bots, Done Quick!</th>\n",
              "      <th>source_China Xinhua News</th>\n",
              "      <th>source_Clearview Social, Inc.</th>\n",
              "      <th>...</th>\n",
              "      <th>source_coronavirus data</th>\n",
              "      <th>source_covid19oceanupdate</th>\n",
              "      <th>source_dailytubetv</th>\n",
              "      <th>source_dlvr.it</th>\n",
              "      <th>source_dnh twitter publisher</th>\n",
              "      <th>source_drumup.io</th>\n",
              "      <th>source_eClincher</th>\n",
              "      <th>source_eupdater</th>\n",
              "      <th>source_feednews24</th>\n",
              "      <th>source_floridapolitics.com</th>\n",
              "      <th>source_histeriusapp</th>\n",
              "      <th>source_iOS</th>\n",
              "      <th>source_ifSocial - Deliver Media</th>\n",
              "      <th>source_internetinfos</th>\n",
              "      <th>source_londonlovesbusiness</th>\n",
              "      <th>source_mLabs - Gestão de Redes Sociais</th>\n",
              "      <th>source_mehabe123</th>\n",
              "      <th>source_moespi2</th>\n",
              "      <th>source_mpsontwitter.co.uk</th>\n",
              "      <th>source_netllamabti</th>\n",
              "      <th>source_newsR</th>\n",
              "      <th>source_nwindianabusiness.com</th>\n",
              "      <th>source_oneindia entertainment</th>\n",
              "      <th>source_oysttyer</th>\n",
              "      <th>source_paulcrypto</th>\n",
              "      <th>source_pfff_shop</th>\n",
              "      <th>source_pillowy mounds</th>\n",
              "      <th>source_preprint-alert</th>\n",
              "      <th>source_prion</th>\n",
              "      <th>source_rate_twitte</th>\n",
              "      <th>source_read an tweet</th>\n",
              "      <th>source_recurpost.com</th>\n",
              "      <th>source_responsibot</th>\n",
              "      <th>source_startbitcoinclick</th>\n",
              "      <th>source_tiorradio1 publisher</th>\n",
              "      <th>source_tiorradio2 publisher</th>\n",
              "      <th>source_tiorradio3 publisher</th>\n",
              "      <th>source_ukniptweeter</th>\n",
              "      <th>source_vitalanon wordpress</th>\n",
              "      <th>source_Оwly</th>\n",
              "    </tr>\n",
              "  </thead>\n",
              "  <tbody>\n",
              "    <tr>\n",
              "      <th>0</th>\n",
              "      <td>0</td>\n",
              "      <td>0</td>\n",
              "      <td>0</td>\n",
              "      <td>0</td>\n",
              "      <td>0</td>\n",
              "      <td>0</td>\n",
              "      <td>0</td>\n",
              "      <td>0</td>\n",
              "      <td>0</td>\n",
              "      <td>0</td>\n",
              "      <td>0</td>\n",
              "      <td>0</td>\n",
              "      <td>0</td>\n",
              "      <td>0</td>\n",
              "      <td>0</td>\n",
              "      <td>0</td>\n",
              "      <td>0</td>\n",
              "      <td>0</td>\n",
              "      <td>0</td>\n",
              "      <td>0</td>\n",
              "      <td>0</td>\n",
              "      <td>0</td>\n",
              "      <td>0</td>\n",
              "      <td>0</td>\n",
              "      <td>0</td>\n",
              "      <td>0</td>\n",
              "      <td>0</td>\n",
              "      <td>0</td>\n",
              "      <td>0</td>\n",
              "      <td>0</td>\n",
              "      <td>0</td>\n",
              "      <td>0</td>\n",
              "      <td>0</td>\n",
              "      <td>0</td>\n",
              "      <td>0</td>\n",
              "      <td>0</td>\n",
              "      <td>0</td>\n",
              "      <td>0</td>\n",
              "      <td>0</td>\n",
              "      <td>0</td>\n",
              "      <td>...</td>\n",
              "      <td>0</td>\n",
              "      <td>0</td>\n",
              "      <td>0</td>\n",
              "      <td>0</td>\n",
              "      <td>0</td>\n",
              "      <td>0</td>\n",
              "      <td>0</td>\n",
              "      <td>0</td>\n",
              "      <td>0</td>\n",
              "      <td>0</td>\n",
              "      <td>0</td>\n",
              "      <td>0</td>\n",
              "      <td>0</td>\n",
              "      <td>0</td>\n",
              "      <td>0</td>\n",
              "      <td>0</td>\n",
              "      <td>0</td>\n",
              "      <td>0</td>\n",
              "      <td>0</td>\n",
              "      <td>0</td>\n",
              "      <td>0</td>\n",
              "      <td>0</td>\n",
              "      <td>0</td>\n",
              "      <td>0</td>\n",
              "      <td>0</td>\n",
              "      <td>0</td>\n",
              "      <td>0</td>\n",
              "      <td>0</td>\n",
              "      <td>0</td>\n",
              "      <td>0</td>\n",
              "      <td>0</td>\n",
              "      <td>0</td>\n",
              "      <td>0</td>\n",
              "      <td>0</td>\n",
              "      <td>0</td>\n",
              "      <td>0</td>\n",
              "      <td>0</td>\n",
              "      <td>0</td>\n",
              "      <td>0</td>\n",
              "      <td>0</td>\n",
              "    </tr>\n",
              "    <tr>\n",
              "      <th>1</th>\n",
              "      <td>0</td>\n",
              "      <td>0</td>\n",
              "      <td>0</td>\n",
              "      <td>0</td>\n",
              "      <td>0</td>\n",
              "      <td>0</td>\n",
              "      <td>0</td>\n",
              "      <td>0</td>\n",
              "      <td>0</td>\n",
              "      <td>0</td>\n",
              "      <td>0</td>\n",
              "      <td>0</td>\n",
              "      <td>0</td>\n",
              "      <td>0</td>\n",
              "      <td>0</td>\n",
              "      <td>0</td>\n",
              "      <td>0</td>\n",
              "      <td>0</td>\n",
              "      <td>0</td>\n",
              "      <td>0</td>\n",
              "      <td>0</td>\n",
              "      <td>0</td>\n",
              "      <td>0</td>\n",
              "      <td>0</td>\n",
              "      <td>0</td>\n",
              "      <td>0</td>\n",
              "      <td>0</td>\n",
              "      <td>0</td>\n",
              "      <td>0</td>\n",
              "      <td>0</td>\n",
              "      <td>0</td>\n",
              "      <td>0</td>\n",
              "      <td>0</td>\n",
              "      <td>0</td>\n",
              "      <td>0</td>\n",
              "      <td>0</td>\n",
              "      <td>0</td>\n",
              "      <td>0</td>\n",
              "      <td>0</td>\n",
              "      <td>0</td>\n",
              "      <td>...</td>\n",
              "      <td>0</td>\n",
              "      <td>0</td>\n",
              "      <td>0</td>\n",
              "      <td>0</td>\n",
              "      <td>0</td>\n",
              "      <td>0</td>\n",
              "      <td>0</td>\n",
              "      <td>0</td>\n",
              "      <td>0</td>\n",
              "      <td>0</td>\n",
              "      <td>0</td>\n",
              "      <td>0</td>\n",
              "      <td>0</td>\n",
              "      <td>0</td>\n",
              "      <td>0</td>\n",
              "      <td>0</td>\n",
              "      <td>0</td>\n",
              "      <td>0</td>\n",
              "      <td>0</td>\n",
              "      <td>0</td>\n",
              "      <td>0</td>\n",
              "      <td>0</td>\n",
              "      <td>0</td>\n",
              "      <td>0</td>\n",
              "      <td>0</td>\n",
              "      <td>0</td>\n",
              "      <td>0</td>\n",
              "      <td>0</td>\n",
              "      <td>0</td>\n",
              "      <td>0</td>\n",
              "      <td>0</td>\n",
              "      <td>0</td>\n",
              "      <td>0</td>\n",
              "      <td>0</td>\n",
              "      <td>0</td>\n",
              "      <td>0</td>\n",
              "      <td>0</td>\n",
              "      <td>0</td>\n",
              "      <td>0</td>\n",
              "      <td>0</td>\n",
              "    </tr>\n",
              "    <tr>\n",
              "      <th>2</th>\n",
              "      <td>0</td>\n",
              "      <td>0</td>\n",
              "      <td>0</td>\n",
              "      <td>0</td>\n",
              "      <td>0</td>\n",
              "      <td>0</td>\n",
              "      <td>0</td>\n",
              "      <td>0</td>\n",
              "      <td>0</td>\n",
              "      <td>0</td>\n",
              "      <td>0</td>\n",
              "      <td>0</td>\n",
              "      <td>0</td>\n",
              "      <td>0</td>\n",
              "      <td>0</td>\n",
              "      <td>0</td>\n",
              "      <td>0</td>\n",
              "      <td>0</td>\n",
              "      <td>0</td>\n",
              "      <td>0</td>\n",
              "      <td>0</td>\n",
              "      <td>0</td>\n",
              "      <td>0</td>\n",
              "      <td>0</td>\n",
              "      <td>0</td>\n",
              "      <td>0</td>\n",
              "      <td>0</td>\n",
              "      <td>0</td>\n",
              "      <td>0</td>\n",
              "      <td>0</td>\n",
              "      <td>0</td>\n",
              "      <td>0</td>\n",
              "      <td>0</td>\n",
              "      <td>0</td>\n",
              "      <td>0</td>\n",
              "      <td>0</td>\n",
              "      <td>0</td>\n",
              "      <td>0</td>\n",
              "      <td>0</td>\n",
              "      <td>0</td>\n",
              "      <td>...</td>\n",
              "      <td>0</td>\n",
              "      <td>0</td>\n",
              "      <td>0</td>\n",
              "      <td>0</td>\n",
              "      <td>0</td>\n",
              "      <td>0</td>\n",
              "      <td>0</td>\n",
              "      <td>0</td>\n",
              "      <td>0</td>\n",
              "      <td>0</td>\n",
              "      <td>0</td>\n",
              "      <td>0</td>\n",
              "      <td>0</td>\n",
              "      <td>0</td>\n",
              "      <td>0</td>\n",
              "      <td>0</td>\n",
              "      <td>0</td>\n",
              "      <td>0</td>\n",
              "      <td>0</td>\n",
              "      <td>0</td>\n",
              "      <td>0</td>\n",
              "      <td>0</td>\n",
              "      <td>0</td>\n",
              "      <td>0</td>\n",
              "      <td>0</td>\n",
              "      <td>0</td>\n",
              "      <td>0</td>\n",
              "      <td>0</td>\n",
              "      <td>0</td>\n",
              "      <td>0</td>\n",
              "      <td>0</td>\n",
              "      <td>0</td>\n",
              "      <td>0</td>\n",
              "      <td>0</td>\n",
              "      <td>0</td>\n",
              "      <td>0</td>\n",
              "      <td>0</td>\n",
              "      <td>0</td>\n",
              "      <td>0</td>\n",
              "      <td>0</td>\n",
              "    </tr>\n",
              "  </tbody>\n",
              "</table>\n",
              "<p>3 rows × 333 columns</p>\n",
              "</div>"
            ],
            "text/plain": [
              "  source_1buvtw source_@thedextazlab  ... source_vitalanon wordpress source_Оwly\n",
              "0             0                    0  ...                          0           0\n",
              "1             0                    0  ...                          0           0\n",
              "2             0                    0  ...                          0           0\n",
              "\n",
              "[3 rows x 333 columns]"
            ]
          },
          "metadata": {}
        },
        {
          "output_type": "stream",
          "name": "stdout",
          "text": [
            "shape of country_code_encoded_df: (24400, 75)\n"
          ]
        },
        {
          "output_type": "display_data",
          "data": {
            "text/html": [
              "<div>\n",
              "<style scoped>\n",
              "    .dataframe tbody tr th:only-of-type {\n",
              "        vertical-align: middle;\n",
              "    }\n",
              "\n",
              "    .dataframe tbody tr th {\n",
              "        vertical-align: top;\n",
              "    }\n",
              "\n",
              "    .dataframe thead tr th {\n",
              "        text-align: left;\n",
              "    }\n",
              "</style>\n",
              "<table border=\"1\" class=\"dataframe\">\n",
              "  <thead>\n",
              "    <tr>\n",
              "      <th></th>\n",
              "      <th>country_AE</th>\n",
              "      <th>country_AF</th>\n",
              "      <th>country_AL</th>\n",
              "      <th>country_AO</th>\n",
              "      <th>country_AT</th>\n",
              "      <th>country_AU</th>\n",
              "      <th>country_BD</th>\n",
              "      <th>country_BE</th>\n",
              "      <th>country_BH</th>\n",
              "      <th>country_BO</th>\n",
              "      <th>country_BR</th>\n",
              "      <th>country_BW</th>\n",
              "      <th>country_CA</th>\n",
              "      <th>country_CD</th>\n",
              "      <th>country_CN</th>\n",
              "      <th>country_DE</th>\n",
              "      <th>country_DJ</th>\n",
              "      <th>country_ES</th>\n",
              "      <th>country_ET</th>\n",
              "      <th>country_FI</th>\n",
              "      <th>country_FJ</th>\n",
              "      <th>country_FR</th>\n",
              "      <th>country_GB</th>\n",
              "      <th>country_GE</th>\n",
              "      <th>country_GH</th>\n",
              "      <th>country_GR</th>\n",
              "      <th>country_GU</th>\n",
              "      <th>country_HK</th>\n",
              "      <th>country_HU</th>\n",
              "      <th>country_ID</th>\n",
              "      <th>country_IE</th>\n",
              "      <th>country_IL</th>\n",
              "      <th>country_IN</th>\n",
              "      <th>country_IQ</th>\n",
              "      <th>country_IS</th>\n",
              "      <th>country_IT</th>\n",
              "      <th>country_JM</th>\n",
              "      <th>country_JP</th>\n",
              "      <th>country_KE</th>\n",
              "      <th>country_KW</th>\n",
              "      <th>country_LK</th>\n",
              "      <th>country_LR</th>\n",
              "      <th>country_LU</th>\n",
              "      <th>country_ME</th>\n",
              "      <th>country_ML</th>\n",
              "      <th>country_MV</th>\n",
              "      <th>country_MX</th>\n",
              "      <th>country_MY</th>\n",
              "      <th>country_NG</th>\n",
              "      <th>country_NL</th>\n",
              "      <th>country_NO</th>\n",
              "      <th>country_NP</th>\n",
              "      <th>country_NZ</th>\n",
              "      <th>country_PA</th>\n",
              "      <th>country_PE</th>\n",
              "      <th>country_PH</th>\n",
              "      <th>country_PK</th>\n",
              "      <th>country_PL</th>\n",
              "      <th>country_PT</th>\n",
              "      <th>country_RW</th>\n",
              "      <th>country_SA</th>\n",
              "      <th>country_SE</th>\n",
              "      <th>country_SG</th>\n",
              "      <th>country_SN</th>\n",
              "      <th>country_SO</th>\n",
              "      <th>country_TG</th>\n",
              "      <th>country_TH</th>\n",
              "      <th>country_TR</th>\n",
              "      <th>country_TZ</th>\n",
              "      <th>country_UG</th>\n",
              "      <th>country_US</th>\n",
              "      <th>country_ZA</th>\n",
              "      <th>country_ZM</th>\n",
              "      <th>country_ZW</th>\n",
              "      <th>country_country_code NA</th>\n",
              "    </tr>\n",
              "  </thead>\n",
              "  <tbody>\n",
              "    <tr>\n",
              "      <th>0</th>\n",
              "      <td>0</td>\n",
              "      <td>0</td>\n",
              "      <td>0</td>\n",
              "      <td>0</td>\n",
              "      <td>0</td>\n",
              "      <td>0</td>\n",
              "      <td>0</td>\n",
              "      <td>0</td>\n",
              "      <td>0</td>\n",
              "      <td>0</td>\n",
              "      <td>0</td>\n",
              "      <td>0</td>\n",
              "      <td>0</td>\n",
              "      <td>0</td>\n",
              "      <td>0</td>\n",
              "      <td>0</td>\n",
              "      <td>0</td>\n",
              "      <td>0</td>\n",
              "      <td>0</td>\n",
              "      <td>0</td>\n",
              "      <td>0</td>\n",
              "      <td>0</td>\n",
              "      <td>0</td>\n",
              "      <td>0</td>\n",
              "      <td>0</td>\n",
              "      <td>0</td>\n",
              "      <td>0</td>\n",
              "      <td>0</td>\n",
              "      <td>0</td>\n",
              "      <td>0</td>\n",
              "      <td>0</td>\n",
              "      <td>0</td>\n",
              "      <td>0</td>\n",
              "      <td>0</td>\n",
              "      <td>0</td>\n",
              "      <td>0</td>\n",
              "      <td>0</td>\n",
              "      <td>0</td>\n",
              "      <td>0</td>\n",
              "      <td>0</td>\n",
              "      <td>0</td>\n",
              "      <td>0</td>\n",
              "      <td>0</td>\n",
              "      <td>0</td>\n",
              "      <td>0</td>\n",
              "      <td>0</td>\n",
              "      <td>0</td>\n",
              "      <td>0</td>\n",
              "      <td>0</td>\n",
              "      <td>0</td>\n",
              "      <td>0</td>\n",
              "      <td>0</td>\n",
              "      <td>0</td>\n",
              "      <td>0</td>\n",
              "      <td>0</td>\n",
              "      <td>0</td>\n",
              "      <td>0</td>\n",
              "      <td>0</td>\n",
              "      <td>0</td>\n",
              "      <td>0</td>\n",
              "      <td>0</td>\n",
              "      <td>0</td>\n",
              "      <td>0</td>\n",
              "      <td>0</td>\n",
              "      <td>0</td>\n",
              "      <td>0</td>\n",
              "      <td>0</td>\n",
              "      <td>0</td>\n",
              "      <td>0</td>\n",
              "      <td>0</td>\n",
              "      <td>0</td>\n",
              "      <td>0</td>\n",
              "      <td>0</td>\n",
              "      <td>0</td>\n",
              "      <td>1</td>\n",
              "    </tr>\n",
              "    <tr>\n",
              "      <th>1</th>\n",
              "      <td>0</td>\n",
              "      <td>0</td>\n",
              "      <td>0</td>\n",
              "      <td>0</td>\n",
              "      <td>0</td>\n",
              "      <td>0</td>\n",
              "      <td>0</td>\n",
              "      <td>0</td>\n",
              "      <td>0</td>\n",
              "      <td>0</td>\n",
              "      <td>0</td>\n",
              "      <td>0</td>\n",
              "      <td>0</td>\n",
              "      <td>0</td>\n",
              "      <td>0</td>\n",
              "      <td>0</td>\n",
              "      <td>0</td>\n",
              "      <td>0</td>\n",
              "      <td>0</td>\n",
              "      <td>0</td>\n",
              "      <td>0</td>\n",
              "      <td>0</td>\n",
              "      <td>0</td>\n",
              "      <td>0</td>\n",
              "      <td>0</td>\n",
              "      <td>0</td>\n",
              "      <td>0</td>\n",
              "      <td>0</td>\n",
              "      <td>0</td>\n",
              "      <td>0</td>\n",
              "      <td>0</td>\n",
              "      <td>0</td>\n",
              "      <td>0</td>\n",
              "      <td>0</td>\n",
              "      <td>0</td>\n",
              "      <td>0</td>\n",
              "      <td>0</td>\n",
              "      <td>0</td>\n",
              "      <td>0</td>\n",
              "      <td>0</td>\n",
              "      <td>0</td>\n",
              "      <td>0</td>\n",
              "      <td>0</td>\n",
              "      <td>0</td>\n",
              "      <td>0</td>\n",
              "      <td>0</td>\n",
              "      <td>0</td>\n",
              "      <td>0</td>\n",
              "      <td>0</td>\n",
              "      <td>0</td>\n",
              "      <td>0</td>\n",
              "      <td>0</td>\n",
              "      <td>0</td>\n",
              "      <td>0</td>\n",
              "      <td>0</td>\n",
              "      <td>0</td>\n",
              "      <td>0</td>\n",
              "      <td>0</td>\n",
              "      <td>0</td>\n",
              "      <td>0</td>\n",
              "      <td>0</td>\n",
              "      <td>0</td>\n",
              "      <td>0</td>\n",
              "      <td>0</td>\n",
              "      <td>0</td>\n",
              "      <td>0</td>\n",
              "      <td>0</td>\n",
              "      <td>0</td>\n",
              "      <td>0</td>\n",
              "      <td>0</td>\n",
              "      <td>0</td>\n",
              "      <td>0</td>\n",
              "      <td>0</td>\n",
              "      <td>0</td>\n",
              "      <td>1</td>\n",
              "    </tr>\n",
              "    <tr>\n",
              "      <th>2</th>\n",
              "      <td>0</td>\n",
              "      <td>0</td>\n",
              "      <td>0</td>\n",
              "      <td>0</td>\n",
              "      <td>0</td>\n",
              "      <td>0</td>\n",
              "      <td>0</td>\n",
              "      <td>0</td>\n",
              "      <td>0</td>\n",
              "      <td>0</td>\n",
              "      <td>0</td>\n",
              "      <td>0</td>\n",
              "      <td>0</td>\n",
              "      <td>0</td>\n",
              "      <td>0</td>\n",
              "      <td>0</td>\n",
              "      <td>0</td>\n",
              "      <td>0</td>\n",
              "      <td>0</td>\n",
              "      <td>0</td>\n",
              "      <td>0</td>\n",
              "      <td>0</td>\n",
              "      <td>0</td>\n",
              "      <td>0</td>\n",
              "      <td>0</td>\n",
              "      <td>0</td>\n",
              "      <td>0</td>\n",
              "      <td>0</td>\n",
              "      <td>0</td>\n",
              "      <td>0</td>\n",
              "      <td>0</td>\n",
              "      <td>0</td>\n",
              "      <td>0</td>\n",
              "      <td>0</td>\n",
              "      <td>0</td>\n",
              "      <td>0</td>\n",
              "      <td>0</td>\n",
              "      <td>0</td>\n",
              "      <td>0</td>\n",
              "      <td>0</td>\n",
              "      <td>0</td>\n",
              "      <td>0</td>\n",
              "      <td>0</td>\n",
              "      <td>0</td>\n",
              "      <td>0</td>\n",
              "      <td>0</td>\n",
              "      <td>0</td>\n",
              "      <td>0</td>\n",
              "      <td>0</td>\n",
              "      <td>0</td>\n",
              "      <td>0</td>\n",
              "      <td>0</td>\n",
              "      <td>0</td>\n",
              "      <td>0</td>\n",
              "      <td>0</td>\n",
              "      <td>0</td>\n",
              "      <td>0</td>\n",
              "      <td>0</td>\n",
              "      <td>0</td>\n",
              "      <td>0</td>\n",
              "      <td>0</td>\n",
              "      <td>0</td>\n",
              "      <td>0</td>\n",
              "      <td>0</td>\n",
              "      <td>0</td>\n",
              "      <td>0</td>\n",
              "      <td>0</td>\n",
              "      <td>0</td>\n",
              "      <td>0</td>\n",
              "      <td>0</td>\n",
              "      <td>0</td>\n",
              "      <td>0</td>\n",
              "      <td>0</td>\n",
              "      <td>0</td>\n",
              "      <td>1</td>\n",
              "    </tr>\n",
              "  </tbody>\n",
              "</table>\n",
              "</div>"
            ],
            "text/plain": [
              "  country_AE country_AF  ... country_ZW country_country_code NA\n",
              "0          0          0  ...          0                       1\n",
              "1          0          0  ...          0                       1\n",
              "2          0          0  ...          0                       1\n",
              "\n",
              "[3 rows x 75 columns]"
            ]
          },
          "metadata": {}
        },
        {
          "output_type": "stream",
          "name": "stdout",
          "text": [
            "shape of time_of_day_encoded_df: (24400, 4)\n"
          ]
        },
        {
          "output_type": "display_data",
          "data": {
            "text/html": [
              "<div>\n",
              "<style scoped>\n",
              "    .dataframe tbody tr th:only-of-type {\n",
              "        vertical-align: middle;\n",
              "    }\n",
              "\n",
              "    .dataframe tbody tr th {\n",
              "        vertical-align: top;\n",
              "    }\n",
              "\n",
              "    .dataframe thead tr th {\n",
              "        text-align: left;\n",
              "    }\n",
              "</style>\n",
              "<table border=\"1\" class=\"dataframe\">\n",
              "  <thead>\n",
              "    <tr>\n",
              "      <th></th>\n",
              "      <th>time_afternoon</th>\n",
              "      <th>time_early morning</th>\n",
              "      <th>time_evening</th>\n",
              "      <th>time_morning</th>\n",
              "    </tr>\n",
              "  </thead>\n",
              "  <tbody>\n",
              "    <tr>\n",
              "      <th>0</th>\n",
              "      <td>0</td>\n",
              "      <td>1</td>\n",
              "      <td>0</td>\n",
              "      <td>0</td>\n",
              "    </tr>\n",
              "    <tr>\n",
              "      <th>1</th>\n",
              "      <td>0</td>\n",
              "      <td>1</td>\n",
              "      <td>0</td>\n",
              "      <td>0</td>\n",
              "    </tr>\n",
              "    <tr>\n",
              "      <th>2</th>\n",
              "      <td>1</td>\n",
              "      <td>0</td>\n",
              "      <td>0</td>\n",
              "      <td>0</td>\n",
              "    </tr>\n",
              "  </tbody>\n",
              "</table>\n",
              "</div>"
            ],
            "text/plain": [
              "  time_afternoon time_early morning time_evening time_morning\n",
              "0              0                  1            0            0\n",
              "1              0                  1            0            0\n",
              "2              1                  0            0            0"
            ]
          },
          "metadata": {}
        }
      ]
    },
    {
      "cell_type": "markdown",
      "metadata": {
        "id": "e9tkwUN8qfZc"
      },
      "source": [
        "Let's concatenate the encoded feature dataframes to the sample dataframe."
      ]
    },
    {
      "cell_type": "code",
      "metadata": {
        "colab": {
          "base_uri": "https://localhost:8080/"
        },
        "id": "QxFZDQvppwRs",
        "outputId": "4b19a34d-03ca-449b-f141-969bc3d4ef52"
      },
      "source": [
        "# concatenate dataframes from one hot encoding and sample dataframe\n",
        "tweets_small_sample_vectorized2_encoded = pd.concat([tweets_small_sample_vectorized2,\n",
        "                                                    screen_name_encoded_df,\n",
        "                                                    source_encoded_df,\n",
        "                                                    country_code_encoded_df,\n",
        "                                                    time_of_day_encoded_df], axis=1)\n",
        "# drop the original columns that have been encoded\n",
        "tweets_small_sample_vectorized2_encoded.drop(['screen_name', \n",
        "                                              'source', \n",
        "                                              'country_code', \n",
        "                                              'time_of_day'], axis=1, inplace=True)\n",
        "\n",
        "# check shape\n",
        "print(f'shape: {tweets_small_sample_vectorized2_encoded.shape}')\n",
        "\n",
        "# check remaining dtypes\n",
        "tweets_small_sample_vectorized2_encoded[0:20].info()"
      ],
      "execution_count": 149,
      "outputs": [
        {
          "output_type": "stream",
          "name": "stdout",
          "text": [
            "shape: (24400, 23408)\n",
            "<class 'pandas.core.frame.DataFrame'>\n",
            "RangeIndex: 20 entries, 0 to 19\n",
            "Columns: 23408 entries, is_quote to ('time_morning',)\n",
            "dtypes: float64(2), int64(23406)\n",
            "memory usage: 3.6 MB\n"
          ]
        }
      ]
    },
    {
      "cell_type": "markdown",
      "metadata": {
        "id": "o8MQh9zeyBvy"
      },
      "source": [
        "All dtypes are now either `float64` or `int64`. We can now perform clustering."
      ]
    },
    {
      "cell_type": "markdown",
      "metadata": {
        "id": "2qiT_zcNyXpx"
      },
      "source": [
        "### Perform KMeans Clustering"
      ]
    },
    {
      "cell_type": "code",
      "metadata": {
        "id": "XXUszHKMx34v"
      },
      "source": [
        "from sklearn.cluster import KMeans\n",
        "from sklearn.preprocessing import StandardScaler\n",
        "# our choice of scoring\n",
        "from sklearn.metrics import silhouette_score"
      ],
      "execution_count": 150,
      "outputs": []
    },
    {
      "cell_type": "markdown",
      "metadata": {
        "id": "3Exnp-Y2zgTA"
      },
      "source": [
        "We will need to scale our data because the features are on vastly different scales. This is important for KMeans clustering because it is a distance-based model.\n",
        "\n",
        "Also, we will use silhouette scoring to evaluate our model performance as we do not have any ground truth labels."
      ]
    },
    {
      "cell_type": "code",
      "metadata": {
        "id": "YZsdcw3nycCf"
      },
      "source": [
        "# scale the data\n",
        "\n",
        "# initialize\n",
        "scaler = StandardScaler()\n",
        "\n",
        "# scale\n",
        "scaled_data = scaler.fit_transform(tweets_small_sample_vectorized2_encoded)"
      ],
      "execution_count": 151,
      "outputs": []
    },
    {
      "cell_type": "markdown",
      "metadata": {
        "id": "3sRZIkiP1yaf"
      },
      "source": [
        "Let's try different numbers of clusters and evaluate the results using silhouette scores."
      ]
    },
    {
      "cell_type": "code",
      "metadata": {
        "id": "12GpQEtjz375"
      },
      "source": [
        "# from tqdm import tqdm\n",
        "\n",
        "# # loop over a range of K values (num clusters)\n",
        "# k_range = np.arange(2,8)\n",
        "\n",
        "# # store silhouette scores here\n",
        "# sil_scores = []\n",
        "\n",
        "# for k in tqdm(k_range): # show progress\n",
        "#   # instantiate KMeans\n",
        "#   kmeans_model = KMeans(n_clusters=k)\n",
        "\n",
        "#   # fit\n",
        "#   kmeans_model.fit(scaled_data)\n",
        "\n",
        "#   # get cluster labels and append sil score\n",
        "#   cluster_labels = kmeans_model.predict(scaled_data)\n",
        "#   sil_scores.append(silhouette_score(scaled_data, cluster_labels))"
      ],
      "execution_count": 152,
      "outputs": []
    },
    {
      "cell_type": "markdown",
      "metadata": {
        "id": "ftf5iZ0KWUZT"
      },
      "source": [
        "The runtime is very long - each loop takes about 6+ minutes. We may have to consider doing dimensionality reduction (e.g., principal component analysis) prior to running a KMeans model."
      ]
    },
    {
      "cell_type": "markdown",
      "metadata": {
        "id": "xGNlAgxHAL6v"
      },
      "source": [
        "Let's plot the silhouette scores."
      ]
    },
    {
      "cell_type": "code",
      "metadata": {
        "id": "vfyUvXaDAOCd"
      },
      "source": [
        "# # plot silhouette scores against k values\n",
        "# sns.lineplot(x=k_range, y=sil_scores)\n",
        "# plt.title('Silhouette Scores vs. Number of Clusters')\n",
        "# plt.xlabel('Number of Clusters')\n",
        "# plt.ylabel('Silhouette Score')\n",
        "# plt.show()"
      ],
      "execution_count": 153,
      "outputs": []
    },
    {
      "cell_type": "markdown",
      "metadata": {
        "id": "8t8fCoILAgiN"
      },
      "source": [
        "Although we only tested a small range of k values (2-7 clusters), k=4 appears to be the optimal number of clusters based on the silhouette score. "
      ]
    },
    {
      "cell_type": "code",
      "metadata": {
        "id": "vouVXHkcEL_r",
        "colab": {
          "base_uri": "https://localhost:8080/"
        },
        "outputId": "e81525f4-b23c-4cae-b61d-d110349c4bc6"
      },
      "source": [
        "# Run KMeans with k=4\n",
        "\n",
        "# instantiate KMeans\n",
        "kmeans_model = KMeans(n_clusters=4)\n",
        "\n",
        "# fit\n",
        "kmeans_model.fit(scaled_data)\n",
        "\n",
        "\n"
      ],
      "execution_count": 154,
      "outputs": [
        {
          "output_type": "execute_result",
          "data": {
            "text/plain": [
              "KMeans(algorithm='auto', copy_x=True, init='k-means++', max_iter=300,\n",
              "       n_clusters=4, n_init=10, n_jobs=None, precompute_distances='auto',\n",
              "       random_state=None, tol=0.0001, verbose=0)"
            ]
          },
          "metadata": {},
          "execution_count": 154
        }
      ]
    },
    {
      "cell_type": "markdown",
      "metadata": {
        "id": "wB_w3Kdub1mU"
      },
      "source": [
        "Let's save the model using joblib."
      ]
    },
    {
      "cell_type": "code",
      "metadata": {
        "colab": {
          "base_uri": "https://localhost:8080/"
        },
        "id": "rgkzIfoQZ7HB",
        "outputId": "fda0c2b2-c9b4-40c0-ccd7-f8f26fc5cd93"
      },
      "source": [
        "from joblib import dump, load\n",
        "\n",
        "dump(kmeans_model, '/content/drive/MyDrive/BrainStation/Capstone/kmeans_model_4_clusters.joblib')"
      ],
      "execution_count": 157,
      "outputs": [
        {
          "output_type": "execute_result",
          "data": {
            "text/plain": [
              "['/content/drive/MyDrive/BrainStation/Capstone/kmeans_model_4_clusters.joblib']"
            ]
          },
          "metadata": {},
          "execution_count": 157
        }
      ]
    },
    {
      "cell_type": "code",
      "metadata": {
        "id": "yej-1gU5Z5On"
      },
      "source": [
        "kmeans_model = load('/content/drive/MyDrive/BrainStation/Capstone/kmeans_model_4_clusters.joblib')"
      ],
      "execution_count": 158,
      "outputs": []
    },
    {
      "cell_type": "code",
      "metadata": {
        "id": "vo-kVEZ-WWma"
      },
      "source": [
        "kmeans_model.score()"
      ],
      "execution_count": null,
      "outputs": []
    },
    {
      "cell_type": "code",
      "metadata": {
        "id": "HBY-sKy33buw"
      },
      "source": [
        "from sklearn.decomposition import PCA\n",
        "\n",
        "pca = PCA(n_components=5) \n",
        "\n",
        "pca.fit(scaled_data)\n",
        "\n",
        "scaled_data_pca = pca.transform(scaled_data)\n",
        "\n",
        "# check shape (i.e., num of principal components)\n",
        "print(f'shape of dimension-reduced scaled data: {scaled_data_pca.shape}')"
      ],
      "execution_count": null,
      "outputs": []
    },
    {
      "cell_type": "code",
      "metadata": {
        "id": "Iux2jt8-BGD-"
      },
      "source": [
        ""
      ],
      "execution_count": null,
      "outputs": []
    }
  ]
}